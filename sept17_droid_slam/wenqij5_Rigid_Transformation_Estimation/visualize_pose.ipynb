{
 "cells": [
  {
   "cell_type": "code",
   "execution_count": 1,
   "id": "5592e6ba",
   "metadata": {},
   "outputs": [
    {
     "name": "stdout",
     "output_type": "stream",
     "text": [
      "Point array:\n",
      " (290851, 3)\n",
      "Pose array:\n",
      " (3, 7)\n"
     ]
    },
    {
     "data": {
      "application/vnd.jupyter.widget-view+json": {
       "model_id": "935cbe70a3f54046b0c541a1a97739d8",
       "version_major": 2,
       "version_minor": 1
      },
      "text/plain": [
       "Viewer()"
      ]
     },
     "metadata": {},
     "output_type": "display_data"
    },
    {
     "name": "stderr",
     "output_type": "stream",
     "text": [
      "WARNING:root:Timed out waiting for viewer to become ready. Make sure: https://app.rerun.io/version/0.18.2/widget.js is accessible.\n",
      "If not, consider setting `RERUN_NOTEBOOK_ASSET`. Consult https://pypi.org/project/rerun-notebook/0.18.2/ for details.\n",
      "\n"
     ]
    }
   ],
   "source": [
    "import rerun as rr\n",
    "import numpy as np\n",
    "from numpy.random import default_rng\n",
    "\n",
    "# Initialize the Rerun App\n",
    "rr.init(\"3D Image Visualization\")\n",
    "\n",
    "fx = 320.0  # focal length x\n",
    "fy = 320.0  # focal length y\n",
    "cx = 320.0  # optical center x\n",
    "cy = 240.0  # optical center y\n",
    "\n",
    "width = 640\n",
    "height = 480\n",
    "\n",
    "# ======================================================================================== #\n",
    "idx = 159\n",
    "\n",
    "img_path1 = r\"D:\\abandonedfactory_sample_P001\\P001\\image_left\\000{}_left.png\".format(idx)\n",
    "img_path2 = r\"D:\\abandonedfactory_sample_P001\\P001\\image_left\\000{}_left.png\".format(idx+1)\n",
    "# Load the array back from the file\n",
    "points = np.load('point3d_{}.npy'.format(idx))\n",
    "\n",
    "poses = np.load('poses_{}.npy'.format(idx))\n",
    "\n",
    "print(\"Point array:\\n\", points.shape)\n",
    "print(\"Pose array:\\n\", poses.shape)\n",
    "\n",
    "pose_1_gt = poses[0]\n",
    "pose_2_gt = poses[1]\n",
    "pose_2_pd = poses[2]\n",
    "\n",
    "\n",
    "rng = default_rng(12345)\n",
    "colors = rng.uniform(0, 255, size=[10, 3])\n",
    "\n",
    "rr.log(f\"points\", rr.Points3D(points, colors=colors, radii=0.007))\n",
    "rr.log(f\"points\", rr.Transform3D(translation=pose_1_gt[:3], rotation=rr.Quaternion(xyzw=pose_1_gt[3:])))\n",
    "\n",
    "rr.log(f\"pose1\", rr.Transform3D(translation=pose_1_gt[:3], rotation=rr.Quaternion(xyzw=pose_1_gt[3:])))\n",
    "rr.log(\n",
    "    f\"pose1\",\n",
    "    rr.Pinhole(\n",
    "        image_from_camera=np.array([[fx, 0, cx], [0, fy, cy], [0, 0, 1]]),\n",
    "        width=width,\n",
    "        height=height,\n",
    "        image_plane_distance=1\n",
    "    ),\n",
    ")\n",
    "rr.log(f\"pose1\", rr.ImageEncoded(path=img_path1))\n",
    "\n",
    "rr.log(f\"pose2_gt\", rr.Transform3D(translation=pose_2_gt[:3], rotation=rr.Quaternion(xyzw=pose_2_gt[3:])))\n",
    "rr.log(\n",
    "    f\"pose2_gt\",\n",
    "    rr.Pinhole(\n",
    "        image_from_camera=np.array([[fx, 0, cx], [0, fy, cy], [0, 0, 1]]),\n",
    "        width=width,\n",
    "        height=height,\n",
    "        image_plane_distance=2\n",
    "    ),\n",
    ")\n",
    "rr.log(f\"pose2_gt\", rr.ImageEncoded(path=img_path2))\n",
    "\n",
    "rr.log(f\"pose2_est\", rr.Transform3D(translation=pose_2_pd[:3], rotation=rr.Quaternion(xyzw=pose_2_pd[3:])))\n",
    "rr.log(\n",
    "    f\"pose2_est\",\n",
    "    rr.Pinhole(\n",
    "        image_from_camera=np.array([[fx, 0, cx], [0, fy, cy], [0, 0, 1]]),\n",
    "        width=width,\n",
    "        height=height,\n",
    "        image_plane_distance=3\n",
    "    ),\n",
    ")\n",
    "\n",
    "# Run the visualization\n",
    "rr.notebook_show(width=1200, height=800)"
   ]
  }
 ],
 "metadata": {
  "kernelspec": {
   "display_name": "Python 3.8.19 ('open3denv')",
   "language": "python",
   "name": "python3"
  },
  "language_info": {
   "codemirror_mode": {
    "name": "ipython",
    "version": 3
   },
   "file_extension": ".py",
   "mimetype": "text/x-python",
   "name": "python",
   "nbconvert_exporter": "python",
   "pygments_lexer": "ipython3",
   "version": "3.8.19"
  },
  "vscode": {
   "interpreter": {
    "hash": "9c536b272c6b21064aa2a4f24a9efcc9c0195ee2e17d17d579c2366be05ddd77"
   }
  }
 },
 "nbformat": 4,
 "nbformat_minor": 5
}
