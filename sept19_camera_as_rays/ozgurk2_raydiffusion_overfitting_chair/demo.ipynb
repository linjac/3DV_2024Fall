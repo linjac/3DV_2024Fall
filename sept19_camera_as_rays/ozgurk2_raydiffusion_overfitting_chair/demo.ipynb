{
 "cells": [
  {
   "cell_type": "code",
   "execution_count": 1,
   "metadata": {},
   "outputs": [
    {
     "name": "stdout",
     "output_type": "stream",
     "text": [
      "Loaded 1 instances of the chair category.\n",
      "Low quality translation sequences, not used: []\n",
      "Data size: 1\n",
      "Data loading took 0.011473417282104492 seconds.\n"
     ]
    }
   ],
   "source": [
    "from ray_diffusion.dataset.co3d_v2 import Co3dDataset\n",
    "import torch\n",
    "from pytorch3d.renderer import PerspectiveCameras, RayBundle\n",
    "from pytorch3d.renderer.cameras import FoVPerspectiveCameras, look_at_view_transform\n",
    "from pytorch3d.transforms import Rotate, Translate\n",
    "from ray_diffusion.utils.rays import Rays, cameras_to_rays, rays_to_cameras, rays_to_cameras_homography\n",
    "import matplotlib\n",
    "import matplotlib.pyplot as plt\n",
    "import torch.nn as nn\n",
    "import torch.nn.functional as F\n",
    "import torch.optim as optim\n",
    "from torchvision import models\n",
    "import einops\n",
    "from pytorch3d.vis.plotly_vis import plot_scene\n",
    "cmap = plt.get_cmap(\"hsv\")\n",
    "\n",
    "batch_size = 1\n",
    "device = torch.device(\"cuda\" if torch.cuda.is_available() else \"cpu\")\n",
    "num_images = 100\n",
    "translation_scale = 1.0\n",
    "normalize_first_camera = True\n",
    "\n",
    "train_dataset = Co3dDataset(\n",
    "    category='chair',\n",
    "    split=\"train\",\n",
    "    num_images=num_images,\n",
    "    apply_augmentation=False,\n",
    "    load_extra_cameras=False,\n",
    "    transform=None,\n",
    ")\n",
    "\n",
    "train_dataloader = torch.utils.data.DataLoader(\n",
    "    train_dataset,\n",
    "    batch_size=batch_size,\n",
    "    shuffle=False,\n",
    "    num_workers=4,\n",
    "    pin_memory=True,\n",
    "    drop_last=True,\n",
    ")"
   ]
  },
  {
   "cell_type": "code",
   "execution_count": 2,
   "metadata": {},
   "outputs": [],
   "source": [
    "def intersect_skew_line_groups(p, r, mask):\n",
    "    # p, r both of shape (B, N, n_intersected_lines, 3)\n",
    "    # mask of shape (B, N, n_intersected_lines)\n",
    "    p_intersect, r = intersect_skew_lines_high_dim(p, r, mask=mask)\n",
    "    if p_intersect is None:\n",
    "        return None, None, None, None\n",
    "    _, p_line_intersect = point_line_distance(\n",
    "        p, r, p_intersect[..., None, :].expand_as(p)\n",
    "    )\n",
    "    intersect_dist_squared = ((p_line_intersect - p_intersect[..., None, :]) ** 2).sum(\n",
    "        dim=-1\n",
    "    )\n",
    "    return p_intersect, p_line_intersect, intersect_dist_squared, r\n",
    "\n",
    "def intersect_skew_lines_high_dim(p, r, mask=None):\n",
    "    # Implements https://en.wikipedia.org/wiki/Skew_lines In more than two dimensions\n",
    "    dim = p.shape[-1]\n",
    "    # make sure the heading vectors are l2-normed\n",
    "    if mask is None:\n",
    "        mask = torch.ones_like(p[..., 0])\n",
    "    r = torch.nn.functional.normalize(r, dim=-1)\n",
    "\n",
    "    eye = torch.eye(dim, device=p.device, dtype=p.dtype)[None, None]\n",
    "    I_min_cov = (eye - (r[..., None] * r[..., None, :])) * mask[..., None, None]\n",
    "    sum_proj = I_min_cov.matmul(p[..., None]).sum(dim=-3)\n",
    "\n",
    "    # I_eps = torch.zeros_like(I_min_cov.sum(dim=-3)) + 1e-10\n",
    "    # p_intersect = torch.pinverse(I_min_cov.sum(dim=-3) + I_eps).matmul(sum_proj)[..., 0]\n",
    "    p_intersect = torch.linalg.lstsq(I_min_cov.sum(dim=-3), sum_proj).solution[..., 0]\n",
    "\n",
    "    # I_min_cov.sum(dim=-3): torch.Size([1, 1, 3, 3])\n",
    "    # sum_proj: torch.Size([1, 1, 3, 1])\n",
    "\n",
    "    # p_intersect = np.linalg.lstsq(I_min_cov.sum(dim=-3).numpy(), sum_proj.numpy(), rcond=None)[0]\n",
    "\n",
    "    if torch.any(torch.isnan(p_intersect)):\n",
    "        print(p_intersect)\n",
    "        return None, None\n",
    "        ipdb.set_trace()\n",
    "        assert False\n",
    "    return p_intersect, r\n",
    "\n",
    "def point_line_distance(p1, r1, p2):\n",
    "    df = p2 - p1\n",
    "    proj_vector = df - ((df * r1).sum(dim=-1, keepdim=True) * r1)\n",
    "    line_pt_nearest = p2 - proj_vector\n",
    "    d = (proj_vector).norm(dim=-1)\n",
    "    return d, line_pt_nearest\n",
    "\n",
    "def compute_optical_axis_intersection(cameras):\n",
    "    centers = cameras.get_camera_center()\n",
    "    principal_points = cameras.principal_point\n",
    "\n",
    "    one_vec = torch.ones((len(cameras), 1), device=centers.device)\n",
    "    optical_axis = torch.cat((principal_points, one_vec), -1)\n",
    "\n",
    "    # optical_axis = torch.cat(\n",
    "    #     (principal_points, cameras.focal_length[:, 0].unsqueeze(1)), -1\n",
    "    # )\n",
    "\n",
    "    pp = cameras.unproject_points(optical_axis, from_ndc=True, world_coordinates=True)\n",
    "    pp2 = torch.diagonal(pp, dim1=0, dim2=1).T\n",
    "\n",
    "    directions = pp2 - centers\n",
    "    centers = centers.unsqueeze(0).unsqueeze(0)\n",
    "    directions = directions.unsqueeze(0).unsqueeze(0)\n",
    "\n",
    "    p_intersect, p_line_intersect, _, r = intersect_skew_line_groups(\n",
    "        p=centers, r=directions, mask=None\n",
    "    )\n",
    "\n",
    "    if p_intersect is None:\n",
    "        dist = None\n",
    "    else:\n",
    "        p_intersect = p_intersect.squeeze().unsqueeze(0)\n",
    "        dist = (p_intersect - centers).norm(dim=-1)\n",
    "\n",
    "    return p_intersect, dist, p_line_intersect, pp2, r\n",
    "\n",
    "def normalize_cameras(cameras, scale=1.0):\n",
    "    \"\"\"\n",
    "    Normalizes cameras such that the optical axes point to the origin, the rotation is\n",
    "    identity, and the norm of the translation of the first camera is 1.\n",
    "\n",
    "    Args:\n",
    "        cameras (pytorch3d.renderer.cameras.CamerasBase).\n",
    "        scale (float): Norm of the translation of the first camera.\n",
    "\n",
    "    Returns:\n",
    "        new_cameras (pytorch3d.renderer.cameras.CamerasBase): Normalized cameras.\n",
    "        undo_transform (function): Function that undoes the normalization.\n",
    "    \"\"\"\n",
    "\n",
    "    # Let distance from first camera to origin be unit\n",
    "    new_cameras = cameras.clone()\n",
    "    new_transform = (\n",
    "        new_cameras.get_world_to_view_transform()\n",
    "    )  # potential R is not valid matrix\n",
    "    p_intersect, dist, p_line_intersect, pp, r = compute_optical_axis_intersection(\n",
    "        cameras\n",
    "    )\n",
    "\n",
    "    if p_intersect is None:\n",
    "        print(\"Warning: optical axes code has a nan. Returning identity cameras.\")\n",
    "        new_cameras.R[:] = torch.eye(3, device=cameras.R.device, dtype=cameras.R.dtype)\n",
    "        new_cameras.T[:] = torch.tensor(\n",
    "            [0, 0, 1], device=cameras.T.device, dtype=cameras.T.dtype\n",
    "        )\n",
    "        return new_cameras, lambda x: x\n",
    "\n",
    "    d = dist.squeeze(dim=1).squeeze(dim=0)[0]\n",
    "    # Degenerate case\n",
    "    if d == 0:\n",
    "        print(cameras.T)\n",
    "        print(new_transform.get_matrix()[:, 3, :3])\n",
    "        assert False\n",
    "    assert d != 0\n",
    "\n",
    "    # Can't figure out how to make scale part of the transform too without messing up R.\n",
    "    # Ideally, we would just wrap it all in a single Pytorch3D transform so that it\n",
    "    # would work with any structure (eg PointClouds, Meshes).\n",
    "    tR = Rotate(new_cameras.R[0].unsqueeze(0)).inverse()\n",
    "    tT = Translate(p_intersect)\n",
    "    t = tR.compose(tT)\n",
    "\n",
    "    new_transform = t.compose(new_transform)\n",
    "    new_cameras.R = new_transform.get_matrix()[:, :3, :3]\n",
    "    new_cameras.T = new_transform.get_matrix()[:, 3, :3] / d * scale\n",
    "\n",
    "    def undo_transform(cameras):\n",
    "        cameras_copy = cameras.clone()\n",
    "        cameras_copy.T *= d / scale\n",
    "        new_t = (\n",
    "            t.inverse().compose(cameras_copy.get_world_to_view_transform()).get_matrix()\n",
    "        )\n",
    "        cameras_copy.R = new_t[:, :3, :3]\n",
    "        cameras_copy.T = new_t[:, 3, :3]\n",
    "        return cameras_copy\n",
    "\n",
    "    return new_cameras, undo_transform\n",
    "\n",
    "def first_camera_transform(cameras, rotation_only=True):\n",
    "    new_cameras = cameras.clone()\n",
    "    new_transform = new_cameras.get_world_to_view_transform()\n",
    "    tR = Rotate(new_cameras.R[0].unsqueeze(0))\n",
    "    if rotation_only:\n",
    "        t = tR.inverse()\n",
    "    else:\n",
    "        tT = Translate(new_cameras.T[0].unsqueeze(0))\n",
    "        t = tR.compose(tT).inverse()\n",
    "\n",
    "    new_transform = t.compose(new_transform)\n",
    "    new_cameras.R = new_transform.get_matrix()[:, :3, :3]\n",
    "    new_cameras.T = new_transform.get_matrix()[:, 3, :3]\n",
    "\n",
    "    return new_cameras\n",
    "\n",
    "def normalize_cameras_batch(cam, scale=1.0, normalize_first_camera=False):\n",
    "\n",
    "    if normalize_first_camera:\n",
    "        # Normalize cameras such that first camera is identity and origin is at\n",
    "        # first camera center.\n",
    "        normalized_cameras = first_camera_transform(cam, rotation_only=False)\n",
    "        undo_transform = None\n",
    "    else:\n",
    "        normalized_cameras, undo_transform = normalize_cameras(cam, scale=scale)\n",
    "\n",
    "    return normalized_cameras, undo_transform"
   ]
  },
  {
   "cell_type": "code",
   "execution_count": 3,
   "metadata": {},
   "outputs": [
    {
     "name": "stdout",
     "output_type": "stream",
     "text": [
      "0\n",
      "dict_keys(['model_id', 'category', 'n', 'ind', 'image', 'R', 'T', 'focal_length', 'principal_point', 'image_size', 'crop_parameters', 'filename'])\n"
     ]
    }
   ],
   "source": [
    "for i, batch in enumerate(train_dataloader):\n",
    "    print(i)\n",
    "    print(batch.keys())\n",
    "\n",
    "\n",
    "    break"
   ]
  },
  {
   "cell_type": "code",
   "execution_count": 4,
   "metadata": {},
   "outputs": [
    {
     "name": "stdout",
     "output_type": "stream",
     "text": [
      "torch.Size([100, 3, 224, 224])\n",
      "torch.Size([100, 2])\n",
      "torch.Size([100, 4])\n",
      "torch.Size([100, 2])\n",
      "torch.Size([100, 3, 3])\n",
      "torch.Size([100, 3])\n"
     ]
    }
   ],
   "source": [
    "images = batch[\"image\"].to(device).squeeze(0)\n",
    "focal_lengths = batch[\"focal_length\"].to(device).squeeze(0)\n",
    "crop_params = batch[\"crop_parameters\"].to(device).squeeze(0)\n",
    "principal_points = batch[\"principal_point\"].to(device).squeeze(0)\n",
    "R = batch[\"R\"].to(device).squeeze(0)\n",
    "T = batch[\"T\"].to(device).squeeze(0)\n",
    "print(images.shape)\n",
    "print(focal_lengths.shape)\n",
    "print(crop_params.shape)\n",
    "print(principal_points.shape)\n",
    "print(R.shape)\n",
    "print(T.shape)\n",
    "\n",
    "num_train = 80\n",
    "number_of_patch = 4\n",
    "train_images = images[:num_train]\n",
    "train_focal_lengths = focal_lengths[:num_train]\n",
    "train_crop_params = crop_params[:num_train]\n",
    "train_principal_points = principal_points[:num_train]\n",
    "train_R = R[:num_train]\n",
    "train_T = T[:num_train]\n",
    "\n",
    "test_images = images[num_train:]\n",
    "test_focal_lengths = focal_lengths[num_train:]\n",
    "test_crop_params = crop_params[num_train:]\n",
    "test_principal_points = principal_points[num_train:]\n",
    "test_R = R[num_train:]\n",
    "test_T = T[num_train:]"
   ]
  },
  {
   "cell_type": "code",
   "execution_count": 5,
   "metadata": {},
   "outputs": [],
   "source": [
    "def convert_RT_to_camera(R, T, focal_lengths, principal_points):\n",
    "    cameras_og = PerspectiveCameras(\n",
    "            focal_length=focal_lengths,\n",
    "            principal_point=principal_points,\n",
    "            R=R,\n",
    "            T=T,\n",
    "            device=device,\n",
    "        )\n",
    "    cameras, undo_transform = normalize_cameras_batch(\n",
    "        cam=cameras_og,\n",
    "        scale=1.0,\n",
    "        normalize_first_camera=False,\n",
    "    )\n",
    "    return cameras, undo_transform\n",
    "\n",
    "def convert_cameras_to_Plucker(cameras, crop_params):\n",
    "    r = cameras_to_rays(\n",
    "        cameras=cameras,\n",
    "        num_patches_x=number_of_patch,\n",
    "        num_patches_y=number_of_patch,\n",
    "        crop_parameters=crop_params,\n",
    "    )\n",
    "    return r\n",
    "\n",
    "def convert_RT_to_Plucker(R, T, focal_lengths, principal_points, crop_params):\n",
    "    cameras, undo_transform = convert_RT_to_camera(R, T, focal_lengths, principal_points)\n",
    "    r = convert_cameras_to_Plucker(cameras, crop_params)\n",
    "    return r, undo_transform\n",
    "\n",
    "def convert_Plucker_to_RT(r, crop_params):\n",
    "    pred_cam = rays_to_cameras_homography(\n",
    "        r,\n",
    "        crop_params,\n",
    "        num_patches_x=number_of_patch,\n",
    "        num_patches_y=number_of_patch,\n",
    "        # focal_length=focal_lengths[0],\n",
    "    )\n",
    "    return pred_cam\n",
    "\n"
   ]
  },
  {
   "cell_type": "code",
   "execution_count": 6,
   "metadata": {},
   "outputs": [
    {
     "name": "stdout",
     "output_type": "stream",
     "text": [
      "torch.Size([80, 16, 6])\n",
      "tensor([[-0.6833,  0.5445,  0.4864],\n",
      "        [-0.5052, -0.8336,  0.2234],\n",
      "        [ 0.5271, -0.0930,  0.8447]], device='cuda:0')\n",
      "tensor([[-0.6833,  0.5444,  0.4865],\n",
      "        [-0.5052, -0.8336,  0.2232],\n",
      "        [ 0.5271, -0.0933,  0.8447]], device='cuda:0')\n"
     ]
    }
   ],
   "source": [
    "train_cameras, undo_transform = convert_RT_to_camera(train_R, train_T, train_focal_lengths, train_principal_points)\n",
    "rays = convert_cameras_to_Plucker(train_cameras, train_crop_params)\n",
    "print(rays.shape)\n",
    "\n",
    "\n",
    "pred_cam = convert_Plucker_to_RT(rays, train_crop_params)\n",
    "print(undo_transform(pred_cam).R[0])\n",
    "print(undo_transform(train_cameras).R[0])"
   ]
  },
  {
   "cell_type": "code",
   "execution_count": 22,
   "metadata": {},
   "outputs": [],
   "source": [
    "\n",
    "\n",
    "def create_plotly_cameras_visualization(cameras_gt, cameras_pred, num):\n",
    "    R, T = look_at_view_transform(2, 60, 180) # 2 camera angles, front and back\n",
    "    # Any instance of CamerasBase works, here we use FoVPerspectiveCameras\n",
    "    cameras = FoVPerspectiveCameras(device=device, R=R, T=T)\n",
    "\n",
    "    num_frames = cameras_gt.R.shape[0]\n",
    "    name = f\"Vis {num} GT vs Pred Cameras\"\n",
    "    camera_scale = 0.05\n",
    "\n",
    "    # Cameras_pred is already a 2D list of unbatched cameras\n",
    "    # But cameras_gt is a 1D list of batched cameras\n",
    "    scenes = {f\"Vis {num} GT vs Pred Cameras\": {}}\n",
    "    for i in range(num_frames):\n",
    "        scenes[name][f\"Pred Camera {i}\"] = PerspectiveCameras(\n",
    "            R=cameras_pred[i].R, T=cameras_pred[i].T\n",
    "        )\n",
    "    for i in range(num_frames):\n",
    "        scenes[name][f\"GT Camera {i}\"] = PerspectiveCameras(\n",
    "            R=cameras_gt.R[i].unsqueeze(0), T=cameras_gt.T[i].unsqueeze(0)\n",
    "        )\n",
    "\n",
    "    fig = plot_scene(\n",
    "        scenes,\n",
    "        camera_scale=camera_scale,\n",
    "        viewpoint_cameras=cameras\n",
    "    )\n",
    "    fig.update_scenes(aspectmode=\"data\")\n",
    "    fig.update_layout(height=800, width=800)\n",
    "\n",
    "    for i in range(num_frames):\n",
    "        fig.data[i].line.color = matplotlib.colors.to_hex(cmap(i / (num_frames)))\n",
    "        fig.data[i].line.width = 4\n",
    "        fig.data[i + num_frames].line.dash = \"dash\"\n",
    "        fig.data[i + num_frames].line.color = matplotlib.colors.to_hex(\n",
    "            cmap(i / (num_frames))\n",
    "        )\n",
    "        fig.data[i + num_frames].line.width = 4\n",
    "    plt.close()\n",
    "    return fig\n",
    "\n",
    "\n",
    "def create_fig_moments(moments, directions):\n",
    "    fig, axs = plt.subplots(1, 2, figsize=(9, 4.5), dpi=100)\n",
    "\n",
    "    vis = (\n",
    "        torch.nn.functional.normalize(moments, dim=-1) + 1\n",
    "    ) / 2\n",
    "    axs[0].imshow(vis.reshape(number_of_patch, number_of_patch, 3).cpu())\n",
    "    # close display\n",
    "    # dont use imshow \n",
    "\n",
    "    axs[0].set_title(\"Moments\")\n",
    "\n",
    "\n",
    "    vis = (\n",
    "        torch.nn.functional.normalize(directions, dim=-1) + 1\n",
    "    ) / 2\n",
    "    axs[1].imshow(vis.reshape(number_of_patch, number_of_patch, 3).cpu())\n",
    "    axs[1].set_title(\"Directions\")\n",
    "    plt.close()\n",
    "    return fig"
   ]
  },
  {
   "cell_type": "code",
   "execution_count": 23,
   "metadata": {},
   "outputs": [
    {
     "name": "stdout",
     "output_type": "stream",
     "text": [
      "Epoch 0, Loss: 9.081, Val Loss: 6.065\n",
      "Epoch 1, Loss: 7.453, Val Loss: 6.304\n",
      "Epoch 2, Loss: 7.255, Val Loss: 6.541\n",
      "Epoch 3, Loss: 7.121, Val Loss: 6.709\n",
      "Epoch 4, Loss: 7.031, Val Loss: 6.817\n"
     ]
    },
    {
     "ename": "KeyboardInterrupt",
     "evalue": "",
     "output_type": "error",
     "traceback": [
      "\u001b[0;31m---------------------------------------------------------------------------\u001b[0m",
      "\u001b[0;31mKeyboardInterrupt\u001b[0m                         Traceback (most recent call last)",
      "Cell \u001b[0;32mIn[23], line 78\u001b[0m\n\u001b[1;32m     76\u001b[0m fig_seen_undo_l\u001b[38;5;241m.\u001b[39mappend(create_plotly_cameras_visualization(cams_gt_seen, cams_pred_seen, \u001b[38;5;241m20\u001b[39m))\n\u001b[1;32m     77\u001b[0m fig_seen_l[epoch]\u001b[38;5;241m.\u001b[39mwrite_image(\u001b[38;5;124mf\u001b[39m\u001b[38;5;124m\"\u001b[39m\u001b[38;5;124m/sensei-fs-3/users/okara/camera_as_rays/RayDiffusion/output_images/scene/train/fig_seen_\u001b[39m\u001b[38;5;132;01m{\u001b[39;00mepoch\u001b[38;5;132;01m}\u001b[39;00m\u001b[38;5;124m.png\u001b[39m\u001b[38;5;124m\"\u001b[39m)\n\u001b[0;32m---> 78\u001b[0m \u001b[43mfig_seen_undo_l\u001b[49m\u001b[43m[\u001b[49m\u001b[43mepoch\u001b[49m\u001b[43m]\u001b[49m\u001b[38;5;241;43m.\u001b[39;49m\u001b[43mwrite_image\u001b[49m\u001b[43m(\u001b[49m\u001b[38;5;124;43mf\u001b[39;49m\u001b[38;5;124;43m\"\u001b[39;49m\u001b[38;5;124;43m/sensei-fs-3/users/okara/camera_as_rays/RayDiffusion/output_images/scene/train/fig_seen_undo_\u001b[39;49m\u001b[38;5;132;43;01m{\u001b[39;49;00m\u001b[43mepoch\u001b[49m\u001b[38;5;132;43;01m}\u001b[39;49;00m\u001b[38;5;124;43m.png\u001b[39;49m\u001b[38;5;124;43m\"\u001b[39;49m\u001b[43m)\u001b[49m\n\u001b[1;32m     80\u001b[0m \u001b[38;5;66;03m# fig_seen = create_plotly_cameras_visualization(cams_gt_seen, cams_pred_seen, 40)\u001b[39;00m\n\u001b[1;32m     81\u001b[0m \u001b[38;5;66;03m# validation\u001b[39;00m\n\u001b[1;32m     82\u001b[0m unseen_pred_list \u001b[38;5;241m=\u001b[39m []\n",
      "File \u001b[0;32m/opt/venv/lib/python3.10/site-packages/plotly/basedatatypes.py:3835\u001b[0m, in \u001b[0;36mBaseFigure.write_image\u001b[0;34m(self, *args, **kwargs)\u001b[0m\n\u001b[1;32m   3775\u001b[0m \u001b[38;5;250m\u001b[39m\u001b[38;5;124;03m\"\"\"\u001b[39;00m\n\u001b[1;32m   3776\u001b[0m \u001b[38;5;124;03mConvert a figure to a static image and write it to a file or writeable\u001b[39;00m\n\u001b[1;32m   3777\u001b[0m \u001b[38;5;124;03mobject\u001b[39;00m\n\u001b[0;32m   (...)\u001b[0m\n\u001b[1;32m   3831\u001b[0m \u001b[38;5;124;03mNone\u001b[39;00m\n\u001b[1;32m   3832\u001b[0m \u001b[38;5;124;03m\"\"\"\u001b[39;00m\n\u001b[1;32m   3833\u001b[0m \u001b[38;5;28;01mimport\u001b[39;00m \u001b[38;5;21;01mplotly\u001b[39;00m\u001b[38;5;21;01m.\u001b[39;00m\u001b[38;5;21;01mio\u001b[39;00m \u001b[38;5;28;01mas\u001b[39;00m \u001b[38;5;21;01mpio\u001b[39;00m\n\u001b[0;32m-> 3835\u001b[0m \u001b[38;5;28;01mreturn\u001b[39;00m \u001b[43mpio\u001b[49m\u001b[38;5;241;43m.\u001b[39;49m\u001b[43mwrite_image\u001b[49m\u001b[43m(\u001b[49m\u001b[38;5;28;43mself\u001b[39;49m\u001b[43m,\u001b[49m\u001b[43m \u001b[49m\u001b[38;5;241;43m*\u001b[39;49m\u001b[43margs\u001b[49m\u001b[43m,\u001b[49m\u001b[43m \u001b[49m\u001b[38;5;241;43m*\u001b[39;49m\u001b[38;5;241;43m*\u001b[39;49m\u001b[43mkwargs\u001b[49m\u001b[43m)\u001b[49m\n",
      "File \u001b[0;32m/opt/venv/lib/python3.10/site-packages/plotly/io/_kaleido.py:266\u001b[0m, in \u001b[0;36mwrite_image\u001b[0;34m(fig, file, format, scale, width, height, validate, engine)\u001b[0m\n\u001b[1;32m    250\u001b[0m             \u001b[38;5;28;01mraise\u001b[39;00m \u001b[38;5;167;01mValueError\u001b[39;00m(\n\u001b[1;32m    251\u001b[0m \u001b[38;5;250m                \u001b[39m\u001b[38;5;124;03m\"\"\"\u001b[39;00m\n\u001b[1;32m    252\u001b[0m \u001b[38;5;124;03mCannot infer image type from output path '{file}'.\u001b[39;00m\n\u001b[0;32m   (...)\u001b[0m\n\u001b[1;32m    260\u001b[0m                 )\n\u001b[1;32m    261\u001b[0m             )\n\u001b[1;32m    263\u001b[0m     \u001b[38;5;66;03m# Request image\u001b[39;00m\n\u001b[1;32m    264\u001b[0m     \u001b[38;5;66;03m# -------------\u001b[39;00m\n\u001b[1;32m    265\u001b[0m     \u001b[38;5;66;03m# Do this first so we don't create a file if image conversion fails\u001b[39;00m\n\u001b[0;32m--> 266\u001b[0m     img_data \u001b[38;5;241m=\u001b[39m \u001b[43mto_image\u001b[49m\u001b[43m(\u001b[49m\n\u001b[1;32m    267\u001b[0m \u001b[43m        \u001b[49m\u001b[43mfig\u001b[49m\u001b[43m,\u001b[49m\n\u001b[1;32m    268\u001b[0m \u001b[43m        \u001b[49m\u001b[38;5;28;43mformat\u001b[39;49m\u001b[38;5;241;43m=\u001b[39;49m\u001b[38;5;28;43mformat\u001b[39;49m\u001b[43m,\u001b[49m\n\u001b[1;32m    269\u001b[0m \u001b[43m        \u001b[49m\u001b[43mscale\u001b[49m\u001b[38;5;241;43m=\u001b[39;49m\u001b[43mscale\u001b[49m\u001b[43m,\u001b[49m\n\u001b[1;32m    270\u001b[0m \u001b[43m        \u001b[49m\u001b[43mwidth\u001b[49m\u001b[38;5;241;43m=\u001b[39;49m\u001b[43mwidth\u001b[49m\u001b[43m,\u001b[49m\n\u001b[1;32m    271\u001b[0m \u001b[43m        \u001b[49m\u001b[43mheight\u001b[49m\u001b[38;5;241;43m=\u001b[39;49m\u001b[43mheight\u001b[49m\u001b[43m,\u001b[49m\n\u001b[1;32m    272\u001b[0m \u001b[43m        \u001b[49m\u001b[43mvalidate\u001b[49m\u001b[38;5;241;43m=\u001b[39;49m\u001b[43mvalidate\u001b[49m\u001b[43m,\u001b[49m\n\u001b[1;32m    273\u001b[0m \u001b[43m        \u001b[49m\u001b[43mengine\u001b[49m\u001b[38;5;241;43m=\u001b[39;49m\u001b[43mengine\u001b[49m\u001b[43m,\u001b[49m\n\u001b[1;32m    274\u001b[0m \u001b[43m    \u001b[49m\u001b[43m)\u001b[49m\n\u001b[1;32m    276\u001b[0m     \u001b[38;5;66;03m# Open file\u001b[39;00m\n\u001b[1;32m    277\u001b[0m     \u001b[38;5;66;03m# ---------\u001b[39;00m\n\u001b[1;32m    278\u001b[0m     \u001b[38;5;28;01mif\u001b[39;00m path \u001b[38;5;129;01mis\u001b[39;00m \u001b[38;5;28;01mNone\u001b[39;00m:\n\u001b[1;32m    279\u001b[0m         \u001b[38;5;66;03m# We previously failed to make sense of `file` as a pathlib object.\u001b[39;00m\n\u001b[1;32m    280\u001b[0m         \u001b[38;5;66;03m# Attempt to write to `file` as an open file descriptor.\u001b[39;00m\n",
      "File \u001b[0;32m/opt/venv/lib/python3.10/site-packages/plotly/io/_kaleido.py:143\u001b[0m, in \u001b[0;36mto_image\u001b[0;34m(fig, format, width, height, scale, validate, engine)\u001b[0m\n\u001b[1;32m    140\u001b[0m \u001b[38;5;66;03m# Validate figure\u001b[39;00m\n\u001b[1;32m    141\u001b[0m \u001b[38;5;66;03m# ---------------\u001b[39;00m\n\u001b[1;32m    142\u001b[0m fig_dict \u001b[38;5;241m=\u001b[39m validate_coerce_fig_to_dict(fig, validate)\n\u001b[0;32m--> 143\u001b[0m img_bytes \u001b[38;5;241m=\u001b[39m \u001b[43mscope\u001b[49m\u001b[38;5;241;43m.\u001b[39;49m\u001b[43mtransform\u001b[49m\u001b[43m(\u001b[49m\n\u001b[1;32m    144\u001b[0m \u001b[43m    \u001b[49m\u001b[43mfig_dict\u001b[49m\u001b[43m,\u001b[49m\u001b[43m \u001b[49m\u001b[38;5;28;43mformat\u001b[39;49m\u001b[38;5;241;43m=\u001b[39;49m\u001b[38;5;28;43mformat\u001b[39;49m\u001b[43m,\u001b[49m\u001b[43m \u001b[49m\u001b[43mwidth\u001b[49m\u001b[38;5;241;43m=\u001b[39;49m\u001b[43mwidth\u001b[49m\u001b[43m,\u001b[49m\u001b[43m \u001b[49m\u001b[43mheight\u001b[49m\u001b[38;5;241;43m=\u001b[39;49m\u001b[43mheight\u001b[49m\u001b[43m,\u001b[49m\u001b[43m \u001b[49m\u001b[43mscale\u001b[49m\u001b[38;5;241;43m=\u001b[39;49m\u001b[43mscale\u001b[49m\n\u001b[1;32m    145\u001b[0m \u001b[43m\u001b[49m\u001b[43m)\u001b[49m\n\u001b[1;32m    147\u001b[0m \u001b[38;5;28;01mreturn\u001b[39;00m img_bytes\n",
      "File \u001b[0;32m/opt/venv/lib/python3.10/site-packages/kaleido/scopes/plotly.py:153\u001b[0m, in \u001b[0;36mPlotlyScope.transform\u001b[0;34m(self, figure, format, width, height, scale)\u001b[0m\n\u001b[1;32m    142\u001b[0m     \u001b[38;5;28;01mraise\u001b[39;00m \u001b[38;5;167;01mValueError\u001b[39;00m(\n\u001b[1;32m    143\u001b[0m         \u001b[38;5;124m\"\u001b[39m\u001b[38;5;124mInvalid format \u001b[39m\u001b[38;5;124m'\u001b[39m\u001b[38;5;132;01m{original_format}\u001b[39;00m\u001b[38;5;124m'\u001b[39m\u001b[38;5;124m.\u001b[39m\u001b[38;5;130;01m\\n\u001b[39;00m\u001b[38;5;124m\"\u001b[39m\n\u001b[1;32m    144\u001b[0m         \u001b[38;5;124m\"\u001b[39m\u001b[38;5;124m    Supported formats: \u001b[39m\u001b[38;5;132;01m{supported_formats_str}\u001b[39;00m\u001b[38;5;124m\"\u001b[39m\n\u001b[0;32m   (...)\u001b[0m\n\u001b[1;32m    148\u001b[0m         )\n\u001b[1;32m    149\u001b[0m     )\n\u001b[1;32m    151\u001b[0m \u001b[38;5;66;03m# Transform in using _perform_transform rather than superclass so we can access the full\u001b[39;00m\n\u001b[1;32m    152\u001b[0m \u001b[38;5;66;03m# response dict, including error codes.\u001b[39;00m\n\u001b[0;32m--> 153\u001b[0m response \u001b[38;5;241m=\u001b[39m \u001b[38;5;28;43mself\u001b[39;49m\u001b[38;5;241;43m.\u001b[39;49m\u001b[43m_perform_transform\u001b[49m\u001b[43m(\u001b[49m\n\u001b[1;32m    154\u001b[0m \u001b[43m    \u001b[49m\u001b[43mfigure\u001b[49m\u001b[43m,\u001b[49m\u001b[43m \u001b[49m\u001b[38;5;28;43mformat\u001b[39;49m\u001b[38;5;241;43m=\u001b[39;49m\u001b[38;5;28;43mformat\u001b[39;49m\u001b[43m,\u001b[49m\u001b[43m \u001b[49m\u001b[43mwidth\u001b[49m\u001b[38;5;241;43m=\u001b[39;49m\u001b[43mwidth\u001b[49m\u001b[43m,\u001b[49m\u001b[43m \u001b[49m\u001b[43mheight\u001b[49m\u001b[38;5;241;43m=\u001b[39;49m\u001b[43mheight\u001b[49m\u001b[43m,\u001b[49m\u001b[43m \u001b[49m\u001b[43mscale\u001b[49m\u001b[38;5;241;43m=\u001b[39;49m\u001b[43mscale\u001b[49m\n\u001b[1;32m    155\u001b[0m \u001b[43m\u001b[49m\u001b[43m)\u001b[49m\n\u001b[1;32m    157\u001b[0m \u001b[38;5;66;03m# Check for export error, later can customize error messages for plotly Python users\u001b[39;00m\n\u001b[1;32m    158\u001b[0m code \u001b[38;5;241m=\u001b[39m response\u001b[38;5;241m.\u001b[39mget(\u001b[38;5;124m\"\u001b[39m\u001b[38;5;124mcode\u001b[39m\u001b[38;5;124m\"\u001b[39m, \u001b[38;5;241m0\u001b[39m)\n",
      "File \u001b[0;32m/opt/venv/lib/python3.10/site-packages/kaleido/scopes/base.py:308\u001b[0m, in \u001b[0;36mBaseScope._perform_transform\u001b[0;34m(self, data, **kwargs)\u001b[0m\n\u001b[1;32m    306\u001b[0m     \u001b[38;5;28mself\u001b[39m\u001b[38;5;241m.\u001b[39m_proc\u001b[38;5;241m.\u001b[39mstdin\u001b[38;5;241m.\u001b[39mwrite(\u001b[38;5;124m\"\u001b[39m\u001b[38;5;130;01m\\n\u001b[39;00m\u001b[38;5;124m\"\u001b[39m\u001b[38;5;241m.\u001b[39mencode(\u001b[38;5;124m'\u001b[39m\u001b[38;5;124mutf-8\u001b[39m\u001b[38;5;124m'\u001b[39m))\n\u001b[1;32m    307\u001b[0m     \u001b[38;5;28mself\u001b[39m\u001b[38;5;241m.\u001b[39m_proc\u001b[38;5;241m.\u001b[39mstdin\u001b[38;5;241m.\u001b[39mflush()\n\u001b[0;32m--> 308\u001b[0m     response \u001b[38;5;241m=\u001b[39m \u001b[38;5;28;43mself\u001b[39;49m\u001b[38;5;241;43m.\u001b[39;49m\u001b[43m_proc\u001b[49m\u001b[38;5;241;43m.\u001b[39;49m\u001b[43mstdout\u001b[49m\u001b[38;5;241;43m.\u001b[39;49m\u001b[43mreadline\u001b[49m\u001b[43m(\u001b[49m\u001b[43m)\u001b[49m\n\u001b[1;32m    310\u001b[0m response_string \u001b[38;5;241m=\u001b[39m response\u001b[38;5;241m.\u001b[39mdecode(\u001b[38;5;124m'\u001b[39m\u001b[38;5;124mutf-8\u001b[39m\u001b[38;5;124m'\u001b[39m)\n\u001b[1;32m    311\u001b[0m \u001b[38;5;28;01mif\u001b[39;00m \u001b[38;5;129;01mnot\u001b[39;00m response_string:\n",
      "\u001b[0;31mKeyboardInterrupt\u001b[0m: "
     ]
    },
    {
     "data": {
      "image/png": "[encoded data removed]",
      "text/plain": [
       "<Figure size 900x450 with 2 Axes>"
      ]
     },
     "metadata": {},
     "output_type": "display_data"
    }
   ],
   "source": [
    "# define a simple CNN that takes 3,224,224 as input a resnet based\n",
    "import pickle\n",
    "\n",
    "class Net(nn.Module):\n",
    "    def __init__(self):\n",
    "        super(Net, self).__init__()\n",
    "        self.resnet = models.resnet18(pretrained=True)\n",
    "        self.fc2 = nn.Linear(512, 6 * number_of_patch * number_of_patch)\n",
    "        self.resnet.fc = nn.Linear(512, 512)\n",
    "\n",
    "    def forward(self, x):\n",
    "        return self.fc2(self.resnet(x))\n",
    "    \n",
    "net = Net().to(device)\n",
    "criterion = nn.MSELoss()\n",
    "optimizer = optim.Adam(net.parameters(), lr=0.0001)\n",
    "\n",
    "# train only fc1 and fc2\n",
    "for name, param in net.named_parameters():\n",
    "    if \"fc\" in name or \"fc2\" in name:\n",
    "        param.requires_grad = True\n",
    "    else:\n",
    "        param.requires_grad = False\n",
    "\n",
    "\n",
    "cams_gt_seen, undos_seen = convert_RT_to_camera(train_R, train_T, train_focal_lengths, train_principal_points)\n",
    "cams_gt_unseen, undos_unseen = convert_RT_to_camera(test_R, test_T, test_focal_lengths, test_principal_points)\n",
    "fig_seen_l = []\n",
    "fig_unseen_l = []\n",
    "fig_seen_undo_l = []\n",
    "fig_unseen_undo_l = []\n",
    "loss_dict = {}\n",
    "for epoch in range(1500):  # loop over the dataset multiple times\n",
    "    running_loss = 0.0\n",
    "    running_loss_val = 0.0\n",
    "    seen_pred_list = []\n",
    "    # iterate over batch size\n",
    "    for i in range(num_train):\n",
    "        # get the inputs; data is a list of [inputs, labels]\n",
    "        inputs = train_images[i].unsqueeze(0)\n",
    "        labels_rays, _ = convert_RT_to_Plucker(train_R[i].unsqueeze(0), train_T[i].unsqueeze(0), train_focal_lengths[i].unsqueeze(0), train_principal_points[i].unsqueeze(0), train_crop_params[i].unsqueeze(0))\n",
    "        # zero the parameter gradients\n",
    "        optimizer.zero_grad()\n",
    "        # labels = einops.rearrange(labels[0].rays, 'n (h w) -> n h w', h=number_of_patch, w=number_of_patch)\n",
    "        # print(labels_rays.rays.shape)\n",
    "    \n",
    "        labels = einops.rearrange(labels_rays.rays, 'n hw d -> n (hw d)')\n",
    "        # labels = labels_rays.rays.unsqueeze(0).view(1,-1)\n",
    "        # print(labels.shape)\n",
    "        # print(inputs.shape)\n",
    "        # forward + backward + optimize\n",
    "        outputs = net(inputs)\n",
    "        loss = criterion(outputs, labels)\n",
    "        outputs = einops.rearrange(outputs, 'n (h w d) -> n d h w', h=number_of_patch, w=number_of_patch, d=6)\n",
    "        \n",
    "        loss.backward()\n",
    "        optimizer.step()\n",
    "        seen_pred_list.append(outputs)\n",
    "        # print statistics\n",
    "        running_loss += loss.item()\n",
    "\n",
    "        if i == 0:\n",
    "            fig_seen_gt = create_fig_moments(labels_rays.get_moments(), labels_rays.get_directions())\n",
    "            fig_seen_gt.savefig(f\"/sensei-fs-3/users/okara/camera_as_rays/RayDiffusion/output_images/moments_dirs/train/fig_seen_gt_{epoch}.png\")\n",
    "\n",
    "    outputs_torch = torch.cat(seen_pred_list, dim=0).detach()\n",
    "    pred_rays = Rays.from_spatial(outputs_torch)\n",
    "    fig_seen = create_fig_moments(pred_rays[0].get_moments(), pred_rays[0].get_directions())\n",
    "    fig_seen.savefig(f\"/sensei-fs-3/users/okara/camera_as_rays/RayDiffusion/output_images/moments_dirs/train/fig_seen_{epoch}.png\")\n",
    "    \n",
    "    \n",
    "\n",
    "    cams_pred_seen = convert_Plucker_to_RT(pred_rays, train_crop_params[i].unsqueeze(0))\n",
    "    fig_seen_l.append(create_plotly_cameras_visualization(cams_gt_seen, cams_pred_seen, 20))\n",
    "    cams_pred_seen = undos_seen(cams_pred_seen)\n",
    "    fig_seen_undo_l.append(create_plotly_cameras_visualization(cams_gt_seen, cams_pred_seen, 20))\n",
    "    fig_seen_l[epoch].write_image(f\"/sensei-fs-3/users/okara/camera_as_rays/RayDiffusion/output_images/scene/train/fig_seen_{epoch}.png\")\n",
    "    fig_seen_undo_l[epoch].write_image(f\"/sensei-fs-3/users/okara/camera_as_rays/RayDiffusion/output_images/scene/train/fig_seen_undo_{epoch}.png\")\n",
    "\n",
    "    # fig_seen = create_plotly_cameras_visualization(cams_gt_seen, cams_pred_seen, 40)\n",
    "    # validation\n",
    "    unseen_pred_list = []\n",
    "    with torch.no_grad():\n",
    "        for j in range(num_images-num_train):\n",
    "            inputs = test_images[j].unsqueeze(0)\n",
    "            labels_rays, _ = convert_RT_to_Plucker(test_R[j].unsqueeze(0), test_T[j].unsqueeze(0), test_focal_lengths[j].unsqueeze(0), test_principal_points[j].unsqueeze(0), test_crop_params[j].unsqueeze(0))\n",
    "            labels = einops.rearrange(labels_rays.rays, 'n hw d -> n (hw d)')\n",
    "            outputs = net(inputs)\n",
    "            loss = criterion(outputs, labels)\n",
    "            running_loss_val += loss.item()\n",
    "            outputs = einops.rearrange(outputs, 'n (h w d) -> n d h w', h=number_of_patch, w=number_of_patch, d=6)\n",
    "            unseen_pred_list.append(outputs)\n",
    "            if j == 0:\n",
    "                fig_unseen_gt = create_fig_moments(labels_rays.get_moments(), labels_rays.get_directions())\n",
    "                fig_unseen_gt.savefig(f\"/sensei-fs-3/users/okara/camera_as_rays/RayDiffusion/output_images/moments_dirs/val/fig_unseen_gt_{epoch}.png\")\n",
    "\n",
    "    outputs_torch = torch.cat(unseen_pred_list, dim=0)\n",
    "    pred_rays = Rays.from_spatial(outputs_torch)\n",
    "    cams_pred_unseen = convert_Plucker_to_RT(pred_rays, test_crop_params[j].unsqueeze(0))\n",
    "    fig_unseen_l.append(create_plotly_cameras_visualization(cams_gt_unseen, cams_pred_unseen, 20))\n",
    "    cams_pred_unseen = undos_unseen(cams_pred_unseen)\n",
    "    fig_unseen_undo_l.append(create_plotly_cameras_visualization(cams_gt_unseen, cams_pred_unseen, 20))\n",
    "    fig_unseen = create_fig_moments(pred_rays[0].get_moments(), pred_rays[0].get_directions())\n",
    "    fig_unseen.savefig(f\"/sensei-fs-3/users/okara/camera_as_rays/RayDiffusion/output_images/moments_dirs/val/fig_unseen_{epoch}.png\")\n",
    "\n",
    "    fig_unseen_l[epoch].write_image(f\"/sensei-fs-3/users/okara/camera_as_rays/RayDiffusion/output_images/scene/val/fig_unseen_{epoch}.png\")\n",
    "    fig_unseen_undo_l[epoch].write_image(f\"/sensei-fs-3/users/okara/camera_as_rays/RayDiffusion/output_images/scene/val/fig_unseen_undo_{epoch}.png\")\n",
    "    # fig_unseen = create_plotly_cameras_visualization(cams_gt_unseen, cams_pred_unseen, 20)\n",
    "    # print only 2 decimal points\n",
    "    epoch_loss = running_loss/num_train * 100\n",
    "    epoch_val_loss = running_loss_val/(num_images-num_train) * 100\n",
    "    print(f\"Epoch {epoch}, Loss: {epoch_loss:.3f}, Val Loss: {epoch_val_loss:.3f}\")\n",
    "    loss_dict[epoch] = [epoch_loss, epoch_val_loss]\n",
    "    # save loss_dict\n",
    "    if epoch % 10 == 0:\n",
    "        with open(f\"/sensei-fs-3/users/okara/camera_as_rays/RayDiffusion/output_images/loss_dict.pkl\", \"wb\") as f:\n",
    "            pickle.dump(loss_dict, f)\n",
    "\n"
   ]
  },
  {
   "cell_type": "code",
   "execution_count": 42,
   "metadata": {},
   "outputs": [
    {
     "data": {
      "application/vnd.plotly.v1+json": {
       "config": {
        "plotlyServerURL": "https://plot.ly"
       },
       "data": [
        {
         "line": {
          "color": "#ff0000",
          "width": 4
         },
         "marker": {
          "size": 1
         },
         "name": "Pred Camera 0",
         "scene": "scene",
         "type": "scatter3d",
         "x": [
          -0.03863060474395752,
          -0.013465233147144318,
          -0.024266015738248825,
          -0.013465233147144318,
          0.01170013751834631,
          0.07650484144687653,
          0.02617410197854042,
          -0.03863060474395752,
          0.01981525868177414,
          0.01170013751834631,
          0.07650484144687653,
          0.01981525868177414,
          0.02617410197854042,
          0.01981525868177414,
          0.018498050048947334
         ],
         "y": [
          -0.026632891967892647,
          -0.06868147850036621,
          -0.0747748538851738,
          -0.06868147850036621,
          -0.11073005199432373,
          -0.07416976988315582,
          0.009927395731210709,
          -0.026632891967892647,
          -0.026919621974229813,
          -0.11073005199432373,
          -0.07416976988315582,
          -0.026919621974229813,
          0.009927395731210709,
          -0.026919621974229813,
          -0.062142182141542435
         ],
         "z": [
          -0.11176180094480515,
          -0.10183101147413254,
          -0.1002613827586174,
          -0.10183101147413254,
          -0.09190022200345993,
          -0.10131799429655075,
          -0.12117957323789597,
          -0.11176180094480515,
          -0.009339922107756138,
          -0.09190022200345993,
          -0.10131799429655075,
          -0.009339922107756138,
          -0.12117957323789597,
          -0.009339922107756138,
          -0.15513989329338074
         ]
        },
        {
         "line": {
          "color": "#ff1200",
          "width": 4
         },
         "marker": {
          "size": 1
         },
         "name": "Pred Camera 1",
         "scene": "scene",
         "type": "scatter3d",
         "x": [
          0.07567030191421509,
          0.030290238559246063,
          0.035537201911211014,
          0.030290238559246063,
          -0.015089823864400387,
          -0.04657161235809326,
          0.04418851435184479,
          0.07567030191421509,
          0.015348230488598347,
          -0.015089823864400387,
          -0.04657161235809326,
          0.015348230488598347,
          0.04418851435184479,
          0.015348230488598347,
          0.014149903319776058
         ],
         "y": [
          -0.04715169221162796,
          -0.06811295449733734,
          -0.079452283680439,
          -0.06811295449733734,
          -0.08907420933246613,
          -0.02103821560740471,
          0.020884303376078606,
          -0.04715169221162796,
          -0.030440742149949074,
          -0.08907420933246613,
          -0.02103821560740471,
          -0.030440742149949074,
          0.020884303376078606,
          -0.030440742149949074,
          -0.035922057926654816
         ],
         "z": [
          0.08308127522468567,
          0.08195198327302933,
          0.08157927542924881,
          0.08195198327302933,
          0.08082268387079239,
          0.0830589234828949,
          0.08531751483678818,
          0.08308127522468567,
          -0.016859911382198334,
          0.08082268387079239,
          0.0830589234828949,
          -0.016859911382198334,
          0.08531751483678818,
          -0.016859911382198334,
          0.13303512334823608
         ]
        },
        {
         "line": {
          "color": "#ff2300",
          "width": 4
         },
         "marker": {
          "size": 1
         },
         "name": "Pred Camera 2",
         "scene": "scene",
         "type": "scatter3d",
         "x": [
          0.09462390840053558,
          0.08262376487255096,
          0.09393386542797089,
          0.08262376487255096,
          0.07062362879514694,
          0.002763032913208008,
          0.02676331251859665,
          0.09462390840053558,
          0.013519372791051865,
          0.07062362879514694,
          0.002763032913208008,
          0.013519372791051865,
          0.02676331251859665,
          0.013519372791051865,
          0.06628052145242691
         ],
         "y": [
          -0.004994502291083336,
          -0.05330836772918701,
          -0.05565626174211502,
          -0.05330836772918701,
          -0.10162223130464554,
          -0.08753486722707748,
          0.009092869237065315,
          -0.004994502291083336,
          -0.028650010004639626,
          -0.10162223130464554,
          -0.08753486722707748,
          -0.028650010004639626,
          0.009092869237065315,
          -0.028650010004639626,
          -0.05507202073931694
         ],
         "z": [
          0.06638600677251816,
          0.06172046810388565,
          0.05694352835416794,
          0.06172046810388565,
          0.057054921984672546,
          0.08571655303239822,
          0.09504763782024384,
          0.06638600677251816,
          -0.015886226668953896,
          0.057054921984672546,
          0.08571655303239822,
          -0.015886226668953896,
          0.09504763782024384,
          -0.015886226668953896,
          0.12202004343271255
         ]
        },
        {
         "line": {
          "color": "#ff3500",
          "width": 4
         },
         "marker": {
          "size": 1
         },
         "name": "Pred Camera 3",
         "scene": "scene",
         "type": "scatter3d",
         "x": [
          0.07412352412939072,
          0.05780938267707825,
          0.06961449235677719,
          0.05780938267707825,
          0.041495244950056076,
          -0.02933543175458908,
          0.0032928502187132835,
          0.07412352412939072,
          0.0183551162481308,
          0.041495244950056076,
          -0.02933543175458908,
          0.0183551162481308,
          0.0032928502187132835,
          0.0183551162481308,
          0.024413513019680977
         ],
         "y": [
          -0.006680656224489212,
          0.03527847304940224,
          0.03865012153983116,
          0.03527847304940224,
          0.07723760604858398,
          0.05700772628188133,
          -0.026910539716482162,
          -0.006680656224489212,
          -0.02206118032336235,
          0.07723760604858398,
          0.05700772628188133,
          -0.02206118032336235,
          -0.026910539716482162,
          -0.02206118032336235,
          0.048775892704725266
         ],
         "z": [
          -0.12273663282394409,
          -0.10098162293434143,
          -0.09863187372684479,
          -0.10098162293434143,
          -0.07922662049531937,
          -0.09332513809204102,
          -0.13683514297008514,
          -0.12273663282394409,
          -0.019976843148469925,
          -0.07922662049531937,
          -0.09332513809204102,
          -0.019976843148469925,
          -0.13683514297008514,
          -0.019976843148469925,
          -0.15205790102481842
         ]
        },
        {
         "line": {
          "color": "#ff4700",
          "width": 4
         },
         "marker": {
          "size": 1
         },
         "name": "Pred Camera 4",
         "scene": "scene",
         "type": "scatter3d",
         "x": [
          0.037883561104536057,
          0.005614285357296467,
          -0.0035618701949715614,
          0.005614285357296467,
          -0.02665499597787857,
          0.028401948511600494,
          0.09294050186872482,
          0.037883561104536057,
          0.012027502991259098,
          -0.02665499597787857,
          0.028401948511600494,
          0.012027502991259098,
          0.09294050186872482,
          0.012027502991259098,
          0.043700382113456726
         ],
         "y": [
          -0.11669132113456726,
          -0.08806502819061279,
          -0.09616342186927795,
          -0.08806502819061279,
          -0.05943872034549713,
          -0.010848324745893478,
          -0.0681009292602539,
          -0.11669132113456726,
          -0.013522859662771225,
          -0.05943872034549713,
          -0.010848324745893478,
          -0.013522859662771225,
          -0.0681009292602539,
          -0.013522859662771225,
          -0.08889330923557281
         ],
         "z": [
          0.03494402393698692,
          0.06022699177265167,
          0.05768454074859619,
          0.06022699177265167,
          0.08550996333360672,
          0.1007646769285202,
          0.050198741257190704,
          0.03494402393698692,
          -0.01598706841468811,
          0.08550996333360672,
          0.1007646769285202,
          -0.01598706841468811,
          0.050198741257190704,
          -0.01598706841468811,
          0.10977506637573242
         ]
        },
        {
         "line": {
          "color": "#ff5f00",
          "width": 4
         },
         "marker": {
          "size": 1
         },
         "name": "Pred Camera 5",
         "scene": "scene",
         "type": "scatter3d",
         "x": [
          0.07222297787666321,
          0.02828560397028923,
          0.03425026684999466,
          0.02828560397028923,
          -0.015651769936084747,
          -0.05143974721431732,
          0.036435000598430634,
          0.07222297787666321,
          0.00934883113950491,
          -0.015651769936084747,
          -0.05143974721431732,
          0.00934883113950491,
          0.036435000598430634,
          0.00934883113950491,
          0.010913008823990822
         ],
         "y": [
          0.0004063602536916733,
          -0.022422626614570618,
          -0.03300747275352478,
          -0.022422626614570618,
          -0.04525161162018776,
          0.018257468938827515,
          0.0639154464006424,
          0.0004063602536916733,
          -0.017960086464881897,
          -0.04525161162018776,
          0.018257468938827515,
          -0.017960086464881897,
          0.0639154464006424,
          -0.017960086464881897,
          0.02297791838645935
         ],
         "z": [
          0.07661957293748856,
          0.08357258886098862,
          0.08651091903448105,
          0.08357258886098862,
          0.09052560478448868,
          0.0728956088423729,
          0.05898957699537277,
          0.07661957293748856,
          -0.021440425887703896,
          0.09052560478448868,
          0.0728956088423729,
          -0.021440425887703896,
          0.05898957699537277,
          -0.021440425887703896,
          0.12285659462213516
         ]
        },
        {
         "line": {
          "color": "#ff7000",
          "width": 4
         },
         "marker": {
          "size": 1
         },
         "name": "Pred Camera 6",
         "scene": "scene",
         "type": "scatter3d",
         "x": [
          -0.036499250680208206,
          -0.03932349383831024,
          -0.05174671858549118,
          -0.03932349383831024,
          -0.04214773699641228,
          0.032391633838415146,
          0.03804012015461922,
          -0.036499250680208206,
          0.007462066598236561,
          -0.04214773699641228,
          0.032391633838415146,
          0.007462066598236561,
          0.03804012015461922,
          0.007462066598236561,
          -0.0068117426708340645
         ],
         "y": [
          -0.08563125878572464,
          -0.036451634019613266,
          -0.0369395986199379,
          -0.036451634019613266,
          0.012727990746498108,
          0.01565578766167164,
          -0.08270346373319626,
          -0.08563125878572464,
          -0.017374617978930473,
          0.012727990746498108,
          0.01565578766167164,
          -0.017374617978930473,
          -0.08270346373319626,
          -0.017374617978930473,
          -0.04379429668188095
         ],
         "z": [
          0.06509047001600266,
          0.07365720719099045,
          0.07236287742853165,
          0.07365720719099045,
          0.08222394436597824,
          0.08998990803956985,
          0.07285643368959427,
          0.06509047001600266,
          -0.02043544501066208,
          0.08222394436597824,
          0.08998990803956985,
          -0.02043544501066208,
          0.07285643368959427,
          -0.02043544501066208,
          0.12652799487113953
         ]
        },
        {
         "line": {
          "color": "#ff8200",
          "width": 4
         },
         "marker": {
          "size": 1
         },
         "name": "Pred Camera 7",
         "scene": "scene",
         "type": "scatter3d",
         "x": [
          0.04357724264264107,
          0.03894104063510895,
          0.0513763353228569,
          0.03894104063510895,
          0.03430483862757683,
          -0.0403069369494915,
          -0.03103453293442726,
          0.04357724264264107,
          0.005792372394353151,
          0.03430483862757683,
          -0.0403069369494915,
          0.005792372394353151,
          -0.03103453293442726,
          0.005792372394353151,
          -0.00044345855712890625
         ],
         "y": [
          -0.03657403588294983,
          0.011447630822658539,
          0.012702319771051407,
          0.011447630822658539,
          0.05946929752826691,
          0.0519411638379097,
          -0.04410216957330704,
          -0.03657403588294983,
          -0.018295802175998688,
          0.05946929752826691,
          0.0519411638379097,
          -0.018295802175998688,
          -0.04410216957330704,
          -0.018295802175998688,
          0.020673245191574097
         ],
         "z": [
          -0.12635403871536255,
          -0.11322294920682907,
          -0.11342092603445053,
          -0.11322294920682907,
          -0.10009186714887619,
          -0.09890400618314743,
          -0.1251661777496338,
          -0.12635403871536255,
          -0.016152122989296913,
          -0.10009186714887619,
          -0.09890400618314743,
          -0.016152122989296913,
          -0.1251661777496338,
          -0.016152122989296913,
          -0.16086748242378235
         ]
        },
        {
         "line": {
          "color": "#ff9400",
          "width": 4
         },
         "marker": {
          "size": 1
         },
         "name": "Pred Camera 8",
         "scene": "scene",
         "type": "scatter3d",
         "x": [
          -0.053291525691747665,
          -0.005854739807546139,
          -0.002634901786223054,
          -0.005854739807546139,
          0.04158203676342964,
          0.02226301096379757,
          -0.07261054962873459,
          -0.053291525691747665,
          0.002802361501380801,
          0.04158203676342964,
          0.02226301096379757,
          0.002802361501380801,
          -0.07261054962873459,
          0.002802361501380801,
          -0.02467256411910057
         ],
         "y": [
          -0.04161622375249863,
          -0.026646358892321587,
          -0.038123033940792084,
          -0.026646358892321587,
          -0.011676492169499397,
          0.057183586061000824,
          0.027243852615356445,
          -0.04161622375249863,
          -0.018176071345806122,
          -0.011676492169499397,
          0.057183586061000824,
          -0.018176071345806122,
          0.027243852615356445,
          -0.018176071345806122,
          0.02076355740427971
         ],
         "z": [
          -0.11963579058647156,
          -0.1247008889913559,
          -0.12846499681472778,
          -0.1247008889913559,
          -0.12976598739624023,
          -0.10718132555484772,
          -0.09705112874507904,
          -0.11963579058647156,
          -0.0185898095369339,
          -0.12976598739624023,
          -0.10718132555484772,
          -0.0185898095369339,
          -0.09705112874507904,
          -0.0185898095369339,
          -0.1608179360628128
         ]
        },
        {
         "line": {
          "color": "#ffa500",
          "width": 4
         },
         "marker": {
          "size": 1
         },
         "name": "Pred Camera 9",
         "scene": "scene",
         "type": "scatter3d",
         "x": [
          -0.02768530510365963,
          -0.06034925952553749,
          -0.06873659044504166,
          -0.06034925952553749,
          -0.0930132269859314,
          -0.042689260095357895,
          0.022638656198978424,
          -0.02768530510365963,
          -0.0001153468620032072,
          -0.0930132269859314,
          -0.042689260095357895,
          -0.0001153468620032072,
          0.022638656198978424,
          -0.0001153468620032072,
          -0.052723247557878494
         ],
         "y": [
          0.0910438671708107,
          0.05439113453030586,
          0.059949930757284164,
          0.05439113453030586,
          0.017738405615091324,
          -0.015614395029842854,
          0.057691071182489395,
          0.0910438671708107,
          -0.013750721700489521,
          0.017738405615091324,
          -0.015614395029842854,
          -0.013750721700489521,
          0.057691071182489395,
          -0.013750721700489521,
          0.06344746798276901
         ],
         "z": [
          -0.06519610434770584,
          -0.07466409355401993,
          -0.06724772602319717,
          -0.07466409355401993,
          -0.08413208276033401,
          -0.12863031029701233,
          -0.10969432443380356,
          -0.06519610434770584,
          -0.018674688413739204,
          -0.08413208276033401,
          -0.12863031029701233,
          -0.018674688413739204,
          -0.10969432443380356,
          -0.018674688413739204,
          -0.13603247702121735
         ]
        },
        {
         "line": {
          "color": "#ffbd00",
          "width": 4
         },
         "marker": {
          "size": 1
         },
         "name": "Pred Camera 10",
         "scene": "scene",
         "type": "scatter3d",
         "x": [
          -0.06553708016872406,
          -0.022317973896861076,
          -0.01808253489434719,
          -0.022317973896861076,
          0.020901130512356758,
          -0.004511518403887749,
          -0.09094972908496857,
          -0.06553708016872406,
          0.0021287333220243454,
          0.020901130512356758,
          -0.004511518403887749,
          0.0021287333220243454,
          -0.09094972908496857,
          0.0021287333220243454,
          -0.05360081046819687
         ],
         "y": [
          -0.04463217407464981,
          -0.02230340614914894,
          -0.03301459178328514,
          -0.02230340614914894,
          0.00002536177635192871,
          0.06429249793291092,
          0.01963496394455433,
          -0.04463217407464981,
          -0.015918878838419914,
          0.00002536177635192871,
          0.06429249793291092,
          -0.015918878838419914,
          0.01963496394455433,
          -0.015918878838419914,
          0.022704681381583214
         ],
         "z": [
          -0.10240870714187622,
          -0.11396448314189911,
          -0.11882056295871735,
          -0.11396448314189911,
          -0.125520259141922,
          -0.09638379514217377,
          -0.07327225059270859,
          -0.10240870714187622,
          -0.010196241550147533,
          -0.125520259141922,
          -0.09638379514217377,
          -0.010196241550147533,
          -0.07327225059270859,
          -0.010196241550147533,
          -0.1439962536096573
         ]
        },
        {
         "line": {
          "color": "#ffcf00",
          "width": 4
         },
         "marker": {
          "size": 1
         },
         "name": "Pred Camera 11",
         "scene": "scene",
         "type": "scatter3d",
         "x": [
          -0.03515888750553131,
          -0.03190512955188751,
          -0.044370926916599274,
          -0.03190512955188751,
          -0.028651371598243713,
          0.04614342749118805,
          0.03963591158390045,
          -0.03515888750553131,
          0.00198559183627367,
          -0.028651371598243713,
          0.04614342749118805,
          0.00198559183627367,
          0.03963591158390045,
          0.00198559183627367,
          0.0072456104680895805
         ],
         "y": [
          0.04860333353281021,
          -0.00008918903768062592,
          -0.000786731019616127,
          -0.00008918903768062592,
          -0.04878171533346176,
          -0.044596463441848755,
          0.05278858542442322,
          0.04860333353281021,
          -0.020019585266709328,
          -0.04878171533346176,
          -0.044596463441848755,
          -0.020019585266709328,
          0.05278858542442322,
          -0.020019585266709328,
          0.013014944270253181
         ],
         "z": [
          -0.09500843286514282,
          -0.10589197278022766,
          -0.10649799555540085,
          -0.10589197278022766,
          -0.1167755126953125,
          -0.11313939094543457,
          -0.09137231111526489,
          -0.09500843286514282,
          -0.006592183373868465,
          -0.1167755126953125,
          -0.11313939094543457,
          -0.006592183373868465,
          -0.09137231111526489,
          -0.006592183373868465,
          -0.15281477570533752
         ]
        },
        {
         "line": {
          "color": "#ffe000",
          "width": 4
         },
         "marker": {
          "size": 1
         },
         "name": "Pred Camera 12",
         "scene": "scene",
         "type": "scatter3d",
         "x": [
          -0.06413077563047409,
          -0.046297311782836914,
          -0.05787866562604904,
          -0.046297311782836914,
          -0.028463853523135185,
          0.04102427512407303,
          0.005357346031814814,
          -0.06413077563047409,
          0.0004340543528087437,
          -0.028463853523135185,
          0.04102427512407303,
          0.0004340543528087437,
          0.005357346031814814,
          0.0004340543528087437,
          -0.01754690892994404
         ],
         "y": [
          0.04157872498035431,
          -0.002502373419702053,
          -0.007205531001091003,
          -0.002502373419702053,
          -0.046583473682403564,
          -0.018364526331424713,
          0.06979766488075256,
          0.04157872498035431,
          -0.016884442418813705,
          -0.046583473682403564,
          -0.018364526331424713,
          -0.016884442418813705,
          0.06979766488075256,
          -0.016884442418813705,
          0.02585287019610405
         ],
         "z": [
          -0.09061934798955917,
          -0.1060733050107956,
          -0.10602252185344696,
          -0.1060733050107956,
          -0.12152725458145142,
          -0.12183191627264023,
          -0.09092400968074799,
          -0.09061934798955917,
          -0.01112285815179348,
          -0.12152725458145142,
          -0.12183191627264023,
          -0.01112285815179348,
          -0.09092400968074799,
          -0.01112285815179348,
          -0.15377701818943024
         ]
        },
        {
         "line": {
          "color": "#fef100",
          "width": 4
         },
         "marker": {
          "size": 1
         },
         "name": "Pred Camera 13",
         "scene": "scene",
         "type": "scatter3d",
         "x": [
          -0.03937431052327156,
          -0.001214177580550313,
          0.006303894333541393,
          -0.001214177580550313,
          0.03694595769047737,
          -0.00816246960312128,
          -0.08448274433612823,
          -0.03937431052327156,
          -0.00014957523671910167,
          0.03694595769047737,
          -0.00816246960312128,
          -0.00014957523671910167,
          -0.08448274433612823,
          -0.00014957523671910167,
          -0.03557779639959335
         ],
         "y": [
          -0.06730874627828598,
          -0.03550676256418228,
          -0.04505303129553795,
          -0.03550676256418228,
          -0.003704777918756008,
          0.05357285588979721,
          -0.01003111433237791,
          -0.06730874627828598,
          -0.017919421195983887,
          -0.003704777918756008,
          0.05357285588979721,
          -0.017919421195983887,
          -0.01003111433237791,
          -0.017919421195983887,
          -0.001342209056019783
         ],
         "z": [
          -0.10344910621643066,
          -0.10914453864097595,
          -0.11207666248083115,
          -0.10914453864097595,
          -0.11483997106552124,
          -0.09724721312522888,
          -0.0858563482761383,
          -0.10344910621643066,
          -0.0038079216610640287,
          -0.11483997106552124,
          -0.09724721312522888,
          -0.0038079216610640287,
          -0.0858563482761383,
          -0.0038079216610640287,
          -0.14861828088760376
         ]
        },
        {
         "line": {
          "color": "#f8fd00",
          "width": 4
         },
         "marker": {
          "size": 1
         },
         "name": "Pred Camera 14",
         "scene": "scene",
         "type": "scatter3d",
         "x": [
          0.03636059910058975,
          -0.012242050841450691,
          -0.01517203077673912,
          -0.012242050841450691,
          -0.06084470450878143,
          -0.043264828622341156,
          0.05394047498703003,
          0.03636059910058975,
          -0.002147233346477151,
          -0.06084470450878143,
          -0.043264828622341156,
          -0.002147233346477151,
          0.05394047498703003,
          -0.002147233346477151,
          -0.00410455372184515
         ],
         "y": [
          0.062250711023807526,
          0.051126398146152496,
          0.062402211129665375,
          0.051126398146152496,
          0.040002092719078064,
          -0.027652738615870476,
          -0.005404125899076462,
          0.062250711023807526,
          -0.019684741273522377,
          0.040002092719078064,
          -0.027652738615870476,
          -0.019684741273522377,
          -0.005404125899076462,
          -0.019684741273522377,
          0.03579084575176239
         ],
         "z": [
          -0.07618263363838196,
          -0.07992854714393616,
          -0.07539848983287811,
          -0.07992854714393616,
          -0.08367446064949036,
          -0.11085480451583862,
          -0.10336297750473022,
          -0.07618263363838196,
          -0.0006182324141263962,
          -0.08367446064949036,
          -0.11085480451583862,
          -0.0006182324141263962,
          -0.10336297750473022,
          -0.0006182324141263962,
          -0.13996896147727966
         ]
        },
        {
         "line": {
          "color": "#e2ff00",
          "width": 4
         },
         "marker": {
          "size": 1
         },
         "name": "Pred Camera 15",
         "scene": "scene",
         "type": "scatter3d",
         "x": [
          -0.048301711678504944,
          -0.008798901923000813,
          -0.016347279772162437,
          -0.008798901923000813,
          0.03070390410721302,
          0.07599417865276337,
          -0.0030114324763417244,
          -0.048301711678504944,
          0.0032859016209840775,
          0.03070390410721302,
          0.07599417865276337,
          0.0032859016209840775,
          -0.0030114324763417244,
          0.0032859016209840775,
          0.01912640407681465
         ],
         "y": [
          -0.00822729803621769,
          -0.038859836757183075,
          -0.048657990992069244,
          -0.038859836757183075,
          -0.06949236989021301,
          -0.01070345751941204,
          0.05056162178516388,
          -0.00822729803621769,
          -0.019582020118832588,
          -0.06949236989021301,
          -0.01070345751941204,
          -0.019582020118832588,
          0.05056162178516388,
          -0.019582020118832588,
          -0.004407056607306004
         ],
         "z": [
          -0.10314319282770157,
          -0.10205889493227005,
          -0.10386670380830765,
          -0.10205889493227005,
          -0.10097458958625793,
          -0.09012771397829056,
          -0.09229631721973419,
          -0.10314319282770157,
          0.0022894195280969143,
          -0.10097458958625793,
          -0.09012771397829056,
          0.0022894195280969143,
          -0.09229631721973419,
          0.0022894195280969143,
          -0.14609789848327637
         ]
        },
        {
         "line": {
          "color": "#d1ff00",
          "width": 4
         },
         "marker": {
          "size": 1
         },
         "name": "Pred Camera 16",
         "scene": "scene",
         "type": "scatter3d",
         "x": [
          -0.08188167214393616,
          -0.039467886090278625,
          -0.0376519076526165,
          -0.039467886090278625,
          0.0029458999633789062,
          -0.007949993014335632,
          -0.0927775651216507,
          -0.08188167214393616,
          0.00600786879658699,
          0.0029458999633789062,
          -0.007949993014335632,
          0.00600786879658699,
          -0.0927775651216507,
          0.00600786879658699,
          -0.07037767767906189
         ],
         "y": [
          -0.04940041899681091,
          -0.03459537774324417,
          -0.0461876317858696,
          -0.03459537774324417,
          -0.01979033835232258,
          0.04976320639252663,
          0.020153123885393143,
          -0.04940041899681091,
          -0.022685501724481583,
          -0.01979033835232258,
          0.04976320639252663,
          -0.022685501724481583,
          0.020153123885393143,
          -0.022685501724481583,
          0.0116148442029953
         ],
         "z": [
          -0.06567323207855225,
          -0.08762502670288086,
          -0.09193452447652817,
          -0.08762502670288086,
          -0.10957682132720947,
          -0.08371983468532562,
          -0.03981625288724899,
          -0.06567323207855225,
          0.008272616192698479,
          -0.10957682132720947,
          -0.08371983468532562,
          0.008272616192698479,
          -0.03981625288724899,
          0.008272616192698479,
          -0.11618111282587051
         ]
        },
        {
         "line": {
          "color": "#bfff00",
          "width": 4
         },
         "marker": {
          "size": 1
         },
         "name": "Pred Camera 17",
         "scene": "scene",
         "type": "scatter3d",
         "x": [
          0.029105309396982193,
          -0.015632115304470062,
          -0.02097189426422119,
          -0.015632115304470062,
          -0.06036954000592232,
          -0.028330858796834946,
          0.061143990606069565,
          0.029105309396982193,
          0.013402688317000866,
          -0.06036954000592232,
          -0.028330858796834946,
          0.013402688317000866,
          0.061143990606069565,
          0.013402688317000866,
          -0.00612050574272871
         ],
         "y": [
          0.04076269641518593,
          0.019131839275360107,
          0.030399922281503677,
          0.019131839275360107,
          -0.002499014139175415,
          -0.07010751962661743,
          -0.02684580162167549,
          0.04076269641518593,
          -0.016210149973630905,
          -0.002499014139175415,
          -0.07010751962661743,
          -0.016210149973630905,
          -0.02684580162167549,
          -0.016210149973630905,
          -0.013903537765145302
         ],
         "z": [
          -0.08979760110378265,
          -0.08425967395305634,
          -0.08338385075330734,
          -0.08425967395305634,
          -0.07872174680233002,
          -0.08397670090198517,
          -0.0950525552034378,
          -0.08979760110378265,
          0.012250303290784359,
          -0.07872174680233002,
          -0.08397670090198517,
          0.012250303290784359,
          -0.0950525552034378,
          0.012250303290784359,
          -0.13645587861537933
         ]
        },
        {
         "line": {
          "color": "#adff00",
          "width": 4
         },
         "marker": {
          "size": 1
         },
         "name": "Pred Camera 18",
         "scene": "scene",
         "type": "scatter3d",
         "x": [
          -0.0012453962117433548,
          -0.0007050875574350357,
          -0.013049997389316559,
          -0.0007050875574350357,
          -0.00016477890312671661,
          0.07390469312667847,
          0.07282407581806183,
          -0.0012453962117433548,
          0.020663365721702576,
          -0.00016477890312671661,
          0.07390469312667847,
          0.020663365721702576,
          0.07282407581806183,
          0.020663365721702576,
          0.04416278749704361
         ],
         "y": [
          -0.07673367857933044,
          -0.027274640277028084,
          -0.027429204434156418,
          -0.027274640277028084,
          0.02218439057469368,
          0.02311178669333458,
          -0.07580628246068954,
          -0.07673367857933044,
          -0.012192887254059315,
          0.02218439057469368,
          0.02311178669333458,
          -0.012192887254059315,
          -0.07580628246068954,
          -0.012192887254059315,
          -0.034119971096515656
         ],
         "z": [
          0.11250433325767517,
          0.1198195368051529,
          0.12177637964487076,
          0.1198195368051529,
          0.12713474035263062,
          0.11539368331432343,
          0.10076327621936798,
          0.11250433325767517,
          0.016271574422717094,
          0.12713474035263062,
          0.11539368331432343,
          0.016271574422717094,
          0.10076327621936798,
          0.016271574422717094,
          0.16278772056102753
         ]
        },
        {
         "line": {
          "color": "#9cff00",
          "width": 4
         },
         "marker": {
          "size": 1
         },
         "name": "Pred Camera 19",
         "scene": "scene",
         "type": "scatter3d",
         "x": [
          -0.027399078011512756,
          -0.0298677459359169,
          -0.04195597767829895,
          -0.0298677459359169,
          -0.03233642131090164,
          0.04019295424222946,
          0.04513029754161835,
          -0.027399078011512756,
          0.03136900067329407,
          -0.03233642131090164,
          0.04019295424222946,
          0.03136900067329407,
          0.04513029754161835,
          0.03136900067329407,
          -0.0060890913009643555
         ],
         "y": [
          0.059064336121082306,
          0.010568298399448395,
          0.01040273904800415,
          0.010568298399448395,
          -0.037927739322185516,
          -0.03693437576293945,
          0.06005769968032837,
          0.059064336121082306,
          -0.013241000473499298,
          -0.037927739322185516,
          -0.03693437576293945,
          -0.013241000473499298,
          0.06005769968032837,
          -0.013241000473499298,
          0.023217972368001938
         ],
         "z": [
          -0.04801755025982857,
          -0.05993557348847389,
          -0.05675795301795006,
          -0.05993557348847389,
          -0.07185360789299011,
          -0.09091934561729431,
          -0.06708329916000366,
          -0.04801755025982857,
          0.024263177067041397,
          -0.07185360789299011,
          -0.09091934561729431,
          0.024263177067041397,
          -0.06708329916000366,
          0.024263177067041397,
          -0.11633427441120148
         ]
        },
        {
         "line": {
          "color": "#84ff00",
          "width": 4
         },
         "marker": {
          "size": 1
         },
         "name": "Pred Camera 20",
         "scene": "scene",
         "type": "scatter3d",
         "x": [
          0.06637696176767349,
          0.03762228041887283,
          0.04717263579368591,
          0.03762228041887283,
          0.008867602795362473,
          -0.0484345369040966,
          0.009074825793504715,
          0.06637696176767349,
          0.03821641579270363,
          0.008867602795362473,
          -0.0484345369040966,
          0.03821641579270363,
          0.009074825793504715,
          0.03821641579270363,
          -0.005651388317346573
         ],
         "y": [
          -0.01251243520528078,
          0.026214756071567535,
          0.03400947526097298,
          0.026214756071567535,
          0.06494194269180298,
          0.018173635005950928,
          -0.059280749410390854,
          -0.01251243520528078,
          -0.007767979055643082,
          0.06494194269180298,
          0.018173635005950928,
          -0.007767979055643082,
          -0.059280749410390854,
          -0.007767979055643082,
          0.008129889145493507
         ],
         "z": [
          -0.09065872430801392,
          -0.07749159634113312,
          -0.07956115901470184,
          -0.07749159634113312,
          -0.06432446837425232,
          -0.051907092332839966,
          -0.07824134826660156,
          -0.09065872430801392,
          0.02375597506761551,
          -0.06432446837425232,
          -0.051907092332839966,
          0.02375597506761551,
          -0.07824134826660156,
          0.02375597506761551,
          -0.11880236119031906
         ]
        },
        {
         "line": {
          "color": "#72ff00",
          "width": 4
         },
         "marker": {
          "size": 1
         },
         "name": "Pred Camera 21",
         "scene": "scene",
         "type": "scatter3d",
         "x": [
          0.13619676232337952,
          0.09122274816036224,
          0.09373944997787476,
          0.09122274816036224,
          0.04624871909618378,
          0.03114849328994751,
          0.12109654396772385,
          0.13619676232337952,
          0.04489138722419739,
          0.04624871909618378,
          0.03114849328994751,
          0.04489138722419739,
          0.12109654396772385,
          0.04489138722419739,
          0.10306325554847717
         ],
         "y": [
          -0.0559149831533432,
          -0.07348795980215073,
          -0.08424679189920425,
          -0.07348795980215073,
          -0.09106093645095825,
          -0.026507942005991936,
          0.008638009428977966,
          -0.0559149831533432,
          -0.004379361867904663,
          -0.09106093645095825,
          -0.026507942005991936,
          -0.004379361867904663,
          0.008638009428977966,
          -0.004379361867904663,
          -0.05962751433253288
         ],
         "z": [
          0.08070256561040878,
          0.09368438273668289,
          0.08783940970897675,
          0.09368438273668289,
          0.1066662073135376,
          0.14173606038093567,
          0.11577241122722626,
          0.08070256561040878,
          0.02672427147626877,
          0.1066662073135376,
          0.14173606038093567,
          0.02672427147626877,
          0.11577241122722626,
          0.02672427147626877,
          0.1534668207168579
         ]
        },
        {
         "line": {
          "color": "#61ff00",
          "width": 4
         },
         "marker": {
          "size": 1
         },
         "name": "Pred Camera 22",
         "scene": "scene",
         "type": "scatter3d",
         "x": [
          0.01727071776986122,
          0.04420105367898941,
          0.03394247591495514,
          0.04420105367898941,
          0.0711313858628273,
          0.13268285989761353,
          0.07882218807935715,
          0.01727071776986122,
          0.05590404197573662,
          0.0711313858628273,
          0.13268285989761353,
          0.05590404197573662,
          0.07882218807935715,
          0.05590404197573662,
          0.08451316505670547
         ],
         "y": [
          0.03821825981140137,
          -0.00381890288554132,
          -0.010177016258239746,
          -0.00381890288554132,
          -0.0458560585975647,
          -0.0077073834836483,
          0.07636693865060806,
          0.03821825981140137,
          -0.003299096366390586,
          -0.0458560585975647,
          -0.0077073834836483,
          -0.003299096366390586,
          0.07636693865060806,
          -0.003299096366390586,
          0.024532703682780266
         ],
         "z": [
          -0.0764174535870552,
          -0.079180508852005,
          -0.08243411779403687,
          -0.079180508852005,
          -0.0819435641169548,
          -0.06242191046476364,
          -0.056895799934864044,
          -0.0764174535870552,
          0.026975132524967194,
          -0.0819435641169548,
          -0.06242191046476364,
          0.026975132524967194,
          -0.056895799934864044,
          0.026975132524967194,
          -0.11761709302663803
         ]
        },
        {
         "line": {
          "color": "#4fff00",
          "width": 4
         },
         "marker": {
          "size": 1
         },
         "name": "Pred Camera 23",
         "scene": "scene",
         "type": "scatter3d",
         "x": [
          0.016666151583194733,
          0.04764339700341225,
          0.03811328858137131,
          0.04764339700341225,
          0.07862064242362976,
          0.1358013153076172,
          0.07384680956602097,
          0.016666151583194733,
          0.0575530081987381,
          0.07862064242362976,
          0.1358013153076172,
          0.0575530081987381,
          0.07384680956602097,
          0.0575530081987381,
          0.08557409048080444
         ],
         "y": [
          -0.06365861743688583,
          -0.025571897625923157,
          -0.018990952521562576,
          -0.025571897625923157,
          0.012514821253716946,
          -0.026970863342285156,
          -0.10314431041479111,
          -0.06365861743688583,
          -0.007554446347057819,
          0.012514821253716946,
          -0.026970863342285156,
          -0.007554446347057819,
          -0.10314431041479111,
          -0.007554446347057819,
          -0.06419488787651062
         ],
         "z": [
          0.12198611348867416,
          0.13146302103996277,
          0.13616600632667542,
          0.13146302103996277,
          0.14093993604183197,
          0.11272197216749191,
          0.0937681496143341,
          0.12198611348867416,
          0.026661209762096405,
          0.14093993604183197,
          0.11272197216749191,
          0.026661209762096405,
          0.0937681496143341,
          0.026661209762096405,
          0.16270047426223755
         ]
        },
        {
         "line": {
          "color": "#3dff00",
          "width": 4
         },
         "marker": {
          "size": 1
         },
         "name": "Pred Camera 24",
         "scene": "scene",
         "type": "scatter3d",
         "x": [
          0.1125522032380104,
          0.06889704614877701,
          0.07479250431060791,
          0.06889704614877701,
          0.02524188905954361,
          -0.010130882263183594,
          0.0771794319152832,
          0.1125522032380104,
          0.0635593831539154,
          0.02524188905954361,
          -0.010130882263183594,
          0.0635593831539154,
          0.0771794319152832,
          0.0635593831539154,
          0.04503629729151726
         ],
         "y": [
          -0.022673286497592926,
          0.001686709001660347,
          0.012354759499430656,
          0.001686709001660347,
          0.02604670263826847,
          -0.03796162083745003,
          -0.08668161183595657,
          -0.022673286497592926,
          -0.011805584654211998,
          0.02604670263826847,
          -0.03796162083745003,
          -0.011805584654211998,
          -0.08668161183595657,
          -0.011805584654211998,
          -0.039573390036821365
         ],
         "z": [
          -0.0798293799161911,
          -0.07892532646656036,
          -0.08169771730899811,
          -0.07892532646656036,
          -0.07802128791809082,
          -0.061386968940496445,
          -0.06319504976272583,
          -0.0798293799161911,
          0.02688448503613472,
          -0.07802128791809082,
          -0.061386968940496445,
          0.02688448503613472,
          -0.06319504976272583,
          0.02688448503613472,
          -0.1193545013666153
         ]
        },
        {
         "line": {
          "color": "#25ff00",
          "width": 4
         },
         "marker": {
          "size": 1
         },
         "name": "Pred Camera 25",
         "scene": "scene",
         "type": "scatter3d",
         "x": [
          0.0750875174999237,
          0.04525592178106308,
          0.035286832600831985,
          0.04525592178106308,
          0.015424326062202454,
          0.07523885369300842,
          0.13490204513072968,
          0.0750875174999237,
          0.06622966378927231,
          0.015424326062202454,
          0.07523885369300842,
          0.06622966378927231,
          0.13490204513072968,
          0.06622966378927231,
          0.07962994277477264
         ],
         "y": [
          -0.07496393471956253,
          -0.03489624708890915,
          -0.042371898889541626,
          -0.03489624708890915,
          0.005171435885131359,
          0.050025343894958496,
          -0.03011002019047737,
          -0.07496393471956253,
          -0.013757227919995785,
          0.005171435885131359,
          0.050025343894958496,
          -0.013757227919995785,
          -0.03011002019047737,
          -0.013757227919995785,
          -0.011825325898826122
         ],
         "z": [
          0.12702937424182892,
          0.12918716669082642,
          0.1301780790090561,
          0.12918716669082642,
          0.13134494423866272,
          0.1253994256258011,
          0.12108386307954788,
          0.12702937424182892,
          0.026622580364346504,
          0.13134494423866272,
          0.1253994256258011,
          0.026622580364346504,
          0.12108386307954788,
          0.026622580364346504,
          0.17601031064987183
         ]
        },
        {
         "line": {
          "color": "#14ff00",
          "width": 4
         },
         "marker": {
          "size": 1
         },
         "name": "Pred Camera 26",
         "scene": "scene",
         "type": "scatter3d",
         "x": [
          0.1471349596977234,
          0.14407360553741455,
          0.15540286898612976,
          0.14407360553741455,
          0.1410122513771057,
          0.07303673028945923,
          0.0791594386100769,
          0.1471349596977234,
          0.06827694922685623,
          0.1410122513771057,
          0.07303673028945923,
          0.06827694922685623,
          0.0791594386100769,
          0.06827694922685623,
          0.13099029660224915
         ],
         "y": [
          0.01683211699128151,
          -0.03266969323158264,
          -0.03269384056329727,
          -0.03266969323158264,
          -0.08217150717973709,
          -0.0820266455411911,
          0.0169769786298275,
          0.01683211699128151,
          -0.018517345190048218,
          -0.08217150717973709,
          -0.0820266455411911,
          -0.018517345190048218,
          0.0169769786298275,
          -0.018517345190048218,
          -0.03963722288608551
         ],
         "z": [
          0.10703311115503311,
          0.10069289058446884,
          0.09541108459234238,
          0.10069289058446884,
          0.09435266256332397,
          0.12604346871376038,
          0.13872390985488892,
          0.10703311115503311,
          0.02679547108709812,
          0.09435266256332397,
          0.12604346871376038,
          0.02679547108709812,
          0.13872390985488892,
          0.02679547108709812,
          0.16140970587730408
         ]
        },
        {
         "line": {
          "color": "#06ff04",
          "width": 4
         },
         "marker": {
          "size": 1
         },
         "name": "Pred Camera 27",
         "scene": "scene",
         "type": "scatter3d",
         "x": [
          0.14427408576011658,
          0.1383342146873474,
          0.14993128180503845,
          0.1383342146873474,
          0.13239434361457825,
          0.062811940908432,
          0.07469169050455093,
          0.14427408576011658,
          0.06816809624433517,
          0.13239434361457825,
          0.062811940908432,
          0.06816809624433517,
          0.07469169050455093,
          0.06816809624433517,
          0.12123047560453415
         ],
         "y": [
          0.006793137639760971,
          -0.04261567443609238,
          -0.04356183856725693,
          -0.04261567443609238,
          -0.09202448278665543,
          -0.08634749054908752,
          0.012470122426748276,
          0.006793137639760971,
          -0.02644360065460205,
          -0.09202448278665543,
          -0.08634749054908752,
          -0.02644360065460205,
          0.012470122426748276,
          -0.02644360065460205,
          -0.04644396901130676
         ],
         "z": [
          0.11245333403348923,
          0.1076069325208664,
          0.10303935408592224,
          0.1076069325208664,
          0.10276053100824356,
          0.13016602396965027,
          0.13985881209373474,
          0.11245333403348923,
          0.02873089164495468,
          0.10276053100824356,
          0.13016602396965027,
          0.02873089164495468,
          0.13985881209373474,
          0.02873089164495468,
          0.16759908199310303
         ]
        },
        {
         "line": {
          "color": "#00ff10",
          "width": 4
         },
         "marker": {
          "size": 1
         },
         "name": "Pred Camera 28",
         "scene": "scene",
         "type": "scatter3d",
         "x": [
          0.09896720945835114,
          0.05107047036290169,
          0.04749438911676407,
          0.05107047036290169,
          0.003173738718032837,
          0.024630233645439148,
          0.12042370438575745,
          0.09896720945835114,
          0.06406938284635544,
          0.003173738718032837,
          0.024630233645439148,
          0.06406938284635544,
          0.12042370438575745,
          0.06406938284635544,
          0.060663387179374695
         ],
         "y": [
          0.013133648782968521,
          -0.0011218003928661346,
          0.01084970310330391,
          -0.0011218003928661346,
          -0.015377255156636238,
          -0.08720627427101135,
          -0.05869536101818085,
          0.013133648782968521,
          -0.03318270668387413,
          -0.015377255156636238,
          -0.08720627427101135,
          -0.03318270668387413,
          -0.05869536101818085,
          -0.03318270668387413,
          -0.038963109254837036
         ],
         "z": [
          -0.07335557788610458,
          -0.07171701639890671,
          -0.0720975324511528,
          -0.07171701639890671,
          -0.07007846236228943,
          -0.06779537349939346,
          -0.07107248902320862,
          -0.07335557788610458,
          0.02932445891201496,
          -0.07007846236228943,
          -0.06779537349939346,
          0.02932445891201496,
          -0.07107248902320862,
          0.02932445891201496,
          -0.12052544951438904
         ]
        },
        {
         "line": {
          "color": "#00ff21",
          "width": 4
         },
         "marker": {
          "size": 1
         },
         "name": "Pred Camera 29",
         "scene": "scene",
         "type": "scatter3d",
         "x": [
          0.07573671638965607,
          0.049625836312770844,
          0.03940635547041893,
          0.049625836312770844,
          0.02351495996117592,
          0.08483187109231949,
          0.13705362379550934,
          0.07573671638965607,
          0.05601781606674194,
          0.02351495996117592,
          0.08483187109231949,
          0.05601781606674194,
          0.13705362379550934,
          0.05601781606674194,
          0.09241753816604614
         ],
         "y": [
          -0.11583313345909119,
          -0.07528261840343475,
          -0.08233366906642914,
          -0.07528261840343475,
          -0.03473210334777832,
          0.007574260234832764,
          -0.0735267624258995,
          -0.11583313345909119,
          -0.03861468657851219,
          -0.03473210334777832,
          0.007574260234832764,
          -0.03861468657851219,
          -0.0735267624258995,
          -0.03861468657851219,
          -0.061886806041002274
         ],
         "z": [
          0.11368916928768158,
          0.12687546014785767,
          0.1283227503299713,
          0.12687546014785767,
          0.14006175100803375,
          0.13137800991535187,
          0.10500544309616089,
          0.11368916928768158,
          0.026771236211061478,
          0.14006175100803375,
          0.13137800991535187,
          0.026771236211061478,
          0.10500544309616089,
          0.026771236211061478,
          0.1704147756099701
         ]
        },
        {
         "line": {
          "color": "#00ff39",
          "width": 4
         },
         "marker": {
          "size": 1
         },
         "name": "Pred Camera 30",
         "scene": "scene",
         "type": "scatter3d",
         "x": [
          0.13558298349380493,
          0.0995190441608429,
          0.10742861777544022,
          0.0995190441608429,
          0.06345511227846146,
          0.015997663140296936,
          0.08812553435564041,
          0.13558298349380493,
          0.04761868715286255,
          0.06345511227846146,
          0.015997663140296936,
          0.04761868715286255,
          0.08812553435564041,
          0.04761868715286255,
          0.08987614512443542
         ],
         "y": [
          -0.0544881597161293,
          -0.08811625093221664,
          -0.09732937812805176,
          -0.08811625093221664,
          -0.12174434214830399,
          -0.06646557152271271,
          0.0007906146347522736,
          -0.0544881597161293,
          -0.05383039265871048,
          -0.12174434214830399,
          -0.06646557152271271,
          -0.05383039265871048,
          0.0007906146347522736,
          -0.05383039265871048,
          -0.06380010396242142
         ],
         "z": [
          0.10132015496492386,
          0.1095992848277092,
          0.10663163661956787,
          0.1095992848277092,
          0.11787840723991394,
          0.13568425178527832,
          0.11912600696086884,
          0.10132015496492386,
          0.022782927379012108,
          0.11787840723991394,
          0.13568425178527832,
          0.022782927379012108,
          0.11912600696086884,
          0.022782927379012108,
          0.16636183857917786
         ]
        },
        {
         "line": {
          "color": "#00ff4b",
          "width": 4
         },
         "marker": {
          "size": 1
         },
         "name": "Pred Camera 31",
         "scene": "scene",
         "type": "scatter3d",
         "x": [
          0.060006871819496155,
          0.04891694337129593,
          0.060999803245067596,
          0.04891694337129593,
          0.037827011197805405,
          -0.03467017412185669,
          -0.012490307912230492,
          0.060006871819496155,
          0.02548770047724247,
          0.037827011197805405,
          -0.03467017412185669,
          0.02548770047724247,
          -0.012490307912230492,
          0.02548770047724247,
          0.006258677691221237
         ],
         "y": [
          -0.09346625208854675,
          -0.04476529359817505,
          -0.041942812502384186,
          -0.04476529359817505,
          0.003935664892196655,
          -0.012999221682548523,
          -0.11040113866329193,
          -0.09346625208854675,
          -0.05497020110487938,
          0.003935664892196655,
          -0.012999221682548523,
          -0.05497020110487938,
          -0.11040113866329193,
          -0.05497020110487938,
          -0.052364006638526917
         ],
         "z": [
          -0.09210483729839325,
          -0.08981779962778091,
          -0.09133041650056839,
          -0.08981779962778091,
          -0.08753076940774918,
          -0.07845506072044373,
          -0.0830291286110878,
          -0.09210483729839325,
          0.013879755511879921,
          -0.08753076940774918,
          -0.07845506072044373,
          0.013879755511879921,
          -0.0830291286110878,
          0.013879755511879921,
          -0.13485980033874512
         ]
        },
        {
         "line": {
          "color": "#00ff5c",
          "width": 4
         },
         "marker": {
          "size": 1
         },
         "name": "Pred Camera 32",
         "scene": "scene",
         "type": "scatter3d",
         "x": [
          0.0010763220489025116,
          0.04034276679158211,
          0.04800884798169136,
          0.04034276679158211,
          0.079609215259552,
          0.033612724393606186,
          -0.044920165091753006,
          0.0010763220489025116,
          0.008895848877727985,
          0.079609215259552,
          0.033612724393606186,
          0.008895848877727985,
          -0.044920165091753006,
          0.008895848877727985,
          0.021568860858678818
         ],
         "y": [
          0.002718202769756317,
          -0.02797478623688221,
          -0.018110960721969604,
          -0.02797478623688221,
          -0.05866777524352074,
          -0.11785072833299637,
          -0.056464750319719315,
          0.002718202769756317,
          -0.0553574338555336,
          -0.05866777524352074,
          -0.11785072833299637,
          -0.0553574338555336,
          -0.056464750319719315,
          -0.0553574338555336,
          -0.05867067724466324
         ],
         "z": [
          0.10541416704654694,
          0.10140339285135269,
          0.10097193717956543,
          0.10140339285135269,
          0.09739262610673904,
          0.09998136758804321,
          0.1080029085278511,
          0.10541416704654694,
          0.0030797934159636497,
          0.09739262610673904,
          0.09998136758804321,
          0.0030797934159636497,
          0.1080029085278511,
          0.0030797934159636497,
          0.1525067538022995
         ]
        },
        {
         "line": {
          "color": "#00ff6e",
          "width": 4
         },
         "marker": {
          "size": 1
         },
         "name": "Pred Camera 33",
         "scene": "scene",
         "type": "scatter3d",
         "x": [
          0.03994935750961304,
          -0.007507120259106159,
          -0.003755028359591961,
          -0.007507120259106159,
          -0.054963596165180206,
          -0.07747615873813629,
          0.01743680238723755,
          0.03994935750961304,
          -0.009248835034668446,
          -0.054963596165180206,
          -0.07747615873813629,
          -0.009248835034668446,
          0.01743680238723755,
          -0.009248835034668446,
          -0.023520680144429207
         ],
         "y": [
          -0.0445251390337944,
          -0.029502373188734055,
          -0.01758081465959549,
          -0.029502373188734055,
          -0.014479607343673706,
          -0.08600898087024689,
          -0.11605451256036758,
          -0.0445251390337944,
          -0.06642959266901016,
          -0.014479607343673706,
          -0.08600898087024689,
          -0.06642959266901016,
          -0.11605451256036758,
          -0.06642959266901016,
          -0.06468579173088074
         ],
         "z": [
          -0.1149267852306366,
          -0.11021516472101212,
          -0.11043458431959152,
          -0.11021516472101212,
          -0.10550355166196823,
          -0.10418707132339478,
          -0.11361030489206314,
          -0.1149267852306366,
          -0.01001738477498293,
          -0.10550355166196823,
          -0.10418707132339478,
          -0.01001738477498293,
          -0.11361030489206314,
          -0.01001738477498293,
          -0.1593266874551773
         ]
        },
        {
         "line": {
          "color": "#00ff80",
          "width": 4
         },
         "marker": {
          "size": 1
         },
         "name": "Pred Camera 34",
         "scene": "scene",
         "type": "scatter3d",
         "x": [
          -0.055216915905475616,
          -0.008944079279899597,
          -0.00427301786839962,
          -0.008944079279899597,
          0.03732875734567642,
          0.009302394464612007,
          -0.08324328064918518,
          -0.055216915905475616,
          -0.029193760827183723,
          0.03732875734567642,
          0.009302394464612007,
          -0.029193760827183723,
          -0.08324328064918518,
          -0.029193760827183723,
          -0.019839011132717133
         ],
         "y": [
          -0.010309875011444092,
          -0.02920103818178177,
          -0.017670035362243652,
          -0.02920103818178177,
          -0.04809219390153885,
          -0.11727823317050934,
          -0.07949592173099518,
          -0.010309875011444092,
          -0.07171834260225296,
          -0.04809219390153885,
          -0.11727823317050934,
          -0.07171834260225296,
          -0.07949592173099518,
          -0.07171834260225296,
          -0.05983191356062889
         ],
         "z": [
          0.07650008797645569,
          0.07510414719581604,
          0.07389292120933533,
          0.07510414719581604,
          0.07370820641517639,
          0.08097562193870544,
          0.08376750349998474,
          0.07650008797645569,
          -0.02075238898396492,
          0.07370820641517639,
          0.08097562193870544,
          -0.02075238898396492,
          0.08376750349998474,
          -0.02075238898396492,
          0.12848299741744995
         ]
        },
        {
         "line": {
          "color": "#00ff97",
          "width": 4
         },
         "marker": {
          "size": 1
         },
         "name": "Pred Camera 35",
         "scene": "scene",
         "type": "scatter3d",
         "x": [
          -0.012461505830287933,
          -0.061880290508270264,
          -0.06311897933483124,
          -0.061880290508270264,
          -0.111299067735672,
          -0.10386694967746735,
          -0.0050293803215026855,
          -0.012461505830287933,
          -0.04663436487317085,
          -0.111299067735672,
          -0.10386694967746735,
          -0.04663436487317085,
          -0.0050293803215026855,
          -0.04663436487317085,
          -0.06392915546894073
         ],
         "y": [
          -0.036816343665122986,
          -0.04158007726073265,
          -0.02914610505104065,
          -0.04158007726073265,
          -0.046343810856342316,
          -0.12094765156507492,
          -0.11142018437385559,
          -0.036816343665122986,
          -0.07506199926137924,
          -0.046343810856342316,
          -0.12094765156507492,
          -0.07506199926137924,
          -0.11142018437385559,
          -0.07506199926137924,
          -0.08079199492931366
         ],
         "z": [
          -0.14143380522727966,
          -0.13551004230976105,
          -0.13584467768669128,
          -0.13551004230976105,
          -0.12958629429340363,
          -0.1275784820318222,
          -0.13942597806453705,
          -0.14143380522727966,
          -0.035246532410383224,
          -0.12958629429340363,
          -0.1275784820318222,
          -0.035246532410383224,
          -0.13942597806453705,
          -0.035246532410383224,
          -0.18413595855236053
         ]
        },
        {
         "line": {
          "color": "#00ffa9",
          "width": 4
         },
         "marker": {
          "size": 1
         },
         "name": "Pred Camera 36",
         "scene": "scene",
         "type": "scatter3d",
         "x": [
          0.011737439781427383,
          -0.01521054282784462,
          -0.004721939563751221,
          -0.01521054282784462,
          -0.04215852543711662,
          -0.10509014129638672,
          -0.051194168627262115,
          0.011737439781427383,
          -0.05406113341450691,
          -0.04215852543711662,
          -0.10509014129638672,
          -0.05406113341450691,
          -0.051194168627262115,
          -0.05406113341450691,
          -0.04298395290970802
         ],
         "y": [
          -0.10696189105510712,
          -0.06534921377897263,
          -0.0585494339466095,
          -0.06534921377897263,
          -0.023736529052257538,
          -0.06453518569469452,
          -0.1477605402469635,
          -0.10696189105510712,
          -0.07505392283201218,
          -0.023736529052257538,
          -0.06453518569469452,
          -0.07505392283201218,
          -0.1477605402469635,
          -0.07505392283201218,
          -0.09109584987163544
         ],
         "z": [
          -0.13916611671447754,
          -0.14566156268119812,
          -0.14561381936073303,
          -0.14566156268119812,
          -0.1521570384502411,
          -0.1524435579776764,
          -0.13945263624191284,
          -0.13916611671447754,
          -0.04665298014879227,
          -0.1521570384502411,
          -0.1524435579776764,
          -0.04665298014879227,
          -0.13945263624191284,
          -0.04665298014879227,
          -0.1953807771205902
         ]
        },
        {
         "line": {
          "color": "#00ffbb",
          "width": 4
         },
         "marker": {
          "size": 1
         },
         "name": "Pred Camera 37",
         "scene": "scene",
         "type": "scatter3d",
         "x": [
          -0.08963607251644135,
          -0.09275148808956146,
          -0.10521554946899414,
          -0.09275148808956146,
          -0.09586690366268158,
          -0.021082546561956406,
          -0.014851707965135574,
          -0.08963607251644135,
          -0.05967177078127861,
          -0.09586690366268158,
          -0.021082546561956406,
          -0.05967177078127861,
          -0.014851707965135574,
          -0.05967177078127861,
          -0.053203076124191284
         ],
         "y": [
          -0.11142775416374207,
          -0.061707012355327606,
          -0.06243619695305824,
          -0.061707012355327606,
          -0.01198626309633255,
          -0.007611140608787537,
          -0.10705263167619705,
          -0.11142775416374207,
          -0.06831502914428711,
          -0.01198626309633255,
          -0.007611140608787537,
          -0.06831502914428711,
          -0.10705263167619705,
          -0.06831502914428711,
          -0.05512165650725365
         ],
         "z": [
          0.05356473848223686,
          0.04930538311600685,
          0.049909938126802444,
          0.04930538311600685,
          0.04504602774977684,
          0.04141869768500328,
          0.0499374084174633,
          0.05356473848223686,
          -0.05202731862664223,
          0.04504602774977684,
          0.04141869768500328,
          -0.05202731862664223,
          0.0499374084174633,
          -0.05202731862664223,
          0.09725125133991241
         ]
        },
        {
         "line": {
          "color": "#00ffcd",
          "width": 4
         },
         "marker": {
          "size": 1
         },
         "name": "Pred Camera 38",
         "scene": "scene",
         "type": "scatter3d",
         "x": [
          -0.08477744460105896,
          -0.10197292268276215,
          -0.11366231739521027,
          -0.10197292268276215,
          -0.11916839331388474,
          -0.04903200641274452,
          -0.014641053974628448,
          -0.08477744460105896,
          -0.05840935558080673,
          -0.11916839331388474,
          -0.04903200641274452,
          -0.05840935558080673,
          -0.014641053974628448,
          -0.05840935558080673,
          -0.07115241140127182
         ],
         "y": [
          -0.023097191005945206,
          -0.06976616382598877,
          -0.06538698077201843,
          -0.06976616382598877,
          -0.11643514037132263,
          -0.14271023869514465,
          -0.049372296780347824,
          -0.023097191005945206,
          -0.07511366158723831,
          -0.11643514037132263,
          -0.14271023869514465,
          -0.07511366158723831,
          -0.049372296780347824,
          -0.07511366158723831,
          -0.08679874241352081
         ],
         "z": [
          -0.15749597549438477,
          -0.15236541628837585,
          -0.15170913934707642,
          -0.15236541628837585,
          -0.14723485708236694,
          -0.15117262303829193,
          -0.16143372654914856,
          -0.15749597549438477,
          -0.05500081181526184,
          -0.14723485708236694,
          -0.15117262303829193,
          -0.05500081181526184,
          -0.16143372654914856,
          -0.05500081181526184,
          -0.2040010541677475
         ]
        },
        {
         "line": {
          "color": "#00ffde",
          "width": 4
         },
         "marker": {
          "size": 1
         },
         "name": "Pred Camera 39",
         "scene": "scene",
         "type": "scatter3d",
         "x": [
          -0.11611565202474594,
          -0.0714404284954071,
          -0.07696499675512314,
          -0.0714404284954071,
          -0.026765212416648865,
          0.006382189691066742,
          -0.08296824991703033,
          -0.11611565202474594,
          -0.06281455606222153,
          -0.026765212416648865,
          0.006382189691066742,
          -0.06281455606222153,
          -0.08296824991703033,
          -0.06281455606222153,
          -0.050892822444438934
         ],
         "y": [
          -0.04622114449739456,
          -0.024611059576272964,
          -0.013430718332529068,
          -0.024611059576272964,
          -0.003000974655151367,
          -0.07008302956819534,
          -0.11330319941043854,
          -0.04622114449739456,
          -0.06964179128408432,
          -0.003000974655151367,
          -0.07008302956819534,
          -0.06964179128408432,
          -0.11330319941043854,
          -0.06964179128408432,
          -0.05240723490715027
         ],
         "z": [
          0.0487939827144146,
          0.042700592428445816,
          0.04184671863913536,
          0.042700592428445816,
          0.036607202142477036,
          0.04173048958182335,
          0.05391727015376091,
          0.0487939827144146,
          -0.05375705286860466,
          0.036607202142477036,
          0.04173048958182335,
          -0.05375705286860466,
          0.05391727015376091,
          -0.05375705286860466,
          0.09477187693119049
         ]
        },
        {
         "line": {
          "color": "#00fff6",
          "width": 4
         },
         "marker": {
          "size": 1
         },
         "name": "Pred Camera 40",
         "scene": "scene",
         "type": "scatter3d",
         "x": [
          0.002739548683166504,
          -0.040191665291786194,
          -0.03381066769361496,
          -0.040191665291786194,
          -0.0831228718161583,
          -0.1214088648557663,
          -0.035546451807022095,
          0.002739548683166504,
          -0.06399808824062347,
          -0.0831228718161583,
          -0.1214088648557663,
          -0.06399808824062347,
          -0.035546451807022095,
          -0.06399808824062347,
          -0.057002946734428406
         ],
         "y": [
          -0.0704590380191803,
          -0.09601348638534546,
          -0.10675757378339767,
          -0.09601348638534546,
          -0.12156793475151062,
          -0.05710342898964882,
          -0.005994532257318497,
          -0.0704590380191803,
          -0.06364777684211731,
          -0.12156793475151062,
          -0.05710342898964882,
          -0.06364777684211731,
          -0.005994532257318497,
          -0.06364777684211731,
          -0.06384796649217606
         ],
         "z": [
          0.04386266693472862,
          0.04583277925848961,
          0.04552052542567253,
          0.04583277925848961,
          0.047802891582250595,
          0.04967639967799187,
          0.045736175030469894,
          0.04386266693472862,
          -0.05312158539891243,
          0.047802891582250595,
          0.04967639967799187,
          -0.05312158539891243,
          0.045736175030469894,
          -0.05312158539891243,
          0.09671509265899658
         ]
        },
        {
         "line": {
          "color": "#00f6ff",
          "width": 4
         },
         "marker": {
          "size": 1
         },
         "name": "Pred Camera 41",
         "scene": "scene",
         "type": "scatter3d",
         "x": [
          -0.11450132727622986,
          -0.10035194456577301,
          -0.11233621835708618,
          -0.10035194456577301,
          -0.08620256930589676,
          -0.01429697871208191,
          -0.04259573668241501,
          -0.11450132727622986,
          -0.06169135123491287,
          -0.08620256930589676,
          -0.01429697871208191,
          -0.06169135123491287,
          -0.04259573668241501,
          -0.06169135123491287,
          -0.06575305759906769
         ],
         "y": [
          -0.08890455961227417,
          -0.04107191413640976,
          -0.03757040202617645,
          -0.04107191413640976,
          0.006760731339454651,
          -0.01424834132194519,
          -0.10991363227367401,
          -0.08890455961227417,
          -0.05954340100288391,
          0.006760731339454651,
          -0.01424834132194519,
          -0.05954340100288391,
          -0.10991363227367401,
          -0.05954340100288391,
          -0.047592975199222565
         ],
         "z": [
          0.05253155156970024,
          0.04909168556332588,
          0.04848605766892433,
          0.04909168556332588,
          0.04565181955695152,
          0.04928555712103844,
          0.056165289133787155,
          0.05253155156970024,
          -0.04873678460717201,
          0.04565181955695152,
          0.04928555712103844,
          -0.04873678460717201,
          0.056165289133787155,
          -0.04873678460717201,
          0.10073123872280121
         ]
        },
        {
         "line": {
          "color": "#00e5ff",
          "width": 4
         },
         "marker": {
          "size": 1
         },
         "name": "Pred Camera 42",
         "scene": "scene",
         "type": "scatter3d",
         "x": [
          -0.03000616282224655,
          -0.036944784224033356,
          -0.02463402971625328,
          -0.036944784224033356,
          -0.04388340562582016,
          -0.11774793267250061,
          -0.103870689868927,
          -0.03000616282224655,
          -0.06348827481269836,
          -0.04388340562582016,
          -0.11774793267250061,
          -0.06348827481269836,
          -0.103870689868927,
          -0.06348827481269836,
          -0.07907143235206604
         ],
         "y": [
          0.0029432065784931183,
          -0.046382129192352295,
          -0.047985538840293884,
          -0.046382129192352295,
          -0.09570746123790741,
          -0.08608700335025787,
          0.012563664466142654,
          0.0029432065784931183,
          -0.0517457015812397,
          -0.09570746123790741,
          -0.08608700335025787,
          -0.0517457015812397,
          0.012563664466142654,
          -0.0517457015812397,
          -0.03648499771952629
         ],
         "z": [
          0.05232296884059906,
          0.056666553020477295,
          0.058124102652072906,
          0.056666553020477295,
          0.06101013720035553,
          0.052264824509620667,
          0.0435776561498642,
          0.05232296884059906,
          -0.04664330184459686,
          0.06101013720035553,
          0.052264824509620667,
          -0.04664330184459686,
          0.0435776561498642,
          -0.04664330184459686,
          0.10176250338554382
         ]
        },
        {
         "line": {
          "color": "#00d3ff",
          "width": 4
         },
         "marker": {
          "size": 1
         },
         "name": "Pred Camera 43",
         "scene": "scene",
         "type": "scatter3d",
         "x": [
          -0.01992166042327881,
          -0.033668793737888336,
          -0.021736599504947662,
          -0.033668793737888336,
          -0.04741593077778816,
          -0.1190091073513031,
          -0.09151484072208405,
          -0.01992166042327881,
          -0.05797991901636124,
          -0.04741593077778816,
          -0.1190091073513031,
          -0.05797991901636124,
          -0.09151484072208405,
          -0.05797991901636124,
          -0.07520812004804611
         ],
         "y": [
          -0.08133743703365326,
          -0.033265430480241776,
          -0.029863083735108376,
          -0.033265430480241776,
          0.014806576073169708,
          -0.00560750812292099,
          -0.10175152122974396,
          -0.08133743703365326,
          -0.03953952714800835,
          0.014806576073169708,
          -0.00560750812292099,
          -0.03953952714800835,
          -0.10175152122974396,
          -0.03953952714800835,
          -0.045438945293426514
         ],
         "z": [
          -0.14259880781173706,
          -0.1429128497838974,
          -0.1444283276796341,
          -0.1429128497838974,
          -0.14322689175605774,
          -0.1341339349746704,
          -0.13350585103034973,
          -0.14259880781173706,
          -0.03910603001713753,
          -0.14322689175605774,
          -0.1341339349746704,
          -0.03910603001713753,
          -0.13350585103034973,
          -0.03910603001713753,
          -0.1879965364933014
         ]
        },
        {
         "line": {
          "color": "#00c1ff",
          "width": 4
         },
         "marker": {
          "size": 1
         },
         "name": "Pred Camera 44",
         "scene": "scene",
         "type": "scatter3d",
         "x": [
          -0.07682464271783829,
          -0.08118876814842224,
          -0.09361377358436584,
          -0.08118876814842224,
          -0.08555290102958679,
          -0.011002875864505768,
          -0.002274617552757263,
          -0.07682464271783829,
          -0.05050530284643173,
          -0.08555290102958679,
          -0.011002875864505768,
          -0.05050530284643173,
          -0.002274617552757263,
          -0.05050530284643173,
          -0.04061798378825188
         ],
         "y": [
          -0.07632949948310852,
          -0.026555245742201805,
          -0.02761215530335903,
          -0.026555245742201805,
          0.02321900986135006,
          0.02956046722829342,
          -0.06998804211616516,
          -0.07632949948310852,
          -0.027697378769516945,
          0.02321900986135006,
          0.02956046722829342,
          -0.027697378769516945,
          -0.06998804211616516,
          -0.027697378769516945,
          -0.021228086203336716
         ],
         "z": [
          0.07000785320997238,
          0.06814302504062653,
          0.06901030242443085,
          0.06814302504062653,
          0.06627819687128067,
          0.06107451766729355,
          0.06480417400598526,
          0.07000785320997238,
          -0.03414808213710785,
          0.06627819687128067,
          0.06107451766729355,
          -0.03414808213710785,
          0.06480417400598526,
          -0.03414808213710785,
          0.11538583040237427
         ]
        },
        {
         "line": {
          "color": "#00aaff",
          "width": 4
         },
         "marker": {
          "size": 1
         },
         "name": "Pred Camera 45",
         "scene": "scene",
         "type": "scatter3d",
         "x": [
          -0.04973449558019638,
          -0.05629850924015045,
          -0.0683540627360344,
          -0.05629850924015045,
          -0.06286251544952393,
          0.009470794349908829,
          0.022598814219236374,
          -0.04973449558019638,
          -0.04306932911276817,
          -0.06286251544952393,
          0.009470794349908829,
          -0.04306932911276817,
          0.022598814219236374,
          -0.04306932911276817,
          -0.008663110435009003
         ],
         "y": [
          -0.06740936636924744,
          -0.017856361344456673,
          -0.01938302256166935,
          -0.017856361344456673,
          0.03169663995504379,
          0.04085661470890045,
          -0.05824939161539078,
          -0.06740936636924744,
          -0.018645791336894035,
          0.03169663995504379,
          0.04085661470890045,
          -0.018645791336894035,
          -0.05824939161539078,
          -0.018645791336894035,
          -0.010591665282845497
         ],
         "z": [
          0.0767183005809784,
          0.07552976906299591,
          0.07845943421125412,
          0.07552976906299591,
          0.07434123754501343,
          0.05676324665546417,
          0.05914030969142914,
          0.0767183005809784,
          -0.030444830656051636,
          0.07434123754501343,
          0.05676324665546417,
          -0.030444830656051636,
          0.05914030969142914,
          -0.030444830656051636,
          0.11533357203006744
         ]
        },
        {
         "line": {
          "color": "#0098ff",
          "width": 4
         },
         "marker": {
          "size": 1
         },
         "name": "Pred Camera 46",
         "scene": "scene",
         "type": "scatter3d",
         "x": [
          -0.03379181772470474,
          -0.07781525701284409,
          -0.08321595191955566,
          -0.07781525701284409,
          -0.12183869630098343,
          -0.08943452686071396,
          -0.0013876482844352722,
          -0.03379181772470474,
          -0.042093195021152496,
          -0.12183869630098343,
          -0.08943452686071396,
          -0.042093195021152496,
          -0.0013876482844352722,
          -0.042093195021152496,
          -0.07137316465377808
         ],
         "y": [
          0.015167457051575184,
          -0.0038000522181391716,
          0.0073121050372719765,
          -0.0038000522181391716,
          -0.0227675624191761,
          -0.08944052457809448,
          -0.05150550231337547,
          0.015167457051575184,
          -0.011480924673378468,
          -0.0227675624191761,
          -0.08944052457809448,
          -0.011480924673378468,
          -0.05150550231337547,
          -0.011480924673378468,
          -0.049964334815740585
         ],
         "z": [
          -0.14311262965202332,
          -0.12889394164085388,
          -0.13079194724559784,
          -0.12889394164085388,
          -0.11467526108026505,
          -0.1032872200012207,
          -0.13172458112239838,
          -0.14311262965202332,
          -0.028538620099425316,
          -0.11467526108026505,
          -0.1032872200012207,
          -0.028538620099425316,
          -0.13172458112239838,
          -0.028538620099425316,
          -0.17053057253360748
         ]
        },
        {
         "line": {
          "color": "#0086ff",
          "width": 4
         },
         "marker": {
          "size": 1
         },
         "name": "Pred Camera 47",
         "scene": "scene",
         "type": "scatter3d",
         "x": [
          -0.0763292908668518,
          -0.07271574437618256,
          -0.0851830244064331,
          -0.07271574437618256,
          -0.0691021978855133,
          0.005701456218957901,
          -0.0015256367623806,
          -0.0763292908668518,
          -0.03507470712065697,
          -0.0691021978855133,
          0.005701456218957901,
          -0.03507470712065697,
          -0.0015256367623806,
          -0.03507470712065697,
          -0.03543352335691452
         ],
         "y": [
          -0.04964780434966087,
          0.00010503921657800674,
          0.001004265621304512,
          0.00010503921657800674,
          0.04985788092017174,
          0.04446252062916756,
          -0.055043164640665054,
          -0.04964780434966087,
          -0.00943867489695549,
          0.04985788092017174,
          0.04446252062916756,
          -0.00943867489695549,
          -0.055043164640665054,
          -0.00943867489695549,
          0.000830373726785183
         ],
         "z": [
          0.07965811342000961,
          0.07625266164541245,
          0.07616106420755386,
          0.07625266164541245,
          0.07284720987081528,
          0.07339682430028915,
          0.08020772784948349,
          0.07965811342000961,
          -0.023237625136971474,
          0.07284720987081528,
          0.07339682430028915,
          -0.023237625136971474,
          0.08020772784948349,
          -0.023237625136971474,
          0.12641000747680664
         ]
        },
        {
         "line": {
          "color": "#0074ff",
          "width": 4
         },
         "marker": {
          "size": 1
         },
         "name": "Pred Camera 48",
         "scene": "scene",
         "type": "scatter3d",
         "x": [
          0.012500379234552383,
          0.0150829516351223,
          0.027509134262800217,
          0.0150829516351223,
          0.017665524035692215,
          -0.0568915456533432,
          -0.06205669045448303,
          0.012500379234552383,
          -0.03173942491412163,
          0.017665524035692215,
          -0.0568915456533432,
          -0.03173942491412163,
          -0.06205669045448303,
          -0.03173942491412163,
          -0.017423663288354874
         ],
         "y": [
          -0.05751886963844299,
          -0.00767435971647501,
          -0.008244716562330723,
          -0.00767435971647501,
          0.04217015206813812,
          0.0455922931432724,
          -0.054096728563308716,
          -0.05751886963844299,
          0.0004616744117811322,
          0.04217015206813812,
          0.0455922931432724,
          0.0004616744117811322,
          -0.054096728563308716,
          0.0004616744117811322,
          -0.009175769984722137
         ],
         "z": [
          -0.11247707158327103,
          -0.115452840924263,
          -0.11422208696603775,
          -0.115452840924263,
          -0.11842861026525497,
          -0.12581314146518707,
          -0.11986159533262253,
          -0.11247707158327103,
          -0.01980912871658802,
          -0.11842861026525497,
          -0.12581314146518707,
          -0.01980912871658802,
          -0.11986159533262253,
          -0.01980912871658802,
          -0.168813094496727
         ]
        },
        {
         "line": {
          "color": "#0063ff",
          "width": 4
         },
         "marker": {
          "size": 1
         },
         "name": "Pred Camera 49",
         "scene": "scene",
         "type": "scatter3d",
         "x": [
          -0.030485115945339203,
          -0.039838120341300964,
          -0.05197092890739441,
          -0.039838120341300964,
          -0.049191124737262726,
          0.023605743423104286,
          0.04231175035238266,
          -0.030485115945339203,
          -0.018571151420474052,
          -0.049191124737262726,
          0.023605743423104286,
          -0.018571151420474052,
          0.04231175035238266,
          -0.018571151420474052,
          0.004126045852899551
         ],
         "y": [
          0.06376507878303528,
          0.01465883944183588,
          0.016927562654018402,
          0.01465883944183588,
          -0.03444739803671837,
          -0.04805973544716835,
          0.050152737647295,
          0.06376507878303528,
          0.012842368334531784,
          -0.03444739803671837,
          -0.04805973544716835,
          0.012842368334531784,
          0.050152737647295,
          0.012842368334531784,
          0.005357822403311729
         ],
         "z": [
          -0.12014611065387726,
          -0.11909770965576172,
          -0.12107199430465698,
          -0.11909770965576172,
          -0.11804930865764618,
          -0.10620355606079102,
          -0.1083003431558609,
          -0.12014611065387726,
          -0.014452267438173294,
          -0.11804930865764618,
          -0.10620355606079102,
          -0.014452267438173294,
          -0.1083003431558609,
          -0.014452267438173294,
          -0.1625361144542694
         ]
        },
        {
         "line": {
          "color": "#004bff",
          "width": 4
         },
         "marker": {
          "size": 1
         },
         "name": "Pred Camera 50",
         "scene": "scene",
         "type": "scatter3d",
         "x": [
          0.016519194468855858,
          -0.032052114605903625,
          -0.03468604385852814,
          -0.032052114605903625,
          -0.08062342554330826,
          -0.06481986492872238,
          0.032322756946086884,
          0.016519194468855858,
          -0.013227460905909538,
          -0.08062342554330826,
          -0.06481986492872238,
          -0.013227460905909538,
          0.032322756946086884,
          -0.013227460905909538,
          -0.029611773788928986
         ],
         "y": [
          -0.02932692877948284,
          -0.0187529344111681,
          -0.030970072373747826,
          -0.0187529344111681,
          -0.008178938180208206,
          0.06512390077114105,
          0.043975912034511566,
          -0.02932692877948284,
          0.01743261329829693,
          -0.008178938180208206,
          0.06512390077114105,
          0.01743261329829693,
          0.043975912034511566,
          0.01743261329829693,
          0.018131423741579056
         ],
         "z": [
          0.09550589323043823,
          0.09011896699666977,
          0.08988679200410843,
          0.09011896699666977,
          0.08473203331232071,
          0.08612509071826935,
          0.09689895063638687,
          0.09550589323043823,
          -0.008585088886320591,
          0.08473203331232071,
          0.08612509071826935,
          -0.008585088886320591,
          0.09689895063638687,
          -0.008585088886320591,
          0.1405157744884491
         ]
        },
        {
         "line": {
          "color": "#0039ff",
          "width": 4
         },
         "marker": {
          "size": 1
         },
         "name": "Pred Camera 51",
         "scene": "scene",
         "type": "scatter3d",
         "x": [
          0.06982411444187164,
          0.022646106779575348,
          0.0199185311794281,
          0.022646106779575348,
          -0.024531906470656395,
          -0.008166445419192314,
          0.08618957549333572,
          0.06982411444187164,
          0.005912939086556435,
          -0.024531906470656395,
          -0.008166445419192314,
          0.005912939086556435,
          0.08618957549333572,
          0.005912939086556435,
          0.04328678548336029
         ],
         "y": [
          -0.012703429907560349,
          0.0004112999886274338,
          -0.011484351009130478,
          0.0004112999886274338,
          0.013526031747460365,
          0.0848999172449112,
          0.05867045745253563,
          -0.012703429907560349,
          0.020110618323087692,
          0.013526031747460365,
          0.0848999172449112,
          0.020110618323087692,
          0.05867045745253563,
          0.020110618323087692,
          0.04409205541014671
         ],
         "z": [
          0.08962085843086243,
          0.0997321829199791,
          0.10243475437164307,
          0.0997321829199791,
          0.10984351485967636,
          0.09362806379795074,
          0.07340540736913681,
          0.08962085843086243,
          -0.0038930580485612154,
          0.10984351485967636,
          0.09362806379795074,
          -0.0038930580485612154,
          0.07340540736913681,
          -0.0038930580485612154,
          0.1393832117319107
         ]
        },
        {
         "line": {
          "color": "#0028ff",
          "width": 4
         },
         "marker": {
          "size": 1
         },
         "name": "Pred Camera 52",
         "scene": "scene",
         "type": "scatter3d",
         "x": [
          -0.059227146208286285,
          -0.019696615636348724,
          -0.027142301201820374,
          -0.019696615636348724,
          0.019833911210298538,
          0.06450802087783813,
          -0.014553036540746689,
          -0.059227146208286285,
          0.016828633844852448,
          0.019833911210298538,
          0.06450802087783813,
          0.016828633844852448,
          -0.014553036540746689,
          0.016828633844852448,
          -0.004453662782907486
         ],
         "y": [
          0.009893525391817093,
          -0.02072184532880783,
          -0.030353501439094543,
          -0.02072184532880783,
          -0.05133721977472305,
          0.006452701985836029,
          0.06768345087766647,
          0.009893525391817093,
          0.025881752371788025,
          -0.05133721977472305,
          0.006452701985836029,
          0.025881752371788025,
          0.06768345087766647,
          0.025881752371788025,
          -0.0006812065839767456
         ],
         "z": [
          -0.08874543756246567,
          -0.08893755078315735,
          -0.08610152453184128,
          -0.08893755078315735,
          -0.08912966400384903,
          -0.10614579170942307,
          -0.1057615652680397,
          -0.08874543756246567,
          -0.00005413684993982315,
          -0.08912966400384903,
          -0.10614579170942307,
          -0.00005413684993982315,
          -0.1057615652680397,
          -0.00005413684993982315,
          -0.14614135026931763
         ]
        },
        {
         "line": {
          "color": "#0016ff",
          "width": 4
         },
         "marker": {
          "size": 1
         },
         "name": "Pred Camera 53",
         "scene": "scene",
         "type": "scatter3d",
         "x": [
          0.06894753128290176,
          0.08123015612363815,
          0.09323414415121078,
          0.08123015612363815,
          0.09351278841495514,
          0.021488873288035393,
          -0.0030763819813728333,
          0.06894753128290176,
          0.032011039555072784,
          0.09351278841495514,
          0.021488873288035393,
          0.032011039555072784,
          -0.0030763819813728333,
          0.032011039555072784,
          0.05182178318500519
         ],
         "y": [
          -0.03295895457267761,
          0.015505635179579258,
          0.012443930841982365,
          0.015505635179579258,
          0.06397023051977158,
          0.08234045654535294,
          -0.014588730409741402,
          -0.03295895457267761,
          0.026880761608481407,
          0.06397023051977158,
          0.08234045654535294,
          0.026880761608481407,
          -0.014588730409741402,
          0.026880761608481407,
          0.023595741018652916
         ],
         "z": [
          -0.08793491870164871,
          -0.08736901730298996,
          -0.08570156991481781,
          -0.08736901730298996,
          -0.08680311590433121,
          -0.09680778533220291,
          -0.09793958812952042,
          -0.08793491870164871,
          0.006728475913405418,
          -0.08680311590433121,
          -0.09680778533220291,
          0.006728475913405418,
          -0.09793958812952042,
          0.006728475913405418,
          -0.1419212818145752
         ]
        },
        {
         "line": {
          "color": "#0408ff",
          "width": 4
         },
         "marker": {
          "size": 1
         },
         "name": "Pred Camera 54",
         "scene": "scene",
         "type": "scatter3d",
         "x": [
          0.028203384950757027,
          0.020022204145789146,
          0.007882261648774147,
          0.020022204145789146,
          0.011841023340821266,
          0.08468068391084671,
          0.10104304552078247,
          0.028203384950757027,
          0.03911955654621124,
          0.011841023340821266,
          0.08468068391084671,
          0.03911955654621124,
          0.10104304552078247,
          0.03911955654621124,
          0.06510327756404877
         ],
         "y": [
          0.08628693222999573,
          0.036969613283872604,
          0.039024319499731064,
          0.036969613283872604,
          -0.012347694486379623,
          -0.024675924330949783,
          0.07395869493484497,
          0.08628693222999573,
          0.03181466832756996,
          -0.012347694486379623,
          -0.024675924330949783,
          0.03181466832756996,
          0.07395869493484497,
          0.03181466832756996,
          0.030300917103886604
         ],
         "z": [
          -0.09139999747276306,
          -0.09233365207910538,
          -0.09449003636837006,
          -0.09233365207910538,
          -0.0932672992348671,
          -0.08032898604869843,
          -0.07846168428659439,
          -0.09139999747276306,
          0.01261857058852911,
          -0.0932672992348671,
          -0.08032898604869843,
          0.01261857058852911,
          -0.07846168428659439,
          0.01261857058852911,
          -0.13510602712631226
         ]
        },
        {
         "line": {
          "color": "#1300ff",
          "width": 4
         },
         "marker": {
          "size": 1
         },
         "name": "Pred Camera 55",
         "scene": "scene",
         "type": "scatter3d",
         "x": [
          0.11702506244182587,
          0.06782825291156769,
          0.06875527650117874,
          0.06782825291156769,
          0.018631435930728912,
          0.013069294393062592,
          0.11146292090415955,
          0.11702506244182587,
          0.048808593302965164,
          0.018631435930728912,
          0.013069294393062592,
          0.048808593302965164,
          0.11146292090415955,
          0.048808593302965164,
          0.07316647469997406
         ],
         "y": [
          0.000819820910692215,
          -0.003009650856256485,
          -0.015472456812858582,
          -0.003009650856256485,
          -0.006839122623205185,
          0.06793771684169769,
          0.07559666037559509,
          0.000819820910692215,
          0.03525189310312271,
          -0.006839122623205185,
          0.06793771684169769,
          0.03525189310312271,
          0.07559666037559509,
          0.03525189310312271,
          0.03394220396876335
         ],
         "z": [
          0.1047891154885292,
          0.11285188794136047,
          0.1125890389084816,
          0.11285188794136047,
          0.12091466039419174,
          0.12249176949262619,
          0.10636622458696365,
          0.1047891154885292,
          0.014971577562391758,
          0.12091466039419174,
          0.12249176949262619,
          0.014971577562391758,
          0.10636622458696365,
          0.014971577562391758,
          0.16297489404678345
         ]
        },
        {
         "line": {
          "color": "#2500ff",
          "width": 4
         },
         "marker": {
          "size": 1
         },
         "name": "Pred Camera 56",
         "scene": "scene",
         "type": "scatter3d",
         "x": [
          -0.00035853311419487,
          0.04653427004814148,
          0.04244493693113327,
          0.04653427004814148,
          0.09342707693576813,
          0.11796306073665619,
          0.02417745813727379,
          -0.00035853311419487,
          0.04722600057721138,
          0.09342707693576813,
          0.11796306073665619,
          0.04722600057721138,
          0.02417745813727379,
          0.04722600057721138,
          0.06459039449691772
         ],
         "y": [
          0.03087574988603592,
          0.014076264575123787,
          0.0023328326642513275,
          0.014076264575123787,
          -0.0027232207357883453,
          0.0677373856306076,
          0.10133635997772217,
          0.03087574988603592,
          0.0425996333360672,
          -0.0027232207357883453,
          0.0677373856306076,
          0.0425996333360672,
          0.10133635997772217,
          0.0425996333360672,
          0.052660033106803894
         ],
         "z": [
          -0.09323610365390778,
          -0.08889536559581757,
          -0.0901678204536438,
          -0.08889536559581757,
          -0.08455464243888855,
          -0.07691991329193115,
          -0.08560137450695038,
          -0.09323610365390778,
          0.014022979885339737,
          -0.08455464243888855,
          -0.07691991329193115,
          0.014022979885339737,
          -0.08560137450695038,
          0.014022979885339737,
          -0.1346285045146942
         ]
        },
        {
         "line": {
          "color": "#3700ff",
          "width": 4
         },
         "marker": {
          "size": 1
         },
         "name": "Pred Camera 57",
         "scene": "scene",
         "type": "scatter3d",
         "x": [
          0.05491827800869942,
          0.008461318910121918,
          0.007734023034572601,
          0.008461318910121918,
          -0.03799563646316528,
          -0.033631861209869385,
          0.05928206071257591,
          0.05491827800869942,
          0.04715557396411896,
          -0.03799563646316528,
          -0.033631861209869385,
          0.04715557396411896,
          0.05928206071257591,
          0.04715557396411896,
          -0.00761297345161438
         ],
         "y": [
          0.15953710675239563,
          0.14141637086868286,
          0.14565137028694153,
          0.14141637086868286,
          0.12329564243555069,
          0.09788572788238525,
          0.1341271996498108,
          0.15953710675239563,
          0.04188567399978638,
          0.12329564243555069,
          0.09788572788238525,
          0.04188567399978638,
          0.1341271996498108,
          0.04188567399978638,
          0.17212429642677307
         ],
         "z": [
          0.012445187196135521,
          0.0161044392734766,
          0.02784266136586666,
          0.0161044392734766,
          0.01976369135081768,
          -0.05066565424203873,
          -0.05798416584730148,
          0.012445187196135521,
          0.014477560296654701,
          0.01976369135081768,
          -0.05066565424203873,
          0.014477560296654701,
          -0.05798416584730148,
          0.014477560296654701,
          -0.03590413182973862
         ]
        },
        {
         "line": {
          "color": "#4900ff",
          "width": 4
         },
         "marker": {
          "size": 1
         },
         "name": "Pred Camera 58",
         "scene": "scene",
         "type": "scatter3d",
         "x": [
          -0.0005850903689861298,
          0.008546393364667892,
          -0.003714166581630707,
          0.008546393364667892,
          0.017677877098321915,
          0.091241255402565,
          0.07297829538583755,
          -0.0005850903689861298,
          0.052102793008089066,
          0.017677877098321915,
          0.091241255402565,
          0.052102793008089066,
          0.07297829538583755,
          0.052102793008089066,
          0.041940730065107346
         ],
         "y": [
          0.00531555712223053,
          0.05445341393351555,
          0.0567551851272583,
          0.05445341393351555,
          0.10359127074480057,
          0.08978064358234406,
          -0.008495070040225983,
          0.00531555712223053,
          0.049221884459257126,
          0.10359127074480057,
          0.08978064358234406,
          0.049221884459257126,
          -0.008495070040225983,
          0.049221884459257126,
          0.046711210161447525
         ],
         "z": [
          0.10976771265268326,
          0.11121232807636261,
          0.11041830480098724,
          0.11121232807636261,
          0.11265693604946136,
          0.11742108315229416,
          0.11453185975551605,
          0.10976771265268326,
          0.013838179409503937,
          0.11265693604946136,
          0.11742108315229416,
          0.013838179409503937,
          0.11453185975551605,
          0.013838179409503937,
          0.1634725034236908
         ]
        },
        {
         "line": {
          "color": "#5a00ff",
          "width": 4
         },
         "marker": {
          "size": 1
         },
         "name": "Pred Camera 59",
         "scene": "scene",
         "type": "scatter3d",
         "x": [
          0.12869755923748016,
          0.08801007270812988,
          0.09507334232330322,
          0.08801007270812988,
          0.0473225899040699,
          0.004942938685417175,
          0.08631790429353714,
          0.12869755923748016,
          0.0532127246260643,
          0.0473225899040699,
          0.004942938685417175,
          0.0532127246260643,
          0.08631790429353714,
          0.0532127246260643,
          0.07362400740385056
         ],
         "y": [
          0.04420642927289009,
          0.015452515333890915,
          0.005243606865406036,
          0.015452515333890915,
          -0.013301398605108261,
          0.0479520820081234,
          0.10545990616083145,
          0.04420642927289009,
          0.050838638097047806,
          -0.013301398605108261,
          0.0479520820081234,
          0.050838638097047806,
          0.10545990616083145,
          0.050838638097047806,
          0.043699562549591064
         ],
         "z": [
          0.10633905231952667,
          0.11055109649896622,
          0.10908880829811096,
          0.11055109649896622,
          0.11476314812898636,
          0.12353689968585968,
          0.1151128038764,
          0.10633905231952667,
          0.015982510522007942,
          0.11476314812898636,
          0.12353689968585968,
          0.015982510522007942,
          0.1151128038764,
          0.015982510522007942,
          0.16441571712493896
         ]
        },
        {
         "line": {
          "color": "#7200ff",
          "width": 4
         },
         "marker": {
          "size": 1
         },
         "name": "Pred Camera 60",
         "scene": "scene",
         "type": "scatter3d",
         "x": [
          0.05831175670027733,
          0.05576029419898987,
          0.04398151487112045,
          0.05576029419898987,
          0.05320883169770241,
          0.123881496489048,
          0.12898442149162292,
          0.05831175670027733,
          0.058011494576931,
          0.05320883169770241,
          0.123881496489048,
          0.058011494576931,
          0.12898442149162292,
          0.058011494576931,
          0.10763919353485107
         ],
         "y": [
          -0.0026625655591487885,
          0.04722011834383011,
          0.04642965644598007,
          0.04722011834383011,
          0.0971028059720993,
          0.10184559226036072,
          0.002080220729112625,
          -0.0026625655591487885,
          0.05221475288271904,
          0.0971028059720993,
          0.10184559226036072,
          0.05221475288271904,
          0.002080220729112625,
          0.05221475288271904,
          0.04827989265322685
         ],
         "z": [
          0.12309931218624115,
          0.12538135051727295,
          0.12949055433273315,
          0.12538135051727295,
          0.12766340374946594,
          0.10300816595554352,
          0.09844408184289932,
          0.12309931218624115,
          0.018721915781497955,
          0.12766340374946594,
          0.10300816595554352,
          0.018721915781497955,
          0.09844408184289932,
          0.018721915781497955,
          0.16021963953971863
         ]
        },
        {
         "line": {
          "color": "#8400ff",
          "width": 4
         },
         "marker": {
          "size": 1
         },
         "name": "Pred Camera 61",
         "scene": "scene",
         "type": "scatter3d",
         "x": [
          -0.020239125937223434,
          0.025364497676491737,
          0.02058546617627144,
          0.025364497676491737,
          0.07096812129020691,
          0.099642314016819,
          0.008435070514678955,
          -0.020239125937223434,
          0.05451815947890282,
          0.07096812129020691,
          0.099642314016819,
          0.05451815947890282,
          0.008435070514678955,
          0.05451815947890282,
          0.03229331225156784
         ],
         "y": [
          0.025817174464464188,
          0.006028186529874802,
          -0.005413345992565155,
          0.006028186529874802,
          -0.013760801404714584,
          0.054888397455215454,
          0.09446637332439423,
          0.025817174464464188,
          0.04779808223247528,
          -0.013760801404714584,
          0.054888397455215454,
          0.04779808223247528,
          0.09446637332439423,
          0.04779808223247528,
          0.036630138754844666
         ],
         "z": [
          -0.06762959063053131,
          -0.07298731058835983,
          -0.07140547037124634,
          -0.07298731058835983,
          -0.07834503799676895,
          -0.08783610165119171,
          -0.07712065428495407,
          -0.06762959063053131,
          0.020882748067378998,
          -0.07834503799676895,
          -0.08783610165119171,
          0.020882748067378998,
          -0.07712065428495407,
          0.020882748067378998,
          -0.12704065442085266
         ]
        },
        {
         "line": {
          "color": "#9500ff",
          "width": 4
         },
         "marker": {
          "size": 1
         },
         "name": "Pred Camera 62",
         "scene": "scene",
         "type": "scatter3d",
         "x": [
          0.022452492266893387,
          0.0717550665140152,
          0.07285666465759277,
          0.0717550665140152,
          0.12105764448642731,
          0.11444810032844543,
          0.015842940658330917,
          0.022452492266893387,
          0.05433085560798645,
          0.12105764448642731,
          0.11444810032844543,
          0.05433085560798645,
          0.015842940658330917,
          0.05433085560798645,
          0.07551001012325287
         ],
         "y": [
          0.08497967571020126,
          0.08066453039646149,
          0.09311562776565552,
          0.08066453039646149,
          0.07634939253330231,
          0.0016428157687187195,
          0.010273098945617676,
          0.08497967571020126,
          0.04521184414625168,
          0.07634939253330231,
          0.0016428157687187195,
          0.04521184414625168,
          0.010273098945617676,
          0.04521184414625168,
          0.04236094653606415
         ],
         "z": [
          0.13505467772483826,
          0.12793883681297302,
          0.1280207633972168,
          0.12793883681297302,
          0.1208229809999466,
          0.12033133208751678,
          0.13456302881240845,
          0.13505467772483826,
          0.028713062405586243,
          0.1208229809999466,
          0.12033133208751678,
          0.028713062405586243,
          0.13456302881240845,
          0.028713062405586243,
          0.17718297243118286
         ]
        },
        {
         "line": {
          "color": "#a700ff",
          "width": 4
         },
         "marker": {
          "size": 1
         },
         "name": "Pred Camera 63",
         "scene": "scene",
         "type": "scatter3d",
         "x": [
          0.09478060156106949,
          0.08585971593856812,
          0.09811344742774963,
          0.08585971593856812,
          0.07693882286548615,
          0.003416411578655243,
          0.021258190274238586,
          0.09478060156106949,
          0.05757296085357666,
          0.07693882286548615,
          0.003416411578655243,
          0.05757296085357666,
          0.021258190274238586,
          0.05757296085357666,
          0.04486127942800522
         ],
         "y": [
          0.0025149397552013397,
          0.05159814655780792,
          0.05388832837343216,
          0.05159814655780792,
          0.1006813496351242,
          0.08694024384021759,
          -0.011226166039705276,
          0.0025149397552013397,
          0.0394662469625473,
          0.1006813496351242,
          0.08694024384021759,
          0.0394662469625473,
          -0.011226166039705276,
          0.0394662469625473,
          0.04735826328396797
         ],
         "z": [
          -0.07320843636989594,
          -0.06985326111316681,
          -0.07077580690383911,
          -0.06985326111316681,
          -0.06649810075759888,
          -0.06096282973885536,
          -0.06767317652702332,
          -0.07320843636989594,
          0.03241562470793724,
          -0.06649810075759888,
          -0.06096282973885536,
          0.03241562470793724,
          -0.06767317652702332,
          0.03241562470793724,
          -0.11683626472949982
         ]
        },
        {
         "line": {
          "color": "#b900ff",
          "width": 4
         },
         "marker": {
          "size": 1
         },
         "name": "Pred Camera 64",
         "scene": "scene",
         "type": "scatter3d",
         "x": [
          0.13220195472240448,
          0.10635611414909363,
          0.11691252887248993,
          0.10635611414909363,
          0.08051027357578278,
          0.017171762883663177,
          0.06886344403028488,
          0.13220195472240448,
          0.06068893522024155,
          0.08051027357578278,
          0.017171762883663177,
          0.06068893522024155,
          0.06886344403028488,
          0.06068893522024155,
          0.08168582618236542
         ],
         "y": [
          0.05925252288579941,
          0.016641221940517426,
          0.010102476924657822,
          0.016641221940517426,
          -0.02597007527947426,
          0.013262387365102768,
          0.09848499298095703,
          0.05925252288579941,
          0.035375576466321945,
          -0.02597007527947426,
          0.013262387365102768,
          0.035375576466321945,
          0.09848499298095703,
          0.035375576466321945,
          0.036698393523693085
         ],
         "z": [
          0.12652015686035156,
          0.1305536925792694,
          0.12911950051784515,
          0.1305536925792694,
          0.13458722829818726,
          0.1431923657655716,
          0.1351252943277359,
          0.12652015686035156,
          0.03584474325180054,
          0.13458722829818726,
          0.1431923657655716,
          0.03584474325180054,
          0.1351252943277359,
          0.03584474325180054,
          0.1843620240688324
         ]
        },
        {
         "line": {
          "color": "#d000ff",
          "width": 4
         },
         "marker": {
          "size": 1
         },
         "name": "Pred Camera 65",
         "scene": "scene",
         "type": "scatter3d",
         "x": [
          0.09347812831401825,
          0.06470939517021179,
          0.07445751875638962,
          0.06470939517021179,
          0.035940662026405334,
          -0.022548075765371323,
          0.03498939424753189,
          0.09347812831401825,
          0.06011824682354927,
          0.035940662026405334,
          -0.022548075765371323,
          0.06011824682354927,
          0.03498939424753189,
          0.06011824682354927,
          0.023138418793678284
         ],
         "y": [
          0.019261434674263,
          0.059418078511953354,
          0.06686452776193619,
          0.059418078511953354,
          0.09957472234964371,
          0.054896026849746704,
          -0.025417260825634003,
          0.019261434674263,
          0.03607826679944992,
          0.09957472234964371,
          0.054896026849746704,
          0.03607826679944992,
          -0.025417260825634003,
          0.03607826679944992,
          0.03757896274328232
         ],
         "z": [
          -0.07016532868146896,
          -0.06243206560611725,
          -0.0648350864648819,
          -0.06243206560611725,
          -0.054698795080184937,
          -0.04028066247701645,
          -0.055747196078300476,
          -0.07016532868146896,
          0.04168529063463211,
          -0.054698795080184937,
          -0.04028066247701645,
          0.04168529063463211,
          -0.055747196078300476,
          0.04168529063463211,
          -0.10367714613676071
         ]
        },
        {
         "line": {
          "color": "#e200ff",
          "width": 4
         },
         "marker": {
          "size": 1
         },
         "name": "Pred Camera 66",
         "scene": "scene",
         "type": "scatter3d",
         "x": [
          0.018932446837425232,
          0.05414942651987076,
          0.04562569782137871,
          0.05414942651987076,
          0.08936641365289688,
          0.14050880074501038,
          0.07007483392953873,
          0.018932446837425232,
          0.0599924698472023,
          0.08936641365289688,
          0.14050880074501038,
          0.0599924698472023,
          0.07007483392953873,
          0.0599924698472023,
          0.08958470076322556
         ],
         "y": [
          0.015265313908457756,
          0.05055902153253555,
          0.059336669743061066,
          0.05055902153253555,
          0.0858527347445488,
          0.033186860382556915,
          -0.03740055859088898,
          0.015265313908457756,
          0.03352136164903641,
          0.0858527347445488,
          0.033186860382556915,
          0.03352136164903641,
          -0.03740055859088898,
          0.03352136164903641,
          0.019578449428081512
         ],
         "z": [
          0.1486411988735199,
          0.14488375186920166,
          0.14744281768798828,
          0.14488375186920166,
          0.14112628996372223,
          0.12577182054519653,
          0.1332867443561554,
          0.1486411988735199,
          0.03961348906159401,
          0.14112628996372223,
          0.12577182054519653,
          0.03961348906159401,
          0.1332867443561554,
          0.03961348906159401,
          0.18600302934646606
         ]
        },
        {
         "line": {
          "color": "#f400ff",
          "width": 4
         },
         "marker": {
          "size": 1
         },
         "name": "Pred Camera 67",
         "scene": "scene",
         "type": "scatter3d",
         "x": [
          0.1434137225151062,
          0.11453043669462204,
          0.12441509962081909,
          0.11453043669462204,
          0.08564714342355728,
          0.02633916586637497,
          0.08410575240850449,
          0.1434137225151062,
          0.06463292241096497,
          0.08564714342355728,
          0.02633916586637497,
          0.06463292241096497,
          0.08410575240850449,
          0.06463292241096497,
          0.09499821066856384
         ],
         "y": [
          0.04557836055755615,
          0.00526135228574276,
          -0.002130908891558647,
          0.00526135228574276,
          -0.03505565971136093,
          0.009297920390963554,
          0.08993194252252579,
          0.04557836055755615,
          0.026522792875766754,
          -0.03505565971136093,
          0.009297920390963554,
          0.026522792875766754,
          0.08993194252252579,
          0.026522792875766754,
          0.027895815670490265
         ],
         "z": [
          0.12929247319698334,
          0.1356402039527893,
          0.13366591930389404,
          0.1356402039527893,
          0.14198794960975647,
          0.1538337618112564,
          0.14113828539848328,
          0.12929247319698334,
          0.04363784193992615,
          0.14198794960975647,
          0.1538337618112564,
          0.04363784193992615,
          0.14113828539848328,
          0.04363784193992615,
          0.19052575528621674
         ]
        },
        {
         "line": {
          "color": "#fc00f5",
          "width": 4
         },
         "marker": {
          "size": 1
         },
         "name": "Pred Camera 68",
         "scene": "scene",
         "type": "scatter3d",
         "x": [
          0.08034399896860123,
          0.0523555651307106,
          0.04233019798994064,
          0.0523555651307106,
          0.024367131292819977,
          0.08451932668685913,
          0.14049619436264038,
          0.08034399896860123,
          0.06159709393978119,
          0.024367131292819977,
          0.08451932668685913,
          0.06159709393978119,
          0.14049619436264038,
          0.06159709393978119,
          0.09284894913434982
         ],
         "y": [
          -0.04175207018852234,
          -0.0007595159113407135,
          -0.007916707545518875,
          -0.0007595159113407135,
          0.04023303836584091,
          0.08317619562149048,
          0.0011910870671272278,
          -0.04175207018852234,
          0.020853715017437935,
          0.04023303836584091,
          0.08317619562149048,
          0.020853715017437935,
          0.0011910870671272278,
          0.020853715017437935,
          0.020641237497329712
         ],
         "z": [
          0.14104731380939484,
          0.1470687985420227,
          0.14919404685497284,
          0.1470687985420227,
          0.15309028327465057,
          0.14033880829811096,
          0.12829583883285522,
          0.14104731380939484,
          0.04288764297962189,
          0.15309028327465057,
          0.14033880829811096,
          0.04288764297962189,
          0.12829583883285522,
          0.04288764297962189,
          0.1895957738161087
         ]
        },
        {
         "line": {
          "color": "#ff00e7",
          "width": 4
         },
         "marker": {
          "size": 1
         },
         "name": "Pred Camera 69",
         "scene": "scene",
         "type": "scatter3d",
         "x": [
          0.025105565786361694,
          0.06386992335319519,
          0.056346870958805084,
          0.06386992335319519,
          0.10263428092002869,
          0.14777259528636932,
          0.07024388015270233,
          0.025105565786361694,
          0.06727833300828934,
          0.10263428092002869,
          0.14777259528636932,
          0.06727833300828934,
          0.07024388015270233,
          0.06727833300828934,
          0.0960194543004036
         ],
         "y": [
          -0.0020087426528334618,
          0.02927035465836525,
          0.03893923759460449,
          0.02927035465836525,
          0.060549452900886536,
          0.002536163665354252,
          -0.060022030025720596,
          -0.0020087426528334618,
          0.010426637716591358,
          0.060549452900886536,
          0.002536163665354252,
          0.010426637716591358,
          -0.060022030025720596,
          0.010426637716591358,
          -0.004817754030227661
         ],
         "z": [
          0.1512664556503296,
          0.14691418409347534,
          0.14939740300178528,
          0.14691418409347534,
          0.1425619125366211,
          0.1276625543832779,
          0.1363670974969864,
          0.1512664556503296,
          0.0418449267745018,
          0.1425619125366211,
          0.1276625543832779,
          0.0418449267745018,
          0.1363670974969864,
          0.0418449267745018,
          0.1882742941379547
         ]
        },
        {
         "line": {
          "color": "#ff00cf",
          "width": 4
         },
         "marker": {
          "size": 1
         },
         "name": "Pred Camera 70",
         "scene": "scene",
         "type": "scatter3d",
         "x": [
          0.052884094417095184,
          0.042438656091690063,
          0.030306320637464523,
          0.042438656091690063,
          0.03199321776628494,
          0.10478724539279938,
          0.12567812204360962,
          0.052884094417095184,
          0.0668698325753212,
          0.03199321776628494,
          0.10478724539279938,
          0.0668698325753212,
          0.12567812204360962,
          0.0668698325753212,
          0.08481858670711517
         ],
         "y": [
          -0.05565965548157692,
          -0.006802143529057503,
          -0.009453068487346172,
          -0.006802143529057503,
          0.042055364698171616,
          0.05796091631054878,
          -0.03975410386919975,
          -0.05565965548157692,
          0.0025721241254359484,
          0.042055364698171616,
          0.05796091631054878,
          0.0025721241254359484,
          -0.03975410386919975,
          0.0025721241254359484,
          0.00043988716788589954
         ],
         "z": [
          0.1437615156173706,
          0.14572018384933472,
          0.147144615650177,
          0.14572018384933472,
          0.14767885208129883,
          0.13913226127624512,
          0.1352149248123169,
          0.1437615156173706,
          0.04217556118965149,
          0.14767885208129883,
          0.13913226127624512,
          0.04217556118965149,
          0.1352149248123169,
          0.04217556118965149,
          0.19108255207538605
         ]
        },
        {
         "line": {
          "color": "#ff00bd",
          "width": 4
         },
         "marker": {
          "size": 1
         },
         "name": "Pred Camera 71",
         "scene": "scene",
         "type": "scatter3d",
         "x": [
          0.09339714050292969,
          0.08852209150791168,
          0.10086019337177277,
          0.08852209150791168,
          0.08364705741405487,
          0.009618427604436874,
          0.01936851069331169,
          0.09339714050292969,
          0.06424717605113983,
          0.08364705741405487,
          0.009618427604436874,
          0.06424717605113983,
          0.01936851069331169,
          0.06424717605113983,
          0.04513808339834213
         ],
         "y": [
          -0.04798957705497742,
          0.0017589214257895947,
          0.0030042817816138268,
          0.0017589214257895947,
          0.05150742083787918,
          0.04403526335954666,
          -0.055461734533309937,
          -0.04798957705497742,
          -0.003019613679498434,
          0.05150742083787918,
          0.04403526335954666,
          -0.003019613679498434,
          -0.055461734533309937,
          -0.003019613679498434,
          -0.0014559314586222172
         ],
         "z": [
          -0.06443221867084503,
          -0.06328313052654266,
          -0.06485484540462494,
          -0.06328313052654266,
          -0.062134046107530594,
          -0.05270377919077873,
          -0.05500194802880287,
          -0.06443221867084503,
          0.040611740201711655,
          -0.062134046107530594,
          -0.05270377919077873,
          0.040611740201711655,
          -0.05500194802880287,
          0.040611740201711655,
          -0.10815785825252533
         ]
        },
        {
         "line": {
          "color": "#ff00ac",
          "width": 4
         },
         "marker": {
          "size": 1
         },
         "name": "Pred Camera 72",
         "scene": "scene",
         "type": "scatter3d",
         "x": [
          0.11415214836597443,
          0.1143273264169693,
          0.12671616673469543,
          0.1143273264169693,
          0.11450250446796417,
          0.04016946628689766,
          0.03981911763548851,
          0.11415214836597443,
          0.06385888159275055,
          0.11450250446796417,
          0.04016946628689766,
          0.06385888159275055,
          0.03981911763548851,
          0.06385888159275055,
          0.08381177484989166
         ],
         "y": [
          0.03995516151189804,
          -0.010042141191661358,
          -0.009982490912079811,
          -0.010042141191661358,
          -0.06003943830728531,
          -0.06039734184741974,
          0.03959725797176361,
          0.03995516151189804,
          -0.00929893646389246,
          -0.06003943830728531,
          -0.06039734184741974,
          -0.00929893646389246,
          0.03959725797176361,
          -0.00929893646389246,
          -0.010682170279324055
         ],
         "z": [
          0.13192379474639893,
          0.1314350664615631,
          0.1297728270292282,
          0.1314350664615631,
          0.1309463530778885,
          0.14091983437538147,
          0.1418972760438919,
          0.13192379474639893,
          0.0373147651553154,
          0.1309463530778885,
          0.14091983437538147,
          0.0373147651553154,
          0.1418972760438919,
          0.0373147651553154,
          0.1859753429889679
         ]
        },
        {
         "line": {
          "color": "#ff009a",
          "width": 4
         },
         "marker": {
          "size": 1
         },
         "name": "Pred Camera 73",
         "scene": "scene",
         "type": "scatter3d",
         "x": [
          0.11300957202911377,
          0.06442958861589432,
          0.06211575120687485,
          0.06442958861589432,
          0.015849605202674866,
          0.029732637107372284,
          0.1268925964832306,
          0.11300957202911377,
          0.056630104780197144,
          0.015849605202674866,
          0.029732637107372284,
          0.056630104780197144,
          0.1268925964832306,
          0.056630104780197144,
          0.07874161005020142
         ],
         "y": [
          -0.0698026791214943,
          -0.060625046491622925,
          -0.07290894538164139,
          -0.060625046491622925,
          -0.051447413861751556,
          0.022255994379520416,
          0.00390072725713253,
          -0.0698026791214943,
          -0.021353401243686676,
          -0.051447413861751556,
          0.022255994379520416,
          -0.021353401243686676,
          0.00390072725713253,
          -0.021353401243686676,
          -0.02498331293463707
         ],
         "z": [
          0.12427076697349548,
          0.13173779845237732,
          0.13178211450576782,
          0.13173779845237732,
          0.13920485973358154,
          0.13893894851207733,
          0.12400486320257187,
          0.12427076697349548,
          0.03272691369056702,
          0.13920485973358154,
          0.13893894851207733,
          0.03272691369056702,
          0.12400486320257187,
          0.03272691369056702,
          0.1810438334941864
         ]
        },
        {
         "line": {
          "color": "#ff0088",
          "width": 4
         },
         "marker": {
          "size": 1
         },
         "name": "Pred Camera 74",
         "scene": "scene",
         "type": "scatter3d",
         "x": [
          -0.024790026247501373,
          -0.023122601211071014,
          -0.01629803702235222,
          -0.023122601211071014,
          -0.021455176174640656,
          -0.06240256875753403,
          -0.06573741883039474,
          -0.024790026247501373,
          0.04011809080839157,
          -0.021455176174640656,
          -0.06240256875753403,
          0.04011809080839157,
          -0.06573741883039474,
          0.04011809080839157,
          -0.08545350283384323
         ],
         "y": [
          -0.0679420456290245,
          -0.017996639013290405,
          -0.01856698840856552,
          -0.017996639013290405,
          0.03194877505302429,
          0.03537087142467499,
          -0.06451994925737381,
          -0.0679420456290245,
          -0.01728910766541958,
          0.03194877505302429,
          0.03537087142467499,
          -0.01728910766541958,
          -0.06451994925737381,
          -0.01728910766541958,
          -0.015783831477165222
         ],
         "z": [
          -0.05858543515205383,
          -0.060221344232559204,
          -0.07067839801311493,
          -0.060221344232559204,
          -0.061857253313064575,
          0.0008850879967212677,
          0.004156908020377159,
          -0.05858543515205383,
          0.02583889476954937,
          -0.061857253313064575,
          0.0008850879967212677,
          0.02583889476954937,
          0.004156908020377159,
          0.02583889476954937,
          -0.05619470775127411
         ]
        },
        {
         "line": {
          "color": "#ff0071",
          "width": 4
         },
         "marker": {
          "size": 1
         },
         "name": "Pred Camera 75",
         "scene": "scene",
         "type": "scatter3d",
         "x": [
          0.055965397506952286,
          0.07263296097517014,
          0.08441716432571411,
          0.07263296097517014,
          0.08930052816867828,
          0.01859528198838234,
          -0.01473984494805336,
          0.055965397506952286,
          0.0383971743285656,
          0.08930052816867828,
          0.01859528198838234,
          0.0383971743285656,
          -0.01473984494805336,
          0.0383971743285656,
          0.03672192245721817
         ],
         "y": [
          -0.08218845725059509,
          -0.03505338728427887,
          -0.039221711456775665,
          -0.03505338728427887,
          0.012081680819392204,
          0.03709162026643753,
          -0.057178519666194916,
          -0.08218845725059509,
          -0.02147778309881687,
          0.012081680819392204,
          0.03709162026643753,
          -0.02147778309881687,
          -0.057178519666194916,
          -0.02147778309881687,
          -0.02308373898267746
         ],
         "z": [
          -0.07786983251571655,
          -0.0785607099533081,
          -0.07864770293235779,
          -0.0785607099533081,
          -0.07925158739089966,
          -0.07872962951660156,
          -0.07734787464141846,
          -0.07786983251571655,
          0.021688304841518402,
          -0.07925158739089966,
          -0.07872962951660156,
          0.021688304841518402,
          -0.07734787464141846,
          0.021688304841518402,
          -0.12829375267028809
         ]
        },
        {
         "line": {
          "color": "#ff005f",
          "width": 4
         },
         "marker": {
          "size": 1
         },
         "name": "Pred Camera 76",
         "scene": "scene",
         "type": "scatter3d",
         "x": [
          0.002509143203496933,
          -0.005581963807344437,
          -0.0178997702896595,
          -0.005581963807344437,
          -0.013673070818185806,
          0.06023377552628517,
          0.07641598582267761,
          0.002509143203496933,
          0.03661729767918587,
          -0.013673070818185806,
          0.06023377552628517,
          0.03661729767918587,
          0.07641598582267761,
          0.03661729767918587,
          0.028748540207743645
         ],
         "y": [
          0.02988099493086338,
          -0.0194566510617733,
          -0.017429130151867867,
          -0.0194566510617733,
          -0.06879429519176483,
          -0.08095943182706833,
          0.017715858295559883,
          0.02988099493086338,
          -0.02523571439087391,
          -0.06879429519176483,
          -0.08095943182706833,
          -0.02523571439087391,
          0.017715858295559883,
          -0.02523571439087391,
          -0.025690969079732895
         ],
         "z": [
          -0.078855499625206,
          -0.078280508518219,
          -0.0776396095752716,
          -0.078280508518219,
          -0.07770553231239319,
          -0.0815509557723999,
          -0.08270092308521271,
          -0.078855499625206,
          0.019658613950014114,
          -0.07770553231239319,
          -0.0815509557723999,
          0.019658613950014114,
          -0.08270092308521271,
          0.019658613950014114,
          -0.13013415038585663
         ]
        },
        {
         "line": {
          "color": "#ff004d",
          "width": 4
         },
         "marker": {
          "size": 1
         },
         "name": "Pred Camera 77",
         "scene": "scene",
         "type": "scatter3d",
         "x": [
          0.02124616876244545,
          0.015011999756097794,
          0.002716127783060074,
          0.015011999756097794,
          0.008777830749750137,
          0.08255307376384735,
          0.09502141177654266,
          0.02124616876244545,
          0.0389198437333107,
          0.008777830749750137,
          0.08255307376384735,
          0.0389198437333107,
          0.09502141177654266,
          0.0389198437333107,
          0.058389514684677124
         ],
         "y": [
          0.03182957321405411,
          -0.0177801251411438,
          -0.01623127982020378,
          -0.0177801251411438,
          -0.0673898234963417,
          -0.07668290287256241,
          0.022536491975188255,
          0.03182957321405411,
          -0.021020038053393364,
          -0.0673898234963417,
          -0.07668290287256241,
          -0.021020038053393364,
          0.022536491975188255,
          -0.021020038053393364,
          -0.023129979148507118
         ],
         "z": [
          -0.08769979327917099,
          -0.08781211823225021,
          -0.08944384753704071,
          -0.08781211823225021,
          -0.08792444318532944,
          -0.07813405245542526,
          -0.07790940254926682,
          -0.08769979327917099,
          0.01622713916003704,
          -0.08792444318532944,
          -0.07813405245542526,
          0.01622713916003704,
          -0.07790940254926682,
          0.01622713916003704,
          -0.13248896598815918
         ]
        },
        {
         "line": {
          "color": "#ff003b",
          "width": 4
         },
         "marker": {
          "size": 1
         },
         "name": "Pred Camera 78",
         "scene": "scene",
         "type": "scatter3d",
         "x": [
          0.0789014920592308,
          0.05221835523843765,
          0.06278657913208008,
          0.05221835523843765,
          0.0255352184176445,
          -0.037874139845371246,
          0.015492133796215057,
          0.0789014920592308,
          0.01850167103111744,
          0.0255352184176445,
          -0.037874139845371246,
          0.01850167103111744,
          0.015492133796215057,
          0.01850167103111744,
          0.021519679576158524
         ],
         "y": [
          0.013734451495110989,
          -0.028520014137029648,
          -0.03519538789987564,
          -0.028520014137029648,
          -0.07077448070049286,
          -0.0307222381234169,
          0.05378669872879982,
          0.013734451495110989,
          -0.011015613563358784,
          -0.07077448070049286,
          -0.0307222381234169,
          -0.011015613563358784,
          0.05378669872879982,
          -0.011015613563358784,
          -0.007233033422380686
         ],
         "z": [
          0.10829098522663116,
          0.10989421606063843,
          0.10984989255666733,
          0.10989421606063843,
          0.11149744689464569,
          0.1117633730173111,
          0.10855691134929657,
          0.10829098522663116,
          0.010079222731292248,
          0.11149744689464569,
          0.1117633730173111,
          0.010079222731292248,
          0.10855691134929657,
          0.010079222731292248,
          0.16000115871429443
         ]
        },
        {
         "line": {
          "color": "#ff002a",
          "width": 4
         },
         "marker": {
          "size": 1
         },
         "name": "Pred Camera 79",
         "scene": "scene",
         "type": "scatter3d",
         "x": [
          -0.03251425921916962,
          -0.027019023895263672,
          -0.03942161798477173,
          -0.027019023895263672,
          -0.021523788571357727,
          0.05289178341627121,
          0.04190131276845932,
          -0.03251425921916962,
          0.01605839654803276,
          -0.021523788571357727,
          0.05289178341627121,
          0.01605839654803276,
          0.04190131276845932,
          0.01605839654803276,
          0.007253943011164665
         ],
         "y": [
          0.045406702905893326,
          -0.004117974080145359,
          -0.005546066910028458,
          -0.004117974080145359,
          -0.053642649203538895,
          -0.04507409408688545,
          0.05397525802254677,
          0.045406702905893326,
          -0.0074953860603272915,
          -0.053642649203538895,
          -0.04507409408688545,
          -0.0074953860603272915,
          0.05397525802254677,
          -0.0074953860603272915,
          0.003997150342911482
         ],
         "z": [
          -0.08654062449932098,
          -0.09067691117525101,
          -0.0900554433465004,
          -0.09067691117525101,
          -0.09481320530176163,
          -0.09854201972484589,
          -0.09026943892240524,
          -0.08654062449932098,
          0.0069918278604745865,
          -0.09481320530176163,
          -0.09854201972484589,
          0.0069918278604745865,
          -0.09026943892240524,
          0.0069918278604745865,
          -0.14230789244174957
         ]
        },
        {
         "line": {
          "color": "#ff0000",
          "dash": "dash",
          "width": 4
         },
         "marker": {
          "size": 1
         },
         "name": "GT Camera 0",
         "scene": "scene",
         "type": "scatter3d",
         "x": [
          -0.0805414468050003,
          -0.030541442334651947,
          -0.030541442334651947,
          -0.030541442334651947,
          0.019458558410406113,
          0.019458558410406113,
          -0.0805414468050003,
          -0.0805414468050003,
          -0.030541446059942245,
          0.019458558410406113,
          0.019458558410406113,
          -0.030541446059942245,
          -0.0805414468050003,
          -0.030541446059942245,
          -0.030541442334651947
         ],
         "y": [
          0.11381553113460541,
          0.11381553113460541,
          0.12631553411483765,
          0.11381553113460541,
          0.11381553113460541,
          0.03881552815437317,
          0.03881552815437317,
          0.11381553113460541,
          0.07631552964448929,
          0.11381553113460541,
          0.03881552815437317,
          0.07631552964448929,
          0.03881552815437317,
          0.07631552964448929,
          0.07631552964448929
         ],
         "z": [
          -0.8966158628463745,
          -0.8966158628463745,
          -0.8966158628463745,
          -0.8966158628463745,
          -0.8966158628463745,
          -0.8966158628463745,
          -0.8966158628463745,
          -0.8966158628463745,
          -0.9966158866882324,
          -0.8966158628463745,
          -0.8966158628463745,
          -0.9966158866882324,
          -0.8966158628463745,
          -0.9966158866882324,
          -0.8466159105300903
         ]
        },
        {
         "line": {
          "color": "#ff1200",
          "dash": "dash",
          "width": 4
         },
         "marker": {
          "size": 1
         },
         "name": "GT Camera 1",
         "scene": "scene",
         "type": "scatter3d",
         "x": [
          0.13680192828178406,
          0.0868365541100502,
          0.08639705181121826,
          0.0868365541100502,
          0.03687116503715515,
          0.03950817883014679,
          0.1394389569759369,
          0.13680192828178406,
          0.08937142044305801,
          0.03687116503715515,
          0.03950817883014679,
          0.08937142044305801,
          0.1394389569759369,
          0.08937142044305801,
          0.08754687756299973
         ],
         "y": [
          0.7852630615234375,
          0.7862687110900879,
          0.7833249568939209,
          0.7862687110900879,
          0.7872743606567383,
          0.8049371242523193,
          0.8029257655143738,
          0.7852630615234375,
          0.8922666311264038,
          0.7872743606567383,
          0.8049371242523193,
          0.8922666311264038,
          0.8029257655143738,
          0.8922666311264038,
          0.7465168237686157
         ],
         "z": [
          -0.2745946943759918,
          -0.27302971482276917,
          -0.28517019748687744,
          -0.27302971482276917,
          -0.2714647650718689,
          -0.198621928691864,
          -0.20175187289714813,
          -0.2745946943759918,
          -0.2602130174636841,
          -0.2714647650718689,
          -0.198621928691864,
          -0.2602130174636841,
          -0.20175187289714813,
          -0.2602130174636841,
          -0.22480596601963043
         ]
        },
        {
         "line": {
          "color": "#ff2300",
          "dash": "dash",
          "width": 4
         },
         "marker": {
          "size": 1
         },
         "name": "GT Camera 2",
         "scene": "scene",
         "type": "scatter3d",
         "x": [
          -0.053894639015197754,
          -0.0041074492037296295,
          -0.004927957430481911,
          -0.0041074492037296295,
          0.045679740607738495,
          0.050602786242961884,
          -0.048971593379974365,
          -0.053894639015197754,
          0.004823874682188034,
          0.045679740607738495,
          0.050602786242961884,
          0.004823874682188034,
          -0.048971593379974365,
          0.004823874682188034,
          -0.004880829714238644
         ],
         "y": [
          0.11241267621517181,
          0.11568395793437958,
          0.12815698981285095,
          0.11568395793437958,
          0.11895523220300674,
          0.0441170260310173,
          0.03757447004318237,
          0.11241267621517181,
          0.0788087323307991,
          0.11895523220300674,
          0.0441170260310173,
          0.0788087323307991,
          0.03757447004318237,
          0.0788087323307991,
          0.07799290865659714
         ],
         "z": [
          -0.9024078845977783,
          -0.8991621136665344,
          -0.8991473317146301,
          -0.8991621136665344,
          -0.8959163427352905,
          -0.8960050344467163,
          -0.9024965763092041,
          -0.9024078845977783,
          -0.9989954829216003,
          -0.8959163427352905,
          -0.8960050344467163,
          -0.9989954829216003,
          -0.9024965763092041,
          -0.9989954829216003,
          -0.8493119478225708
         ]
        },
        {
         "line": {
          "color": "#ff3500",
          "dash": "dash",
          "width": 4
         },
         "marker": {
          "size": 1
         },
         "name": "GT Camera 3",
         "scene": "scene",
         "type": "scatter3d",
         "x": [
          0.3207448720932007,
          0.27904456853866577,
          0.27333077788352966,
          0.27904456853866577,
          0.23734427988529205,
          0.2716270089149475,
          0.35502761602401733,
          0.3207448720932007,
          0.32708755135536194,
          0.23734427988529205,
          0.2716270089149475,
          0.32708755135536194,
          0.35502761602401733,
          0.32708755135536194,
          0.2807351350784302
         ],
         "y": [
          0.7439073324203491,
          0.7642641663551331,
          0.7626161575317383,
          0.7642641663551331,
          0.784621000289917,
          0.7945089936256409,
          0.7537953853607178,
          0.7439073324203491,
          0.8595883846282959,
          0.784621000289917,
          0.7945089936256409,
          0.8595883846282959,
          0.7537953853607178,
          0.8595883846282959,
          0.7240180969238281
         ],
         "z": [
          -0.33946964144706726,
          -0.320850133895874,
          -0.3318449854850769,
          -0.320850133895874,
          -0.3022306263446808,
          -0.2362615466117859,
          -0.27350056171417236,
          -0.33946964144706726,
          -0.3174714744091034,
          -0.3022306263446808,
          -0.2362615466117859,
          -0.3174714744091034,
          -0.27350056171417236,
          -0.3174714744091034,
          -0.27306267619132996
         ]
        },
        {
         "line": {
          "color": "#ff4700",
          "dash": "dash",
          "width": 4
         },
         "marker": {
          "size": 1
         },
         "name": "GT Camera 4",
         "scene": "scene",
         "type": "scatter3d",
         "x": [
          -0.2643264830112457,
          -0.21612200140953064,
          -0.21350422501564026,
          -0.21612200140953064,
          -0.16791751980781555,
          -0.1836242377758026,
          -0.2800332009792328,
          -0.2643264830112457,
          -0.24030733108520508,
          -0.16791751980781555,
          -0.1836242377758026,
          -0.24030733108520508,
          -0.2800332009792328,
          -0.24030733108520508,
          -0.21580937504768372
         ],
         "y": [
          0.1472480595111847,
          0.1371413767337799,
          0.14936017990112305,
          0.1371413767337799,
          0.12703469395637512,
          0.05372186750173569,
          0.07393524795770645,
          0.1472480595111847,
          0.10650791227817535,
          0.12703469395637512,
          0.05372186750173569,
          0.10650791227817535,
          0.07393524795770645,
          0.10650791227817535,
          0.09747349470853806
         ],
         "z": [
          -0.8432037234306335,
          -0.8518166542053223,
          -0.8515034914016724,
          -0.8518166542053223,
          -0.8604296445846558,
          -0.8623086810112,
          -0.8450827598571777,
          -0.8432037234306335,
          -0.9512295126914978,
          -0.8604296445846558,
          -0.8623086810112,
          -0.9512295126914978,
          -0.8450827598571777,
          -0.9512295126914978,
          -0.8035195469856262
         ]
        },
        {
         "line": {
          "color": "#ff5f00",
          "dash": "dash",
          "width": 4
         },
         "marker": {
          "size": 1
         },
         "name": "GT Camera 5",
         "scene": "scene",
         "type": "scatter3d",
         "x": [
          0.5673253536224365,
          0.5683512687683105,
          0.5586985349655151,
          0.5683512687683105,
          0.5693771839141846,
          0.6272937059402466,
          0.6252418756484985,
          0.5673253536224365,
          0.6608119010925293,
          0.5693771839141846,
          0.6272937059402466,
          0.6608119010925293,
          0.6252418756484985,
          0.6608119010925293,
          0.5655583739280701
         ],
         "y": [
          0.4800361692905426,
          0.515535295009613,
          0.5212659239768982,
          0.515535295009613,
          0.5510344505310059,
          0.5166507959365845,
          0.4456525444984436,
          0.4800361692905426,
          0.5517990589141846,
          0.5510344505310059,
          0.5166507959365845,
          0.5517990589141846,
          0.4456525444984436,
          0.5517990589141846,
          0.471615731716156
         ],
         "z": [
          -0.591623067855835,
          -0.5564270615577698,
          -0.5619256496429443,
          -0.5564270615577698,
          -0.5212310552597046,
          -0.48823949694633484,
          -0.5586315393447876,
          -0.591623067855835,
          -0.5956982374191284,
          -0.5212310552597046,
          -0.48823949694633484,
          -0.5956982374191284,
          -0.5586315393447876,
          -0.5956982374191284,
          -0.5120478272438049
         ]
        },
        {
         "line": {
          "color": "#ff7000",
          "dash": "dash",
          "width": 4
         },
         "marker": {
          "size": 1
         },
         "name": "GT Camera 6",
         "scene": "scene",
         "type": "scatter3d",
         "x": [
          -0.40191927552223206,
          -0.36324310302734375,
          -0.3569798469543457,
          -0.36324310302734375,
          -0.32456690073013306,
          -0.36214637756347656,
          -0.4394987225532532,
          -0.40191927552223206,
          -0.4208401143550873,
          -0.32456690073013306,
          -0.36214637756347656,
          -0.4208401143550873,
          -0.4394987225532532,
          -0.4208401143550873,
          -0.3626291751861572
         ],
         "y": [
          0.2065240442752838,
          0.18269358575344086,
          0.19348743557929993,
          0.18269358575344086,
          0.1588631123304367,
          0.09410002827644348,
          0.1417609602212906,
          0.2065240442752838,
          0.16680382192134857,
          0.1588631123304367,
          0.09410002827644348,
          0.16680382192134857,
          0.1417609602212906,
          0.16680382192134857,
          0.14206615090370178
         ],
         "z": [
          -0.8111398816108704,
          -0.8320267796516418,
          -0.8327441811561584,
          -0.8320267796516418,
          -0.8529136776924133,
          -0.8486093282699585,
          -0.8068355321884155,
          -0.8111398816108704,
          -0.9205499291419983,
          -0.8529136776924133,
          -0.8486093282699585,
          -0.9205499291419983,
          -0.8068355321884155,
          -0.9205499291419983,
          -0.7845369577407837
         ]
        },
        {
         "line": {
          "color": "#ff8200",
          "dash": "dash",
          "width": 4
         },
         "marker": {
          "size": 1
         },
         "name": "GT Camera 7",
         "scene": "scene",
         "type": "scatter3d",
         "x": [
          -0.6342311501502991,
          -0.5993059277534485,
          -0.5931309461593628,
          -0.5993059277534485,
          -0.5643807053565979,
          -0.6014306545257568,
          -0.671281099319458,
          -0.6342311501502991,
          -0.669605016708374,
          -0.5643807053565979,
          -0.6014306545257568,
          -0.669605016708374,
          -0.671281099319458,
          -0.669605016708374,
          -0.5919438004493713
         ],
         "y": [
          0.12367841601371765,
          0.09703023731708527,
          0.1075543612241745,
          0.09703023731708527,
          0.07038205862045288,
          0.00723729282617569,
          0.06053365021944046,
          0.12367841601371765,
          0.07388591766357422,
          0.07038205862045288,
          0.00723729282617569,
          0.07388591766357422,
          0.06053365021944046,
          0.07388591766357422,
          0.06124382093548775
         ],
         "z": [
          -0.9226217269897461,
          -0.9464985728263855,
          -0.9492119550704956,
          -0.9464985728263855,
          -0.9703754186630249,
          -0.9540954232215881,
          -0.9063417315483093,
          -0.9226217269897461,
          -1.023496150970459,
          -0.9703754186630249,
          -0.9540954232215881,
          -1.023496150970459,
          -0.9063417315483093,
          -1.023496150970459,
          -0.8957898020744324
         ]
        },
        {
         "line": {
          "color": "#ff9400",
          "dash": "dash",
          "width": 4
         },
         "marker": {
          "size": 1
         },
         "name": "GT Camera 8",
         "scene": "scene",
         "type": "scatter3d",
         "x": [
          -0.4486944377422333,
          -0.41440629959106445,
          -0.40731871128082275,
          -0.41440629959106445,
          -0.380118191242218,
          -0.4226438105106354,
          -0.49122005701065063,
          -0.4486944377422333,
          -0.481301486492157,
          -0.380118191242218,
          -0.4226438105106354,
          -0.481301486492157,
          -0.49122005701065063,
          -0.481301486492157,
          -0.412852942943573
         ],
         "y": [
          0.23077240586280823,
          0.20322167873382568,
          0.21339763700962067,
          0.20322167873382568,
          0.17567096650600433,
          0.11461521685123444,
          0.16971664130687714,
          0.23077240586280823,
          0.19104117155075073,
          0.17567096650600433,
          0.11461521685123444,
          0.19104117155075073,
          0.16971664130687714,
          0.19104117155075073,
          0.16352012753486633
         ],
         "z": [
          -0.8202149271965027,
          -0.8439906239509583,
          -0.8455609083175659,
          -0.8439906239509583,
          -0.867766261100769,
          -0.8583446741104126,
          -0.8107933402061462,
          -0.8202149271965027,
          -0.9263491034507751,
          -0.867766261100769,
          -0.8583446741104126,
          -0.9263491034507751,
          -0.8107933402061462,
          -0.9263491034507751,
          -0.7957451343536377
         ]
        },
        {
         "line": {
          "color": "#ffa500",
          "dash": "dash",
          "width": 4
         },
         "marker": {
          "size": 1
         },
         "name": "GT Camera 9",
         "scene": "scene",
         "type": "scatter3d",
         "x": [
          -0.3535560965538025,
          -0.385145366191864,
          -0.3779013752937317,
          -0.385145366191864,
          -0.41673463582992554,
          -0.4601984918117523,
          -0.3970199525356293,
          -0.3535560965538025,
          -0.4583560526371002,
          -0.41673463582992554,
          -0.4601984918117523,
          -0.4583560526371002,
          -0.3970199525356293,
          -0.4583560526371002,
          -0.3811379075050354
         ],
         "y": [
          0.7856009006500244,
          0.7564747929573059,
          0.757514476776123,
          0.7564747929573059,
          0.7273486852645874,
          0.7211105823516846,
          0.7793627977371216,
          0.7856009006500244,
          0.8342105150222778,
          0.7273486852645874,
          0.7211105823516846,
          0.8342105150222778,
          0.7793627977371216,
          0.8342105150222778,
          0.7129283547401428
         ],
         "z": [
          -0.24159196019172668,
          -0.26716122031211853,
          -0.2772950232028961,
          -0.26716122031211853,
          -0.2927304804325104,
          -0.23192769289016724,
          -0.18078917264938354,
          -0.24159196019172668,
          -0.2652631998062134,
          -0.2927304804325104,
          -0.23192769289016724,
          -0.2652631998062134,
          -0.18078917264938354,
          -0.2652631998062134,
          -0.22250813245773315
         ]
        },
        {
         "line": {
          "color": "#ffbd00",
          "dash": "dash",
          "width": 4
         },
         "marker": {
          "size": 1
         },
         "name": "GT Camera 10",
         "scene": "scene",
         "type": "scatter3d",
         "x": [
          -0.3977435529232025,
          -0.426286518573761,
          -0.41874974966049194,
          -0.426286518573761,
          -0.45482945442199707,
          -0.5000500082969666,
          -0.4429640769958496,
          -0.3977435529232025,
          -0.5046267509460449,
          -0.45482945442199707,
          -0.5000500082969666,
          -0.5046267509460449,
          -0.4429640769958496,
          -0.5046267509460449,
          -0.42103177309036255
         ],
         "y": [
          0.7697879076004028,
          0.7388277649879456,
          0.7404475808143616,
          0.7388277649879456,
          0.7078676223754883,
          0.6981488466262817,
          0.7600691318511963,
          0.7697879076004028,
          0.8114148378372192,
          0.7078676223754883,
          0.6981488466262817,
          0.8114148378372192,
          0.7600691318511963,
          0.8114148378372192,
          0.6952451467514038
         ],
         "z": [
          -0.2664262652397156,
          -0.29338493943214417,
          -0.3032248318195343,
          -0.29338493943214417,
          -0.32034358382225037,
          -0.26130419969558716,
          -0.20738689601421356,
          -0.2664262652397156,
          -0.29380208253860474,
          -0.32034358382225037,
          -0.26130419969558716,
          -0.29380208253860474,
          -0.20738689601421356,
          -0.29380208253860474,
          -0.24889682233333588
         ]
        },
        {
         "line": {
          "color": "#ffcf00",
          "dash": "dash",
          "width": 4
         },
         "marker": {
          "size": 1
         },
         "name": "GT Camera 11",
         "scene": "scene",
         "type": "scatter3d",
         "x": [
          0.6051325798034668,
          0.592923104763031,
          0.58299720287323,
          0.592923104763031,
          0.5807136297225952,
          0.6402690410614014,
          0.6646880507469177,
          0.6051325798034668,
          0.6783623099327087,
          0.5807136297225952,
          0.6402690410614014,
          0.6783623099327087,
          0.6646880507469177,
          0.6783623099327087,
          0.5948700904846191
         ],
         "y": [
          0.6348031163215637,
          0.6680862307548523,
          0.6715879440307617,
          0.6680862307548523,
          0.7013693451881409,
          0.6803590059280396,
          0.6137927770614624,
          0.6348031163215637,
          0.7267487645149231,
          0.7013693451881409,
          0.6803590059280396,
          0.7267487645149231,
          0.6137927770614624,
          0.7267487645149231,
          0.6229972243309021
         ],
         "z": [
          -0.5069221258163452,
          -0.47166359424591064,
          -0.47840631008148193,
          -0.47166359424591064,
          -0.4364050626754761,
          -0.39594870805740356,
          -0.4664657711982727,
          -0.5069221258163452,
          -0.49745312333106995,
          -0.4364050626754761,
          -0.39594870805740356,
          -0.49745312333106995,
          -0.4664657711982727,
          -0.49745312333106995,
          -0.4284265637397766
         ]
        },
        {
         "line": {
          "color": "#ffe000",
          "dash": "dash",
          "width": 4
         },
         "marker": {
          "size": 1
         },
         "name": "GT Camera 12",
         "scene": "scene",
         "type": "scatter3d",
         "x": [
          -0.6507650017738342,
          -0.6216412782669067,
          -0.614482045173645,
          -0.6216412782669067,
          -0.592517614364624,
          -0.6354731321334839,
          -0.6937205195426941,
          -0.6507650017738342,
          -0.7007985711097717,
          -0.592517614364624,
          -0.6354731321334839,
          -0.7007985711097717,
          -0.6937205195426941,
          -0.7007985711097717,
          -0.6142793297767639
         ],
         "y": [
          0.17117983102798462,
          0.14058372378349304,
          0.1502843201160431,
          0.14058372378349304,
          0.10998761653900146,
          0.05178402364253998,
          0.11297624558210373,
          0.17117983102798462,
          0.1267465204000473,
          0.10998761653900146,
          0.05178402364253998,
          0.1267465204000473,
          0.11297624558210373,
          0.1267465204000473,
          0.1038496345281601
         ],
         "z": [
          -0.8464966416358948,
          -0.8732489943504333,
          -0.8765495419502258,
          -0.8732489943504333,
          -0.9000013470649719,
          -0.8801982402801514,
          -0.8266935348510742,
          -0.8464966416358948,
          -0.9435974955558777,
          -0.9000013470649719,
          -0.8801982402801514,
          -0.9435974955558777,
          -0.8266935348510742,
          -0.9435974955558777,
          -0.8232224583625793
         ]
        },
        {
         "line": {
          "color": "#fef100",
          "dash": "dash",
          "width": 4
         },
         "marker": {
          "size": 1
         },
         "name": "GT Camera 13",
         "scene": "scene",
         "type": "scatter3d",
         "x": [
          0.46448272466659546,
          0.44197601079940796,
          0.4325169324874878,
          0.44197601079940796,
          0.41946932673454285,
          0.4762239158153534,
          0.521237313747406,
          0.46448272466659546,
          0.5177603363990784,
          0.41946932673454285,
          0.4762239158153534,
          0.5177603363990784,
          0.521237313747406,
          0.5177603363990784,
          0.44664981961250305
         ],
         "y": [
          0.6459499597549438,
          0.6775369644165039,
          0.6788537502288818,
          0.6775369644165039,
          0.709123969078064,
          0.7012234926223755,
          0.6380494832992554,
          0.6459499597549438,
          0.7503857016563416,
          0.709123969078064,
          0.7012234926223755,
          0.7503857016563416,
          0.6380494832992554,
          0.7503857016563416,
          0.6351872086524963
         ],
         "z": [
          -0.46857988834381104,
          -0.4370250105857849,
          -0.44508984684944153,
          -0.4370250105857849,
          -0.4054701328277588,
          -0.3570810854434967,
          -0.42019087076187134,
          -0.46857988834381104,
          -0.4558942914009094,
          -0.4054701328277588,
          -0.3570810854434967,
          -0.4558942914009094,
          -0.42019087076187134,
          -0.4558942914009094,
          -0.3912985920906067
         ]
        },
        {
         "line": {
          "color": "#f8fd00",
          "dash": "dash",
          "width": 4
         },
         "marker": {
          "size": 1
         },
         "name": "GT Camera 14",
         "scene": "scene",
         "type": "scatter3d",
         "x": [
          -0.6366435289382935,
          -0.6024807095527649,
          -0.5961630344390869,
          -0.6024807095527649,
          -0.5683178901672363,
          -0.6062241792678833,
          -0.6745498180389404,
          -0.6366435289382935,
          -0.6741324663162231,
          -0.5683178901672363,
          -0.6062241792678833,
          -0.6741324663162231,
          -0.6745498180389404,
          -0.6741324663162231,
          -0.595084547996521
         ],
         "y": [
          0.12783946096897125,
          0.10061784088611603,
          0.11103744804859161,
          0.10061784088611603,
          0.0733962208032608,
          0.010878555476665497,
          0.06532179564237595,
          0.12783946096897125,
          0.07871650159358978,
          0.0733962208032608,
          0.010878555476665497,
          0.07871650159358978,
          0.06532179564237595,
          0.07871650159358978,
          0.06468026340007782
         ],
         "z": [
          -0.9143120050430298,
          -0.9386406540870667,
          -0.9414278268814087,
          -0.9386406540870667,
          -0.9629693627357483,
          -0.9462463855743408,
          -0.8975890874862671,
          -0.9143120050430298,
          -1.0147498846054077,
          -0.9629693627357483,
          -0.9462463855743408,
          -1.0147498846054077,
          -0.8975890874862671,
          -1.0147498846054077,
          -0.8880438804626465
         ]
        },
        {
         "line": {
          "color": "#e2ff00",
          "dash": "dash",
          "width": 4
         },
         "marker": {
          "size": 1
         },
         "name": "GT Camera 15",
         "scene": "scene",
         "type": "scatter3d",
         "x": [
          -0.6575770974159241,
          -0.6604995131492615,
          -0.6514564156532288,
          -0.6604995131492615,
          -0.6634219288825989,
          -0.7176803946495056,
          -0.7118356227874756,
          -0.6575770974159241,
          -0.7564189434051514,
          -0.6634219288825989,
          -0.7176803946495056,
          -0.7564189434051514,
          -0.7118356227874756,
          -0.7564189434051514,
          -0.6532336473464966
         ],
         "y": [
          0.5435600876808167,
          0.5052229166030884,
          0.5103322267532349,
          0.5052229166030884,
          0.4668857753276825,
          0.4362300932407379,
          0.5129044055938721,
          0.5435600876808167,
          0.5393960475921631,
          0.4668857753276825,
          0.4362300932407379,
          0.5393960475921631,
          0.5129044055938721,
          0.5393960475921631,
          0.46514463424682617
         ],
         "z": [
          -0.48486584424972534,
          -0.5168302059173584,
          -0.5237849354743958,
          -0.5168302059173584,
          -0.5487945675849915,
          -0.5070663690567017,
          -0.44313761591911316,
          -0.48486584424972534,
          -0.5490468740463257,
          -0.5487945675849915,
          -0.5070663690567017,
          -0.5490468740463257,
          -0.44313761591911316,
          -0.5490468740463257,
          -0.4694257378578186
         ]
        },
        {
         "line": {
          "color": "#d1ff00",
          "dash": "dash",
          "width": 4
         },
         "marker": {
          "size": 1
         },
         "name": "GT Camera 16",
         "scene": "scene",
         "type": "scatter3d",
         "x": [
          0.4244869351387024,
          0.45777690410614014,
          0.4508100748062134,
          0.45777690410614014,
          0.4910668730735779,
          0.532867968082428,
          0.4662880301475525,
          0.4244869351387024,
          0.5282833576202393,
          0.4910668730735779,
          0.532867968082428,
          0.5282833576202393,
          0.4662880301475525,
          0.5282833576202393,
          0.45387449860572815
         ],
         "y": [
          0.18202558159828186,
          0.20894715189933777,
          0.21918654441833496,
          0.20894715189933777,
          0.23586872220039368,
          0.17443227767944336,
          0.12058914452791214,
          0.18202558159828186,
          0.19799786806106567,
          0.23586872220039368,
          0.17443227767944336,
          0.19799786806106567,
          0.12058914452791214,
          0.19799786806106567,
          0.16834445297718048
         ],
         "z": [
          -0.8511145114898682,
          -0.8252880573272705,
          -0.8269814252853394,
          -0.8252880573272705,
          -0.7994616031646729,
          -0.7893011569976807,
          -0.8409541249275208,
          -0.8511145114898682,
          -0.9047563076019287,
          -0.7994616031646729,
          -0.7893011569976807,
          -0.9047563076019287,
          -0.8409541249275208,
          -0.9047563076019287,
          -0.7779335975646973
         ]
        },
        {
         "line": {
          "color": "#bfff00",
          "dash": "dash",
          "width": 4
         },
         "marker": {
          "size": 1
         },
         "name": "GT Camera 17",
         "scene": "scene",
         "type": "scatter3d",
         "x": [
          -0.6517045497894287,
          -0.6249948143959045,
          -0.6174819469451904,
          -0.6249948143959045,
          -0.5982850790023804,
          -0.6433624625205994,
          -0.6967818737030029,
          -0.6517045497894287,
          -0.7069807648658752,
          -0.5982850790023804,
          -0.6433624625205994,
          -0.7069807648658752,
          -0.6967818737030029,
          -0.7069807648658752,
          -0.6178098320960999
         ],
         "y": [
          0.1917695552110672,
          0.1596793681383133,
          0.16900479793548584,
          0.1596793681383133,
          0.1275891661643982,
          0.07163657248020172,
          0.13581696152687073,
          0.1917695552110672,
          0.14945697784423828,
          0.1275891661643982,
          0.07163657248020172,
          0.14945697784423828,
          0.13581696152687073,
          0.14945697784423828,
          0.12282610684633255
         ],
         "z": [
          -0.8227499127388,
          -0.8502600789070129,
          -0.8538437485694885,
          -0.8502600789070129,
          -0.8777703046798706,
          -0.8562681674957275,
          -0.8012478351593018,
          -0.8227499127388,
          -0.9179362058639526,
          -0.8777703046798706,
          -0.8562681674957275,
          -0.9179362058639526,
          -0.8012478351593018,
          -0.9179362058639526,
          -0.8002954721450806
         ]
        },
        {
         "line": {
          "color": "#adff00",
          "dash": "dash",
          "width": 4
         },
         "marker": {
          "size": 1
         },
         "name": "GT Camera 18",
         "scene": "scene",
         "type": "scatter3d",
         "x": [
          -0.6215774416923523,
          -0.6139547824859619,
          -0.6049297451972961,
          -0.6139547824859619,
          -0.6063321232795715,
          -0.6604825258255005,
          -0.6757278442382812,
          -0.6215774416923523,
          -0.7085182666778564,
          -0.6063321232795715,
          -0.6604825258255005,
          -0.7085182666778564,
          -0.6757278442382812,
          -0.7085182666778564,
          -0.6072858572006226
         ],
         "y": [
          0.4273923337459564,
          0.3899025321006775,
          0.39651966094970703,
          0.3899025321006775,
          0.35241276025772095,
          0.3127100169658661,
          0.38768962025642395,
          0.4273923337459564,
          0.40974676609039307,
          0.35241276025772095,
          0.3127100169658661,
          0.40974676609039307,
          0.38768962025642395,
          0.40974676609039307,
          0.35020339488983154
         ],
         "z": [
          -0.572991669178009,
          -0.6051849722862244,
          -0.6107538342475891,
          -0.6051849722862244,
          -0.6373783349990845,
          -0.6039652824401855,
          -0.5395786166191101,
          -0.572991669178009,
          -0.6506845355033875,
          -0.6373783349990845,
          -0.6039652824401855,
          -0.6506845355033875,
          -0.5395786166191101,
          -0.6506845355033875,
          -0.557375431060791
         ]
        },
        {
         "line": {
          "color": "#9cff00",
          "dash": "dash",
          "width": 4
         },
         "marker": {
          "size": 1
         },
         "name": "GT Camera 19",
         "scene": "scene",
         "type": "scatter3d",
         "x": [
          -0.6329055428504944,
          -0.5978305339813232,
          -0.5916825532913208,
          -0.5978305339813232,
          -0.5627554655075073,
          -0.599643349647522,
          -0.6697933673858643,
          -0.6329055428504944,
          -0.6678488850593567,
          -0.5627554655075073,
          -0.599643349647522,
          -0.6678488850593567,
          -0.6697933673858643,
          -0.6678488850593567,
          -0.5904872417449951
         ],
         "y": [
          0.12317408621311188,
          0.09664010256528854,
          0.10718430578708649,
          0.09664010256528854,
          0.07010611891746521,
          0.006840914487838745,
          0.05990888178348541,
          0.12317408621311188,
          0.0732695609331131,
          0.07010611891746521,
          0.006840914487838745,
          0.0732695609331131,
          0.05990888178348541,
          0.0732695609331131,
          0.060876473784446716
         ],
         "z": [
          -0.9240725040435791,
          -0.9478567838668823,
          -0.9505534768104553,
          -0.9478567838668823,
          -0.9716410040855408,
          -0.955460786819458,
          -0.9078922867774963,
          -0.9240725040435791,
          -1.0250415802001953,
          -0.9716410040855408,
          -0.955460786819458,
          -1.0250415802001953,
          -0.9078922867774963,
          -1.0250415802001953,
          -0.8971291780471802
         ]
        },
        {
         "line": {
          "color": "#84ff00",
          "dash": "dash",
          "width": 4
         },
         "marker": {
          "size": 1
         },
         "name": "GT Camera 20",
         "scene": "scene",
         "type": "scatter3d",
         "x": [
          -0.3001774549484253,
          -0.2530097961425781,
          -0.24971595406532288,
          -0.2530097961425781,
          -0.20584212243556976,
          -0.2256050407886505,
          -0.31994035840034485,
          -0.3001774549484253,
          -0.2830530107021332,
          -0.20584212243556976,
          -0.2256050407886505,
          -0.2830530107021332,
          -0.31994035840034485,
          -0.2830530107021332,
          -0.25281035900115967
         ],
         "y": [
          0.15784023702144623,
          0.14529187977313995,
          0.15734410285949707,
          0.14529187977313995,
          0.13274352252483368,
          0.06043015792965889,
          0.08552688360214233,
          0.15784023702144623,
          0.11772353947162628,
          0.13274352252483368,
          0.06043015792965889,
          0.11772353947162628,
          0.08552688360214233,
          0.11772353947162628,
          0.10484102368354797
         ],
         "z": [
          -0.8313205242156982,
          -0.842171847820282,
          -0.8417916297912598,
          -0.842171847820282,
          -0.8530231714248657,
          -0.8553045988082886,
          -0.8336019515991211,
          -0.8313205242156982,
          -0.9408817291259766,
          -0.8530231714248657,
          -0.8553045988082886,
          -0.9408817291259766,
          -0.8336019515991211,
          -0.9408817291259766,
          -0.7945279479026794
         ]
        },
        {
         "line": {
          "color": "#72ff00",
          "dash": "dash",
          "width": 4
         },
         "marker": {
          "size": 1
         },
         "name": "GT Camera 21",
         "scene": "scene",
         "type": "scatter3d",
         "x": [
          -0.24360300600528717,
          -0.19502513110637665,
          -0.19271191954612732,
          -0.19502513110637665,
          -0.14644727110862732,
          -0.16032657027244568,
          -0.2574823200702667,
          -0.24360300600528717,
          -0.2167396992444992,
          -0.14644727110862732,
          -0.16032657027244568,
          -0.2167396992444992,
          -0.2574823200702667,
          -0.2167396992444992,
          -0.19457733631134033
         ],
         "y": [
          0.1422080099582672,
          0.13321049511432648,
          0.14549219608306885,
          0.13321049511432648,
          0.12421298027038574,
          0.05052276700735092,
          0.0685177892446518,
          0.1422080099582672,
          0.10109893232584,
          0.12421298027038574,
          0.05052276700735092,
          0.10109893232584,
          0.0685177892446518,
          0.10109893232584,
          0.09399861097335815
         ],
         "z": [
          -0.8485092520713806,
          -0.8562057018280029,
          -0.8559631705284119,
          -0.8562057018280029,
          -0.8639020919799805,
          -0.8653572201728821,
          -0.8499643802642822,
          -0.8485092520713806,
          -0.9557223916053772,
          -0.8639020919799805,
          -0.8653572201728821,
          -0.9557223916053772,
          -0.8499643802642822,
          -0.9557223916053772,
          -0.8075386881828308
         ]
        },
        {
         "line": {
          "color": "#61ff00",
          "dash": "dash",
          "width": 4
         },
         "marker": {
          "size": 1
         },
         "name": "GT Camera 22",
         "scene": "scene",
         "type": "scatter3d",
         "x": [
          -0.33543065190315247,
          -0.36824744939804077,
          -0.3611563742160797,
          -0.36824744939804077,
          -0.4010642468929291,
          -0.44361063838005066,
          -0.37797707319259644,
          -0.33543065190315247,
          -0.4392610192298889,
          -0.4010642468929291,
          -0.44361063838005066,
          -0.4392610192298889,
          -0.37797707319259644,
          -0.4392610192298889,
          -0.3646504580974579
         ],
         "y": [
          0.7933411598205566,
          0.7649887800216675,
          0.7657884359359741,
          0.7649887800216675,
          0.7366363406181335,
          0.7318382263183594,
          0.7885431051254272,
          0.7933411598205566,
          0.8447093367576599,
          0.7366363406181335,
          0.7318382263183594,
          0.8447093367576599,
          0.7885431051254272,
          0.8447093367576599,
          0.7215299010276794
         ],
         "z": [
          -0.2307950258255005,
          -0.2556787133216858,
          -0.2659416198730469,
          -0.2556787133216858,
          -0.2805624008178711,
          -0.2189849615097046,
          -0.16921758651733398,
          -0.2307950258255005,
          -0.252858966588974,
          -0.2805624008178711,
          -0.2189849615097046,
          -0.252858966588974,
          -0.16921758651733398,
          -0.252858966588974,
          -0.2109055072069168
         ]
        },
        {
         "line": {
          "color": "#4fff00",
          "dash": "dash",
          "width": 4
         },
         "marker": {
          "size": 1
         },
         "name": "GT Camera 23",
         "scene": "scene",
         "type": "scatter3d",
         "x": [
          -0.6391687989234924,
          -0.6224091649055481,
          -0.61380934715271,
          -0.6224091649055481,
          -0.6056495904922485,
          -0.6572484374046326,
          -0.6907676458358765,
          -0.6391687989234924,
          -0.7125765681266785,
          -0.6056495904922485,
          -0.6572484374046326,
          -0.7125765681266785,
          -0.6907676458358765,
          -0.7125765681266785,
          -0.6160246133804321
         ],
         "y": [
          0.30832892656326294,
          0.27207398414611816,
          0.2798815071582794,
          0.27207398414611816,
          0.235819011926651,
          0.1889737844467163,
          0.26148369908332825,
          0.30832892656326294,
          0.2776517868041992,
          0.235819011926651,
          0.1889737844467163,
          0.2776517868041992,
          0.26148369908332825,
          0.2776517868041992,
          0.23415113985538483
         ],
         "z": [
          -0.6780567169189453,
          -0.7081348896026611,
          -0.7127538919448853,
          -0.7081348896026611,
          -0.7382130026817322,
          -0.7104986906051636,
          -0.6503424048423767,
          -0.6780567169189453,
          -0.7650995850563049,
          -0.7382130026817322,
          -0.7104986906051636,
          -0.7650995850563049,
          -0.6503424048423767,
          -0.7650995850563049,
          -0.6588667631149292
         ]
        },
        {
         "line": {
          "color": "#3dff00",
          "dash": "dash",
          "width": 4
         },
         "marker": {
          "size": 1
         },
         "name": "GT Camera 24",
         "scene": "scene",
         "type": "scatter3d",
         "x": [
          0.34924668073654175,
          0.31021034717559814,
          0.3037080466747284,
          0.31021034717559814,
          0.27117404341697693,
          0.3101878762245178,
          0.38826048374176025,
          0.34924668073654175,
          0.3643401861190796,
          0.27117404341697693,
          0.3101878762245178,
          0.3643401861190796,
          0.38826048374176025,
          0.3643401861190796,
          0.3124057948589325
         ],
         "y": [
          0.7171446681022644,
          0.7400187849998474,
          0.7387887835502625,
          0.7400187849998474,
          0.7628929615020752,
          0.7702730298042297,
          0.724524736404419,
          0.7171446681022644,
          0.8320845365524292,
          0.7628929615020752,
          0.7702730298042297,
          0.8320845365524292,
          0.724524736404419,
          0.8320845365524292,
          0.6995209455490112
         ],
         "z": [
          -0.359924852848053,
          -0.33864250779151917,
          -0.3492470681667328,
          -0.33864250779151917,
          -0.31736013293266296,
          -0.2537326514720917,
          -0.2962973713874817,
          -0.359924852848053,
          -0.338308721780777,
          -0.31736013293266296,
          -0.2537326514720917,
          -0.338308721780777,
          -0.2962973713874817,
          -0.338308721780777,
          -0.2910887598991394
         ]
        },
        {
         "line": {
          "color": "#25ff00",
          "dash": "dash",
          "width": 4
         },
         "marker": {
          "size": 1
         },
         "name": "GT Camera 25",
         "scene": "scene",
         "type": "scatter3d",
         "x": [
          0.4782950282096863,
          0.4573603570461273,
          0.4477449357509613,
          0.4573603570461273,
          0.43642571568489075,
          0.49411827325820923,
          0.5359876155853271,
          0.4782950282096863,
          0.5344741344451904,
          0.43642571568489075,
          0.49411827325820923,
          0.5344741344451904,
          0.5359876155853271,
          0.5344741344451904,
          0.4620729088783264
         ],
         "y": [
          0.6477223038673401,
          0.6796533465385437,
          0.6812593340873718,
          0.6796533465385437,
          0.7115844488143921,
          0.7019486427307129,
          0.6380864977836609,
          0.6477223038673401,
          0.7507075071334839,
          0.7115844488143921,
          0.7019486427307129,
          0.7507075071334839,
          0.6380864977836609,
          0.7507075071334839,
          0.636899471282959
         ],
         "z": [
          -0.474383145570755,
          -0.44210085272789,
          -0.4499248266220093,
          -0.44210085272789,
          -0.40981853008270264,
          -0.36287474632263184,
          -0.4274393618106842,
          -0.474383145570755,
          -0.46237462759017944,
          -0.40981853008270264,
          -0.36287474632263184,
          -0.46237462759017944,
          -0.4274393618106842,
          -0.46237462759017944,
          -0.396756112575531
         ]
        },
        {
         "line": {
          "color": "#14ff00",
          "dash": "dash",
          "width": 4
         },
         "marker": {
          "size": 1
         },
         "name": "GT Camera 26",
         "scene": "scene",
         "type": "scatter3d",
         "x": [
          -0.6475751399993896,
          -0.617529571056366,
          -0.6105145812034607,
          -0.617529571056366,
          -0.5874840617179871,
          -0.6295742988586426,
          -0.6896653175354004,
          -0.6475751399993896,
          -0.6954920291900635,
          -0.5874840617179871,
          -0.6295742988586426,
          -0.6954920291900635,
          -0.6896653175354004,
          -0.6954920291900635,
          -0.6101160049438477
         ],
         "y": [
          0.16265642642974854,
          0.13263612985610962,
          0.14247331023216248,
          0.13263612985610962,
          0.1026158481836319,
          0.04359274357557297,
          0.10363331437110901,
          0.16265642642974854,
          0.11733157187700272,
          0.1026158481836319,
          0.04359274357557297,
          0.11733157187700272,
          0.10363331437110901,
          0.11733157187700272,
          0.09602108597755432
         ],
         "z": [
          -0.8595632314682007,
          -0.8859459757804871,
          -0.8891505599021912,
          -0.8859459757804871,
          -0.9123287200927734,
          -0.8931014537811279,
          -0.8403359651565552,
          -0.8595632314682007,
          -0.9573174118995667,
          -0.9123287200927734,
          -0.8931014537811279,
          -0.9573174118995667,
          -0.8403359651565552,
          -0.9573174118995667,
          -0.8358398079872131
         ]
        },
        {
         "line": {
          "color": "#06ff04",
          "dash": "dash",
          "width": 4
         },
         "marker": {
          "size": 1
         },
         "name": "GT Camera 27",
         "scene": "scene",
         "type": "scatter3d",
         "x": [
          -0.372233122587204,
          -0.40258079767227173,
          -0.3952021598815918,
          -0.40258079767227173,
          -0.43292850255966187,
          -0.47720038890838623,
          -0.41650500893592834,
          -0.372233122587204,
          -0.4779298007488251,
          -0.43292850255966187,
          -0.47720038890838623,
          -0.4779298007488251,
          -0.41650500893592834,
          -0.4779298007488251,
          -0.3981102406978607
         ],
         "y": [
          0.778207004070282,
          0.7483209371566772,
          0.7495986819267273,
          0.7483209371566772,
          0.7184348702430725,
          0.7107682824134827,
          0.7705404162406921,
          0.778207004070282,
          0.8240036964416504,
          0.7184348702430725,
          0.7107682824134827,
          0.8240036964416504,
          0.7705404162406921,
          0.8240036964416504,
          0.7047296166419983
         ],
         "z": [
          -0.25367802381515503,
          -0.27986660599708557,
          -0.28987523913383484,
          -0.27986660599708557,
          -0.3060551881790161,
          -0.24600334465503693,
          -0.19362619519233704,
          -0.25367802381515503,
          -0.27891936898231506,
          -0.3060551881790161,
          -0.24600334465503693,
          -0.27891936898231506,
          -0.19362619519233704,
          -0.27891936898231506,
          -0.23530134558677673
         ]
        },
        {
         "line": {
          "color": "#00ff10",
          "dash": "dash",
          "width": 4
         },
         "marker": {
          "size": 1
         },
         "name": "GT Camera 28",
         "scene": "scene",
         "type": "scatter3d",
         "x": [
          0.4922577440738678,
          0.5085422992706299,
          0.4994995594024658,
          0.5085422992706299,
          0.5248268842697144,
          0.579083263874054,
          0.5465141534805298,
          0.4922577440738678,
          0.5965466499328613,
          0.5248268842697144,
          0.579083263874054,
          0.5965466499328613,
          0.5465141534805298,
          0.5965466499328613,
          0.5052324533462524
         ],
         "y": [
          0.3269707262516022,
          0.36048051714897156,
          0.3683655858039856,
          0.36048051714897156,
          0.39399030804634094,
          0.3466799855232239,
          0.2796604037284851,
          0.3269707262516022,
          0.3759307861328125,
          0.39399030804634094,
          0.3466799855232239,
          0.3759307861328125,
          0.2796604037284851,
          0.3759307861328125,
          0.3172726333141327
         ],
         "z": [
          -0.7194907665252686,
          -0.686145544052124,
          -0.6896533370018005,
          -0.686145544052124,
          -0.6528002619743347,
          -0.6317532658576965,
          -0.6984438300132751,
          -0.7194907665252686,
          -0.7446500062942505,
          -0.6528002619743347,
          -0.6317532658576965,
          -0.7446500062942505,
          -0.6984438300132751,
          -0.7446500062942505,
          -0.6411080360412598
         ]
        },
        {
         "line": {
          "color": "#00ff21",
          "dash": "dash",
          "width": 4
         },
         "marker": {
          "size": 1
         },
         "name": "GT Camera 29",
         "scene": "scene",
         "type": "scatter3d",
         "x": [
          0.6328627467155457,
          0.6232308149337769,
          0.613358199596405,
          0.6232308149337769,
          0.6135988831520081,
          0.6728346943855286,
          0.6920986175537109,
          0.6328627467155457,
          0.7110800743103027,
          0.6135988831520081,
          0.6728346943855286,
          0.7110800743103027,
          0.6920986175537109,
          0.7110800743103027,
          0.6237330436706543
         ],
         "y": [
          0.6111129522323608,
          0.6450405120849609,
          0.6490587592124939,
          0.6450405120849609,
          0.6789681315422058,
          0.6548588275909424,
          0.5870036482810974,
          0.6111129522323608,
          0.699033796787262,
          0.6789681315422058,
          0.6548588275909424,
          0.699033796787262,
          0.5870036482810974,
          0.699033796787262,
          0.5999619364738464
         ],
         "z": [
          -0.5073561072349548,
          -0.47191399335861206,
          -0.47844353318214417,
          -0.47191399335861206,
          -0.4364718794822693,
          -0.3972945809364319,
          -0.4681788384914398,
          -0.5073561072349548,
          -0.4997256100177765,
          -0.4364718794822693,
          -0.3972945809364319,
          -0.4997256100177765,
          -0.4681788384914398,
          -0.4997256100177765,
          -0.428625226020813
         ]
        },
        {
         "line": {
          "color": "#00ff39",
          "dash": "dash",
          "width": 4
         },
         "marker": {
          "size": 1
         },
         "name": "GT Camera 30",
         "scene": "scene",
         "type": "scatter3d",
         "x": [
          -0.6221153736114502,
          -0.6130572557449341,
          -0.6040741205215454,
          -0.6130572557449341,
          -0.6039990782737732,
          -0.6578977704048157,
          -0.6760140657424927,
          -0.6221153736114502,
          -0.7071425318717957,
          -0.6039990782737732,
          -0.6578977704048157,
          -0.7071425318717957,
          -0.6760140657424927,
          -0.7071425318717957,
          -0.6064386367797852
         ],
         "y": [
          0.4197951555252075,
          0.38246339559555054,
          0.38927361369132996,
          0.38246339559555054,
          0.34513163566589355,
          0.30427026748657227,
          0.37893378734588623,
          0.4197951555252075,
          0.40020453929901123,
          0.34513163566589355,
          0.30427026748657227,
          0.40020453929901123,
          0.37893378734588623,
          0.40020453929901123,
          0.3429467976093292
         ],
         "z": [
          -0.5836018919944763,
          -0.615606427192688,
          -0.6210077404975891,
          -0.615606427192688,
          -0.6476109027862549,
          -0.6152028441429138,
          -0.5511938333511353,
          -0.5836018919944763,
          -0.662929356098175,
          -0.6476109027862549,
          -0.6152028441429138,
          -0.662929356098175,
          -0.5511938333511353,
          -0.662929356098175,
          -0.5676388740539551
         ]
        },
        {
         "line": {
          "color": "#00ff4b",
          "dash": "dash",
          "width": 4
         },
         "marker": {
          "size": 1
         },
         "name": "GT Camera 31",
         "scene": "scene",
         "type": "scatter3d",
         "x": [
          0.6348481178283691,
          0.626176655292511,
          0.6163238286972046,
          0.626176655292511,
          0.6175052523612976,
          0.6766222715377808,
          0.6939650774002075,
          0.6348481178283691,
          0.7147793173789978,
          0.6175052523612976,
          0.6766222715377808,
          0.7147793173789978,
          0.6939650774002075,
          0.7147793173789978,
          0.6262130737304688
         ],
         "y": [
          0.6016650795936584,
          0.6358051896095276,
          0.6400027871131897,
          0.6358051896095276,
          0.669945240020752,
          0.6447595357894897,
          0.5764793753623962,
          0.6016650795936584,
          0.6880978941917419,
          0.669945240020752,
          0.6447595357894897,
          0.6880978941917419,
          0.5764793753623962,
          0.6880978941917419,
          0.5907695293426514
         ],
         "z": [
          -0.5117547512054443,
          -0.4762686789035797,
          -0.4827147126197815,
          -0.4762686789035797,
          -0.4407826066017151,
          -0.40210625529289246,
          -0.4730783700942993,
          -0.5117547512054443,
          -0.504926860332489,
          -0.4407826066017151,
          -0.40210625529289246,
          -0.504926860332489,
          -0.4730783700942993,
          -0.504926860332489,
          -0.4329323172569275
         ]
        },
        {
         "line": {
          "color": "#00ff5c",
          "dash": "dash",
          "width": 4
         },
         "marker": {
          "size": 1
         },
         "name": "GT Camera 32",
         "scene": "scene",
         "type": "scatter3d",
         "x": [
          0.4932176172733307,
          0.4736710786819458,
          0.4639418125152588,
          0.4736710786819458,
          0.4541245698928833,
          0.5125003457069397,
          0.5515933632850647,
          0.4932176172733307,
          0.5519868731498718,
          0.4541245698928833,
          0.5125003457069397,
          0.5519868731498718,
          0.5515933632850647,
          0.5519868731498718,
          0.4782950282096863
         ],
         "y": [
          0.6516537666320801,
          0.6838127374649048,
          0.6856977343559265,
          0.6838127374649048,
          0.7159717082977295,
          0.7046616673469543,
          0.6403437852859497,
          0.6516537666320801,
          0.7532296776771545,
          0.7159717082977295,
          0.7046616673469543,
          0.7532296776771545,
          0.6403437852859497,
          0.7532296776771545,
          0.6406217813491821
         ],
         "z": [
          -0.47953400015830994,
          -0.4466138780117035,
          -0.4542321264743805,
          -0.4466138780117035,
          -0.41369375586509705,
          -0.3679842948913574,
          -0.4338245391845703,
          -0.47953400015830994,
          -0.4679253399372101,
          -0.41369375586509705,
          -0.3679842948913574,
          -0.4679253399372101,
          -0.4338245391845703,
          -0.4679253399372101,
          -0.4016760289669037
         ]
        },
        {
         "line": {
          "color": "#00ff6e",
          "dash": "dash",
          "width": 4
         },
         "marker": {
          "size": 1
         },
         "name": "GT Camera 33",
         "scene": "scene",
         "type": "scatter3d",
         "x": [
          -0.21426799893379211,
          -0.25614094734191895,
          -0.25086793303489685,
          -0.25614094734191895,
          -0.2980138957500458,
          -0.32965195178985596,
          -0.2459060698747635,
          -0.21426799893379211,
          -0.30670374631881714,
          -0.2980138957500458,
          -0.32965195178985596,
          -0.30670374631881714,
          -0.2459060698747635,
          -0.30670374631881714,
          -0.2545880973339081
         ],
         "y": [
          0.8534329533576965,
          0.8327539563179016,
          0.83183354139328,
          0.8327539563179016,
          0.8120749592781067,
          0.8175974488258362,
          0.8589553833007812,
          0.8534329533576965,
          0.9262637495994568,
          0.8120749592781067,
          0.8175974488258362,
          0.9262637495994568,
          0.8589553833007812,
          0.9262637495994568,
          0.7901408672332764
         ],
         "z": [
          -0.1985582709312439,
          -0.21641986072063446,
          -0.22771579027175903,
          -0.21641986072063446,
          -0.23428145051002502,
          -0.1665058135986328,
          -0.13078264892101288,
          -0.1985582709312439,
          -0.20614498853683472,
          -0.23428145051002502,
          -0.1665058135986328,
          -0.20614498853683472,
          -0.13078264892101288,
          -0.20614498853683472,
          -0.17072556912899017
         ]
        },
        {
         "line": {
          "color": "#00ff80",
          "dash": "dash",
          "width": 4
         },
         "marker": {
          "size": 1
         },
         "name": "GT Camera 34",
         "scene": "scene",
         "type": "scatter3d",
         "x": [
          0.3346470296382904,
          0.2942315638065338,
          0.28812047839164734,
          0.2942315638065338,
          0.25381606817245483,
          0.2904824912548065,
          0.3713134527206421,
          0.3346470296382904,
          0.345371276140213,
          0.25381606817245483,
          0.2904824912548065,
          0.345371276140213,
          0.3713134527206421,
          0.345371276140213,
          0.2961615025997162
         ],
         "y": [
          0.7320108413696289,
          0.7536488771438599,
          0.7522045373916626,
          0.7536488771438599,
          0.7752869129180908,
          0.7839531302452087,
          0.740676999092102,
          0.7320108413696289,
          0.847389280796051,
          0.7752869129180908,
          0.7839531302452087,
          0.847389280796051,
          0.740676999092102,
          0.847389280796051,
          0.7132782936096191
         ],
         "z": [
          -0.3493379056453705,
          -0.32937830686569214,
          -0.34018659591674805,
          -0.32937830686569214,
          -0.3094187378883362,
          -0.24456912279129028,
          -0.2844882905483246,
          -0.3493379056453705,
          -0.3274505138397217,
          -0.3094187378883362,
          -0.24456912279129028,
          -0.3274505138397217,
          -0.2844882905483246,
          -0.3274505138397217,
          -0.28170502185821533
         ]
        },
        {
         "line": {
          "color": "#00ff97",
          "dash": "dash",
          "width": 4
         },
         "marker": {
          "size": 1
         },
         "name": "GT Camera 35",
         "scene": "scene",
         "type": "scatter3d",
         "x": [
          0.580328643321991,
          0.5803375840187073,
          0.5706647634506226,
          0.5803375840187073,
          0.5803464651107788,
          0.6383832693099976,
          0.6383653879165649,
          0.580328643321991,
          0.672696053981781,
          0.5803464651107788,
          0.6383832693099976,
          0.672696053981781,
          0.6383653879165649,
          0.672696053981781,
          0.5776858925819397
         ],
         "y": [
          0.4910573363304138,
          0.5264685153961182,
          0.532059371471405,
          0.5264685153961182,
          0.5618796348571777,
          0.5283342003822327,
          0.4575119614601135,
          0.4910573363304138,
          0.5643188953399658,
          0.5618796348571777,
          0.5283342003822327,
          0.5643188953399658,
          0.4575119614601135,
          0.5643188953399658,
          0.48238423466682434
         ],
         "z": [
          -0.5801114439964294,
          -0.5448119640350342,
          -0.5504181385040283,
          -0.5448119640350342,
          -0.5095125436782837,
          -0.4758756458759308,
          -0.5464745759963989,
          -0.5801114439964294,
          -0.5828054547309875,
          -0.5095125436782837,
          -0.4758756458759308,
          -0.5828054547309875,
          -0.5464745759963989,
          -0.5828054547309875,
          -0.5005875825881958
         ]
        },
        {
         "line": {
          "color": "#00ffa9",
          "dash": "dash",
          "width": 4
         },
         "marker": {
          "size": 1
         },
         "name": "GT Camera 36",
         "scene": "scene",
         "type": "scatter3d",
         "x": [
          -0.6679549813270569,
          -0.6767959594726562,
          -0.6680051684379578,
          -0.6767959594726562,
          -0.6856369972229004,
          -0.7383816838264465,
          -0.720699667930603,
          -0.6679549813270569,
          -0.772027313709259,
          -0.6856369972229004,
          -0.7383816838264465,
          -0.772027313709259,
          -0.720699667930603,
          -0.772027313709259,
          -0.668738842010498
         ],
         "y": [
          0.6175365447998047,
          0.5797224044799805,
          0.5841056704521179,
          0.5797224044799805,
          0.5419082641601562,
          0.5156087875366211,
          0.5912370681762695,
          0.6175365447998047,
          0.6218061447143555,
          0.5419082641601562,
          0.5156087875366211,
          0.6218061447143555,
          0.5912370681762695,
          0.6218061447143555,
          0.5389559268951416
         ],
         "z": [
          -0.41764241456985474,
          -0.44913727045059204,
          -0.45686769485473633,
          -0.44913727045059204,
          -0.48063215613365173,
          -0.4342496991157532,
          -0.3712599575519562,
          -0.41764241456985474,
          -0.47293224930763245,
          -0.48063215613365173,
          -0.4342496991157532,
          -0.47293224930763245,
          -0.3712599575519562,
          -0.47293224930763245,
          -0.4024529457092285
         ]
        },
        {
         "line": {
          "color": "#00ffbb",
          "dash": "dash",
          "width": 4
         },
         "marker": {
          "size": 1
         },
         "name": "GT Camera 37",
         "scene": "scene",
         "type": "scatter3d",
         "x": [
          -0.6354784369468689,
          -0.6198720335960388,
          -0.611233651638031,
          -0.6198720335960388,
          -0.604265570640564,
          -0.6560956835746765,
          -0.6873085498809814,
          -0.6354784369468689,
          -0.710979163646698,
          -0.604265570640564,
          -0.6560956835746765,
          -0.710979163646698,
          -0.6873085498809814,
          -0.710979163646698,
          -0.6131910085678101
         ],
         "y": [
          0.3207680284976959,
          0.28477543592453003,
          0.2925235331058502,
          0.28477543592453003,
          0.24878285825252533,
          0.20229434967041016,
          0.27427950501441956,
          0.3207680284976959,
          0.29277274012565613,
          0.24878285825252533,
          0.20229434967041016,
          0.29277274012565613,
          0.27427950501441956,
          0.29277274012565613,
          0.2459104061126709
         ],
         "z": [
          -0.6639676094055176,
          -0.6949671506881714,
          -0.6996142864227295,
          -0.6949671506881714,
          -0.72596675157547,
          -0.698083758354187,
          -0.6360846161842346,
          -0.6639676094055176,
          -0.7501195073127747,
          -0.72596675157547,
          -0.698083758354187,
          -0.7501195073127747,
          -0.6360846161842346,
          -0.7501195073127747,
          -0.6464787721633911
         ]
        },
        {
         "line": {
          "color": "#00ffcd",
          "dash": "dash",
          "width": 4
         },
         "marker": {
          "size": 1
         },
         "name": "GT Camera 38",
         "scene": "scene",
         "type": "scatter3d",
         "x": [
          0.5914093255996704,
          0.5903602838516235,
          0.5806605815887451,
          0.5903602838516235,
          0.5893112421035767,
          0.6475095748901367,
          0.6496076583862305,
          0.5914093255996704,
          0.6825006008148193,
          0.5893112421035767,
          0.6475095748901367,
          0.6825006008148193,
          0.6496076583862305,
          0.6825006008148193,
          0.5879389047622681
         ],
         "y": [
          0.5032370686531067,
          0.5385320782661438,
          0.543969988822937,
          0.5385320782661438,
          0.5738270878791809,
          0.541199803352356,
          0.47060978412628174,
          0.5032370686531067,
          0.5781159400939941,
          0.5738270878791809,
          0.541199803352356,
          0.5781159400939941,
          0.47060978412628174,
          0.5781159400939941,
          0.4942696690559387
         ],
         "z": [
          -0.5673718452453613,
          -0.53197181224823,
          -0.5376810431480408,
          -0.53197181224823,
          -0.496571809053421,
          -0.46231669187545776,
          -0.5331167578697205,
          -0.5673718452453613,
          -0.5687078237533569,
          -0.496571809053421,
          -0.46231669187545776,
          -0.5687078237533569,
          -0.5331167578697205,
          -0.5687078237533569,
          -0.48791250586509705
         ]
        },
        {
         "line": {
          "color": "#00ffde",
          "dash": "dash",
          "width": 4
         },
         "marker": {
          "size": 1
         },
         "name": "GT Camera 39",
         "scene": "scene",
         "type": "scatter3d",
         "x": [
          -0.4170818030834198,
          -0.37991803884506226,
          -0.3733329176902771,
          -0.37991803884506226,
          -0.3427542746067047,
          -0.38226500153541565,
          -0.45659253001213074,
          -0.4170818030834198,
          -0.4409061372280121,
          -0.3427542746067047,
          -0.38226500153541565,
          -0.4409061372280121,
          -0.45659253001213074,
          -0.4409061372280121,
          -0.37905701994895935
         ],
         "y": [
          0.21373260021209717,
          0.1885194480419159,
          0.19909712672233582,
          0.1885194480419159,
          0.1633063107728958,
          0.09984023869037628,
          0.15026652812957764,
          0.21373260021209717,
          0.1740027815103531,
          0.1633063107728958,
          0.09984023869037628,
          0.1740027815103531,
          0.15026652812957764,
          0.1740027815103531,
          0.14817823469638824
         ],
         "z": [
          -0.8140337467193604,
          -0.8360145092010498,
          -0.8370139598846436,
          -0.8360145092010498,
          -0.8579952716827393,
          -0.851998507976532,
          -0.8080370426177979,
          -0.8140337467193604,
          -0.922478199005127,
          -0.8579952716827393,
          -0.851998507976532,
          -0.922478199005127,
          -0.8080370426177979,
          -0.922478199005127,
          -0.7882851362228394
         ]
        },
        {
         "line": {
          "color": "#00fff6",
          "dash": "dash",
          "width": 4
         },
         "marker": {
          "size": 1
         },
         "name": "GT Camera 40",
         "scene": "scene",
         "type": "scatter3d",
         "x": [
          0.2244417816400528,
          0.1759309321641922,
          0.17342835664749146,
          0.1759309321641922,
          0.1274200677871704,
          0.1424354910850525,
          0.23945719003677368,
          0.2244417816400528,
          0.1970755010843277,
          0.1274200677871704,
          0.1424354910850525,
          0.1970755010843277,
          0.23945719003677368,
          0.1970755010843277,
          0.17662020027637482
         ],
         "y": [
          0.7830720543861389,
          0.7921028733253479,
          0.7893184423446655,
          0.7921028733253479,
          0.8011336922645569,
          0.8178402185440063,
          0.7997785806655884,
          0.7830720543861389,
          0.8962558507919312,
          0.8011336922645569,
          0.8178402185440063,
          0.8962558507919312,
          0.7997785806655884,
          0.8962558507919312,
          0.7525562644004822
         ],
         "z": [
          -0.3017861545085907,
          -0.2937151789665222,
          -0.3056413531303406,
          -0.2937151789665222,
          -0.28564417362213135,
          -0.21408700942993164,
          -0.230228990316391,
          -0.3017861545085907,
          -0.2831645607948303,
          -0.28564417362213135,
          -0.21408700942993164,
          -0.2831645607948303,
          -0.230228990316391,
          -0.2831645607948303,
          -0.2453226000070572
         ]
        },
        {
         "line": {
          "color": "#00f6ff",
          "dash": "dash",
          "width": 4
         },
         "marker": {
          "size": 1
         },
         "name": "GT Camera 41",
         "scene": "scene",
         "type": "scatter3d",
         "x": [
          -0.6253620386123657,
          -0.6134680509567261,
          -0.6046047210693359,
          -0.6134680509567261,
          -0.6015740036964417,
          -0.6547538042068481,
          -0.6785418391227722,
          -0.6253620386123657,
          -0.7064387202262878,
          -0.6015740036964417,
          -0.6547538042068481,
          -0.7064387202262878,
          -0.6785418391227722,
          -0.7064387202262878,
          -0.6068675518035889
         ],
         "y": [
          0.39729130268096924,
          0.36053499579429626,
          0.36776137351989746,
          0.36053499579429626,
          0.3237786889076233,
          0.28042036294937134,
          0.3539330065250397,
          0.39729130268096924,
          0.3742644786834717,
          0.3237786889076233,
          0.28042036294937134,
          0.3742644786834717,
          0.3539330065250397,
          0.3742644786834717,
          0.3211515247821808
         ],
         "z": [
          -0.6053425669670105,
          -0.6370837688446045,
          -0.6421306729316711,
          -0.6370837688446045,
          -0.6688250303268433,
          -0.6385435461997986,
          -0.5750611424446106,
          -0.6053425669670105,
          -0.6878203749656677,
          -0.6688250303268433,
          -0.6385435461997986,
          -0.6878203749656677,
          -0.5750611424446106,
          -0.6878203749656677,
          -0.589004397392273
         ]
        },
        {
         "line": {
          "color": "#00e5ff",
          "dash": "dash",
          "width": 4
         },
         "marker": {
          "size": 1
         },
         "name": "GT Camera 42",
         "scene": "scene",
         "type": "scatter3d",
         "x": [
          0.6172128319740295,
          0.6058403849601746,
          0.5959286689758301,
          0.6058403849601746,
          0.5944679975509644,
          0.6539382934570312,
          0.6766831874847412,
          0.6172128319740295,
          0.6921013593673706,
          0.5944679975509644,
          0.6539382934570312,
          0.6921013593673706,
          0.6766831874847412,
          0.6921013593673706,
          0.6073126792907715
         ],
         "y": [
          0.6260464191436768,
          0.6595470905303955,
          0.6632195711135864,
          0.6595470905303955,
          0.6930477619171143,
          0.6710129976272583,
          0.604011595249176,
          0.6260464191436768,
          0.7167033553123474,
          0.6930477619171143,
          0.6710129976272583,
          0.7167033553123474,
          0.604011595249176,
          0.7167033553123474,
          0.6144428849220276
         ],
         "z": [
          -0.5067542791366577,
          -0.4714219868183136,
          -0.4780943691730499,
          -0.4714219868183136,
          -0.4360896646976471,
          -0.3960554003715515,
          -0.46671998500823975,
          -0.5067542791366577,
          -0.4978503882884979,
          -0.4360896646976471,
          -0.3960554003715515,
          -0.4978503882884979,
          -0.46671998500823975,
          -0.4978503882884979,
          -0.42818206548690796
         ]
        },
        {
         "line": {
          "color": "#00d3ff",
          "dash": "dash",
          "width": 4
         },
         "marker": {
          "size": 1
         },
         "name": "GT Camera 43",
         "scene": "scene",
         "type": "scatter3d",
         "x": [
          0.1849903166294098,
          0.13548532128334045,
          0.13400819897651672,
          0.13548532128334045,
          0.08598031848669052,
          0.09484303742647171,
          0.19385302066802979,
          0.1849903166294098,
          0.14749163389205933,
          0.08598031848669052,
          0.09484303742647171,
          0.14749163389205933,
          0.19385302066802979,
          0.14749163389205933,
          0.1361292004585266
         ],
         "y": [
          0.7802889347076416,
          0.7853846549987793,
          0.7824580073356628,
          0.7853846549987793,
          0.790480375289917,
          0.80804044008255,
          0.7978489398956299,
          0.7802889347076416,
          0.8908494710922241,
          0.790480375289917,
          0.80804044008255,
          0.8908494710922241,
          0.7978489398956299,
          0.8908494710922241,
          0.7458222508430481
         ],
         "z": [
          -0.29110485315322876,
          -0.28627902269363403,
          -0.2983414828777313,
          -0.28627902269363403,
          -0.2814532220363617,
          -0.20907850563526154,
          -0.2187301516532898,
          -0.29110485315322876,
          -0.2744775712490082,
          -0.2814532220363617,
          -0.20907850563526154,
          -0.2744775712490082,
          -0.2187301516532898,
          -0.2744775712490082,
          -0.23789873719215393
         ]
        },
        {
         "line": {
          "color": "#00c1ff",
          "dash": "dash",
          "width": 4
         },
         "marker": {
          "size": 1
         },
         "name": "GT Camera 44",
         "scene": "scene",
         "type": "scatter3d",
         "x": [
          -0.28360500931739807,
          -0.23586364090442657,
          -0.23292052745819092,
          -0.23586364090442657,
          -0.18812227249145508,
          -0.20578089356422424,
          -0.30126363039016724,
          -0.28360500931739807,
          -0.2628226578235626,
          -0.18812227249145508,
          -0.20578089356422424,
          -0.2628226578235626,
          -0.30126363039016724,
          -0.2628226578235626,
          -0.23562809824943542
         ],
         "y": [
          0.15280906856060028,
          0.14152756333351135,
          0.15367071330547333,
          0.14152756333351135,
          0.13024607300758362,
          0.057387206703424454,
          0.07995019853115082,
          0.15280906856060028,
          0.1124282032251358,
          0.13024607300758362,
          0.057387206703424454,
          0.1124282032251358,
          0.07995019853115082,
          0.1124282032251358,
          0.10143309831619263
         ],
         "z": [
          -0.8377400636672974,
          -0.8474090695381165,
          -0.8470455408096313,
          -0.8474090695381165,
          -0.8570780754089355,
          -0.859259307384491,
          -0.8399213552474976,
          -0.8377400636672974,
          -0.9465689659118652,
          -0.8570780754089355,
          -0.859259307384491,
          -0.9465689659118652,
          -0.8399213552474976,
          -0.9465689659118652,
          -0.7994650602340698
         ]
        },
        {
         "line": {
          "color": "#00aaff",
          "dash": "dash",
          "width": 4
         },
         "marker": {
          "size": 1
         },
         "name": "GT Camera 45",
         "scene": "scene",
         "type": "scatter3d",
         "x": [
          -0.650951623916626,
          -0.6251782178878784,
          -0.6175308227539062,
          -0.6251782178878784,
          -0.5994048714637756,
          -0.6452891826629639,
          -0.696835994720459,
          -0.650951623916626,
          -0.7081207633018494,
          -0.5994048714637756,
          -0.6452891826629639,
          -0.7081207633018494,
          -0.696835994720459,
          -0.7081207633018494,
          -0.6181202530860901
         ],
         "y": [
          0.19790296256542206,
          0.1652269810438156,
          0.1743965446949005,
          0.1652269810438156,
          0.13255099952220917,
          0.07753362506628036,
          0.14288558065891266,
          0.19790296256542206,
          0.15637162327766418,
          0.13255099952220917,
          0.07753362506628036,
          0.15637162327766418,
          0.14288558065891266,
          0.15637162327766418,
          0.12839162349700928
         ],
         "z": [
          -0.8108924627304077,
          -0.838605523109436,
          -0.842305064201355,
          -0.838605523109436,
          -0.8663185834884644,
          -0.8441213965415955,
          -0.7886953353881836,
          -0.8108924627304077,
          -0.9053016304969788,
          -0.8663185834884644,
          -0.8441213965415955,
          -0.9053016304969788,
          -0.7886953353881836,
          -0.9053016304969788,
          -0.7886096239089966
         ]
        },
        {
         "line": {
          "color": "#0098ff",
          "dash": "dash",
          "width": 4
         },
         "marker": {
          "size": 1
         },
         "name": "GT Camera 46",
         "scene": "scene",
         "type": "scatter3d",
         "x": [
          -0.6210616827011108,
          -0.6149778962135315,
          -0.6059165596961975,
          -0.6149778962135315,
          -0.6088941693305969,
          -0.6632623076438904,
          -0.6754298210144043,
          -0.6210616827011108,
          -0.7099633812904358,
          -0.6088941693305969,
          -0.6632623076438904,
          -0.7099633812904358,
          -0.6754298210144043,
          -0.7099633812904358,
          -0.6082612872123718
         ],
         "y": [
          0.43653178215026855,
          0.3989037275314331,
          0.4053133428096771,
          0.3989037275314331,
          0.36127567291259766,
          0.32281795144081116,
          0.39807409048080444,
          0.43653178215026855,
          0.42099303007125854,
          0.36127567291259766,
          0.32281795144081116,
          0.42099303007125854,
          0.39807409048080444,
          0.42099303007125854,
          0.3590157926082611
         ],
         "z": [
          -0.5612891316413879,
          -0.5936483144760132,
          -0.5993979573249817,
          -0.5936483144760132,
          -0.6260074973106384,
          -0.5915095210075378,
          -0.5267911553382874,
          -0.5612891316413879,
          -0.6371922492980957,
          -0.6260074973106384,
          -0.5915095210075378,
          -0.6371922492980957,
          -0.5267911553382874,
          -0.6371922492980957,
          -0.5460028648376465
         ]
        },
        {
         "line": {
          "color": "#0086ff",
          "dash": "dash",
          "width": 4
         },
         "marker": {
          "size": 1
         },
         "name": "GT Camera 47",
         "scene": "scene",
         "type": "scatter3d",
         "x": [
          -0.517789363861084,
          -0.48935067653656006,
          -0.48162713646888733,
          -0.48935067653656006,
          -0.4609120488166809,
          -0.5072532892227173,
          -0.5641306042671204,
          -0.517789363861084,
          -0.5668091773986816,
          -0.4609120488166809,
          -0.5072532892227173,
          -0.5668091773986816,
          -0.5641306042671204,
          -0.5668091773986816,
          -0.48537740111351013
         ],
         "y": [
          0.3147198557853699,
          0.2836460471153259,
          0.29308605194091797,
          0.2836460471153259,
          0.252572238445282,
          0.19593217968940735,
          0.25807979702949524,
          0.3147198557853699,
          0.2761681079864502,
          0.252572238445282,
          0.19593217968940735,
          0.2761681079864502,
          0.25807979702949524,
          0.2761681079864502,
          0.24490498006343842
         ],
         "z": [
          -0.7585077285766602,
          -0.7854458689689636,
          -0.7881813645362854,
          -0.7854458689689636,
          -0.8123839497566223,
          -0.7959707975387573,
          -0.7420946359634399,
          -0.7585077285766602,
          -0.8585930466651917,
          -0.8123839497566223,
          -0.7959707975387573,
          -0.8585930466651917,
          -0.7420946359634399,
          -0.8585930466651917,
          -0.7365623712539673
         ]
        },
        {
         "line": {
          "color": "#0074ff",
          "dash": "dash",
          "width": 4
         },
         "marker": {
          "size": 1
         },
         "name": "GT Camera 48",
         "scene": "scene",
         "type": "scatter3d",
         "x": [
          -0.5587239265441895,
          -0.5761744976043701,
          -0.5679735541343689,
          -0.5761744976043701,
          -0.5936250686645508,
          -0.6428306698799133,
          -0.6079294681549072,
          -0.5587239265441895,
          -0.6676919460296631,
          -0.5936250686645508,
          -0.6428306698799133,
          -0.6676919460296631,
          -0.6079294681549072,
          -0.6676919460296631,
          -0.567319929599762
         ],
         "y": [
          0.6990414261817932,
          0.6630512475967407,
          0.6664205193519592,
          0.6630512475967407,
          0.6270610094070435,
          0.6068453192710876,
          0.6788257360458374,
          0.6990414261817932,
          0.7169144153594971,
          0.6270610094070435,
          0.6068453192710876,
          0.7169144153594971,
          0.6788257360458374,
          0.7169144153594971,
          0.6209578514099121
         ],
         "z": [
          -0.3378511965274811,
          -0.3678542673587799,
          -0.37666577100753784,
          -0.3678542673587799,
          -0.39785730838775635,
          -0.34498825669288635,
          -0.2849821448326111,
          -0.3378511965274811,
          -0.3792368471622467,
          -0.39785730838775635,
          -0.34498825669288635,
          -0.3792368471622467,
          -0.2849821448326111,
          -0.3792368471622467,
          -0.3225111663341522
         ]
        },
        {
         "line": {
          "color": "#0063ff",
          "dash": "dash",
          "width": 4
         },
         "marker": {
          "size": 1
         },
         "name": "GT Camera 49",
         "scene": "scene",
         "type": "scatter3d",
         "x": [
          -0.6513849496841431,
          -0.6232375502586365,
          -0.6159308552742004,
          -0.6232375502586365,
          -0.5950901508331299,
          -0.6389304399490356,
          -0.6952252984046936,
          -0.6513849496841431,
          -0.7035875916481018,
          -0.5950901508331299,
          -0.6389304399490356,
          -0.7035875916481018,
          -0.6952252984046936,
          -0.7035875916481018,
          -0.6159427762031555
         ],
         "y": [
          0.1797090768814087,
          0.1485087275505066,
          0.15806084871292114,
          0.1485087275505066,
          0.1173083707690239,
          0.0599956139922142,
          0.1223963275551796,
          0.1797090768814087,
          0.13618004322052002,
          0.1173083707690239,
          0.0599956139922142,
          0.13618004322052002,
          0.1223963275551796,
          0.13618004322052002,
          0.11168849468231201
         ],
         "z": [
          -0.8356490731239319,
          -0.8627463579177856,
          -0.8661549687385559,
          -0.8627463579177856,
          -0.8898435831069946,
          -0.8693917989730835,
          -0.8151972889900208,
          -0.8356490731239319,
          -0.9320148229598999,
          -0.8898435831069946,
          -0.8693917989730835,
          -0.9320148229598999,
          -0.8151972889900208,
          -0.9320148229598999,
          -0.8127732276916504
         ]
        },
        {
         "line": {
          "color": "#004bff",
          "dash": "dash",
          "width": 4
         },
         "marker": {
          "size": 1
         },
         "name": "GT Camera 50",
         "scene": "scene",
         "type": "scatter3d",
         "x": [
          -0.6716519594192505,
          -0.6778694987297058,
          -0.6689397692680359,
          -0.6778694987297058,
          -0.6840870380401611,
          -0.7376653552055359,
          -0.72523033618927,
          -0.6716519594192505,
          -0.7735209465026855,
          -0.6840870380401611,
          -0.7376653552055359,
          -0.7735209465026855,
          -0.72523033618927,
          -0.7735209465026855,
          -0.6702275276184082
         ],
         "y": [
          0.5890200734138489,
          0.5508308410644531,
          0.5555070638656616,
          0.5508308410644531,
          0.5126416087150574,
          0.4845845103263855,
          0.560962975025177,
          0.5890200734138489,
          0.5894032120704651,
          0.5126416087150574,
          0.4845845103263855,
          0.5894032120704651,
          0.560962975025177,
          0.5894032120704651,
          0.5105018615722656
         ],
         "z": [
          -0.4452492594718933,
          -0.47691822052001953,
          -0.4843103289604187,
          -0.47691822052001953,
          -0.5085871815681458,
          -0.46423450112342834,
          -0.4008965492248535,
          -0.4452492594718933,
          -0.5046530961990356,
          -0.5085871815681458,
          -0.46423450112342834,
          -0.5046530961990356,
          -0.4008965492248535,
          -0.5046530961990356,
          -0.4297862648963928
         ]
        },
        {
         "line": {
          "color": "#0039ff",
          "dash": "dash",
          "width": 4
         },
         "marker": {
          "size": 1
         },
         "name": "GT Camera 51",
         "scene": "scene",
         "type": "scatter3d",
         "x": [
          0.5037389993667603,
          0.5159245133399963,
          0.5066399574279785,
          0.5159245133399963,
          0.5281099677085876,
          0.5838172435760498,
          0.5594462752342224,
          0.5037389993667603,
          0.6061406135559082,
          0.5281099677085876,
          0.5838172435760498,
          0.6061406135559082,
          0.5594462752342224,
          0.6061406135559082,
          0.5125969052314758
         ],
         "y": [
          0.3624628186225891,
          0.396973580121994,
          0.40428051352500916,
          0.396973580121994,
          0.43148431181907654,
          0.38764268159866333,
          0.3186212182044983,
          0.3624628186225891,
          0.41770240664482117,
          0.43148431181907654,
          0.38764268159866333,
          0.41770240664482117,
          0.3186212182044983,
          0.41770240664482117,
          0.35372793674468994
         ],
         "z": [
          -0.6897445321083069,
          -0.6556780934333801,
          -0.6597592234611511,
          -0.6556780934333801,
          -0.6216116547584534,
          -0.5971245765686035,
          -0.6652575135231018,
          -0.6897445321083069,
          -0.7089473605155945,
          -0.6216116547584534,
          -0.5971245765686035,
          -0.7089473605155945,
          -0.6652575135231018,
          -0.7089473605155945,
          -0.6106781363487244
         ]
        },
        {
         "line": {
          "color": "#0028ff",
          "dash": "dash",
          "width": 4
         },
         "marker": {
          "size": 1
         },
         "name": "GT Camera 52",
         "scene": "scene",
         "type": "scatter3d",
         "x": [
          -0.5262765288352966,
          -0.5454856157302856,
          -0.5373944044113159,
          -0.5454856157302856,
          -0.5646947622299194,
          -0.6132420897483826,
          -0.5748238563537598,
          -0.5262765288352966,
          -0.6355931758880615,
          -0.5646947622299194,
          -0.6132420897483826,
          -0.6355931758880615,
          -0.5748238563537598,
          -0.6355931758880615,
          -0.5368423461914062
         ],
         "y": [
          0.7200505137443542,
          0.684600830078125,
          0.6877245306968689,
          0.684600830078125,
          0.649151086807251,
          0.6304085850715637,
          0.701308012008667,
          0.7200505137443542,
          0.7411747574806213,
          0.649151086807251,
          0.6304085850715637,
          0.7411747574806213,
          0.701308012008667,
          0.7411747574806213,
          0.6422569751739502
         ],
         "z": [
          -0.3205610513687134,
          -0.3501300811767578,
          -0.35913142561912537,
          -0.3501300811767578,
          -0.37969908118247986,
          -0.32569095492362976,
          -0.2665529251098633,
          -0.3205610513687134,
          -0.3594183027744293,
          -0.37969908118247986,
          -0.32569095492362976,
          -0.3594183027744293,
          -0.2665529251098633,
          -0.3594183027744293,
          -0.3049798607826233
         ]
        },
        {
         "line": {
          "color": "#0016ff",
          "dash": "dash",
          "width": 4
         },
         "marker": {
          "size": 1
         },
         "name": "GT Camera 53",
         "scene": "scene",
         "type": "scatter3d",
         "x": [
          0.5589529275894165,
          0.560925304889679,
          0.5512987375259399,
          0.560925304889679,
          0.5628976821899414,
          0.6206569671630859,
          0.6167122721672058,
          0.5589529275894165,
          0.6534723043441772,
          0.5628976821899414,
          0.6206569671630859,
          0.6534723043441772,
          0.6167122721672058,
          0.6534723043441772,
          0.5579712986946106
         ],
         "y": [
          0.4717761278152466,
          0.5073482394218445,
          0.5132114291191101,
          0.5073482394218445,
          0.5429203510284424,
          0.5077410936355591,
          0.4365968704223633,
          0.4717761278152466,
          0.542087972164154,
          0.5429203510284424,
          0.5077410936355591,
          0.542087972164154,
          0.4365968704223633,
          0.542087972164154,
          0.4635939300060272
         ],
         "z": [
          -0.6053310036659241,
          -0.5702491998672485,
          -0.575653076171875,
          -0.5702491998672485,
          -0.5351673364639282,
          -0.5027438402175903,
          -0.5729075074195862,
          -0.6053310036659241,
          -0.6106775999069214,
          -0.5351673364639282,
          -0.5027438402175903,
          -0.6106775999069214,
          -0.5729075074195862,
          -0.6106775999069214,
          -0.5257173180580139
         ]
        },
        {
         "line": {
          "color": "#0408ff",
          "dash": "dash",
          "width": 4
         },
         "marker": {
          "size": 1
         },
         "name": "GT Camera 54",
         "scene": "scene",
         "type": "scatter3d",
         "x": [
          -0.6318371295928955,
          -0.5966269969940186,
          -0.5905032157897949,
          -0.5966269969940186,
          -0.5614169239997864,
          -0.5981597900390625,
          -0.6685799956321716,
          -0.6318371295928955,
          -0.6663883924484253,
          -0.5614169239997864,
          -0.5981597900390625,
          -0.6663883924484253,
          -0.6685799956321716,
          -0.6663883924484253,
          -0.5893034934997559
         ],
         "y": [
          0.12264756858348846,
          0.09621868282556534,
          0.10678106546401978,
          0.09621868282556534,
          0.06978979706764221,
          0.006415516138076782,
          0.059273283928632736,
          0.12264756858348846,
          0.07265369594097137,
          0.06978979706764221,
          0.006415516138076782,
          0.07265369594097137,
          0.059273283928632736,
          0.07265369594097137,
          0.06047046184539795
         ],
         "z": [
          -0.9257040619850159,
          -0.9494056105613708,
          -0.9520860910415649,
          -0.9494056105613708,
          -0.9731071591377258,
          -0.9570242166519165,
          -0.9096211194992065,
          -0.9257040619850159,
          -1.0267637968063354,
          -0.9731071591377258,
          -0.9570242166519165,
          -1.0267637968063354,
          -0.9096211194992065,
          -1.0267637968063354,
          -0.8986642956733704
         ]
        },
        {
         "line": {
          "color": "#1300ff",
          "dash": "dash",
          "width": 4
         },
         "marker": {
          "size": 1
         },
         "name": "GT Camera 55",
         "scene": "scene",
         "type": "scatter3d",
         "x": [
          0.1689138114452362,
          0.21283388137817383,
          0.20842738449573517,
          0.21283388137817383,
          0.25675395131111145,
          0.28319284319877625,
          0.1953527182340622,
          0.1689138114452362,
          0.2583242952823639,
          0.25675395131111145,
          0.28319284319877625,
          0.2583242952823639,
          0.1953527182340622,
          0.2583242952823639,
          0.2099178433418274
         ],
         "y": [
          0.1100388839840889,
          0.1273389458656311,
          0.1390247792005539,
          0.1273389458656311,
          0.1446390002965927,
          0.07452400773763657,
          0.03992389142513275,
          0.1100388839840889,
          0.1002235934138298,
          0.1446390002965927,
          0.07452400773763657,
          0.1002235934138298,
          0.03992389142513275,
          0.1002235934138298,
          0.0883103683590889
         ],
         "z": [
          -0.8818989992141724,
          -0.8654146194458008,
          -0.8659382462501526,
          -0.8654146194458008,
          -0.8489301800727844,
          -0.8457881212234497,
          -0.8787569403648376,
          -0.8818989992141724,
          -0.9581595659255981,
          -0.8489301800727844,
          -0.8457881212234497,
          -0.9581595659255981,
          -0.8787569403648376,
          -0.9581595659255981,
          -0.8166855573654175
         ]
        },
        {
         "line": {
          "color": "#2500ff",
          "dash": "dash",
          "width": 4
         },
         "marker": {
          "size": 1
         },
         "name": "GT Camera 56",
         "scene": "scene",
         "type": "scatter3d",
         "x": [
          -0.3864596486091614,
          -0.34629562497138977,
          -0.3403913378715515,
          -0.34629562497138977,
          -0.30613160133361816,
          -0.3415572941303253,
          -0.42188531160354614,
          -0.3864596486091614,
          -0.4002898037433624,
          -0.30613160133361816,
          -0.3415572941303253,
          -0.4002898037433624,
          -0.42188531160354614,
          -0.4002898037433624,
          -0.345867782831192
         ],
         "y": [
          0.19987769424915314,
          0.17752449214458466,
          0.18853282928466797,
          0.17752449214458466,
          0.15517130494117737,
          0.08912128210067749,
          0.13382767140865326,
          0.19987769424915314,
          0.16017107665538788,
          0.15517130494117737,
          0.08912128210067749,
          0.16017107665538788,
          0.13382767140865326,
          0.16017107665538788,
          0.13666369020938873
         ],
         "z": [
          -0.8100876212120056,
          -0.8297646641731262,
          -0.8302186131477356,
          -0.8297646641731262,
          -0.8494417667388916,
          -0.8467181921005249,
          -0.8073641061782837,
          -0.8100876212120056,
          -0.9202618598937988,
          -0.8494417667388916,
          -0.8467181921005249,
          -0.9202618598937988,
          -0.8073641061782837,
          -0.9202618598937988,
          -0.7824734449386597
         ]
        },
        {
         "line": {
          "color": "#3700ff",
          "dash": "dash",
          "width": 4
         },
         "marker": {
          "size": 1
         },
         "name": "GT Camera 57",
         "scene": "scene",
         "type": "scatter3d",
         "x": [
          -0.02067451924085617,
          0.028399745002388954,
          0.02668003924190998,
          0.028399745002388954,
          0.07747400552034378,
          0.08779223263263702,
          -0.010356292128562927,
          -0.02067451924085617,
          0.04688527435064316,
          0.07747400552034378,
          0.08779223263263702,
          0.04688527435064316,
          -0.010356292128562927,
          0.04688527435064316,
          0.02689564973115921
         ],
         "y": [
          0.11264769732952118,
          0.11947711557149887,
          0.131858229637146,
          0.11947711557149887,
          0.12630653381347656,
          0.05201983079314232,
          0.03836100175976753,
          0.11264769732952118,
          0.08399102091789246,
          0.12630653381347656,
          0.05201983079314232,
          0.08399102091789246,
          0.03836100175976753,
          0.08399102091789246,
          0.08150513470172882
         ],
         "z": [
          -0.9064850807189941,
          -0.8997712731361389,
          -0.8997954726219177,
          -0.8997712731361389,
          -0.8930574059486389,
          -0.8929121494293213,
          -0.9063398241996765,
          -0.9064850807189941,
          -0.998792827129364,
          -0.8930574059486389,
          -0.8929121494293213,
          -0.998792827129364,
          -0.9063398241996765,
          -0.998792827129364,
          -0.850151538848877
         ]
        },
        {
         "line": {
          "color": "#4900ff",
          "dash": "dash",
          "width": 4
         },
         "marker": {
          "size": 1
         },
         "name": "GT Camera 58",
         "scene": "scene",
         "type": "scatter3d",
         "x": [
          0.364690899848938,
          0.3272014856338501,
          0.3202977776527405,
          0.3272014856338501,
          0.2897120714187622,
          0.33113428950309753,
          0.4061131179332733,
          0.364690899848938,
          0.3843524754047394,
          0.2897120714187622,
          0.33113428950309753,
          0.3843524754047394,
          0.4061131179332733,
          0.3843524754047394,
          0.32969266176223755
         ],
         "y": [
          0.6996073722839355,
          0.7237375378608704,
          0.7227412462234497,
          0.7237375378608704,
          0.7478677034378052,
          0.7538454532623291,
          0.7055851221084595,
          0.6996073722839355,
          0.8139469027519226,
          0.7478677034378052,
          0.7538454532623291,
          0.8139469027519226,
          0.7055851221084595,
          0.8139469027519226,
          0.6831161379814148
         ],
         "z": [
          -0.3713604211807251,
          -0.3487268388271332,
          -0.35909968614578247,
          -0.3487268388271332,
          -0.32609325647354126,
          -0.26385605335235596,
          -0.3091232180595398,
          -0.3713604211807251,
          -0.35023829340934753,
          -0.32609325647354126,
          -0.26385605335235596,
          -0.35023829340934753,
          -0.3091232180595398,
          -0.35023829340934753,
          -0.3012932240962982
         ]
        },
        {
         "line": {
          "color": "#5a00ff",
          "dash": "dash",
          "width": 4
         },
         "marker": {
          "size": 1
         },
         "name": "GT Camera 59",
         "scene": "scene",
         "type": "scatter3d",
         "x": [
          -0.6236945986747742,
          -0.6127824783325195,
          -0.6038707494735718,
          -0.6127824783325195,
          -0.6018702983856201,
          -0.6553404927253723,
          -0.6771647930145264,
          -0.6236945986747742,
          -0.7061578035354614,
          -0.6018702983856201,
          -0.6553404927253723,
          -0.7061578035354614,
          -0.6771647930145264,
          -0.7061578035354614,
          -0.6061974167823792
         ],
         "y": [
          0.40652328729629517,
          0.36949846148490906,
          0.3765704035758972,
          0.36949846148490906,
          0.33247366547584534,
          0.29004213213920593,
          0.36409175395965576,
          0.40652328729629517,
          0.3845577538013458,
          0.33247366547584534,
          0.29004213213920593,
          0.3845577538013458,
          0.36409175395965576,
          0.3845577538013458,
          0.3301451802253723
         ],
         "z": [
          -0.5977743864059448,
          -0.6295562982559204,
          -0.6347350478172302,
          -0.6295562982559204,
          -0.6613381505012512,
          -0.6302655935287476,
          -0.5667018294334412,
          -0.5977743864059448,
          -0.6791598200798035,
          -0.6613381505012512,
          -0.6302655935287476,
          -0.6791598200798035,
          -0.5667018294334412,
          -0.6791598200798035,
          -0.5814501047134399
         ]
        },
        {
         "line": {
          "color": "#7200ff",
          "dash": "dash",
          "width": 4
         },
         "marker": {
          "size": 1
         },
         "name": "GT Camera 60",
         "scene": "scene",
         "type": "scatter3d",
         "x": [
          0.24126332998275757,
          0.28224658966064453,
          0.27701374888420105,
          0.28224658966064453,
          0.3232298195362091,
          0.3546268343925476,
          0.2726603150367737,
          0.24126332998275757,
          0.33704763650894165,
          0.3232298195362091,
          0.3546268343925476,
          0.33704763650894165,
          0.2726603150367737,
          0.33704763650894165,
          0.27839380502700806
         ],
         "y": [
          0.12010081112384796,
          0.14054998755455017,
          0.15187016129493713,
          0.14054998755455017,
          0.16099917888641357,
          0.09307810664176941,
          0.05217974632978439,
          0.12010081112384796,
          0.1178123950958252,
          0.16099917888641357,
          0.09307810664176941,
          0.1178123950958252,
          0.05217974632978439,
          0.1178123950958252,
          0.10097799450159073
         ],
         "z": [
          -0.8873910307884216,
          -0.8673359751701355,
          -0.8681851625442505,
          -0.8673359751701355,
          -0.8472809791564941,
          -0.8421860337257385,
          -0.882296085357666,
          -0.8873910307884216,
          -0.9561396837234497,
          -0.8472809791564941,
          -0.8421860337257385,
          -0.9561396837234497,
          -0.882296085357666,
          -0.9561396837234497,
          -0.8191129565238953
         ]
        },
        {
         "line": {
          "color": "#8400ff",
          "dash": "dash",
          "width": 4
         },
         "marker": {
          "size": 1
         },
         "name": "GT Camera 61",
         "scene": "scene",
         "type": "scatter3d",
         "x": [
          0.2650570869445801,
          0.3050941228866577,
          0.29963237047195435,
          0.3050941228866577,
          0.34513115882873535,
          0.37790167331695557,
          0.2978276014328003,
          0.2650570869445801,
          0.36245471239089966,
          0.34513115882873535,
          0.37790167331695557,
          0.36245471239089966,
          0.2978276014328003,
          0.36245471239089966,
          0.3009917140007019
         ],
         "y": [
          0.12793320417404175,
          0.14926579594612122,
          0.16046789288520813,
          0.14926579594612122,
          0.1705983728170395,
          0.10338576138019562,
          0.060720592737197876,
          0.12793320417404175,
          0.12784597277641296,
          0.1705983728170395,
          0.10338576138019562,
          0.12784597277641296,
          0.060720592737197876,
          0.12784597277641296,
          0.10956624150276184
         ],
         "z": [
          -0.8870113492012024,
          -0.865988552570343,
          -0.8669540286064148,
          -0.865988552570343,
          -0.8449657559394836,
          -0.8391727805137634,
          -0.8812183737754822,
          -0.8870113492012024,
          -0.9534940123558044,
          -0.8449657559394836,
          -0.8391727805137634,
          -0.9534940123558044,
          -0.8812183737754822,
          -0.9534940123558044,
          -0.8178911209106445
         ]
        },
        {
         "line": {
          "color": "#9500ff",
          "dash": "dash",
          "width": 4
         },
         "marker": {
          "size": 1
         },
         "name": "GT Camera 62",
         "scene": "scene",
         "type": "scatter3d",
         "x": [
          0.44980287551879883,
          0.48092761635780334,
          0.47356510162353516,
          0.48092761635780334,
          0.5120523571968079,
          0.5562276244163513,
          0.4939781129360199,
          0.44980287551879883,
          0.5545492768287659,
          0.5120523571968079,
          0.5562276244163513,
          0.5545492768287659,
          0.4939781129360199,
          0.5545492768287659,
          0.4772482216358185
         ],
         "y": [
          0.20852093398571014,
          0.23669986426830292,
          0.2466280460357666,
          0.23669986426830292,
          0.2648788094520569,
          0.20530971884727478,
          0.14895184338092804,
          0.20852093398571014,
          0.22961747646331787,
          0.2648788094520569,
          0.20530971884727478,
          0.22961747646331787,
          0.14895184338092804,
          0.22961747646331787,
          0.19556425511837006
         ],
         "z": [
          -0.8380753993988037,
          -0.8109239935874939,
          -0.8127879500389099,
          -0.8109239935874939,
          -0.7837725877761841,
          -0.7725889682769775,
          -0.8268917798995972,
          -0.8380753993988037,
          -0.8879690766334534,
          -0.7837725877761841,
          -0.7725889682769775,
          -0.8879690766334534,
          -0.8268917798995972,
          -0.8879690766334534,
          -0.7640137076377869
         ]
        },
        {
         "line": {
          "color": "#a700ff",
          "dash": "dash",
          "width": 4
         },
         "marker": {
          "size": 1
         },
         "name": "GT Camera 63",
         "scene": "scene",
         "type": "scatter3d",
         "x": [
          0.5527791976928711,
          0.5556333065032959,
          0.5460313558578491,
          0.5556333065032959,
          0.5584872961044312,
          0.6160988211631775,
          0.6103907227516174,
          0.5527791976928711,
          0.6482107043266296,
          0.5584872961044312,
          0.6160988211631775,
          0.6482107043266296,
          0.6103907227516174,
          0.6482107043266296,
          0.5525531768798828
         ],
         "y": [
          0.4645848870277405,
          0.500199019908905,
          0.5061854720115662,
          0.500199019908905,
          0.5358131527900696,
          0.49989432096481323,
          0.42866602540016174,
          0.4645848870277405,
          0.5335514545440674,
          0.5358131527900696,
          0.49989432096481323,
          0.5335514545440674,
          0.42866602540016174,
          0.5335514545440674,
          0.4565836787223816
         ],
         "z": [
          -0.618391752243042,
          -0.5834133625030518,
          -0.588725209236145,
          -0.5834133625030518,
          -0.5484349727630615,
          -0.5165640711784363,
          -0.5865208506584167,
          -0.618391752243042,
          -0.6249258518218994,
          -0.5484349727630615,
          -0.5165640711784363,
          -0.6249258518218994,
          -0.5865208506584167,
          -0.6249258518218994,
          -0.5387539267539978
         ]
        },
        {
         "line": {
          "color": "#b900ff",
          "dash": "dash",
          "width": 4
         },
         "marker": {
          "size": 1
         },
         "name": "GT Camera 64",
         "scene": "scene",
         "type": "scatter3d",
         "x": [
          -0.23214294016361237,
          -0.2727207541465759,
          -0.26710161566734314,
          -0.2727207541465759,
          -0.3132985830307007,
          -0.3470134437084198,
          -0.2658578157424927,
          -0.23214294016361237,
          -0.32690078020095825,
          -0.3132985830307007,
          -0.3470134437084198,
          -0.32690078020095825,
          -0.2658578157424927,
          -0.32690078020095825,
          -0.2709169089794159
         ],
         "y": [
          0.850497841835022,
          0.8284096121788025,
          0.8277341723442078,
          0.8284096121788025,
          0.8063214421272278,
          0.8103743195533752,
          0.8545507192611694,
          0.850497841835022,
          0.9199863076210022,
          0.8063214421272278,
          0.8103743195533752,
          0.9199863076210022,
          0.8545507192611694,
          0.9199863076210022,
          0.785660982131958
         ],
         "z": [
          -0.19830277562141418,
          -0.21742217242717743,
          -0.22856752574443817,
          -0.21742217242717743,
          -0.23654156923294067,
          -0.16966941952705383,
          -0.13143062591552734,
          -0.19830277562141418,
          -0.20823028683662415,
          -0.23654156923294067,
          -0.16966941952705383,
          -0.20823028683662415,
          -0.13143062591552734,
          -0.20823028683662415,
          -0.17186400294303894
         ]
        },
        {
         "line": {
          "color": "#d000ff",
          "dash": "dash",
          "width": 4
         },
         "marker": {
          "size": 1
         },
         "name": "GT Camera 65",
         "scene": "scene",
         "type": "scatter3d",
         "x": [
          -0.671411395072937,
          -0.6789416074752808,
          -0.6700757145881653,
          -0.6789416074752808,
          -0.6864718198776245,
          -0.7396669983863831,
          -0.7246065735816956,
          -0.671411395072937,
          -0.7744054198265076,
          -0.6864718198776245,
          -0.7396669983863831,
          -0.7744054198265076,
          -0.7246065735816956,
          -0.7744054198265076,
          -0.6711060404777527
         ],
         "y": [
          0.6040992736816406,
          0.5660816431045532,
          0.5706078410148621,
          0.5660816431045532,
          0.5280640125274658,
          0.5009068250656128,
          0.5769420266151428,
          0.6040992736816406,
          0.6064243316650391,
          0.5280640125274658,
          0.5009068250656128,
          0.6064243316650391,
          0.5769420266151428,
          0.6064243316650391,
          0.5255423784255981
         ],
         "z": [
          -0.4300701320171356,
          -0.46166059374809265,
          -0.4692210257053375,
          -0.46166059374809265,
          -0.4932510554790497,
          -0.4478885233402252,
          -0.38470762968063354,
          -0.4300701320171356,
          -0.48745545744895935,
          -0.4932510554790497,
          -0.4478885233402252,
          -0.48745545744895935,
          -0.38470762968063354,
          -0.48745545744895935,
          -0.41474127769470215
         ]
        },
        {
         "line": {
          "color": "#e200ff",
          "dash": "dash",
          "width": 4
         },
         "marker": {
          "size": 1
         },
         "name": "GT Camera 66",
         "scene": "scene",
         "type": "scatter3d",
         "x": [
          0.4971367120742798,
          0.5113025307655334,
          0.5021234750747681,
          0.5113025307655334,
          0.5254683494567871,
          0.5805424451828003,
          0.552210807800293,
          0.4971367120742798,
          0.6005245447158813,
          0.5254683494567871,
          0.5805424451828003,
          0.6005245447158813,
          0.552210807800293,
          0.6005245447158813,
          0.5079970955848694
         ],
         "y": [
          0.3443883955478668,
          0.37844350934028625,
          0.38602951169013977,
          0.37844350934028625,
          0.4124986231327057,
          0.36698251962661743,
          0.29887229204177856,
          0.3443883955478668,
          0.39664822816848755,
          0.4124986231327057,
          0.36698251962661743,
          0.39664822816848755,
          0.29887229204177856,
          0.39664822816848755,
          0.3352040648460388
         ],
         "z": [
          -0.704346776008606,
          -0.6705891489982605,
          -0.6743901968002319,
          -0.6705891489982605,
          -0.6368314623832703,
          -0.6140252351760864,
          -0.6815405488014221,
          -0.704346776008606,
          -0.726394772529602,
          -0.6368314623832703,
          -0.6140252351760864,
          -0.726394772529602,
          -0.6815405488014221,
          -0.726394772529602,
          -0.6255816221237183
         ]
        },
        {
         "line": {
          "color": "#f400ff",
          "dash": "dash",
          "width": 4
         },
         "marker": {
          "size": 1
         },
         "name": "GT Camera 67",
         "scene": "scene",
         "type": "scatter3d",
         "x": [
          0.6264946460723877,
          0.6159743666648865,
          0.6060797572135925,
          0.6159743666648865,
          0.6054540872573853,
          0.6648217439651489,
          0.6858623027801514,
          0.6264946460723877,
          0.7030296325683594,
          0.6054540872573853,
          0.6648217439651489,
          0.7030296325683594,
          0.6858623027801514,
          0.7030296325683594,
          0.6169724464416504
         ],
         "y": [
          0.6171499490737915,
          0.6508611440658569,
          0.6547044515609741,
          0.6508611440658569,
          0.6845723986625671,
          0.6615126729011536,
          0.5940902233123779,
          0.6171499490737915,
          0.7064794898033142,
          0.6845723986625671,
          0.6615126729011536,
          0.7064794898033142,
          0.5940902233123779,
          0.7064794898033142,
          0.6057572364807129
         ],
         "z": [
          -0.5052586793899536,
          -0.469862699508667,
          -0.4764638841152191,
          -0.469862699508667,
          -0.43446671962738037,
          -0.3948594927787781,
          -0.4656514823436737,
          -0.5052586793899536,
          -0.4969594180583954,
          -0.43446671962738037,
          -0.3948594927787781,
          -0.4969594180583954,
          -0.4656514823436737,
          -0.4969594180583954,
          -0.4266089200973511
         ]
        },
        {
         "line": {
          "color": "#fc00f5",
          "dash": "dash",
          "width": 4
         },
         "marker": {
          "size": 1
         },
         "name": "GT Camera 68",
         "scene": "scene",
         "type": "scatter3d",
         "x": [
          -0.07361739873886108,
          -0.12045863270759583,
          -0.1172231137752533,
          -0.12045863270759583,
          -0.16729986667633057,
          -0.18671302497386932,
          -0.09303054958581924,
          -0.07361739873886108,
          -0.15369398891925812,
          -0.16729986667633057,
          -0.18671302497386932,
          -0.15369398891925812,
          -0.09303054958581924,
          -0.15369398891925812,
          -0.11840082705020905
         ],
         "y": [
          0.8549408316612244,
          0.8408511877059937,
          0.8388521075248718,
          0.8408511877059937,
          0.8267615437507629,
          0.8387560844421387,
          0.8669353723526001,
          0.8549408316612244,
          0.941453754901886,
          0.8267615437507629,
          0.8387560844421387,
          0.941453754901886,
          0.8669353723526001,
          0.941453754901886,
          0.7995458245277405
         ],
         "z": [
          -0.22679606080055237,
          -0.23715852200984955,
          -0.24906587600708008,
          -0.23715852200984955,
          -0.24752098321914673,
          -0.17607688903808594,
          -0.15535196661949158,
          -0.22679606080055237,
          -0.22371284663677216,
          -0.24752098321914673,
          -0.17607688903808594,
          -0.22371284663677216,
          -0.15535196661949158,
          -0.22371284663677216,
          -0.19029828906059265
         ]
        },
        {
         "line": {
          "color": "#ff00e7",
          "dash": "dash",
          "width": 4
         },
         "marker": {
          "size": 1
         },
         "name": "GT Camera 69",
         "scene": "scene",
         "type": "scatter3d",
         "x": [
          -0.6458527445793152,
          -0.6272820234298706,
          -0.6187992095947266,
          -0.6272820234298706,
          -0.6087113618850708,
          -0.6596082448959351,
          -0.6967496275901794,
          -0.6458527445793152,
          -0.7160961031913757,
          -0.6087113618850708,
          -0.6596082448959351,
          -0.7160961031913757,
          -0.6967496275901794,
          -0.7160961031913757,
          -0.6210476756095886
         ],
         "y": [
          0.2878062129020691,
          0.251569002866745,
          0.2595500946044922,
          0.251569002866745,
          0.2153317928314209,
          0.16744519770145416,
          0.23991961777210236,
          0.2878062129020691,
          0.2535252869129181,
          0.2153317928314209,
          0.16744519770145416,
          0.2535252869129181,
          0.23991961777210236,
          0.2535252869129181,
          0.2146759182214737
         ],
         "z": [
          -0.7011652588844299,
          -0.730182409286499,
          -0.7347204685211182,
          -0.730182409286499,
          -0.7591995596885681,
          -0.731971263885498,
          -0.6739369630813599,
          -0.7011652588844299,
          -0.7894655466079712,
          -0.7591995596885681,
          -0.731971263885498,
          -0.7894655466079712,
          -0.6739369630813599,
          -0.7894655466079712,
          -0.6801196336746216
         ]
        },
        {
         "line": {
          "color": "#ff00cf",
          "dash": "dash",
          "width": 4
         },
         "marker": {
          "size": 1
         },
         "name": "GT Camera 70",
         "scene": "scene",
         "type": "scatter3d",
         "x": [
          -0.48929524421691895,
          -0.5108295679092407,
          -0.502874493598938,
          -0.5108295679092407,
          -0.5323638916015625,
          -0.5800940990447998,
          -0.537025511264801,
          -0.48929524421691895,
          -0.5986868739128113,
          -0.5323638916015625,
          -0.5800940990447998,
          -0.5986868739128113,
          -0.537025511264801,
          -0.5986868739128113,
          -0.5026986002922058
         ],
         "y": [
          0.7434979677200317,
          0.7089407444000244,
          0.7117331624031067,
          0.7089407444000244,
          0.6743835210800171,
          0.6576290726661682,
          0.7267434597015381,
          0.7434979677200317,
          0.7692959904670715,
          0.6743835210800171,
          0.6576290726661682,
          0.7692959904670715,
          0.7267434597015381,
          0.7692959904670715,
          0.6661972403526306
         ],
         "z": [
          -0.30502307415008545,
          -0.3340415358543396,
          -0.34327030181884766,
          -0.3340415358543396,
          -0.36306002736091614,
          -0.30768755078315735,
          -0.24965059757232666,
          -0.30502307415008545,
          -0.34071874618530273,
          -0.36306002736091614,
          -0.30768755078315735,
          -0.34071874618530273,
          -0.24965059757232666,
          -0.34071874618530273,
          -0.28917360305786133
         ]
        },
        {
         "line": {
          "color": "#ff00bd",
          "dash": "dash",
          "width": 4
         },
         "marker": {
          "size": 1
         },
         "name": "GT Camera 71",
         "scene": "scene",
         "type": "scatter3d",
         "x": [
          -0.43293899297714233,
          -0.39724698662757874,
          -0.3903902471065521,
          -0.39724698662757874,
          -0.36155498027801514,
          -0.4026953876018524,
          -0.4740794003009796,
          -0.43293899297714233,
          -0.4613530933856964,
          -0.36155498027801514,
          -0.4026953876018524,
          -0.4613530933856964,
          -0.4740794003009796,
          -0.4613530933856964,
          -0.39604923129081726
         ],
         "y": [
          0.22186589241027832,
          0.195414736866951,
          0.2057863175868988,
          0.195414736866951,
          0.16896356642246246,
          0.10673407465219498,
          0.15963640809059143,
          0.22186589241027832,
          0.18210119009017944,
          0.16896356642246246,
          0.10673407465219498,
          0.18210119009017944,
          0.15963640809059143,
          0.18210119009017944,
          0.1553993821144104
         ],
         "z": [
          -0.8177974224090576,
          -0.8407412171363831,
          -0.8420317769050598,
          -0.8407412171363831,
          -0.8636850118637085,
          -0.8559417724609375,
          -0.8100542426109314,
          -0.8177974224090576,
          -0.9251177906990051,
          -0.8636850118637085,
          -0.8559417724609375,
          -0.9251177906990051,
          -0.8100542426109314,
          -0.9251177906990051,
          -0.7927454710006714
         ]
        },
        {
         "line": {
          "color": "#ff00ac",
          "dash": "dash",
          "width": 4
         },
         "marker": {
          "size": 1
         },
         "name": "GT Camera 72",
         "scene": "scene",
         "type": "scatter3d",
         "x": [
          0.4082799553871155,
          0.44253456592559814,
          0.4357610046863556,
          0.44253456592559814,
          0.4767891764640808,
          0.5174305438995361,
          0.4489213824272156,
          0.4082799553871155,
          0.5115388631820679,
          0.4767891764640808,
          0.5174305438995361,
          0.5115388631820679,
          0.4489213824272156,
          0.5115388631820679,
          0.43851345777511597
         ],
         "y": [
          0.1701531857252121,
          0.1964266300201416,
          0.20680753886699677,
          0.1964266300201416,
          0.2227000594139099,
          0.16041454672813416,
          0.10786767303943634,
          0.1701531857252121,
          0.1837761402130127,
          0.2227000594139099,
          0.16041454672813416,
          0.1837761402130127,
          0.10786767303943634,
          0.1837761402130127,
          0.15603773295879364
         ],
         "z": [
          -0.8572657704353333,
          -0.8320401906967163,
          -0.8336543440818787,
          -0.8320401906967163,
          -0.8068146705627441,
          -0.7971300482749939,
          -0.8475812077522278,
          -0.8572657704353333,
          -0.9125673770904541,
          -0.8068146705627441,
          -0.7971300482749939,
          -0.9125673770904541,
          -0.8475812077522278,
          -0.9125673770904541,
          -0.7845131754875183
         ]
        },
        {
         "line": {
          "color": "#ff009a",
          "dash": "dash",
          "width": 4
         },
         "marker": {
          "size": 1
         },
         "name": "GT Camera 73",
         "scene": "scene",
         "type": "scatter3d",
         "x": [
          -0.5107434988021851,
          -0.48198822140693665,
          -0.4742869436740875,
          -0.48198822140693665,
          -0.4532329738140106,
          -0.49944067001342773,
          -0.5569511651992798,
          -0.5107434988021851,
          -0.5589132308959961,
          -0.4532329738140106,
          -0.49944067001342773,
          -0.5589132308959961,
          -0.5569511651992798,
          -0.5589132308959961,
          -0.47818151116371155
         ],
         "y": [
          0.29815101623535156,
          0.26720038056373596,
          0.2766736149787903,
          0.26720038056373596,
          0.23624977469444275,
          0.17941038310527802,
          0.24131160974502563,
          0.29815101623535156,
          0.2593899965286255,
          0.23624977469444275,
          0.17941038310527802,
          0.2593899965286255,
          0.24131160974502563,
          0.2593899965286255,
          0.22847604751586914
         ],
         "z": [
          -0.7729004621505737,
          -0.7996435761451721,
          -0.802326500415802,
          -0.7996435761451721,
          -0.8263866901397705,
          -0.8102891445159912,
          -0.7568028569221497,
          -0.7729004621505737,
          -0.8733171224594116,
          -0.8263866901397705,
          -0.8102891445159912,
          -0.8733171224594116,
          -0.7568028569221497,
          -0.8733171224594116,
          -0.7507336139678955
         ]
        },
        {
         "line": {
          "color": "#ff0088",
          "dash": "dash",
          "width": 4
         },
         "marker": {
          "size": 1
         },
         "name": "GT Camera 74",
         "scene": "scene",
         "type": "scatter3d",
         "x": [
          0.21809569001197815,
          0.2600528299808502,
          0.2550663948059082,
          0.2600528299808502,
          0.3020099699497223,
          0.3319285213947296,
          0.24801425635814667,
          0.21809569001197815,
          0.3119860291481018,
          0.3020099699497223,
          0.3319285213947296,
          0.3119860291481018,
          0.24801425635814667,
          0.3119860291481018,
          0.2565251588821411
         ],
         "y": [
          0.11383672803640366,
          0.13334894180297852,
          0.14478753507137299,
          0.13334894180297852,
          0.15286116302013397,
          0.08422964811325073,
          0.045205213129520416,
          0.11383672803640366,
          0.10919452458620071,
          0.15286116302013397,
          0.08422964811325073,
          0.10919452458620071,
          0.045205213129520416,
          0.10919452458620071,
          0.09395252168178558
         ],
         "z": [
          -0.8870311379432678,
          -0.8680872321128845,
          -0.8688249588012695,
          -0.8680872321128845,
          -0.8491432666778564,
          -0.8447167277336121,
          -0.8826045989990234,
          -0.8870311379432678,
          -0.958230197429657,
          -0.8491432666778564,
          -0.8447167277336121,
          -0.958230197429657,
          -0.8826045989990234,
          -0.958230197429657,
          -0.8196958303451538
         ]
        },
        {
         "line": {
          "color": "#ff0071",
          "dash": "dash",
          "width": 4
         },
         "marker": {
          "size": 1
         },
         "name": "GT Camera 75",
         "scene": "scene",
         "type": "scatter3d",
         "x": [
          0.4873359203338623,
          0.5057836174964905,
          0.49689915776252747,
          0.5057836174964905,
          0.5242313742637634,
          0.577538251876831,
          0.5406427979469299,
          0.4873359203338623,
          0.5923282504081726,
          0.5242313742637634,
          0.577538251876831,
          0.5923282504081726,
          0.5406427979469299,
          0.5923282504081726,
          0.5024914741516113
         ],
         "y": [
          0.31075939536094666,
          0.343671053647995,
          0.35185542702674866,
          0.343671053647995,
          0.37658268213272095,
          0.327476441860199,
          0.2616531550884247,
          0.31075939536094666,
          0.35627052187919617,
          0.37658268213272095,
          0.327476441860199,
          0.35627052187919617,
          0.2616531550884247,
          0.35627052187919617,
          0.30054160952568054
         ],
         "z": [
          -0.7354894876480103,
          -0.7026793360710144,
          -0.7058936953544617,
          -0.7026793360710144,
          -0.6698691844940186,
          -0.6505831480026245,
          -0.7162034511566162,
          -0.7354894876480103,
          -0.7639780640602112,
          -0.6698691844940186,
          -0.6505831480026245,
          -0.7639780640602112,
          -0.7162034511566162,
          -0.7639780640602112,
          -0.6575654745101929
         ]
        },
        {
         "line": {
          "color": "#ff005f",
          "dash": "dash",
          "width": 4
         },
         "marker": {
          "size": 1
         },
         "name": "GT Camera 76",
         "scene": "scene",
         "type": "scatter3d",
         "x": [
          -0.06717494130134583,
          -0.01722469925880432,
          -0.017618969082832336,
          -0.01722469925880432,
          0.03272554650902748,
          0.03509117290377617,
          -0.06480932235717773,
          -0.06717494130134583,
          -0.012888919562101364,
          0.03272554650902748,
          0.03509117290377617,
          -0.012888919562101364,
          -0.06480932235717773,
          -0.012888919562101364,
          -0.017618371173739433
         ],
         "y": [
          0.11251410841941833,
          0.11408896744251251,
          0.12658274173736572,
          0.11408896744251251,
          0.11566381901502609,
          0.04070116579532623,
          0.037551455199718475,
          0.11251410841941833,
          0.07679855078458786,
          0.11566381901502609,
          0.04070116579532623,
          0.07679855078458786,
          0.037551455199718475,
          0.07679855078458786,
          0.0765121802687645
         ],
         "z": [
          -0.8979091048240662,
          -0.8963303565979004,
          -0.8963189721107483,
          -0.8963303565979004,
          -0.8947516679763794,
          -0.8948202133178711,
          -0.8979776501655579,
          -0.8979091048240662,
          -0.9963147640228271,
          -0.8947516679763794,
          -0.8948202133178711,
          -0.9963147640228271,
          -0.8979776501655579,
          -0.9963147640228271,
          -0.8463895916938782
         ]
        },
        {
         "line": {
          "color": "#ff004d",
          "dash": "dash",
          "width": 4
         },
         "marker": {
          "size": 1
         },
         "name": "GT Camera 77",
         "scene": "scene",
         "type": "scatter3d",
         "x": [
          -0.1919848918914795,
          -0.23531684279441833,
          -0.23048914968967438,
          -0.23531684279441833,
          -0.27864882349967957,
          -0.3076150417327881,
          -0.2209511250257492,
          -0.1919848918914795,
          -0.2813868224620819,
          -0.27864882349967957,
          -0.3076150417327881,
          -0.2813868224620819,
          -0.2209511250257492,
          -0.2813868224620819,
          -0.23400655388832092
         ],
         "y": [
          0.8536891937255859,
          0.8347656726837158,
          0.8335612416267395,
          0.8347656726837158,
          0.8158421516418457,
          0.8230687975883484,
          0.8609158992767334,
          0.8536891937255859,
          0.930437445640564,
          0.8158421516418457,
          0.8230687975883484,
          0.930437445640564,
          0.8609158992767334,
          0.930437445640564,
          0.7923498153686523
         ],
         "z": [
          -0.2052219808101654,
          -0.2214774489402771,
          -0.23294445872306824,
          -0.2214774489402771,
          -0.2377329021692276,
          -0.1689307689666748,
          -0.1364198625087738,
          -0.2052219808101654,
          -0.21004411578178406,
          -0.2377329021692276,
          -0.1689307689666748,
          -0.21004411578178406,
          -0.1364198625087738,
          -0.21004411578178406,
          -0.17559251189231873
         ]
        },
        {
         "line": {
          "color": "#ff003b",
          "dash": "dash",
          "width": 4
         },
         "marker": {
          "size": 1
         },
         "name": "GT Camera 78",
         "scene": "scene",
         "type": "scatter3d",
         "x": [
          -0.21942459046840668,
          -0.170535609126091,
          -0.16851183772087097,
          -0.170535609126091,
          -0.12164664268493652,
          -0.1337892711162567,
          -0.23156721889972687,
          -0.21942459046840668,
          -0.18992431461811066,
          -0.12164664268493652,
          -0.1337892711162567,
          -0.18992431461811066,
          -0.23156721889972687,
          -0.18992431461811066,
          -0.16994823515415192
         ],
         "y": [
          0.13948990404605865,
          0.13156093657016754,
          0.14389488101005554,
          0.13156093657016754,
          0.12363196164369583,
          0.049628227949142456,
          0.06548617035150528,
          0.13948990404605865,
          0.09808485209941864,
          0.12363196164369583,
          0.049628227949142456,
          0.09808485209941864,
          0.06548617035150528,
          0.09808485209941864,
          0.09279617667198181
         ],
         "z": [
          -0.8584381937980652,
          -0.8652938604354858,
          -0.86512690782547,
          -0.8652938604354858,
          -0.8721495270729065,
          -0.8731511831283569,
          -0.8594399094581604,
          -0.8584381937980652,
          -0.9648412466049194,
          -0.8721495270729065,
          -0.8731511831283569,
          -0.9648412466049194,
          -0.8594399094581604,
          -0.9648412466049194,
          -0.8162714242935181
         ]
        },
        {
         "line": {
          "color": "#ff002a",
          "dash": "dash",
          "width": 4
         },
         "marker": {
          "size": 1
         },
         "name": "GT Camera 79",
         "scene": "scene",
         "type": "scatter3d",
         "x": [
          -0.0376005694270134,
          -0.08525295555591583,
          -0.08248357474803925,
          -0.08525295555591583,
          -0.13290533423423767,
          -0.14952164888381958,
          -0.05421687662601471,
          -0.0376005694270134,
          -0.11420463025569916,
          -0.13290533423423767,
          -0.14952164888381958,
          -0.11420463025569916,
          -0.05421687662601471,
          -0.11420463025569916,
          -0.08323934674263
         ],
         "y": [
          0.8445698618888855,
          0.832199215888977,
          0.8299915194511414,
          0.832199215888977,
          0.8198286294937134,
          0.8330751061439514,
          0.8578163981437683,
          0.8445698618888855,
          0.9340901374816895,
          0.8198286294937134,
          0.8330751061439514,
          0.9340901374816895,
          0.8578163981437683,
          0.9340901374816895,
          0.791188657283783
         ],
         "z": [
          -0.23135213553905487,
          -0.24008241295814514,
          -0.25207018852233887,
          -0.24008241295814514,
          -0.2488126903772354,
          -0.17688614130020142,
          -0.15942557156085968,
          -0.23135213553905487,
          -0.22643330693244934,
          -0.2488126903772354,
          -0.17688614130020142,
          -0.22643330693244934,
          -0.15942557156085968,
          -0.22643330693244934,
          -0.19296205043792725
         ]
        }
       ],
       "layout": {
        "annotations": [
         {
          "font": {
           "size": 16
          },
          "showarrow": false,
          "text": "Vis 20 GT vs Pred Cameras",
          "x": 0.5,
          "xanchor": "center",
          "xref": "paper",
          "y": 1,
          "yanchor": "bottom",
          "yref": "paper"
         }
        ],
        "height": 800,
        "scene": {
         "aspectmode": "data",
         "camera": {
          "center": {
           "x": 0.030827296252821795,
           "y": 0.7772110823608567,
           "z": -0.13914755206338425
          },
          "eye": {
           "x": 0.030827241279473724,
           "y": 2.183836447457483,
           "z": -0.8743107522927162
          },
          "up": {
           "x": 9.521663324526168e-8,
           "y": 0.8121154918692625,
           "z": 1.273340079436216
          }
         },
         "domain": {
          "x": [
           0,
           1
          ],
          "y": [
           0,
           1
          ]
         },
         "xaxis": {
          "backgroundcolor": "#fff",
          "range": [
           -0.8196498155593872,
           0.7706258296966553
          ],
          "showaxeslabels": false,
          "showgrid": false,
          "showline": false,
          "showticklabels": false,
          "ticks": "",
          "zeroline": false
         },
         "yaxis": {
          "backgroundcolor": "#fff",
          "range": [
           -0.22816072404384613,
           1.0031912326812744
          ],
          "showaxeslabels": false,
          "showgrid": false,
          "showline": false,
          "showticklabels": false,
          "ticks": "",
          "zeroline": false
         },
         "zaxis": {
          "backgroundcolor": "#fff",
          "range": [
           -1.0854839086532593,
           0.2747582793235779
          ],
          "showaxeslabels": false,
          "showgrid": false,
          "showline": false,
          "showticklabels": false,
          "ticks": "",
          "zeroline": false
         }
        },
        "template": {
         "data": {
          "bar": [
           {
            "error_x": {
             "color": "#2a3f5f"
            },
            "error_y": {
             "color": "#2a3f5f"
            },
            "marker": {
             "line": {
              "color": "#E5ECF6",
              "width": 0.5
             },
             "pattern": {
              "fillmode": "overlay",
              "size": 10,
              "solidity": 0.2
             }
            },
            "type": "bar"
           }
          ],
          "barpolar": [
           {
            "marker": {
             "line": {
              "color": "#E5ECF6",
              "width": 0.5
             },
             "pattern": {
              "fillmode": "overlay",
              "size": 10,
              "solidity": 0.2
             }
            },
            "type": "barpolar"
           }
          ],
          "carpet": [
           {
            "aaxis": {
             "endlinecolor": "#2a3f5f",
             "gridcolor": "white",
             "linecolor": "white",
             "minorgridcolor": "white",
             "startlinecolor": "#2a3f5f"
            },
            "baxis": {
             "endlinecolor": "#2a3f5f",
             "gridcolor": "white",
             "linecolor": "white",
             "minorgridcolor": "white",
             "startlinecolor": "#2a3f5f"
            },
            "type": "carpet"
           }
          ],
          "choropleth": [
           {
            "colorbar": {
             "outlinewidth": 0,
             "ticks": ""
            },
            "type": "choropleth"
           }
          ],
          "contour": [
           {
            "colorbar": {
             "outlinewidth": 0,
             "ticks": ""
            },
            "colorscale": [
             [
              0,
              "#0d0887"
             ],
             [
              0.1111111111111111,
              "#46039f"
             ],
             [
              0.2222222222222222,
              "#7201a8"
             ],
             [
              0.3333333333333333,
              "#9c179e"
             ],
             [
              0.4444444444444444,
              "#bd3786"
             ],
             [
              0.5555555555555556,
              "#d8576b"
             ],
             [
              0.6666666666666666,
              "#ed7953"
             ],
             [
              0.7777777777777778,
              "#fb9f3a"
             ],
             [
              0.8888888888888888,
              "#fdca26"
             ],
             [
              1,
              "#f0f921"
             ]
            ],
            "type": "contour"
           }
          ],
          "contourcarpet": [
           {
            "colorbar": {
             "outlinewidth": 0,
             "ticks": ""
            },
            "type": "contourcarpet"
           }
          ],
          "heatmap": [
           {
            "colorbar": {
             "outlinewidth": 0,
             "ticks": ""
            },
            "colorscale": [
             [
              0,
              "#0d0887"
             ],
             [
              0.1111111111111111,
              "#46039f"
             ],
             [
              0.2222222222222222,
              "#7201a8"
             ],
             [
              0.3333333333333333,
              "#9c179e"
             ],
             [
              0.4444444444444444,
              "#bd3786"
             ],
             [
              0.5555555555555556,
              "#d8576b"
             ],
             [
              0.6666666666666666,
              "#ed7953"
             ],
             [
              0.7777777777777778,
              "#fb9f3a"
             ],
             [
              0.8888888888888888,
              "#fdca26"
             ],
             [
              1,
              "#f0f921"
             ]
            ],
            "type": "heatmap"
           }
          ],
          "heatmapgl": [
           {
            "colorbar": {
             "outlinewidth": 0,
             "ticks": ""
            },
            "colorscale": [
             [
              0,
              "#0d0887"
             ],
             [
              0.1111111111111111,
              "#46039f"
             ],
             [
              0.2222222222222222,
              "#7201a8"
             ],
             [
              0.3333333333333333,
              "#9c179e"
             ],
             [
              0.4444444444444444,
              "#bd3786"
             ],
             [
              0.5555555555555556,
              "#d8576b"
             ],
             [
              0.6666666666666666,
              "#ed7953"
             ],
             [
              0.7777777777777778,
              "#fb9f3a"
             ],
             [
              0.8888888888888888,
              "#fdca26"
             ],
             [
              1,
              "#f0f921"
             ]
            ],
            "type": "heatmapgl"
           }
          ],
          "histogram": [
           {
            "marker": {
             "pattern": {
              "fillmode": "overlay",
              "size": 10,
              "solidity": 0.2
             }
            },
            "type": "histogram"
           }
          ],
          "histogram2d": [
           {
            "colorbar": {
             "outlinewidth": 0,
             "ticks": ""
            },
            "colorscale": [
             [
              0,
              "#0d0887"
             ],
             [
              0.1111111111111111,
              "#46039f"
             ],
             [
              0.2222222222222222,
              "#7201a8"
             ],
             [
              0.3333333333333333,
              "#9c179e"
             ],
             [
              0.4444444444444444,
              "#bd3786"
             ],
             [
              0.5555555555555556,
              "#d8576b"
             ],
             [
              0.6666666666666666,
              "#ed7953"
             ],
             [
              0.7777777777777778,
              "#fb9f3a"
             ],
             [
              0.8888888888888888,
              "#fdca26"
             ],
             [
              1,
              "#f0f921"
             ]
            ],
            "type": "histogram2d"
           }
          ],
          "histogram2dcontour": [
           {
            "colorbar": {
             "outlinewidth": 0,
             "ticks": ""
            },
            "colorscale": [
             [
              0,
              "#0d0887"
             ],
             [
              0.1111111111111111,
              "#46039f"
             ],
             [
              0.2222222222222222,
              "#7201a8"
             ],
             [
              0.3333333333333333,
              "#9c179e"
             ],
             [
              0.4444444444444444,
              "#bd3786"
             ],
             [
              0.5555555555555556,
              "#d8576b"
             ],
             [
              0.6666666666666666,
              "#ed7953"
             ],
             [
              0.7777777777777778,
              "#fb9f3a"
             ],
             [
              0.8888888888888888,
              "#fdca26"
             ],
             [
              1,
              "#f0f921"
             ]
            ],
            "type": "histogram2dcontour"
           }
          ],
          "mesh3d": [
           {
            "colorbar": {
             "outlinewidth": 0,
             "ticks": ""
            },
            "type": "mesh3d"
           }
          ],
          "parcoords": [
           {
            "line": {
             "colorbar": {
              "outlinewidth": 0,
              "ticks": ""
             }
            },
            "type": "parcoords"
           }
          ],
          "pie": [
           {
            "automargin": true,
            "type": "pie"
           }
          ],
          "scatter": [
           {
            "fillpattern": {
             "fillmode": "overlay",
             "size": 10,
             "solidity": 0.2
            },
            "type": "scatter"
           }
          ],
          "scatter3d": [
           {
            "line": {
             "colorbar": {
              "outlinewidth": 0,
              "ticks": ""
             }
            },
            "marker": {
             "colorbar": {
              "outlinewidth": 0,
              "ticks": ""
             }
            },
            "type": "scatter3d"
           }
          ],
          "scattercarpet": [
           {
            "marker": {
             "colorbar": {
              "outlinewidth": 0,
              "ticks": ""
             }
            },
            "type": "scattercarpet"
           }
          ],
          "scattergeo": [
           {
            "marker": {
             "colorbar": {
              "outlinewidth": 0,
              "ticks": ""
             }
            },
            "type": "scattergeo"
           }
          ],
          "scattergl": [
           {
            "marker": {
             "colorbar": {
              "outlinewidth": 0,
              "ticks": ""
             }
            },
            "type": "scattergl"
           }
          ],
          "scattermapbox": [
           {
            "marker": {
             "colorbar": {
              "outlinewidth": 0,
              "ticks": ""
             }
            },
            "type": "scattermapbox"
           }
          ],
          "scatterpolar": [
           {
            "marker": {
             "colorbar": {
              "outlinewidth": 0,
              "ticks": ""
             }
            },
            "type": "scatterpolar"
           }
          ],
          "scatterpolargl": [
           {
            "marker": {
             "colorbar": {
              "outlinewidth": 0,
              "ticks": ""
             }
            },
            "type": "scatterpolargl"
           }
          ],
          "scatterternary": [
           {
            "marker": {
             "colorbar": {
              "outlinewidth": 0,
              "ticks": ""
             }
            },
            "type": "scatterternary"
           }
          ],
          "surface": [
           {
            "colorbar": {
             "outlinewidth": 0,
             "ticks": ""
            },
            "colorscale": [
             [
              0,
              "#0d0887"
             ],
             [
              0.1111111111111111,
              "#46039f"
             ],
             [
              0.2222222222222222,
              "#7201a8"
             ],
             [
              0.3333333333333333,
              "#9c179e"
             ],
             [
              0.4444444444444444,
              "#bd3786"
             ],
             [
              0.5555555555555556,
              "#d8576b"
             ],
             [
              0.6666666666666666,
              "#ed7953"
             ],
             [
              0.7777777777777778,
              "#fb9f3a"
             ],
             [
              0.8888888888888888,
              "#fdca26"
             ],
             [
              1,
              "#f0f921"
             ]
            ],
            "type": "surface"
           }
          ],
          "table": [
           {
            "cells": {
             "fill": {
              "color": "#EBF0F8"
             },
             "line": {
              "color": "white"
             }
            },
            "header": {
             "fill": {
              "color": "#C8D4E3"
             },
             "line": {
              "color": "white"
             }
            },
            "type": "table"
           }
          ]
         },
         "layout": {
          "annotationdefaults": {
           "arrowcolor": "#2a3f5f",
           "arrowhead": 0,
           "arrowwidth": 1
          },
          "autotypenumbers": "strict",
          "coloraxis": {
           "colorbar": {
            "outlinewidth": 0,
            "ticks": ""
           }
          },
          "colorscale": {
           "diverging": [
            [
             0,
             "#8e0152"
            ],
            [
             0.1,
             "#c51b7d"
            ],
            [
             0.2,
             "#de77ae"
            ],
            [
             0.3,
             "#f1b6da"
            ],
            [
             0.4,
             "#fde0ef"
            ],
            [
             0.5,
             "#f7f7f7"
            ],
            [
             0.6,
             "#e6f5d0"
            ],
            [
             0.7,
             "#b8e186"
            ],
            [
             0.8,
             "#7fbc41"
            ],
            [
             0.9,
             "#4d9221"
            ],
            [
             1,
             "#276419"
            ]
           ],
           "sequential": [
            [
             0,
             "#0d0887"
            ],
            [
             0.1111111111111111,
             "#46039f"
            ],
            [
             0.2222222222222222,
             "#7201a8"
            ],
            [
             0.3333333333333333,
             "#9c179e"
            ],
            [
             0.4444444444444444,
             "#bd3786"
            ],
            [
             0.5555555555555556,
             "#d8576b"
            ],
            [
             0.6666666666666666,
             "#ed7953"
            ],
            [
             0.7777777777777778,
             "#fb9f3a"
            ],
            [
             0.8888888888888888,
             "#fdca26"
            ],
            [
             1,
             "#f0f921"
            ]
           ],
           "sequentialminus": [
            [
             0,
             "#0d0887"
            ],
            [
             0.1111111111111111,
             "#46039f"
            ],
            [
             0.2222222222222222,
             "#7201a8"
            ],
            [
             0.3333333333333333,
             "#9c179e"
            ],
            [
             0.4444444444444444,
             "#bd3786"
            ],
            [
             0.5555555555555556,
             "#d8576b"
            ],
            [
             0.6666666666666666,
             "#ed7953"
            ],
            [
             0.7777777777777778,
             "#fb9f3a"
            ],
            [
             0.8888888888888888,
             "#fdca26"
            ],
            [
             1,
             "#f0f921"
            ]
           ]
          },
          "colorway": [
           "#636efa",
           "#EF553B",
           "#00cc96",
           "#ab63fa",
           "#FFA15A",
           "#19d3f3",
           "#FF6692",
           "#B6E880",
           "#FF97FF",
           "#FECB52"
          ],
          "font": {
           "color": "#2a3f5f"
          },
          "geo": {
           "bgcolor": "white",
           "lakecolor": "white",
           "landcolor": "#E5ECF6",
           "showlakes": true,
           "showland": true,
           "subunitcolor": "white"
          },
          "hoverlabel": {
           "align": "left"
          },
          "hovermode": "closest",
          "mapbox": {
           "style": "light"
          },
          "paper_bgcolor": "white",
          "plot_bgcolor": "#E5ECF6",
          "polar": {
           "angularaxis": {
            "gridcolor": "white",
            "linecolor": "white",
            "ticks": ""
           },
           "bgcolor": "#E5ECF6",
           "radialaxis": {
            "gridcolor": "white",
            "linecolor": "white",
            "ticks": ""
           }
          },
          "scene": {
           "xaxis": {
            "backgroundcolor": "#E5ECF6",
            "gridcolor": "white",
            "gridwidth": 2,
            "linecolor": "white",
            "showbackground": true,
            "ticks": "",
            "zerolinecolor": "white"
           },
           "yaxis": {
            "backgroundcolor": "#E5ECF6",
            "gridcolor": "white",
            "gridwidth": 2,
            "linecolor": "white",
            "showbackground": true,
            "ticks": "",
            "zerolinecolor": "white"
           },
           "zaxis": {
            "backgroundcolor": "#E5ECF6",
            "gridcolor": "white",
            "gridwidth": 2,
            "linecolor": "white",
            "showbackground": true,
            "ticks": "",
            "zerolinecolor": "white"
           }
          },
          "shapedefaults": {
           "line": {
            "color": "#2a3f5f"
           }
          },
          "ternary": {
           "aaxis": {
            "gridcolor": "white",
            "linecolor": "white",
            "ticks": ""
           },
           "baxis": {
            "gridcolor": "white",
            "linecolor": "white",
            "ticks": ""
           },
           "bgcolor": "#E5ECF6",
           "caxis": {
            "gridcolor": "white",
            "linecolor": "white",
            "ticks": ""
           }
          },
          "title": {
           "x": 0.05
          },
          "xaxis": {
           "automargin": true,
           "gridcolor": "white",
           "linecolor": "white",
           "ticks": "",
           "title": {
            "standoff": 15
           },
           "zerolinecolor": "white",
           "zerolinewidth": 2
          },
          "yaxis": {
           "automargin": true,
           "gridcolor": "white",
           "linecolor": "white",
           "ticks": "",
           "title": {
            "standoff": 15
           },
           "zerolinecolor": "white",
           "zerolinewidth": 2
          }
         }
        },
        "width": 800
       }
      },
      "text/html": [
       "<div>                            <div id=\"0c5cf55b-e1c9-4f6f-9db7-e8feb2099219\" class=\"plotly-graph-div\" style=\"height:800px; width:800px;\"></div>            <script type=\"text/javascript\">                require([\"plotly\"], function(Plotly) {                    window.PLOTLYENV=window.PLOTLYENV || {};                                    if (document.getElementById(\"0c5cf55b-e1c9-4f6f-9db7-e8feb2099219\")) {                    Plotly.newPlot(                        \"0c5cf55b-e1c9-4f6f-9db7-e8feb2099219\",                        [{\"marker\":{\"size\":1},\"name\":\"Pred Camera 0\",\"x\":[-0.03863060474395752,-0.013465233147144318,-0.024266015738248825,-0.013465233147144318,0.01170013751834631,0.07650484144687653,0.02617410197854042,-0.03863060474395752,0.01981525868177414,0.01170013751834631,0.07650484144687653,0.01981525868177414,0.02617410197854042,0.01981525868177414,0.018498050048947334],\"y\":[-0.026632891967892647,-0.06868147850036621,-0.0747748538851738,-0.06868147850036621,-0.11073005199432373,-0.07416976988315582,0.009927395731210709,-0.026632891967892647,-0.026919621974229813,-0.11073005199432373,-0.07416976988315582,-0.026919621974229813,0.009927395731210709,-0.026919621974229813,-0.062142182141542435],\"z\":[-0.11176180094480515,-0.10183101147413254,-0.1002613827586174,-0.10183101147413254,-0.09190022200345993,-0.10131799429655075,-0.12117957323789597,-0.11176180094480515,-0.009339922107756138,-0.09190022200345993,-0.10131799429655075,-0.009339922107756138,-0.12117957323789597,-0.009339922107756138,-0.15513989329338074],\"type\":\"scatter3d\",\"scene\":\"scene\",\"line\":{\"color\":\"#ff0000\",\"width\":4}},{\"marker\":{\"size\":1},\"name\":\"Pred Camera 1\",\"x\":[0.07567030191421509,0.030290238559246063,0.035537201911211014,0.030290238559246063,-0.015089823864400387,-0.04657161235809326,0.04418851435184479,0.07567030191421509,0.015348230488598347,-0.015089823864400387,-0.04657161235809326,0.015348230488598347,0.04418851435184479,0.015348230488598347,0.014149903319776058],\"y\":[-0.04715169221162796,-0.06811295449733734,-0.079452283680439,-0.06811295449733734,-0.08907420933246613,-0.02103821560740471,0.020884303376078606,-0.04715169221162796,-0.030440742149949074,-0.08907420933246613,-0.02103821560740471,-0.030440742149949074,0.020884303376078606,-0.030440742149949074,-0.035922057926654816],\"z\":[0.08308127522468567,0.08195198327302933,0.08157927542924881,0.08195198327302933,0.08082268387079239,0.0830589234828949,0.08531751483678818,0.08308127522468567,-0.016859911382198334,0.08082268387079239,0.0830589234828949,-0.016859911382198334,0.08531751483678818,-0.016859911382198334,0.13303512334823608],\"type\":\"scatter3d\",\"scene\":\"scene\",\"line\":{\"color\":\"#ff1200\",\"width\":4}},{\"marker\":{\"size\":1},\"name\":\"Pred Camera 2\",\"x\":[0.09462390840053558,0.08262376487255096,0.09393386542797089,0.08262376487255096,0.07062362879514694,0.002763032913208008,0.02676331251859665,0.09462390840053558,0.013519372791051865,0.07062362879514694,0.002763032913208008,0.013519372791051865,0.02676331251859665,0.013519372791051865,0.06628052145242691],\"y\":[-0.004994502291083336,-0.05330836772918701,-0.05565626174211502,-0.05330836772918701,-0.10162223130464554,-0.08753486722707748,0.009092869237065315,-0.004994502291083336,-0.028650010004639626,-0.10162223130464554,-0.08753486722707748,-0.028650010004639626,0.009092869237065315,-0.028650010004639626,-0.05507202073931694],\"z\":[0.06638600677251816,0.06172046810388565,0.05694352835416794,0.06172046810388565,0.057054921984672546,0.08571655303239822,0.09504763782024384,0.06638600677251816,-0.015886226668953896,0.057054921984672546,0.08571655303239822,-0.015886226668953896,0.09504763782024384,-0.015886226668953896,0.12202004343271255],\"type\":\"scatter3d\",\"scene\":\"scene\",\"line\":{\"color\":\"#ff2300\",\"width\":4}},{\"marker\":{\"size\":1},\"name\":\"Pred Camera 3\",\"x\":[0.07412352412939072,0.05780938267707825,0.06961449235677719,0.05780938267707825,0.041495244950056076,-0.02933543175458908,0.0032928502187132835,0.07412352412939072,0.0183551162481308,0.041495244950056076,-0.02933543175458908,0.0183551162481308,0.0032928502187132835,0.0183551162481308,0.024413513019680977],\"y\":[-0.006680656224489212,0.03527847304940224,0.03865012153983116,0.03527847304940224,0.07723760604858398,0.05700772628188133,-0.026910539716482162,-0.006680656224489212,-0.02206118032336235,0.07723760604858398,0.05700772628188133,-0.02206118032336235,-0.026910539716482162,-0.02206118032336235,0.048775892704725266],\"z\":[-0.12273663282394409,-0.10098162293434143,-0.09863187372684479,-0.10098162293434143,-0.07922662049531937,-0.09332513809204102,-0.13683514297008514,-0.12273663282394409,-0.019976843148469925,-0.07922662049531937,-0.09332513809204102,-0.019976843148469925,-0.13683514297008514,-0.019976843148469925,-0.15205790102481842],\"type\":\"scatter3d\",\"scene\":\"scene\",\"line\":{\"color\":\"#ff3500\",\"width\":4}},{\"marker\":{\"size\":1},\"name\":\"Pred Camera 4\",\"x\":[0.037883561104536057,0.005614285357296467,-0.0035618701949715614,0.005614285357296467,-0.02665499597787857,0.028401948511600494,0.09294050186872482,0.037883561104536057,0.012027502991259098,-0.02665499597787857,0.028401948511600494,0.012027502991259098,0.09294050186872482,0.012027502991259098,0.043700382113456726],\"y\":[-0.11669132113456726,-0.08806502819061279,-0.09616342186927795,-0.08806502819061279,-0.05943872034549713,-0.010848324745893478,-0.0681009292602539,-0.11669132113456726,-0.013522859662771225,-0.05943872034549713,-0.010848324745893478,-0.013522859662771225,-0.0681009292602539,-0.013522859662771225,-0.08889330923557281],\"z\":[0.03494402393698692,0.06022699177265167,0.05768454074859619,0.06022699177265167,0.08550996333360672,0.1007646769285202,0.050198741257190704,0.03494402393698692,-0.01598706841468811,0.08550996333360672,0.1007646769285202,-0.01598706841468811,0.050198741257190704,-0.01598706841468811,0.10977506637573242],\"type\":\"scatter3d\",\"scene\":\"scene\",\"line\":{\"color\":\"#ff4700\",\"width\":4}},{\"marker\":{\"size\":1},\"name\":\"Pred Camera 5\",\"x\":[0.07222297787666321,0.02828560397028923,0.03425026684999466,0.02828560397028923,-0.015651769936084747,-0.05143974721431732,0.036435000598430634,0.07222297787666321,0.00934883113950491,-0.015651769936084747,-0.05143974721431732,0.00934883113950491,0.036435000598430634,0.00934883113950491,0.010913008823990822],\"y\":[0.0004063602536916733,-0.022422626614570618,-0.03300747275352478,-0.022422626614570618,-0.04525161162018776,0.018257468938827515,0.0639154464006424,0.0004063602536916733,-0.017960086464881897,-0.04525161162018776,0.018257468938827515,-0.017960086464881897,0.0639154464006424,-0.017960086464881897,0.02297791838645935],\"z\":[0.07661957293748856,0.08357258886098862,0.08651091903448105,0.08357258886098862,0.09052560478448868,0.0728956088423729,0.05898957699537277,0.07661957293748856,-0.021440425887703896,0.09052560478448868,0.0728956088423729,-0.021440425887703896,0.05898957699537277,-0.021440425887703896,0.12285659462213516],\"type\":\"scatter3d\",\"scene\":\"scene\",\"line\":{\"color\":\"#ff5f00\",\"width\":4}},{\"marker\":{\"size\":1},\"name\":\"Pred Camera 6\",\"x\":[-0.036499250680208206,-0.03932349383831024,-0.05174671858549118,-0.03932349383831024,-0.04214773699641228,0.032391633838415146,0.03804012015461922,-0.036499250680208206,0.007462066598236561,-0.04214773699641228,0.032391633838415146,0.007462066598236561,0.03804012015461922,0.007462066598236561,-0.0068117426708340645],\"y\":[-0.08563125878572464,-0.036451634019613266,-0.0369395986199379,-0.036451634019613266,0.012727990746498108,0.01565578766167164,-0.08270346373319626,-0.08563125878572464,-0.017374617978930473,0.012727990746498108,0.01565578766167164,-0.017374617978930473,-0.08270346373319626,-0.017374617978930473,-0.04379429668188095],\"z\":[0.06509047001600266,0.07365720719099045,0.07236287742853165,0.07365720719099045,0.08222394436597824,0.08998990803956985,0.07285643368959427,0.06509047001600266,-0.02043544501066208,0.08222394436597824,0.08998990803956985,-0.02043544501066208,0.07285643368959427,-0.02043544501066208,0.12652799487113953],\"type\":\"scatter3d\",\"scene\":\"scene\",\"line\":{\"color\":\"#ff7000\",\"width\":4}},{\"marker\":{\"size\":1},\"name\":\"Pred Camera 7\",\"x\":[0.04357724264264107,0.03894104063510895,0.0513763353228569,0.03894104063510895,0.03430483862757683,-0.0403069369494915,-0.03103453293442726,0.04357724264264107,0.005792372394353151,0.03430483862757683,-0.0403069369494915,0.005792372394353151,-0.03103453293442726,0.005792372394353151,-0.00044345855712890625],\"y\":[-0.03657403588294983,0.011447630822658539,0.012702319771051407,0.011447630822658539,0.05946929752826691,0.0519411638379097,-0.04410216957330704,-0.03657403588294983,-0.018295802175998688,0.05946929752826691,0.0519411638379097,-0.018295802175998688,-0.04410216957330704,-0.018295802175998688,0.020673245191574097],\"z\":[-0.12635403871536255,-0.11322294920682907,-0.11342092603445053,-0.11322294920682907,-0.10009186714887619,-0.09890400618314743,-0.1251661777496338,-0.12635403871536255,-0.016152122989296913,-0.10009186714887619,-0.09890400618314743,-0.016152122989296913,-0.1251661777496338,-0.016152122989296913,-0.16086748242378235],\"type\":\"scatter3d\",\"scene\":\"scene\",\"line\":{\"color\":\"#ff8200\",\"width\":4}},{\"marker\":{\"size\":1},\"name\":\"Pred Camera 8\",\"x\":[-0.053291525691747665,-0.005854739807546139,-0.002634901786223054,-0.005854739807546139,0.04158203676342964,0.02226301096379757,-0.07261054962873459,-0.053291525691747665,0.002802361501380801,0.04158203676342964,0.02226301096379757,0.002802361501380801,-0.07261054962873459,0.002802361501380801,-0.02467256411910057],\"y\":[-0.04161622375249863,-0.026646358892321587,-0.038123033940792084,-0.026646358892321587,-0.011676492169499397,0.057183586061000824,0.027243852615356445,-0.04161622375249863,-0.018176071345806122,-0.011676492169499397,0.057183586061000824,-0.018176071345806122,0.027243852615356445,-0.018176071345806122,0.02076355740427971],\"z\":[-0.11963579058647156,-0.1247008889913559,-0.12846499681472778,-0.1247008889913559,-0.12976598739624023,-0.10718132555484772,-0.09705112874507904,-0.11963579058647156,-0.0185898095369339,-0.12976598739624023,-0.10718132555484772,-0.0185898095369339,-0.09705112874507904,-0.0185898095369339,-0.1608179360628128],\"type\":\"scatter3d\",\"scene\":\"scene\",\"line\":{\"color\":\"#ff9400\",\"width\":4}},{\"marker\":{\"size\":1},\"name\":\"Pred Camera 9\",\"x\":[-0.02768530510365963,-0.06034925952553749,-0.06873659044504166,-0.06034925952553749,-0.0930132269859314,-0.042689260095357895,0.022638656198978424,-0.02768530510365963,-0.0001153468620032072,-0.0930132269859314,-0.042689260095357895,-0.0001153468620032072,0.022638656198978424,-0.0001153468620032072,-0.052723247557878494],\"y\":[0.0910438671708107,0.05439113453030586,0.059949930757284164,0.05439113453030586,0.017738405615091324,-0.015614395029842854,0.057691071182489395,0.0910438671708107,-0.013750721700489521,0.017738405615091324,-0.015614395029842854,-0.013750721700489521,0.057691071182489395,-0.013750721700489521,0.06344746798276901],\"z\":[-0.06519610434770584,-0.07466409355401993,-0.06724772602319717,-0.07466409355401993,-0.08413208276033401,-0.12863031029701233,-0.10969432443380356,-0.06519610434770584,-0.018674688413739204,-0.08413208276033401,-0.12863031029701233,-0.018674688413739204,-0.10969432443380356,-0.018674688413739204,-0.13603247702121735],\"type\":\"scatter3d\",\"scene\":\"scene\",\"line\":{\"color\":\"#ffa500\",\"width\":4}},{\"marker\":{\"size\":1},\"name\":\"Pred Camera 10\",\"x\":[-0.06553708016872406,-0.022317973896861076,-0.01808253489434719,-0.022317973896861076,0.020901130512356758,-0.004511518403887749,-0.09094972908496857,-0.06553708016872406,0.0021287333220243454,0.020901130512356758,-0.004511518403887749,0.0021287333220243454,-0.09094972908496857,0.0021287333220243454,-0.05360081046819687],\"y\":[-0.04463217407464981,-0.02230340614914894,-0.03301459178328514,-0.02230340614914894,0.00002536177635192871,0.06429249793291092,0.01963496394455433,-0.04463217407464981,-0.015918878838419914,0.00002536177635192871,0.06429249793291092,-0.015918878838419914,0.01963496394455433,-0.015918878838419914,0.022704681381583214],\"z\":[-0.10240870714187622,-0.11396448314189911,-0.11882056295871735,-0.11396448314189911,-0.125520259141922,-0.09638379514217377,-0.07327225059270859,-0.10240870714187622,-0.010196241550147533,-0.125520259141922,-0.09638379514217377,-0.010196241550147533,-0.07327225059270859,-0.010196241550147533,-0.1439962536096573],\"type\":\"scatter3d\",\"scene\":\"scene\",\"line\":{\"color\":\"#ffbd00\",\"width\":4}},{\"marker\":{\"size\":1},\"name\":\"Pred Camera 11\",\"x\":[-0.03515888750553131,-0.03190512955188751,-0.044370926916599274,-0.03190512955188751,-0.028651371598243713,0.04614342749118805,0.03963591158390045,-0.03515888750553131,0.00198559183627367,-0.028651371598243713,0.04614342749118805,0.00198559183627367,0.03963591158390045,0.00198559183627367,0.0072456104680895805],\"y\":[0.04860333353281021,-0.00008918903768062592,-0.000786731019616127,-0.00008918903768062592,-0.04878171533346176,-0.044596463441848755,0.05278858542442322,0.04860333353281021,-0.020019585266709328,-0.04878171533346176,-0.044596463441848755,-0.020019585266709328,0.05278858542442322,-0.020019585266709328,0.013014944270253181],\"z\":[-0.09500843286514282,-0.10589197278022766,-0.10649799555540085,-0.10589197278022766,-0.1167755126953125,-0.11313939094543457,-0.09137231111526489,-0.09500843286514282,-0.006592183373868465,-0.1167755126953125,-0.11313939094543457,-0.006592183373868465,-0.09137231111526489,-0.006592183373868465,-0.15281477570533752],\"type\":\"scatter3d\",\"scene\":\"scene\",\"line\":{\"color\":\"#ffcf00\",\"width\":4}},{\"marker\":{\"size\":1},\"name\":\"Pred Camera 12\",\"x\":[-0.06413077563047409,-0.046297311782836914,-0.05787866562604904,-0.046297311782836914,-0.028463853523135185,0.04102427512407303,0.005357346031814814,-0.06413077563047409,0.0004340543528087437,-0.028463853523135185,0.04102427512407303,0.0004340543528087437,0.005357346031814814,0.0004340543528087437,-0.01754690892994404],\"y\":[0.04157872498035431,-0.002502373419702053,-0.007205531001091003,-0.002502373419702053,-0.046583473682403564,-0.018364526331424713,0.06979766488075256,0.04157872498035431,-0.016884442418813705,-0.046583473682403564,-0.018364526331424713,-0.016884442418813705,0.06979766488075256,-0.016884442418813705,0.02585287019610405],\"z\":[-0.09061934798955917,-0.1060733050107956,-0.10602252185344696,-0.1060733050107956,-0.12152725458145142,-0.12183191627264023,-0.09092400968074799,-0.09061934798955917,-0.01112285815179348,-0.12152725458145142,-0.12183191627264023,-0.01112285815179348,-0.09092400968074799,-0.01112285815179348,-0.15377701818943024],\"type\":\"scatter3d\",\"scene\":\"scene\",\"line\":{\"color\":\"#ffe000\",\"width\":4}},{\"marker\":{\"size\":1},\"name\":\"Pred Camera 13\",\"x\":[-0.03937431052327156,-0.001214177580550313,0.006303894333541393,-0.001214177580550313,0.03694595769047737,-0.00816246960312128,-0.08448274433612823,-0.03937431052327156,-0.00014957523671910167,0.03694595769047737,-0.00816246960312128,-0.00014957523671910167,-0.08448274433612823,-0.00014957523671910167,-0.03557779639959335],\"y\":[-0.06730874627828598,-0.03550676256418228,-0.04505303129553795,-0.03550676256418228,-0.003704777918756008,0.05357285588979721,-0.01003111433237791,-0.06730874627828598,-0.017919421195983887,-0.003704777918756008,0.05357285588979721,-0.017919421195983887,-0.01003111433237791,-0.017919421195983887,-0.001342209056019783],\"z\":[-0.10344910621643066,-0.10914453864097595,-0.11207666248083115,-0.10914453864097595,-0.11483997106552124,-0.09724721312522888,-0.0858563482761383,-0.10344910621643066,-0.0038079216610640287,-0.11483997106552124,-0.09724721312522888,-0.0038079216610640287,-0.0858563482761383,-0.0038079216610640287,-0.14861828088760376],\"type\":\"scatter3d\",\"scene\":\"scene\",\"line\":{\"color\":\"#fef100\",\"width\":4}},{\"marker\":{\"size\":1},\"name\":\"Pred Camera 14\",\"x\":[0.03636059910058975,-0.012242050841450691,-0.01517203077673912,-0.012242050841450691,-0.06084470450878143,-0.043264828622341156,0.05394047498703003,0.03636059910058975,-0.002147233346477151,-0.06084470450878143,-0.043264828622341156,-0.002147233346477151,0.05394047498703003,-0.002147233346477151,-0.00410455372184515],\"y\":[0.062250711023807526,0.051126398146152496,0.062402211129665375,0.051126398146152496,0.040002092719078064,-0.027652738615870476,-0.005404125899076462,0.062250711023807526,-0.019684741273522377,0.040002092719078064,-0.027652738615870476,-0.019684741273522377,-0.005404125899076462,-0.019684741273522377,0.03579084575176239],\"z\":[-0.07618263363838196,-0.07992854714393616,-0.07539848983287811,-0.07992854714393616,-0.08367446064949036,-0.11085480451583862,-0.10336297750473022,-0.07618263363838196,-0.0006182324141263962,-0.08367446064949036,-0.11085480451583862,-0.0006182324141263962,-0.10336297750473022,-0.0006182324141263962,-0.13996896147727966],\"type\":\"scatter3d\",\"scene\":\"scene\",\"line\":{\"color\":\"#f8fd00\",\"width\":4}},{\"marker\":{\"size\":1},\"name\":\"Pred Camera 15\",\"x\":[-0.048301711678504944,-0.008798901923000813,-0.016347279772162437,-0.008798901923000813,0.03070390410721302,0.07599417865276337,-0.0030114324763417244,-0.048301711678504944,0.0032859016209840775,0.03070390410721302,0.07599417865276337,0.0032859016209840775,-0.0030114324763417244,0.0032859016209840775,0.01912640407681465],\"y\":[-0.00822729803621769,-0.038859836757183075,-0.048657990992069244,-0.038859836757183075,-0.06949236989021301,-0.01070345751941204,0.05056162178516388,-0.00822729803621769,-0.019582020118832588,-0.06949236989021301,-0.01070345751941204,-0.019582020118832588,0.05056162178516388,-0.019582020118832588,-0.004407056607306004],\"z\":[-0.10314319282770157,-0.10205889493227005,-0.10386670380830765,-0.10205889493227005,-0.10097458958625793,-0.09012771397829056,-0.09229631721973419,-0.10314319282770157,0.0022894195280969143,-0.10097458958625793,-0.09012771397829056,0.0022894195280969143,-0.09229631721973419,0.0022894195280969143,-0.14609789848327637],\"type\":\"scatter3d\",\"scene\":\"scene\",\"line\":{\"color\":\"#e2ff00\",\"width\":4}},{\"marker\":{\"size\":1},\"name\":\"Pred Camera 16\",\"x\":[-0.08188167214393616,-0.039467886090278625,-0.0376519076526165,-0.039467886090278625,0.0029458999633789062,-0.007949993014335632,-0.0927775651216507,-0.08188167214393616,0.00600786879658699,0.0029458999633789062,-0.007949993014335632,0.00600786879658699,-0.0927775651216507,0.00600786879658699,-0.07037767767906189],\"y\":[-0.04940041899681091,-0.03459537774324417,-0.0461876317858696,-0.03459537774324417,-0.01979033835232258,0.04976320639252663,0.020153123885393143,-0.04940041899681091,-0.022685501724481583,-0.01979033835232258,0.04976320639252663,-0.022685501724481583,0.020153123885393143,-0.022685501724481583,0.0116148442029953],\"z\":[-0.06567323207855225,-0.08762502670288086,-0.09193452447652817,-0.08762502670288086,-0.10957682132720947,-0.08371983468532562,-0.03981625288724899,-0.06567323207855225,0.008272616192698479,-0.10957682132720947,-0.08371983468532562,0.008272616192698479,-0.03981625288724899,0.008272616192698479,-0.11618111282587051],\"type\":\"scatter3d\",\"scene\":\"scene\",\"line\":{\"color\":\"#d1ff00\",\"width\":4}},{\"marker\":{\"size\":1},\"name\":\"Pred Camera 17\",\"x\":[0.029105309396982193,-0.015632115304470062,-0.02097189426422119,-0.015632115304470062,-0.06036954000592232,-0.028330858796834946,0.061143990606069565,0.029105309396982193,0.013402688317000866,-0.06036954000592232,-0.028330858796834946,0.013402688317000866,0.061143990606069565,0.013402688317000866,-0.00612050574272871],\"y\":[0.04076269641518593,0.019131839275360107,0.030399922281503677,0.019131839275360107,-0.002499014139175415,-0.07010751962661743,-0.02684580162167549,0.04076269641518593,-0.016210149973630905,-0.002499014139175415,-0.07010751962661743,-0.016210149973630905,-0.02684580162167549,-0.016210149973630905,-0.013903537765145302],\"z\":[-0.08979760110378265,-0.08425967395305634,-0.08338385075330734,-0.08425967395305634,-0.07872174680233002,-0.08397670090198517,-0.0950525552034378,-0.08979760110378265,0.012250303290784359,-0.07872174680233002,-0.08397670090198517,0.012250303290784359,-0.0950525552034378,0.012250303290784359,-0.13645587861537933],\"type\":\"scatter3d\",\"scene\":\"scene\",\"line\":{\"color\":\"#bfff00\",\"width\":4}},{\"marker\":{\"size\":1},\"name\":\"Pred Camera 18\",\"x\":[-0.0012453962117433548,-0.0007050875574350357,-0.013049997389316559,-0.0007050875574350357,-0.00016477890312671661,0.07390469312667847,0.07282407581806183,-0.0012453962117433548,0.020663365721702576,-0.00016477890312671661,0.07390469312667847,0.020663365721702576,0.07282407581806183,0.020663365721702576,0.04416278749704361],\"y\":[-0.07673367857933044,-0.027274640277028084,-0.027429204434156418,-0.027274640277028084,0.02218439057469368,0.02311178669333458,-0.07580628246068954,-0.07673367857933044,-0.012192887254059315,0.02218439057469368,0.02311178669333458,-0.012192887254059315,-0.07580628246068954,-0.012192887254059315,-0.034119971096515656],\"z\":[0.11250433325767517,0.1198195368051529,0.12177637964487076,0.1198195368051529,0.12713474035263062,0.11539368331432343,0.10076327621936798,0.11250433325767517,0.016271574422717094,0.12713474035263062,0.11539368331432343,0.016271574422717094,0.10076327621936798,0.016271574422717094,0.16278772056102753],\"type\":\"scatter3d\",\"scene\":\"scene\",\"line\":{\"color\":\"#adff00\",\"width\":4}},{\"marker\":{\"size\":1},\"name\":\"Pred Camera 19\",\"x\":[-0.027399078011512756,-0.0298677459359169,-0.04195597767829895,-0.0298677459359169,-0.03233642131090164,0.04019295424222946,0.04513029754161835,-0.027399078011512756,0.03136900067329407,-0.03233642131090164,0.04019295424222946,0.03136900067329407,0.04513029754161835,0.03136900067329407,-0.0060890913009643555],\"y\":[0.059064336121082306,0.010568298399448395,0.01040273904800415,0.010568298399448395,-0.037927739322185516,-0.03693437576293945,0.06005769968032837,0.059064336121082306,-0.013241000473499298,-0.037927739322185516,-0.03693437576293945,-0.013241000473499298,0.06005769968032837,-0.013241000473499298,0.023217972368001938],\"z\":[-0.04801755025982857,-0.05993557348847389,-0.05675795301795006,-0.05993557348847389,-0.07185360789299011,-0.09091934561729431,-0.06708329916000366,-0.04801755025982857,0.024263177067041397,-0.07185360789299011,-0.09091934561729431,0.024263177067041397,-0.06708329916000366,0.024263177067041397,-0.11633427441120148],\"type\":\"scatter3d\",\"scene\":\"scene\",\"line\":{\"color\":\"#9cff00\",\"width\":4}},{\"marker\":{\"size\":1},\"name\":\"Pred Camera 20\",\"x\":[0.06637696176767349,0.03762228041887283,0.04717263579368591,0.03762228041887283,0.008867602795362473,-0.0484345369040966,0.009074825793504715,0.06637696176767349,0.03821641579270363,0.008867602795362473,-0.0484345369040966,0.03821641579270363,0.009074825793504715,0.03821641579270363,-0.005651388317346573],\"y\":[-0.01251243520528078,0.026214756071567535,0.03400947526097298,0.026214756071567535,0.06494194269180298,0.018173635005950928,-0.059280749410390854,-0.01251243520528078,-0.007767979055643082,0.06494194269180298,0.018173635005950928,-0.007767979055643082,-0.059280749410390854,-0.007767979055643082,0.008129889145493507],\"z\":[-0.09065872430801392,-0.07749159634113312,-0.07956115901470184,-0.07749159634113312,-0.06432446837425232,-0.051907092332839966,-0.07824134826660156,-0.09065872430801392,0.02375597506761551,-0.06432446837425232,-0.051907092332839966,0.02375597506761551,-0.07824134826660156,0.02375597506761551,-0.11880236119031906],\"type\":\"scatter3d\",\"scene\":\"scene\",\"line\":{\"color\":\"#84ff00\",\"width\":4}},{\"marker\":{\"size\":1},\"name\":\"Pred Camera 21\",\"x\":[0.13619676232337952,0.09122274816036224,0.09373944997787476,0.09122274816036224,0.04624871909618378,0.03114849328994751,0.12109654396772385,0.13619676232337952,0.04489138722419739,0.04624871909618378,0.03114849328994751,0.04489138722419739,0.12109654396772385,0.04489138722419739,0.10306325554847717],\"y\":[-0.0559149831533432,-0.07348795980215073,-0.08424679189920425,-0.07348795980215073,-0.09106093645095825,-0.026507942005991936,0.008638009428977966,-0.0559149831533432,-0.004379361867904663,-0.09106093645095825,-0.026507942005991936,-0.004379361867904663,0.008638009428977966,-0.004379361867904663,-0.05962751433253288],\"z\":[0.08070256561040878,0.09368438273668289,0.08783940970897675,0.09368438273668289,0.1066662073135376,0.14173606038093567,0.11577241122722626,0.08070256561040878,0.02672427147626877,0.1066662073135376,0.14173606038093567,0.02672427147626877,0.11577241122722626,0.02672427147626877,0.1534668207168579],\"type\":\"scatter3d\",\"scene\":\"scene\",\"line\":{\"color\":\"#72ff00\",\"width\":4}},{\"marker\":{\"size\":1},\"name\":\"Pred Camera 22\",\"x\":[0.01727071776986122,0.04420105367898941,0.03394247591495514,0.04420105367898941,0.0711313858628273,0.13268285989761353,0.07882218807935715,0.01727071776986122,0.05590404197573662,0.0711313858628273,0.13268285989761353,0.05590404197573662,0.07882218807935715,0.05590404197573662,0.08451316505670547],\"y\":[0.03821825981140137,-0.00381890288554132,-0.010177016258239746,-0.00381890288554132,-0.0458560585975647,-0.0077073834836483,0.07636693865060806,0.03821825981140137,-0.003299096366390586,-0.0458560585975647,-0.0077073834836483,-0.003299096366390586,0.07636693865060806,-0.003299096366390586,0.024532703682780266],\"z\":[-0.0764174535870552,-0.079180508852005,-0.08243411779403687,-0.079180508852005,-0.0819435641169548,-0.06242191046476364,-0.056895799934864044,-0.0764174535870552,0.026975132524967194,-0.0819435641169548,-0.06242191046476364,0.026975132524967194,-0.056895799934864044,0.026975132524967194,-0.11761709302663803],\"type\":\"scatter3d\",\"scene\":\"scene\",\"line\":{\"color\":\"#61ff00\",\"width\":4}},{\"marker\":{\"size\":1},\"name\":\"Pred Camera 23\",\"x\":[0.016666151583194733,0.04764339700341225,0.03811328858137131,0.04764339700341225,0.07862064242362976,0.1358013153076172,0.07384680956602097,0.016666151583194733,0.0575530081987381,0.07862064242362976,0.1358013153076172,0.0575530081987381,0.07384680956602097,0.0575530081987381,0.08557409048080444],\"y\":[-0.06365861743688583,-0.025571897625923157,-0.018990952521562576,-0.025571897625923157,0.012514821253716946,-0.026970863342285156,-0.10314431041479111,-0.06365861743688583,-0.007554446347057819,0.012514821253716946,-0.026970863342285156,-0.007554446347057819,-0.10314431041479111,-0.007554446347057819,-0.06419488787651062],\"z\":[0.12198611348867416,0.13146302103996277,0.13616600632667542,0.13146302103996277,0.14093993604183197,0.11272197216749191,0.0937681496143341,0.12198611348867416,0.026661209762096405,0.14093993604183197,0.11272197216749191,0.026661209762096405,0.0937681496143341,0.026661209762096405,0.16270047426223755],\"type\":\"scatter3d\",\"scene\":\"scene\",\"line\":{\"color\":\"#4fff00\",\"width\":4}},{\"marker\":{\"size\":1},\"name\":\"Pred Camera 24\",\"x\":[0.1125522032380104,0.06889704614877701,0.07479250431060791,0.06889704614877701,0.02524188905954361,-0.010130882263183594,0.0771794319152832,0.1125522032380104,0.0635593831539154,0.02524188905954361,-0.010130882263183594,0.0635593831539154,0.0771794319152832,0.0635593831539154,0.04503629729151726],\"y\":[-0.022673286497592926,0.001686709001660347,0.012354759499430656,0.001686709001660347,0.02604670263826847,-0.03796162083745003,-0.08668161183595657,-0.022673286497592926,-0.011805584654211998,0.02604670263826847,-0.03796162083745003,-0.011805584654211998,-0.08668161183595657,-0.011805584654211998,-0.039573390036821365],\"z\":[-0.0798293799161911,-0.07892532646656036,-0.08169771730899811,-0.07892532646656036,-0.07802128791809082,-0.061386968940496445,-0.06319504976272583,-0.0798293799161911,0.02688448503613472,-0.07802128791809082,-0.061386968940496445,0.02688448503613472,-0.06319504976272583,0.02688448503613472,-0.1193545013666153],\"type\":\"scatter3d\",\"scene\":\"scene\",\"line\":{\"color\":\"#3dff00\",\"width\":4}},{\"marker\":{\"size\":1},\"name\":\"Pred Camera 25\",\"x\":[0.0750875174999237,0.04525592178106308,0.035286832600831985,0.04525592178106308,0.015424326062202454,0.07523885369300842,0.13490204513072968,0.0750875174999237,0.06622966378927231,0.015424326062202454,0.07523885369300842,0.06622966378927231,0.13490204513072968,0.06622966378927231,0.07962994277477264],\"y\":[-0.07496393471956253,-0.03489624708890915,-0.042371898889541626,-0.03489624708890915,0.005171435885131359,0.050025343894958496,-0.03011002019047737,-0.07496393471956253,-0.013757227919995785,0.005171435885131359,0.050025343894958496,-0.013757227919995785,-0.03011002019047737,-0.013757227919995785,-0.011825325898826122],\"z\":[0.12702937424182892,0.12918716669082642,0.1301780790090561,0.12918716669082642,0.13134494423866272,0.1253994256258011,0.12108386307954788,0.12702937424182892,0.026622580364346504,0.13134494423866272,0.1253994256258011,0.026622580364346504,0.12108386307954788,0.026622580364346504,0.17601031064987183],\"type\":\"scatter3d\",\"scene\":\"scene\",\"line\":{\"color\":\"#25ff00\",\"width\":4}},{\"marker\":{\"size\":1},\"name\":\"Pred Camera 26\",\"x\":[0.1471349596977234,0.14407360553741455,0.15540286898612976,0.14407360553741455,0.1410122513771057,0.07303673028945923,0.0791594386100769,0.1471349596977234,0.06827694922685623,0.1410122513771057,0.07303673028945923,0.06827694922685623,0.0791594386100769,0.06827694922685623,0.13099029660224915],\"y\":[0.01683211699128151,-0.03266969323158264,-0.03269384056329727,-0.03266969323158264,-0.08217150717973709,-0.0820266455411911,0.0169769786298275,0.01683211699128151,-0.018517345190048218,-0.08217150717973709,-0.0820266455411911,-0.018517345190048218,0.0169769786298275,-0.018517345190048218,-0.03963722288608551],\"z\":[0.10703311115503311,0.10069289058446884,0.09541108459234238,0.10069289058446884,0.09435266256332397,0.12604346871376038,0.13872390985488892,0.10703311115503311,0.02679547108709812,0.09435266256332397,0.12604346871376038,0.02679547108709812,0.13872390985488892,0.02679547108709812,0.16140970587730408],\"type\":\"scatter3d\",\"scene\":\"scene\",\"line\":{\"color\":\"#14ff00\",\"width\":4}},{\"marker\":{\"size\":1},\"name\":\"Pred Camera 27\",\"x\":[0.14427408576011658,0.1383342146873474,0.14993128180503845,0.1383342146873474,0.13239434361457825,0.062811940908432,0.07469169050455093,0.14427408576011658,0.06816809624433517,0.13239434361457825,0.062811940908432,0.06816809624433517,0.07469169050455093,0.06816809624433517,0.12123047560453415],\"y\":[0.006793137639760971,-0.04261567443609238,-0.04356183856725693,-0.04261567443609238,-0.09202448278665543,-0.08634749054908752,0.012470122426748276,0.006793137639760971,-0.02644360065460205,-0.09202448278665543,-0.08634749054908752,-0.02644360065460205,0.012470122426748276,-0.02644360065460205,-0.04644396901130676],\"z\":[0.11245333403348923,0.1076069325208664,0.10303935408592224,0.1076069325208664,0.10276053100824356,0.13016602396965027,0.13985881209373474,0.11245333403348923,0.02873089164495468,0.10276053100824356,0.13016602396965027,0.02873089164495468,0.13985881209373474,0.02873089164495468,0.16759908199310303],\"type\":\"scatter3d\",\"scene\":\"scene\",\"line\":{\"color\":\"#06ff04\",\"width\":4}},{\"marker\":{\"size\":1},\"name\":\"Pred Camera 28\",\"x\":[0.09896720945835114,0.05107047036290169,0.04749438911676407,0.05107047036290169,0.003173738718032837,0.024630233645439148,0.12042370438575745,0.09896720945835114,0.06406938284635544,0.003173738718032837,0.024630233645439148,0.06406938284635544,0.12042370438575745,0.06406938284635544,0.060663387179374695],\"y\":[0.013133648782968521,-0.0011218003928661346,0.01084970310330391,-0.0011218003928661346,-0.015377255156636238,-0.08720627427101135,-0.05869536101818085,0.013133648782968521,-0.03318270668387413,-0.015377255156636238,-0.08720627427101135,-0.03318270668387413,-0.05869536101818085,-0.03318270668387413,-0.038963109254837036],\"z\":[-0.07335557788610458,-0.07171701639890671,-0.0720975324511528,-0.07171701639890671,-0.07007846236228943,-0.06779537349939346,-0.07107248902320862,-0.07335557788610458,0.02932445891201496,-0.07007846236228943,-0.06779537349939346,0.02932445891201496,-0.07107248902320862,0.02932445891201496,-0.12052544951438904],\"type\":\"scatter3d\",\"scene\":\"scene\",\"line\":{\"color\":\"#00ff10\",\"width\":4}},{\"marker\":{\"size\":1},\"name\":\"Pred Camera 29\",\"x\":[0.07573671638965607,0.049625836312770844,0.03940635547041893,0.049625836312770844,0.02351495996117592,0.08483187109231949,0.13705362379550934,0.07573671638965607,0.05601781606674194,0.02351495996117592,0.08483187109231949,0.05601781606674194,0.13705362379550934,0.05601781606674194,0.09241753816604614],\"y\":[-0.11583313345909119,-0.07528261840343475,-0.08233366906642914,-0.07528261840343475,-0.03473210334777832,0.007574260234832764,-0.0735267624258995,-0.11583313345909119,-0.03861468657851219,-0.03473210334777832,0.007574260234832764,-0.03861468657851219,-0.0735267624258995,-0.03861468657851219,-0.061886806041002274],\"z\":[0.11368916928768158,0.12687546014785767,0.1283227503299713,0.12687546014785767,0.14006175100803375,0.13137800991535187,0.10500544309616089,0.11368916928768158,0.026771236211061478,0.14006175100803375,0.13137800991535187,0.026771236211061478,0.10500544309616089,0.026771236211061478,0.1704147756099701],\"type\":\"scatter3d\",\"scene\":\"scene\",\"line\":{\"color\":\"#00ff21\",\"width\":4}},{\"marker\":{\"size\":1},\"name\":\"Pred Camera 30\",\"x\":[0.13558298349380493,0.0995190441608429,0.10742861777544022,0.0995190441608429,0.06345511227846146,0.015997663140296936,0.08812553435564041,0.13558298349380493,0.04761868715286255,0.06345511227846146,0.015997663140296936,0.04761868715286255,0.08812553435564041,0.04761868715286255,0.08987614512443542],\"y\":[-0.0544881597161293,-0.08811625093221664,-0.09732937812805176,-0.08811625093221664,-0.12174434214830399,-0.06646557152271271,0.0007906146347522736,-0.0544881597161293,-0.05383039265871048,-0.12174434214830399,-0.06646557152271271,-0.05383039265871048,0.0007906146347522736,-0.05383039265871048,-0.06380010396242142],\"z\":[0.10132015496492386,0.1095992848277092,0.10663163661956787,0.1095992848277092,0.11787840723991394,0.13568425178527832,0.11912600696086884,0.10132015496492386,0.022782927379012108,0.11787840723991394,0.13568425178527832,0.022782927379012108,0.11912600696086884,0.022782927379012108,0.16636183857917786],\"type\":\"scatter3d\",\"scene\":\"scene\",\"line\":{\"color\":\"#00ff39\",\"width\":4}},{\"marker\":{\"size\":1},\"name\":\"Pred Camera 31\",\"x\":[0.060006871819496155,0.04891694337129593,0.060999803245067596,0.04891694337129593,0.037827011197805405,-0.03467017412185669,-0.012490307912230492,0.060006871819496155,0.02548770047724247,0.037827011197805405,-0.03467017412185669,0.02548770047724247,-0.012490307912230492,0.02548770047724247,0.006258677691221237],\"y\":[-0.09346625208854675,-0.04476529359817505,-0.041942812502384186,-0.04476529359817505,0.003935664892196655,-0.012999221682548523,-0.11040113866329193,-0.09346625208854675,-0.05497020110487938,0.003935664892196655,-0.012999221682548523,-0.05497020110487938,-0.11040113866329193,-0.05497020110487938,-0.052364006638526917],\"z\":[-0.09210483729839325,-0.08981779962778091,-0.09133041650056839,-0.08981779962778091,-0.08753076940774918,-0.07845506072044373,-0.0830291286110878,-0.09210483729839325,0.013879755511879921,-0.08753076940774918,-0.07845506072044373,0.013879755511879921,-0.0830291286110878,0.013879755511879921,-0.13485980033874512],\"type\":\"scatter3d\",\"scene\":\"scene\",\"line\":{\"color\":\"#00ff4b\",\"width\":4}},{\"marker\":{\"size\":1},\"name\":\"Pred Camera 32\",\"x\":[0.0010763220489025116,0.04034276679158211,0.04800884798169136,0.04034276679158211,0.079609215259552,0.033612724393606186,-0.044920165091753006,0.0010763220489025116,0.008895848877727985,0.079609215259552,0.033612724393606186,0.008895848877727985,-0.044920165091753006,0.008895848877727985,0.021568860858678818],\"y\":[0.002718202769756317,-0.02797478623688221,-0.018110960721969604,-0.02797478623688221,-0.05866777524352074,-0.11785072833299637,-0.056464750319719315,0.002718202769756317,-0.0553574338555336,-0.05866777524352074,-0.11785072833299637,-0.0553574338555336,-0.056464750319719315,-0.0553574338555336,-0.05867067724466324],\"z\":[0.10541416704654694,0.10140339285135269,0.10097193717956543,0.10140339285135269,0.09739262610673904,0.09998136758804321,0.1080029085278511,0.10541416704654694,0.0030797934159636497,0.09739262610673904,0.09998136758804321,0.0030797934159636497,0.1080029085278511,0.0030797934159636497,0.1525067538022995],\"type\":\"scatter3d\",\"scene\":\"scene\",\"line\":{\"color\":\"#00ff5c\",\"width\":4}},{\"marker\":{\"size\":1},\"name\":\"Pred Camera 33\",\"x\":[0.03994935750961304,-0.007507120259106159,-0.003755028359591961,-0.007507120259106159,-0.054963596165180206,-0.07747615873813629,0.01743680238723755,0.03994935750961304,-0.009248835034668446,-0.054963596165180206,-0.07747615873813629,-0.009248835034668446,0.01743680238723755,-0.009248835034668446,-0.023520680144429207],\"y\":[-0.0445251390337944,-0.029502373188734055,-0.01758081465959549,-0.029502373188734055,-0.014479607343673706,-0.08600898087024689,-0.11605451256036758,-0.0445251390337944,-0.06642959266901016,-0.014479607343673706,-0.08600898087024689,-0.06642959266901016,-0.11605451256036758,-0.06642959266901016,-0.06468579173088074],\"z\":[-0.1149267852306366,-0.11021516472101212,-0.11043458431959152,-0.11021516472101212,-0.10550355166196823,-0.10418707132339478,-0.11361030489206314,-0.1149267852306366,-0.01001738477498293,-0.10550355166196823,-0.10418707132339478,-0.01001738477498293,-0.11361030489206314,-0.01001738477498293,-0.1593266874551773],\"type\":\"scatter3d\",\"scene\":\"scene\",\"line\":{\"color\":\"#00ff6e\",\"width\":4}},{\"marker\":{\"size\":1},\"name\":\"Pred Camera 34\",\"x\":[-0.055216915905475616,-0.008944079279899597,-0.00427301786839962,-0.008944079279899597,0.03732875734567642,0.009302394464612007,-0.08324328064918518,-0.055216915905475616,-0.029193760827183723,0.03732875734567642,0.009302394464612007,-0.029193760827183723,-0.08324328064918518,-0.029193760827183723,-0.019839011132717133],\"y\":[-0.010309875011444092,-0.02920103818178177,-0.017670035362243652,-0.02920103818178177,-0.04809219390153885,-0.11727823317050934,-0.07949592173099518,-0.010309875011444092,-0.07171834260225296,-0.04809219390153885,-0.11727823317050934,-0.07171834260225296,-0.07949592173099518,-0.07171834260225296,-0.05983191356062889],\"z\":[0.07650008797645569,0.07510414719581604,0.07389292120933533,0.07510414719581604,0.07370820641517639,0.08097562193870544,0.08376750349998474,0.07650008797645569,-0.02075238898396492,0.07370820641517639,0.08097562193870544,-0.02075238898396492,0.08376750349998474,-0.02075238898396492,0.12848299741744995],\"type\":\"scatter3d\",\"scene\":\"scene\",\"line\":{\"color\":\"#00ff80\",\"width\":4}},{\"marker\":{\"size\":1},\"name\":\"Pred Camera 35\",\"x\":[-0.012461505830287933,-0.061880290508270264,-0.06311897933483124,-0.061880290508270264,-0.111299067735672,-0.10386694967746735,-0.0050293803215026855,-0.012461505830287933,-0.04663436487317085,-0.111299067735672,-0.10386694967746735,-0.04663436487317085,-0.0050293803215026855,-0.04663436487317085,-0.06392915546894073],\"y\":[-0.036816343665122986,-0.04158007726073265,-0.02914610505104065,-0.04158007726073265,-0.046343810856342316,-0.12094765156507492,-0.11142018437385559,-0.036816343665122986,-0.07506199926137924,-0.046343810856342316,-0.12094765156507492,-0.07506199926137924,-0.11142018437385559,-0.07506199926137924,-0.08079199492931366],\"z\":[-0.14143380522727966,-0.13551004230976105,-0.13584467768669128,-0.13551004230976105,-0.12958629429340363,-0.1275784820318222,-0.13942597806453705,-0.14143380522727966,-0.035246532410383224,-0.12958629429340363,-0.1275784820318222,-0.035246532410383224,-0.13942597806453705,-0.035246532410383224,-0.18413595855236053],\"type\":\"scatter3d\",\"scene\":\"scene\",\"line\":{\"color\":\"#00ff97\",\"width\":4}},{\"marker\":{\"size\":1},\"name\":\"Pred Camera 36\",\"x\":[0.011737439781427383,-0.01521054282784462,-0.004721939563751221,-0.01521054282784462,-0.04215852543711662,-0.10509014129638672,-0.051194168627262115,0.011737439781427383,-0.05406113341450691,-0.04215852543711662,-0.10509014129638672,-0.05406113341450691,-0.051194168627262115,-0.05406113341450691,-0.04298395290970802],\"y\":[-0.10696189105510712,-0.06534921377897263,-0.0585494339466095,-0.06534921377897263,-0.023736529052257538,-0.06453518569469452,-0.1477605402469635,-0.10696189105510712,-0.07505392283201218,-0.023736529052257538,-0.06453518569469452,-0.07505392283201218,-0.1477605402469635,-0.07505392283201218,-0.09109584987163544],\"z\":[-0.13916611671447754,-0.14566156268119812,-0.14561381936073303,-0.14566156268119812,-0.1521570384502411,-0.1524435579776764,-0.13945263624191284,-0.13916611671447754,-0.04665298014879227,-0.1521570384502411,-0.1524435579776764,-0.04665298014879227,-0.13945263624191284,-0.04665298014879227,-0.1953807771205902],\"type\":\"scatter3d\",\"scene\":\"scene\",\"line\":{\"color\":\"#00ffa9\",\"width\":4}},{\"marker\":{\"size\":1},\"name\":\"Pred Camera 37\",\"x\":[-0.08963607251644135,-0.09275148808956146,-0.10521554946899414,-0.09275148808956146,-0.09586690366268158,-0.021082546561956406,-0.014851707965135574,-0.08963607251644135,-0.05967177078127861,-0.09586690366268158,-0.021082546561956406,-0.05967177078127861,-0.014851707965135574,-0.05967177078127861,-0.053203076124191284],\"y\":[-0.11142775416374207,-0.061707012355327606,-0.06243619695305824,-0.061707012355327606,-0.01198626309633255,-0.007611140608787537,-0.10705263167619705,-0.11142775416374207,-0.06831502914428711,-0.01198626309633255,-0.007611140608787537,-0.06831502914428711,-0.10705263167619705,-0.06831502914428711,-0.05512165650725365],\"z\":[0.05356473848223686,0.04930538311600685,0.049909938126802444,0.04930538311600685,0.04504602774977684,0.04141869768500328,0.0499374084174633,0.05356473848223686,-0.05202731862664223,0.04504602774977684,0.04141869768500328,-0.05202731862664223,0.0499374084174633,-0.05202731862664223,0.09725125133991241],\"type\":\"scatter3d\",\"scene\":\"scene\",\"line\":{\"color\":\"#00ffbb\",\"width\":4}},{\"marker\":{\"size\":1},\"name\":\"Pred Camera 38\",\"x\":[-0.08477744460105896,-0.10197292268276215,-0.11366231739521027,-0.10197292268276215,-0.11916839331388474,-0.04903200641274452,-0.014641053974628448,-0.08477744460105896,-0.05840935558080673,-0.11916839331388474,-0.04903200641274452,-0.05840935558080673,-0.014641053974628448,-0.05840935558080673,-0.07115241140127182],\"y\":[-0.023097191005945206,-0.06976616382598877,-0.06538698077201843,-0.06976616382598877,-0.11643514037132263,-0.14271023869514465,-0.049372296780347824,-0.023097191005945206,-0.07511366158723831,-0.11643514037132263,-0.14271023869514465,-0.07511366158723831,-0.049372296780347824,-0.07511366158723831,-0.08679874241352081],\"z\":[-0.15749597549438477,-0.15236541628837585,-0.15170913934707642,-0.15236541628837585,-0.14723485708236694,-0.15117262303829193,-0.16143372654914856,-0.15749597549438477,-0.05500081181526184,-0.14723485708236694,-0.15117262303829193,-0.05500081181526184,-0.16143372654914856,-0.05500081181526184,-0.2040010541677475],\"type\":\"scatter3d\",\"scene\":\"scene\",\"line\":{\"color\":\"#00ffcd\",\"width\":4}},{\"marker\":{\"size\":1},\"name\":\"Pred Camera 39\",\"x\":[-0.11611565202474594,-0.0714404284954071,-0.07696499675512314,-0.0714404284954071,-0.026765212416648865,0.006382189691066742,-0.08296824991703033,-0.11611565202474594,-0.06281455606222153,-0.026765212416648865,0.006382189691066742,-0.06281455606222153,-0.08296824991703033,-0.06281455606222153,-0.050892822444438934],\"y\":[-0.04622114449739456,-0.024611059576272964,-0.013430718332529068,-0.024611059576272964,-0.003000974655151367,-0.07008302956819534,-0.11330319941043854,-0.04622114449739456,-0.06964179128408432,-0.003000974655151367,-0.07008302956819534,-0.06964179128408432,-0.11330319941043854,-0.06964179128408432,-0.05240723490715027],\"z\":[0.0487939827144146,0.042700592428445816,0.04184671863913536,0.042700592428445816,0.036607202142477036,0.04173048958182335,0.05391727015376091,0.0487939827144146,-0.05375705286860466,0.036607202142477036,0.04173048958182335,-0.05375705286860466,0.05391727015376091,-0.05375705286860466,0.09477187693119049],\"type\":\"scatter3d\",\"scene\":\"scene\",\"line\":{\"color\":\"#00ffde\",\"width\":4}},{\"marker\":{\"size\":1},\"name\":\"Pred Camera 40\",\"x\":[0.002739548683166504,-0.040191665291786194,-0.03381066769361496,-0.040191665291786194,-0.0831228718161583,-0.1214088648557663,-0.035546451807022095,0.002739548683166504,-0.06399808824062347,-0.0831228718161583,-0.1214088648557663,-0.06399808824062347,-0.035546451807022095,-0.06399808824062347,-0.057002946734428406],\"y\":[-0.0704590380191803,-0.09601348638534546,-0.10675757378339767,-0.09601348638534546,-0.12156793475151062,-0.05710342898964882,-0.005994532257318497,-0.0704590380191803,-0.06364777684211731,-0.12156793475151062,-0.05710342898964882,-0.06364777684211731,-0.005994532257318497,-0.06364777684211731,-0.06384796649217606],\"z\":[0.04386266693472862,0.04583277925848961,0.04552052542567253,0.04583277925848961,0.047802891582250595,0.04967639967799187,0.045736175030469894,0.04386266693472862,-0.05312158539891243,0.047802891582250595,0.04967639967799187,-0.05312158539891243,0.045736175030469894,-0.05312158539891243,0.09671509265899658],\"type\":\"scatter3d\",\"scene\":\"scene\",\"line\":{\"color\":\"#00fff6\",\"width\":4}},{\"marker\":{\"size\":1},\"name\":\"Pred Camera 41\",\"x\":[-0.11450132727622986,-0.10035194456577301,-0.11233621835708618,-0.10035194456577301,-0.08620256930589676,-0.01429697871208191,-0.04259573668241501,-0.11450132727622986,-0.06169135123491287,-0.08620256930589676,-0.01429697871208191,-0.06169135123491287,-0.04259573668241501,-0.06169135123491287,-0.06575305759906769],\"y\":[-0.08890455961227417,-0.04107191413640976,-0.03757040202617645,-0.04107191413640976,0.006760731339454651,-0.01424834132194519,-0.10991363227367401,-0.08890455961227417,-0.05954340100288391,0.006760731339454651,-0.01424834132194519,-0.05954340100288391,-0.10991363227367401,-0.05954340100288391,-0.047592975199222565],\"z\":[0.05253155156970024,0.04909168556332588,0.04848605766892433,0.04909168556332588,0.04565181955695152,0.04928555712103844,0.056165289133787155,0.05253155156970024,-0.04873678460717201,0.04565181955695152,0.04928555712103844,-0.04873678460717201,0.056165289133787155,-0.04873678460717201,0.10073123872280121],\"type\":\"scatter3d\",\"scene\":\"scene\",\"line\":{\"color\":\"#00f6ff\",\"width\":4}},{\"marker\":{\"size\":1},\"name\":\"Pred Camera 42\",\"x\":[-0.03000616282224655,-0.036944784224033356,-0.02463402971625328,-0.036944784224033356,-0.04388340562582016,-0.11774793267250061,-0.103870689868927,-0.03000616282224655,-0.06348827481269836,-0.04388340562582016,-0.11774793267250061,-0.06348827481269836,-0.103870689868927,-0.06348827481269836,-0.07907143235206604],\"y\":[0.0029432065784931183,-0.046382129192352295,-0.047985538840293884,-0.046382129192352295,-0.09570746123790741,-0.08608700335025787,0.012563664466142654,0.0029432065784931183,-0.0517457015812397,-0.09570746123790741,-0.08608700335025787,-0.0517457015812397,0.012563664466142654,-0.0517457015812397,-0.03648499771952629],\"z\":[0.05232296884059906,0.056666553020477295,0.058124102652072906,0.056666553020477295,0.06101013720035553,0.052264824509620667,0.0435776561498642,0.05232296884059906,-0.04664330184459686,0.06101013720035553,0.052264824509620667,-0.04664330184459686,0.0435776561498642,-0.04664330184459686,0.10176250338554382],\"type\":\"scatter3d\",\"scene\":\"scene\",\"line\":{\"color\":\"#00e5ff\",\"width\":4}},{\"marker\":{\"size\":1},\"name\":\"Pred Camera 43\",\"x\":[-0.01992166042327881,-0.033668793737888336,-0.021736599504947662,-0.033668793737888336,-0.04741593077778816,-0.1190091073513031,-0.09151484072208405,-0.01992166042327881,-0.05797991901636124,-0.04741593077778816,-0.1190091073513031,-0.05797991901636124,-0.09151484072208405,-0.05797991901636124,-0.07520812004804611],\"y\":[-0.08133743703365326,-0.033265430480241776,-0.029863083735108376,-0.033265430480241776,0.014806576073169708,-0.00560750812292099,-0.10175152122974396,-0.08133743703365326,-0.03953952714800835,0.014806576073169708,-0.00560750812292099,-0.03953952714800835,-0.10175152122974396,-0.03953952714800835,-0.045438945293426514],\"z\":[-0.14259880781173706,-0.1429128497838974,-0.1444283276796341,-0.1429128497838974,-0.14322689175605774,-0.1341339349746704,-0.13350585103034973,-0.14259880781173706,-0.03910603001713753,-0.14322689175605774,-0.1341339349746704,-0.03910603001713753,-0.13350585103034973,-0.03910603001713753,-0.1879965364933014],\"type\":\"scatter3d\",\"scene\":\"scene\",\"line\":{\"color\":\"#00d3ff\",\"width\":4}},{\"marker\":{\"size\":1},\"name\":\"Pred Camera 44\",\"x\":[-0.07682464271783829,-0.08118876814842224,-0.09361377358436584,-0.08118876814842224,-0.08555290102958679,-0.011002875864505768,-0.002274617552757263,-0.07682464271783829,-0.05050530284643173,-0.08555290102958679,-0.011002875864505768,-0.05050530284643173,-0.002274617552757263,-0.05050530284643173,-0.04061798378825188],\"y\":[-0.07632949948310852,-0.026555245742201805,-0.02761215530335903,-0.026555245742201805,0.02321900986135006,0.02956046722829342,-0.06998804211616516,-0.07632949948310852,-0.027697378769516945,0.02321900986135006,0.02956046722829342,-0.027697378769516945,-0.06998804211616516,-0.027697378769516945,-0.021228086203336716],\"z\":[0.07000785320997238,0.06814302504062653,0.06901030242443085,0.06814302504062653,0.06627819687128067,0.06107451766729355,0.06480417400598526,0.07000785320997238,-0.03414808213710785,0.06627819687128067,0.06107451766729355,-0.03414808213710785,0.06480417400598526,-0.03414808213710785,0.11538583040237427],\"type\":\"scatter3d\",\"scene\":\"scene\",\"line\":{\"color\":\"#00c1ff\",\"width\":4}},{\"marker\":{\"size\":1},\"name\":\"Pred Camera 45\",\"x\":[-0.04973449558019638,-0.05629850924015045,-0.0683540627360344,-0.05629850924015045,-0.06286251544952393,0.009470794349908829,0.022598814219236374,-0.04973449558019638,-0.04306932911276817,-0.06286251544952393,0.009470794349908829,-0.04306932911276817,0.022598814219236374,-0.04306932911276817,-0.008663110435009003],\"y\":[-0.06740936636924744,-0.017856361344456673,-0.01938302256166935,-0.017856361344456673,0.03169663995504379,0.04085661470890045,-0.05824939161539078,-0.06740936636924744,-0.018645791336894035,0.03169663995504379,0.04085661470890045,-0.018645791336894035,-0.05824939161539078,-0.018645791336894035,-0.010591665282845497],\"z\":[0.0767183005809784,0.07552976906299591,0.07845943421125412,0.07552976906299591,0.07434123754501343,0.05676324665546417,0.05914030969142914,0.0767183005809784,-0.030444830656051636,0.07434123754501343,0.05676324665546417,-0.030444830656051636,0.05914030969142914,-0.030444830656051636,0.11533357203006744],\"type\":\"scatter3d\",\"scene\":\"scene\",\"line\":{\"color\":\"#00aaff\",\"width\":4}},{\"marker\":{\"size\":1},\"name\":\"Pred Camera 46\",\"x\":[-0.03379181772470474,-0.07781525701284409,-0.08321595191955566,-0.07781525701284409,-0.12183869630098343,-0.08943452686071396,-0.0013876482844352722,-0.03379181772470474,-0.042093195021152496,-0.12183869630098343,-0.08943452686071396,-0.042093195021152496,-0.0013876482844352722,-0.042093195021152496,-0.07137316465377808],\"y\":[0.015167457051575184,-0.0038000522181391716,0.0073121050372719765,-0.0038000522181391716,-0.0227675624191761,-0.08944052457809448,-0.05150550231337547,0.015167457051575184,-0.011480924673378468,-0.0227675624191761,-0.08944052457809448,-0.011480924673378468,-0.05150550231337547,-0.011480924673378468,-0.049964334815740585],\"z\":[-0.14311262965202332,-0.12889394164085388,-0.13079194724559784,-0.12889394164085388,-0.11467526108026505,-0.1032872200012207,-0.13172458112239838,-0.14311262965202332,-0.028538620099425316,-0.11467526108026505,-0.1032872200012207,-0.028538620099425316,-0.13172458112239838,-0.028538620099425316,-0.17053057253360748],\"type\":\"scatter3d\",\"scene\":\"scene\",\"line\":{\"color\":\"#0098ff\",\"width\":4}},{\"marker\":{\"size\":1},\"name\":\"Pred Camera 47\",\"x\":[-0.0763292908668518,-0.07271574437618256,-0.0851830244064331,-0.07271574437618256,-0.0691021978855133,0.005701456218957901,-0.0015256367623806,-0.0763292908668518,-0.03507470712065697,-0.0691021978855133,0.005701456218957901,-0.03507470712065697,-0.0015256367623806,-0.03507470712065697,-0.03543352335691452],\"y\":[-0.04964780434966087,0.00010503921657800674,0.001004265621304512,0.00010503921657800674,0.04985788092017174,0.04446252062916756,-0.055043164640665054,-0.04964780434966087,-0.00943867489695549,0.04985788092017174,0.04446252062916756,-0.00943867489695549,-0.055043164640665054,-0.00943867489695549,0.000830373726785183],\"z\":[0.07965811342000961,0.07625266164541245,0.07616106420755386,0.07625266164541245,0.07284720987081528,0.07339682430028915,0.08020772784948349,0.07965811342000961,-0.023237625136971474,0.07284720987081528,0.07339682430028915,-0.023237625136971474,0.08020772784948349,-0.023237625136971474,0.12641000747680664],\"type\":\"scatter3d\",\"scene\":\"scene\",\"line\":{\"color\":\"#0086ff\",\"width\":4}},{\"marker\":{\"size\":1},\"name\":\"Pred Camera 48\",\"x\":[0.012500379234552383,0.0150829516351223,0.027509134262800217,0.0150829516351223,0.017665524035692215,-0.0568915456533432,-0.06205669045448303,0.012500379234552383,-0.03173942491412163,0.017665524035692215,-0.0568915456533432,-0.03173942491412163,-0.06205669045448303,-0.03173942491412163,-0.017423663288354874],\"y\":[-0.05751886963844299,-0.00767435971647501,-0.008244716562330723,-0.00767435971647501,0.04217015206813812,0.0455922931432724,-0.054096728563308716,-0.05751886963844299,0.0004616744117811322,0.04217015206813812,0.0455922931432724,0.0004616744117811322,-0.054096728563308716,0.0004616744117811322,-0.009175769984722137],\"z\":[-0.11247707158327103,-0.115452840924263,-0.11422208696603775,-0.115452840924263,-0.11842861026525497,-0.12581314146518707,-0.11986159533262253,-0.11247707158327103,-0.01980912871658802,-0.11842861026525497,-0.12581314146518707,-0.01980912871658802,-0.11986159533262253,-0.01980912871658802,-0.168813094496727],\"type\":\"scatter3d\",\"scene\":\"scene\",\"line\":{\"color\":\"#0074ff\",\"width\":4}},{\"marker\":{\"size\":1},\"name\":\"Pred Camera 49\",\"x\":[-0.030485115945339203,-0.039838120341300964,-0.05197092890739441,-0.039838120341300964,-0.049191124737262726,0.023605743423104286,0.04231175035238266,-0.030485115945339203,-0.018571151420474052,-0.049191124737262726,0.023605743423104286,-0.018571151420474052,0.04231175035238266,-0.018571151420474052,0.004126045852899551],\"y\":[0.06376507878303528,0.01465883944183588,0.016927562654018402,0.01465883944183588,-0.03444739803671837,-0.04805973544716835,0.050152737647295,0.06376507878303528,0.012842368334531784,-0.03444739803671837,-0.04805973544716835,0.012842368334531784,0.050152737647295,0.012842368334531784,0.005357822403311729],\"z\":[-0.12014611065387726,-0.11909770965576172,-0.12107199430465698,-0.11909770965576172,-0.11804930865764618,-0.10620355606079102,-0.1083003431558609,-0.12014611065387726,-0.014452267438173294,-0.11804930865764618,-0.10620355606079102,-0.014452267438173294,-0.1083003431558609,-0.014452267438173294,-0.1625361144542694],\"type\":\"scatter3d\",\"scene\":\"scene\",\"line\":{\"color\":\"#0063ff\",\"width\":4}},{\"marker\":{\"size\":1},\"name\":\"Pred Camera 50\",\"x\":[0.016519194468855858,-0.032052114605903625,-0.03468604385852814,-0.032052114605903625,-0.08062342554330826,-0.06481986492872238,0.032322756946086884,0.016519194468855858,-0.013227460905909538,-0.08062342554330826,-0.06481986492872238,-0.013227460905909538,0.032322756946086884,-0.013227460905909538,-0.029611773788928986],\"y\":[-0.02932692877948284,-0.0187529344111681,-0.030970072373747826,-0.0187529344111681,-0.008178938180208206,0.06512390077114105,0.043975912034511566,-0.02932692877948284,0.01743261329829693,-0.008178938180208206,0.06512390077114105,0.01743261329829693,0.043975912034511566,0.01743261329829693,0.018131423741579056],\"z\":[0.09550589323043823,0.09011896699666977,0.08988679200410843,0.09011896699666977,0.08473203331232071,0.08612509071826935,0.09689895063638687,0.09550589323043823,-0.008585088886320591,0.08473203331232071,0.08612509071826935,-0.008585088886320591,0.09689895063638687,-0.008585088886320591,0.1405157744884491],\"type\":\"scatter3d\",\"scene\":\"scene\",\"line\":{\"color\":\"#004bff\",\"width\":4}},{\"marker\":{\"size\":1},\"name\":\"Pred Camera 51\",\"x\":[0.06982411444187164,0.022646106779575348,0.0199185311794281,0.022646106779575348,-0.024531906470656395,-0.008166445419192314,0.08618957549333572,0.06982411444187164,0.005912939086556435,-0.024531906470656395,-0.008166445419192314,0.005912939086556435,0.08618957549333572,0.005912939086556435,0.04328678548336029],\"y\":[-0.012703429907560349,0.0004112999886274338,-0.011484351009130478,0.0004112999886274338,0.013526031747460365,0.0848999172449112,0.05867045745253563,-0.012703429907560349,0.020110618323087692,0.013526031747460365,0.0848999172449112,0.020110618323087692,0.05867045745253563,0.020110618323087692,0.04409205541014671],\"z\":[0.08962085843086243,0.0997321829199791,0.10243475437164307,0.0997321829199791,0.10984351485967636,0.09362806379795074,0.07340540736913681,0.08962085843086243,-0.0038930580485612154,0.10984351485967636,0.09362806379795074,-0.0038930580485612154,0.07340540736913681,-0.0038930580485612154,0.1393832117319107],\"type\":\"scatter3d\",\"scene\":\"scene\",\"line\":{\"color\":\"#0039ff\",\"width\":4}},{\"marker\":{\"size\":1},\"name\":\"Pred Camera 52\",\"x\":[-0.059227146208286285,-0.019696615636348724,-0.027142301201820374,-0.019696615636348724,0.019833911210298538,0.06450802087783813,-0.014553036540746689,-0.059227146208286285,0.016828633844852448,0.019833911210298538,0.06450802087783813,0.016828633844852448,-0.014553036540746689,0.016828633844852448,-0.004453662782907486],\"y\":[0.009893525391817093,-0.02072184532880783,-0.030353501439094543,-0.02072184532880783,-0.05133721977472305,0.006452701985836029,0.06768345087766647,0.009893525391817093,0.025881752371788025,-0.05133721977472305,0.006452701985836029,0.025881752371788025,0.06768345087766647,0.025881752371788025,-0.0006812065839767456],\"z\":[-0.08874543756246567,-0.08893755078315735,-0.08610152453184128,-0.08893755078315735,-0.08912966400384903,-0.10614579170942307,-0.1057615652680397,-0.08874543756246567,-0.00005413684993982315,-0.08912966400384903,-0.10614579170942307,-0.00005413684993982315,-0.1057615652680397,-0.00005413684993982315,-0.14614135026931763],\"type\":\"scatter3d\",\"scene\":\"scene\",\"line\":{\"color\":\"#0028ff\",\"width\":4}},{\"marker\":{\"size\":1},\"name\":\"Pred Camera 53\",\"x\":[0.06894753128290176,0.08123015612363815,0.09323414415121078,0.08123015612363815,0.09351278841495514,0.021488873288035393,-0.0030763819813728333,0.06894753128290176,0.032011039555072784,0.09351278841495514,0.021488873288035393,0.032011039555072784,-0.0030763819813728333,0.032011039555072784,0.05182178318500519],\"y\":[-0.03295895457267761,0.015505635179579258,0.012443930841982365,0.015505635179579258,0.06397023051977158,0.08234045654535294,-0.014588730409741402,-0.03295895457267761,0.026880761608481407,0.06397023051977158,0.08234045654535294,0.026880761608481407,-0.014588730409741402,0.026880761608481407,0.023595741018652916],\"z\":[-0.08793491870164871,-0.08736901730298996,-0.08570156991481781,-0.08736901730298996,-0.08680311590433121,-0.09680778533220291,-0.09793958812952042,-0.08793491870164871,0.006728475913405418,-0.08680311590433121,-0.09680778533220291,0.006728475913405418,-0.09793958812952042,0.006728475913405418,-0.1419212818145752],\"type\":\"scatter3d\",\"scene\":\"scene\",\"line\":{\"color\":\"#0016ff\",\"width\":4}},{\"marker\":{\"size\":1},\"name\":\"Pred Camera 54\",\"x\":[0.028203384950757027,0.020022204145789146,0.007882261648774147,0.020022204145789146,0.011841023340821266,0.08468068391084671,0.10104304552078247,0.028203384950757027,0.03911955654621124,0.011841023340821266,0.08468068391084671,0.03911955654621124,0.10104304552078247,0.03911955654621124,0.06510327756404877],\"y\":[0.08628693222999573,0.036969613283872604,0.039024319499731064,0.036969613283872604,-0.012347694486379623,-0.024675924330949783,0.07395869493484497,0.08628693222999573,0.03181466832756996,-0.012347694486379623,-0.024675924330949783,0.03181466832756996,0.07395869493484497,0.03181466832756996,0.030300917103886604],\"z\":[-0.09139999747276306,-0.09233365207910538,-0.09449003636837006,-0.09233365207910538,-0.0932672992348671,-0.08032898604869843,-0.07846168428659439,-0.09139999747276306,0.01261857058852911,-0.0932672992348671,-0.08032898604869843,0.01261857058852911,-0.07846168428659439,0.01261857058852911,-0.13510602712631226],\"type\":\"scatter3d\",\"scene\":\"scene\",\"line\":{\"color\":\"#0408ff\",\"width\":4}},{\"marker\":{\"size\":1},\"name\":\"Pred Camera 55\",\"x\":[0.11702506244182587,0.06782825291156769,0.06875527650117874,0.06782825291156769,0.018631435930728912,0.013069294393062592,0.11146292090415955,0.11702506244182587,0.048808593302965164,0.018631435930728912,0.013069294393062592,0.048808593302965164,0.11146292090415955,0.048808593302965164,0.07316647469997406],\"y\":[0.000819820910692215,-0.003009650856256485,-0.015472456812858582,-0.003009650856256485,-0.006839122623205185,0.06793771684169769,0.07559666037559509,0.000819820910692215,0.03525189310312271,-0.006839122623205185,0.06793771684169769,0.03525189310312271,0.07559666037559509,0.03525189310312271,0.03394220396876335],\"z\":[0.1047891154885292,0.11285188794136047,0.1125890389084816,0.11285188794136047,0.12091466039419174,0.12249176949262619,0.10636622458696365,0.1047891154885292,0.014971577562391758,0.12091466039419174,0.12249176949262619,0.014971577562391758,0.10636622458696365,0.014971577562391758,0.16297489404678345],\"type\":\"scatter3d\",\"scene\":\"scene\",\"line\":{\"color\":\"#1300ff\",\"width\":4}},{\"marker\":{\"size\":1},\"name\":\"Pred Camera 56\",\"x\":[-0.00035853311419487,0.04653427004814148,0.04244493693113327,0.04653427004814148,0.09342707693576813,0.11796306073665619,0.02417745813727379,-0.00035853311419487,0.04722600057721138,0.09342707693576813,0.11796306073665619,0.04722600057721138,0.02417745813727379,0.04722600057721138,0.06459039449691772],\"y\":[0.03087574988603592,0.014076264575123787,0.0023328326642513275,0.014076264575123787,-0.0027232207357883453,0.0677373856306076,0.10133635997772217,0.03087574988603592,0.0425996333360672,-0.0027232207357883453,0.0677373856306076,0.0425996333360672,0.10133635997772217,0.0425996333360672,0.052660033106803894],\"z\":[-0.09323610365390778,-0.08889536559581757,-0.0901678204536438,-0.08889536559581757,-0.08455464243888855,-0.07691991329193115,-0.08560137450695038,-0.09323610365390778,0.014022979885339737,-0.08455464243888855,-0.07691991329193115,0.014022979885339737,-0.08560137450695038,0.014022979885339737,-0.1346285045146942],\"type\":\"scatter3d\",\"scene\":\"scene\",\"line\":{\"color\":\"#2500ff\",\"width\":4}},{\"marker\":{\"size\":1},\"name\":\"Pred Camera 57\",\"x\":[0.05491827800869942,0.008461318910121918,0.007734023034572601,0.008461318910121918,-0.03799563646316528,-0.033631861209869385,0.05928206071257591,0.05491827800869942,0.04715557396411896,-0.03799563646316528,-0.033631861209869385,0.04715557396411896,0.05928206071257591,0.04715557396411896,-0.00761297345161438],\"y\":[0.15953710675239563,0.14141637086868286,0.14565137028694153,0.14141637086868286,0.12329564243555069,0.09788572788238525,0.1341271996498108,0.15953710675239563,0.04188567399978638,0.12329564243555069,0.09788572788238525,0.04188567399978638,0.1341271996498108,0.04188567399978638,0.17212429642677307],\"z\":[0.012445187196135521,0.0161044392734766,0.02784266136586666,0.0161044392734766,0.01976369135081768,-0.05066565424203873,-0.05798416584730148,0.012445187196135521,0.014477560296654701,0.01976369135081768,-0.05066565424203873,0.014477560296654701,-0.05798416584730148,0.014477560296654701,-0.03590413182973862],\"type\":\"scatter3d\",\"scene\":\"scene\",\"line\":{\"color\":\"#3700ff\",\"width\":4}},{\"marker\":{\"size\":1},\"name\":\"Pred Camera 58\",\"x\":[-0.0005850903689861298,0.008546393364667892,-0.003714166581630707,0.008546393364667892,0.017677877098321915,0.091241255402565,0.07297829538583755,-0.0005850903689861298,0.052102793008089066,0.017677877098321915,0.091241255402565,0.052102793008089066,0.07297829538583755,0.052102793008089066,0.041940730065107346],\"y\":[0.00531555712223053,0.05445341393351555,0.0567551851272583,0.05445341393351555,0.10359127074480057,0.08978064358234406,-0.008495070040225983,0.00531555712223053,0.049221884459257126,0.10359127074480057,0.08978064358234406,0.049221884459257126,-0.008495070040225983,0.049221884459257126,0.046711210161447525],\"z\":[0.10976771265268326,0.11121232807636261,0.11041830480098724,0.11121232807636261,0.11265693604946136,0.11742108315229416,0.11453185975551605,0.10976771265268326,0.013838179409503937,0.11265693604946136,0.11742108315229416,0.013838179409503937,0.11453185975551605,0.013838179409503937,0.1634725034236908],\"type\":\"scatter3d\",\"scene\":\"scene\",\"line\":{\"color\":\"#4900ff\",\"width\":4}},{\"marker\":{\"size\":1},\"name\":\"Pred Camera 59\",\"x\":[0.12869755923748016,0.08801007270812988,0.09507334232330322,0.08801007270812988,0.0473225899040699,0.004942938685417175,0.08631790429353714,0.12869755923748016,0.0532127246260643,0.0473225899040699,0.004942938685417175,0.0532127246260643,0.08631790429353714,0.0532127246260643,0.07362400740385056],\"y\":[0.04420642927289009,0.015452515333890915,0.005243606865406036,0.015452515333890915,-0.013301398605108261,0.0479520820081234,0.10545990616083145,0.04420642927289009,0.050838638097047806,-0.013301398605108261,0.0479520820081234,0.050838638097047806,0.10545990616083145,0.050838638097047806,0.043699562549591064],\"z\":[0.10633905231952667,0.11055109649896622,0.10908880829811096,0.11055109649896622,0.11476314812898636,0.12353689968585968,0.1151128038764,0.10633905231952667,0.015982510522007942,0.11476314812898636,0.12353689968585968,0.015982510522007942,0.1151128038764,0.015982510522007942,0.16441571712493896],\"type\":\"scatter3d\",\"scene\":\"scene\",\"line\":{\"color\":\"#5a00ff\",\"width\":4}},{\"marker\":{\"size\":1},\"name\":\"Pred Camera 60\",\"x\":[0.05831175670027733,0.05576029419898987,0.04398151487112045,0.05576029419898987,0.05320883169770241,0.123881496489048,0.12898442149162292,0.05831175670027733,0.058011494576931,0.05320883169770241,0.123881496489048,0.058011494576931,0.12898442149162292,0.058011494576931,0.10763919353485107],\"y\":[-0.0026625655591487885,0.04722011834383011,0.04642965644598007,0.04722011834383011,0.0971028059720993,0.10184559226036072,0.002080220729112625,-0.0026625655591487885,0.05221475288271904,0.0971028059720993,0.10184559226036072,0.05221475288271904,0.002080220729112625,0.05221475288271904,0.04827989265322685],\"z\":[0.12309931218624115,0.12538135051727295,0.12949055433273315,0.12538135051727295,0.12766340374946594,0.10300816595554352,0.09844408184289932,0.12309931218624115,0.018721915781497955,0.12766340374946594,0.10300816595554352,0.018721915781497955,0.09844408184289932,0.018721915781497955,0.16021963953971863],\"type\":\"scatter3d\",\"scene\":\"scene\",\"line\":{\"color\":\"#7200ff\",\"width\":4}},{\"marker\":{\"size\":1},\"name\":\"Pred Camera 61\",\"x\":[-0.020239125937223434,0.025364497676491737,0.02058546617627144,0.025364497676491737,0.07096812129020691,0.099642314016819,0.008435070514678955,-0.020239125937223434,0.05451815947890282,0.07096812129020691,0.099642314016819,0.05451815947890282,0.008435070514678955,0.05451815947890282,0.03229331225156784],\"y\":[0.025817174464464188,0.006028186529874802,-0.005413345992565155,0.006028186529874802,-0.013760801404714584,0.054888397455215454,0.09446637332439423,0.025817174464464188,0.04779808223247528,-0.013760801404714584,0.054888397455215454,0.04779808223247528,0.09446637332439423,0.04779808223247528,0.036630138754844666],\"z\":[-0.06762959063053131,-0.07298731058835983,-0.07140547037124634,-0.07298731058835983,-0.07834503799676895,-0.08783610165119171,-0.07712065428495407,-0.06762959063053131,0.020882748067378998,-0.07834503799676895,-0.08783610165119171,0.020882748067378998,-0.07712065428495407,0.020882748067378998,-0.12704065442085266],\"type\":\"scatter3d\",\"scene\":\"scene\",\"line\":{\"color\":\"#8400ff\",\"width\":4}},{\"marker\":{\"size\":1},\"name\":\"Pred Camera 62\",\"x\":[0.022452492266893387,0.0717550665140152,0.07285666465759277,0.0717550665140152,0.12105764448642731,0.11444810032844543,0.015842940658330917,0.022452492266893387,0.05433085560798645,0.12105764448642731,0.11444810032844543,0.05433085560798645,0.015842940658330917,0.05433085560798645,0.07551001012325287],\"y\":[0.08497967571020126,0.08066453039646149,0.09311562776565552,0.08066453039646149,0.07634939253330231,0.0016428157687187195,0.010273098945617676,0.08497967571020126,0.04521184414625168,0.07634939253330231,0.0016428157687187195,0.04521184414625168,0.010273098945617676,0.04521184414625168,0.04236094653606415],\"z\":[0.13505467772483826,0.12793883681297302,0.1280207633972168,0.12793883681297302,0.1208229809999466,0.12033133208751678,0.13456302881240845,0.13505467772483826,0.028713062405586243,0.1208229809999466,0.12033133208751678,0.028713062405586243,0.13456302881240845,0.028713062405586243,0.17718297243118286],\"type\":\"scatter3d\",\"scene\":\"scene\",\"line\":{\"color\":\"#9500ff\",\"width\":4}},{\"marker\":{\"size\":1},\"name\":\"Pred Camera 63\",\"x\":[0.09478060156106949,0.08585971593856812,0.09811344742774963,0.08585971593856812,0.07693882286548615,0.003416411578655243,0.021258190274238586,0.09478060156106949,0.05757296085357666,0.07693882286548615,0.003416411578655243,0.05757296085357666,0.021258190274238586,0.05757296085357666,0.04486127942800522],\"y\":[0.0025149397552013397,0.05159814655780792,0.05388832837343216,0.05159814655780792,0.1006813496351242,0.08694024384021759,-0.011226166039705276,0.0025149397552013397,0.0394662469625473,0.1006813496351242,0.08694024384021759,0.0394662469625473,-0.011226166039705276,0.0394662469625473,0.04735826328396797],\"z\":[-0.07320843636989594,-0.06985326111316681,-0.07077580690383911,-0.06985326111316681,-0.06649810075759888,-0.06096282973885536,-0.06767317652702332,-0.07320843636989594,0.03241562470793724,-0.06649810075759888,-0.06096282973885536,0.03241562470793724,-0.06767317652702332,0.03241562470793724,-0.11683626472949982],\"type\":\"scatter3d\",\"scene\":\"scene\",\"line\":{\"color\":\"#a700ff\",\"width\":4}},{\"marker\":{\"size\":1},\"name\":\"Pred Camera 64\",\"x\":[0.13220195472240448,0.10635611414909363,0.11691252887248993,0.10635611414909363,0.08051027357578278,0.017171762883663177,0.06886344403028488,0.13220195472240448,0.06068893522024155,0.08051027357578278,0.017171762883663177,0.06068893522024155,0.06886344403028488,0.06068893522024155,0.08168582618236542],\"y\":[0.05925252288579941,0.016641221940517426,0.010102476924657822,0.016641221940517426,-0.02597007527947426,0.013262387365102768,0.09848499298095703,0.05925252288579941,0.035375576466321945,-0.02597007527947426,0.013262387365102768,0.035375576466321945,0.09848499298095703,0.035375576466321945,0.036698393523693085],\"z\":[0.12652015686035156,0.1305536925792694,0.12911950051784515,0.1305536925792694,0.13458722829818726,0.1431923657655716,0.1351252943277359,0.12652015686035156,0.03584474325180054,0.13458722829818726,0.1431923657655716,0.03584474325180054,0.1351252943277359,0.03584474325180054,0.1843620240688324],\"type\":\"scatter3d\",\"scene\":\"scene\",\"line\":{\"color\":\"#b900ff\",\"width\":4}},{\"marker\":{\"size\":1},\"name\":\"Pred Camera 65\",\"x\":[0.09347812831401825,0.06470939517021179,0.07445751875638962,0.06470939517021179,0.035940662026405334,-0.022548075765371323,0.03498939424753189,0.09347812831401825,0.06011824682354927,0.035940662026405334,-0.022548075765371323,0.06011824682354927,0.03498939424753189,0.06011824682354927,0.023138418793678284],\"y\":[0.019261434674263,0.059418078511953354,0.06686452776193619,0.059418078511953354,0.09957472234964371,0.054896026849746704,-0.025417260825634003,0.019261434674263,0.03607826679944992,0.09957472234964371,0.054896026849746704,0.03607826679944992,-0.025417260825634003,0.03607826679944992,0.03757896274328232],\"z\":[-0.07016532868146896,-0.06243206560611725,-0.0648350864648819,-0.06243206560611725,-0.054698795080184937,-0.04028066247701645,-0.055747196078300476,-0.07016532868146896,0.04168529063463211,-0.054698795080184937,-0.04028066247701645,0.04168529063463211,-0.055747196078300476,0.04168529063463211,-0.10367714613676071],\"type\":\"scatter3d\",\"scene\":\"scene\",\"line\":{\"color\":\"#d000ff\",\"width\":4}},{\"marker\":{\"size\":1},\"name\":\"Pred Camera 66\",\"x\":[0.018932446837425232,0.05414942651987076,0.04562569782137871,0.05414942651987076,0.08936641365289688,0.14050880074501038,0.07007483392953873,0.018932446837425232,0.0599924698472023,0.08936641365289688,0.14050880074501038,0.0599924698472023,0.07007483392953873,0.0599924698472023,0.08958470076322556],\"y\":[0.015265313908457756,0.05055902153253555,0.059336669743061066,0.05055902153253555,0.0858527347445488,0.033186860382556915,-0.03740055859088898,0.015265313908457756,0.03352136164903641,0.0858527347445488,0.033186860382556915,0.03352136164903641,-0.03740055859088898,0.03352136164903641,0.019578449428081512],\"z\":[0.1486411988735199,0.14488375186920166,0.14744281768798828,0.14488375186920166,0.14112628996372223,0.12577182054519653,0.1332867443561554,0.1486411988735199,0.03961348906159401,0.14112628996372223,0.12577182054519653,0.03961348906159401,0.1332867443561554,0.03961348906159401,0.18600302934646606],\"type\":\"scatter3d\",\"scene\":\"scene\",\"line\":{\"color\":\"#e200ff\",\"width\":4}},{\"marker\":{\"size\":1},\"name\":\"Pred Camera 67\",\"x\":[0.1434137225151062,0.11453043669462204,0.12441509962081909,0.11453043669462204,0.08564714342355728,0.02633916586637497,0.08410575240850449,0.1434137225151062,0.06463292241096497,0.08564714342355728,0.02633916586637497,0.06463292241096497,0.08410575240850449,0.06463292241096497,0.09499821066856384],\"y\":[0.04557836055755615,0.00526135228574276,-0.002130908891558647,0.00526135228574276,-0.03505565971136093,0.009297920390963554,0.08993194252252579,0.04557836055755615,0.026522792875766754,-0.03505565971136093,0.009297920390963554,0.026522792875766754,0.08993194252252579,0.026522792875766754,0.027895815670490265],\"z\":[0.12929247319698334,0.1356402039527893,0.13366591930389404,0.1356402039527893,0.14198794960975647,0.1538337618112564,0.14113828539848328,0.12929247319698334,0.04363784193992615,0.14198794960975647,0.1538337618112564,0.04363784193992615,0.14113828539848328,0.04363784193992615,0.19052575528621674],\"type\":\"scatter3d\",\"scene\":\"scene\",\"line\":{\"color\":\"#f400ff\",\"width\":4}},{\"marker\":{\"size\":1},\"name\":\"Pred Camera 68\",\"x\":[0.08034399896860123,0.0523555651307106,0.04233019798994064,0.0523555651307106,0.024367131292819977,0.08451932668685913,0.14049619436264038,0.08034399896860123,0.06159709393978119,0.024367131292819977,0.08451932668685913,0.06159709393978119,0.14049619436264038,0.06159709393978119,0.09284894913434982],\"y\":[-0.04175207018852234,-0.0007595159113407135,-0.007916707545518875,-0.0007595159113407135,0.04023303836584091,0.08317619562149048,0.0011910870671272278,-0.04175207018852234,0.020853715017437935,0.04023303836584091,0.08317619562149048,0.020853715017437935,0.0011910870671272278,0.020853715017437935,0.020641237497329712],\"z\":[0.14104731380939484,0.1470687985420227,0.14919404685497284,0.1470687985420227,0.15309028327465057,0.14033880829811096,0.12829583883285522,0.14104731380939484,0.04288764297962189,0.15309028327465057,0.14033880829811096,0.04288764297962189,0.12829583883285522,0.04288764297962189,0.1895957738161087],\"type\":\"scatter3d\",\"scene\":\"scene\",\"line\":{\"color\":\"#fc00f5\",\"width\":4}},{\"marker\":{\"size\":1},\"name\":\"Pred Camera 69\",\"x\":[0.025105565786361694,0.06386992335319519,0.056346870958805084,0.06386992335319519,0.10263428092002869,0.14777259528636932,0.07024388015270233,0.025105565786361694,0.06727833300828934,0.10263428092002869,0.14777259528636932,0.06727833300828934,0.07024388015270233,0.06727833300828934,0.0960194543004036],\"y\":[-0.0020087426528334618,0.02927035465836525,0.03893923759460449,0.02927035465836525,0.060549452900886536,0.002536163665354252,-0.060022030025720596,-0.0020087426528334618,0.010426637716591358,0.060549452900886536,0.002536163665354252,0.010426637716591358,-0.060022030025720596,0.010426637716591358,-0.004817754030227661],\"z\":[0.1512664556503296,0.14691418409347534,0.14939740300178528,0.14691418409347534,0.1425619125366211,0.1276625543832779,0.1363670974969864,0.1512664556503296,0.0418449267745018,0.1425619125366211,0.1276625543832779,0.0418449267745018,0.1363670974969864,0.0418449267745018,0.1882742941379547],\"type\":\"scatter3d\",\"scene\":\"scene\",\"line\":{\"color\":\"#ff00e7\",\"width\":4}},{\"marker\":{\"size\":1},\"name\":\"Pred Camera 70\",\"x\":[0.052884094417095184,0.042438656091690063,0.030306320637464523,0.042438656091690063,0.03199321776628494,0.10478724539279938,0.12567812204360962,0.052884094417095184,0.0668698325753212,0.03199321776628494,0.10478724539279938,0.0668698325753212,0.12567812204360962,0.0668698325753212,0.08481858670711517],\"y\":[-0.05565965548157692,-0.006802143529057503,-0.009453068487346172,-0.006802143529057503,0.042055364698171616,0.05796091631054878,-0.03975410386919975,-0.05565965548157692,0.0025721241254359484,0.042055364698171616,0.05796091631054878,0.0025721241254359484,-0.03975410386919975,0.0025721241254359484,0.00043988716788589954],\"z\":[0.1437615156173706,0.14572018384933472,0.147144615650177,0.14572018384933472,0.14767885208129883,0.13913226127624512,0.1352149248123169,0.1437615156173706,0.04217556118965149,0.14767885208129883,0.13913226127624512,0.04217556118965149,0.1352149248123169,0.04217556118965149,0.19108255207538605],\"type\":\"scatter3d\",\"scene\":\"scene\",\"line\":{\"color\":\"#ff00cf\",\"width\":4}},{\"marker\":{\"size\":1},\"name\":\"Pred Camera 71\",\"x\":[0.09339714050292969,0.08852209150791168,0.10086019337177277,0.08852209150791168,0.08364705741405487,0.009618427604436874,0.01936851069331169,0.09339714050292969,0.06424717605113983,0.08364705741405487,0.009618427604436874,0.06424717605113983,0.01936851069331169,0.06424717605113983,0.04513808339834213],\"y\":[-0.04798957705497742,0.0017589214257895947,0.0030042817816138268,0.0017589214257895947,0.05150742083787918,0.04403526335954666,-0.055461734533309937,-0.04798957705497742,-0.003019613679498434,0.05150742083787918,0.04403526335954666,-0.003019613679498434,-0.055461734533309937,-0.003019613679498434,-0.0014559314586222172],\"z\":[-0.06443221867084503,-0.06328313052654266,-0.06485484540462494,-0.06328313052654266,-0.062134046107530594,-0.05270377919077873,-0.05500194802880287,-0.06443221867084503,0.040611740201711655,-0.062134046107530594,-0.05270377919077873,0.040611740201711655,-0.05500194802880287,0.040611740201711655,-0.10815785825252533],\"type\":\"scatter3d\",\"scene\":\"scene\",\"line\":{\"color\":\"#ff00bd\",\"width\":4}},{\"marker\":{\"size\":1},\"name\":\"Pred Camera 72\",\"x\":[0.11415214836597443,0.1143273264169693,0.12671616673469543,0.1143273264169693,0.11450250446796417,0.04016946628689766,0.03981911763548851,0.11415214836597443,0.06385888159275055,0.11450250446796417,0.04016946628689766,0.06385888159275055,0.03981911763548851,0.06385888159275055,0.08381177484989166],\"y\":[0.03995516151189804,-0.010042141191661358,-0.009982490912079811,-0.010042141191661358,-0.06003943830728531,-0.06039734184741974,0.03959725797176361,0.03995516151189804,-0.00929893646389246,-0.06003943830728531,-0.06039734184741974,-0.00929893646389246,0.03959725797176361,-0.00929893646389246,-0.010682170279324055],\"z\":[0.13192379474639893,0.1314350664615631,0.1297728270292282,0.1314350664615631,0.1309463530778885,0.14091983437538147,0.1418972760438919,0.13192379474639893,0.0373147651553154,0.1309463530778885,0.14091983437538147,0.0373147651553154,0.1418972760438919,0.0373147651553154,0.1859753429889679],\"type\":\"scatter3d\",\"scene\":\"scene\",\"line\":{\"color\":\"#ff00ac\",\"width\":4}},{\"marker\":{\"size\":1},\"name\":\"Pred Camera 73\",\"x\":[0.11300957202911377,0.06442958861589432,0.06211575120687485,0.06442958861589432,0.015849605202674866,0.029732637107372284,0.1268925964832306,0.11300957202911377,0.056630104780197144,0.015849605202674866,0.029732637107372284,0.056630104780197144,0.1268925964832306,0.056630104780197144,0.07874161005020142],\"y\":[-0.0698026791214943,-0.060625046491622925,-0.07290894538164139,-0.060625046491622925,-0.051447413861751556,0.022255994379520416,0.00390072725713253,-0.0698026791214943,-0.021353401243686676,-0.051447413861751556,0.022255994379520416,-0.021353401243686676,0.00390072725713253,-0.021353401243686676,-0.02498331293463707],\"z\":[0.12427076697349548,0.13173779845237732,0.13178211450576782,0.13173779845237732,0.13920485973358154,0.13893894851207733,0.12400486320257187,0.12427076697349548,0.03272691369056702,0.13920485973358154,0.13893894851207733,0.03272691369056702,0.12400486320257187,0.03272691369056702,0.1810438334941864],\"type\":\"scatter3d\",\"scene\":\"scene\",\"line\":{\"color\":\"#ff009a\",\"width\":4}},{\"marker\":{\"size\":1},\"name\":\"Pred Camera 74\",\"x\":[-0.024790026247501373,-0.023122601211071014,-0.01629803702235222,-0.023122601211071014,-0.021455176174640656,-0.06240256875753403,-0.06573741883039474,-0.024790026247501373,0.04011809080839157,-0.021455176174640656,-0.06240256875753403,0.04011809080839157,-0.06573741883039474,0.04011809080839157,-0.08545350283384323],\"y\":[-0.0679420456290245,-0.017996639013290405,-0.01856698840856552,-0.017996639013290405,0.03194877505302429,0.03537087142467499,-0.06451994925737381,-0.0679420456290245,-0.01728910766541958,0.03194877505302429,0.03537087142467499,-0.01728910766541958,-0.06451994925737381,-0.01728910766541958,-0.015783831477165222],\"z\":[-0.05858543515205383,-0.060221344232559204,-0.07067839801311493,-0.060221344232559204,-0.061857253313064575,0.0008850879967212677,0.004156908020377159,-0.05858543515205383,0.02583889476954937,-0.061857253313064575,0.0008850879967212677,0.02583889476954937,0.004156908020377159,0.02583889476954937,-0.05619470775127411],\"type\":\"scatter3d\",\"scene\":\"scene\",\"line\":{\"color\":\"#ff0088\",\"width\":4}},{\"marker\":{\"size\":1},\"name\":\"Pred Camera 75\",\"x\":[0.055965397506952286,0.07263296097517014,0.08441716432571411,0.07263296097517014,0.08930052816867828,0.01859528198838234,-0.01473984494805336,0.055965397506952286,0.0383971743285656,0.08930052816867828,0.01859528198838234,0.0383971743285656,-0.01473984494805336,0.0383971743285656,0.03672192245721817],\"y\":[-0.08218845725059509,-0.03505338728427887,-0.039221711456775665,-0.03505338728427887,0.012081680819392204,0.03709162026643753,-0.057178519666194916,-0.08218845725059509,-0.02147778309881687,0.012081680819392204,0.03709162026643753,-0.02147778309881687,-0.057178519666194916,-0.02147778309881687,-0.02308373898267746],\"z\":[-0.07786983251571655,-0.0785607099533081,-0.07864770293235779,-0.0785607099533081,-0.07925158739089966,-0.07872962951660156,-0.07734787464141846,-0.07786983251571655,0.021688304841518402,-0.07925158739089966,-0.07872962951660156,0.021688304841518402,-0.07734787464141846,0.021688304841518402,-0.12829375267028809],\"type\":\"scatter3d\",\"scene\":\"scene\",\"line\":{\"color\":\"#ff0071\",\"width\":4}},{\"marker\":{\"size\":1},\"name\":\"Pred Camera 76\",\"x\":[0.002509143203496933,-0.005581963807344437,-0.0178997702896595,-0.005581963807344437,-0.013673070818185806,0.06023377552628517,0.07641598582267761,0.002509143203496933,0.03661729767918587,-0.013673070818185806,0.06023377552628517,0.03661729767918587,0.07641598582267761,0.03661729767918587,0.028748540207743645],\"y\":[0.02988099493086338,-0.0194566510617733,-0.017429130151867867,-0.0194566510617733,-0.06879429519176483,-0.08095943182706833,0.017715858295559883,0.02988099493086338,-0.02523571439087391,-0.06879429519176483,-0.08095943182706833,-0.02523571439087391,0.017715858295559883,-0.02523571439087391,-0.025690969079732895],\"z\":[-0.078855499625206,-0.078280508518219,-0.0776396095752716,-0.078280508518219,-0.07770553231239319,-0.0815509557723999,-0.08270092308521271,-0.078855499625206,0.019658613950014114,-0.07770553231239319,-0.0815509557723999,0.019658613950014114,-0.08270092308521271,0.019658613950014114,-0.13013415038585663],\"type\":\"scatter3d\",\"scene\":\"scene\",\"line\":{\"color\":\"#ff005f\",\"width\":4}},{\"marker\":{\"size\":1},\"name\":\"Pred Camera 77\",\"x\":[0.02124616876244545,0.015011999756097794,0.002716127783060074,0.015011999756097794,0.008777830749750137,0.08255307376384735,0.09502141177654266,0.02124616876244545,0.0389198437333107,0.008777830749750137,0.08255307376384735,0.0389198437333107,0.09502141177654266,0.0389198437333107,0.058389514684677124],\"y\":[0.03182957321405411,-0.0177801251411438,-0.01623127982020378,-0.0177801251411438,-0.0673898234963417,-0.07668290287256241,0.022536491975188255,0.03182957321405411,-0.021020038053393364,-0.0673898234963417,-0.07668290287256241,-0.021020038053393364,0.022536491975188255,-0.021020038053393364,-0.023129979148507118],\"z\":[-0.08769979327917099,-0.08781211823225021,-0.08944384753704071,-0.08781211823225021,-0.08792444318532944,-0.07813405245542526,-0.07790940254926682,-0.08769979327917099,0.01622713916003704,-0.08792444318532944,-0.07813405245542526,0.01622713916003704,-0.07790940254926682,0.01622713916003704,-0.13248896598815918],\"type\":\"scatter3d\",\"scene\":\"scene\",\"line\":{\"color\":\"#ff004d\",\"width\":4}},{\"marker\":{\"size\":1},\"name\":\"Pred Camera 78\",\"x\":[0.0789014920592308,0.05221835523843765,0.06278657913208008,0.05221835523843765,0.0255352184176445,-0.037874139845371246,0.015492133796215057,0.0789014920592308,0.01850167103111744,0.0255352184176445,-0.037874139845371246,0.01850167103111744,0.015492133796215057,0.01850167103111744,0.021519679576158524],\"y\":[0.013734451495110989,-0.028520014137029648,-0.03519538789987564,-0.028520014137029648,-0.07077448070049286,-0.0307222381234169,0.05378669872879982,0.013734451495110989,-0.011015613563358784,-0.07077448070049286,-0.0307222381234169,-0.011015613563358784,0.05378669872879982,-0.011015613563358784,-0.007233033422380686],\"z\":[0.10829098522663116,0.10989421606063843,0.10984989255666733,0.10989421606063843,0.11149744689464569,0.1117633730173111,0.10855691134929657,0.10829098522663116,0.010079222731292248,0.11149744689464569,0.1117633730173111,0.010079222731292248,0.10855691134929657,0.010079222731292248,0.16000115871429443],\"type\":\"scatter3d\",\"scene\":\"scene\",\"line\":{\"color\":\"#ff003b\",\"width\":4}},{\"marker\":{\"size\":1},\"name\":\"Pred Camera 79\",\"x\":[-0.03251425921916962,-0.027019023895263672,-0.03942161798477173,-0.027019023895263672,-0.021523788571357727,0.05289178341627121,0.04190131276845932,-0.03251425921916962,0.01605839654803276,-0.021523788571357727,0.05289178341627121,0.01605839654803276,0.04190131276845932,0.01605839654803276,0.007253943011164665],\"y\":[0.045406702905893326,-0.004117974080145359,-0.005546066910028458,-0.004117974080145359,-0.053642649203538895,-0.04507409408688545,0.05397525802254677,0.045406702905893326,-0.0074953860603272915,-0.053642649203538895,-0.04507409408688545,-0.0074953860603272915,0.05397525802254677,-0.0074953860603272915,0.003997150342911482],\"z\":[-0.08654062449932098,-0.09067691117525101,-0.0900554433465004,-0.09067691117525101,-0.09481320530176163,-0.09854201972484589,-0.09026943892240524,-0.08654062449932098,0.0069918278604745865,-0.09481320530176163,-0.09854201972484589,0.0069918278604745865,-0.09026943892240524,0.0069918278604745865,-0.14230789244174957],\"type\":\"scatter3d\",\"scene\":\"scene\",\"line\":{\"color\":\"#ff002a\",\"width\":4}},{\"marker\":{\"size\":1},\"name\":\"GT Camera 0\",\"x\":[-0.0805414468050003,-0.030541442334651947,-0.030541442334651947,-0.030541442334651947,0.019458558410406113,0.019458558410406113,-0.0805414468050003,-0.0805414468050003,-0.030541446059942245,0.019458558410406113,0.019458558410406113,-0.030541446059942245,-0.0805414468050003,-0.030541446059942245,-0.030541442334651947],\"y\":[0.11381553113460541,0.11381553113460541,0.12631553411483765,0.11381553113460541,0.11381553113460541,0.03881552815437317,0.03881552815437317,0.11381553113460541,0.07631552964448929,0.11381553113460541,0.03881552815437317,0.07631552964448929,0.03881552815437317,0.07631552964448929,0.07631552964448929],\"z\":[-0.8966158628463745,-0.8966158628463745,-0.8966158628463745,-0.8966158628463745,-0.8966158628463745,-0.8966158628463745,-0.8966158628463745,-0.8966158628463745,-0.9966158866882324,-0.8966158628463745,-0.8966158628463745,-0.9966158866882324,-0.8966158628463745,-0.9966158866882324,-0.8466159105300903],\"type\":\"scatter3d\",\"scene\":\"scene\",\"line\":{\"dash\":\"dash\",\"color\":\"#ff0000\",\"width\":4}},{\"marker\":{\"size\":1},\"name\":\"GT Camera 1\",\"x\":[0.13680192828178406,0.0868365541100502,0.08639705181121826,0.0868365541100502,0.03687116503715515,0.03950817883014679,0.1394389569759369,0.13680192828178406,0.08937142044305801,0.03687116503715515,0.03950817883014679,0.08937142044305801,0.1394389569759369,0.08937142044305801,0.08754687756299973],\"y\":[0.7852630615234375,0.7862687110900879,0.7833249568939209,0.7862687110900879,0.7872743606567383,0.8049371242523193,0.8029257655143738,0.7852630615234375,0.8922666311264038,0.7872743606567383,0.8049371242523193,0.8922666311264038,0.8029257655143738,0.8922666311264038,0.7465168237686157],\"z\":[-0.2745946943759918,-0.27302971482276917,-0.28517019748687744,-0.27302971482276917,-0.2714647650718689,-0.198621928691864,-0.20175187289714813,-0.2745946943759918,-0.2602130174636841,-0.2714647650718689,-0.198621928691864,-0.2602130174636841,-0.20175187289714813,-0.2602130174636841,-0.22480596601963043],\"type\":\"scatter3d\",\"scene\":\"scene\",\"line\":{\"dash\":\"dash\",\"color\":\"#ff1200\",\"width\":4}},{\"marker\":{\"size\":1},\"name\":\"GT Camera 2\",\"x\":[-0.053894639015197754,-0.0041074492037296295,-0.004927957430481911,-0.0041074492037296295,0.045679740607738495,0.050602786242961884,-0.048971593379974365,-0.053894639015197754,0.004823874682188034,0.045679740607738495,0.050602786242961884,0.004823874682188034,-0.048971593379974365,0.004823874682188034,-0.004880829714238644],\"y\":[0.11241267621517181,0.11568395793437958,0.12815698981285095,0.11568395793437958,0.11895523220300674,0.0441170260310173,0.03757447004318237,0.11241267621517181,0.0788087323307991,0.11895523220300674,0.0441170260310173,0.0788087323307991,0.03757447004318237,0.0788087323307991,0.07799290865659714],\"z\":[-0.9024078845977783,-0.8991621136665344,-0.8991473317146301,-0.8991621136665344,-0.8959163427352905,-0.8960050344467163,-0.9024965763092041,-0.9024078845977783,-0.9989954829216003,-0.8959163427352905,-0.8960050344467163,-0.9989954829216003,-0.9024965763092041,-0.9989954829216003,-0.8493119478225708],\"type\":\"scatter3d\",\"scene\":\"scene\",\"line\":{\"dash\":\"dash\",\"color\":\"#ff2300\",\"width\":4}},{\"marker\":{\"size\":1},\"name\":\"GT Camera 3\",\"x\":[0.3207448720932007,0.27904456853866577,0.27333077788352966,0.27904456853866577,0.23734427988529205,0.2716270089149475,0.35502761602401733,0.3207448720932007,0.32708755135536194,0.23734427988529205,0.2716270089149475,0.32708755135536194,0.35502761602401733,0.32708755135536194,0.2807351350784302],\"y\":[0.7439073324203491,0.7642641663551331,0.7626161575317383,0.7642641663551331,0.784621000289917,0.7945089936256409,0.7537953853607178,0.7439073324203491,0.8595883846282959,0.784621000289917,0.7945089936256409,0.8595883846282959,0.7537953853607178,0.8595883846282959,0.7240180969238281],\"z\":[-0.33946964144706726,-0.320850133895874,-0.3318449854850769,-0.320850133895874,-0.3022306263446808,-0.2362615466117859,-0.27350056171417236,-0.33946964144706726,-0.3174714744091034,-0.3022306263446808,-0.2362615466117859,-0.3174714744091034,-0.27350056171417236,-0.3174714744091034,-0.27306267619132996],\"type\":\"scatter3d\",\"scene\":\"scene\",\"line\":{\"dash\":\"dash\",\"color\":\"#ff3500\",\"width\":4}},{\"marker\":{\"size\":1},\"name\":\"GT Camera 4\",\"x\":[-0.2643264830112457,-0.21612200140953064,-0.21350422501564026,-0.21612200140953064,-0.16791751980781555,-0.1836242377758026,-0.2800332009792328,-0.2643264830112457,-0.24030733108520508,-0.16791751980781555,-0.1836242377758026,-0.24030733108520508,-0.2800332009792328,-0.24030733108520508,-0.21580937504768372],\"y\":[0.1472480595111847,0.1371413767337799,0.14936017990112305,0.1371413767337799,0.12703469395637512,0.05372186750173569,0.07393524795770645,0.1472480595111847,0.10650791227817535,0.12703469395637512,0.05372186750173569,0.10650791227817535,0.07393524795770645,0.10650791227817535,0.09747349470853806],\"z\":[-0.8432037234306335,-0.8518166542053223,-0.8515034914016724,-0.8518166542053223,-0.8604296445846558,-0.8623086810112,-0.8450827598571777,-0.8432037234306335,-0.9512295126914978,-0.8604296445846558,-0.8623086810112,-0.9512295126914978,-0.8450827598571777,-0.9512295126914978,-0.8035195469856262],\"type\":\"scatter3d\",\"scene\":\"scene\",\"line\":{\"dash\":\"dash\",\"color\":\"#ff4700\",\"width\":4}},{\"marker\":{\"size\":1},\"name\":\"GT Camera 5\",\"x\":[0.5673253536224365,0.5683512687683105,0.5586985349655151,0.5683512687683105,0.5693771839141846,0.6272937059402466,0.6252418756484985,0.5673253536224365,0.6608119010925293,0.5693771839141846,0.6272937059402466,0.6608119010925293,0.6252418756484985,0.6608119010925293,0.5655583739280701],\"y\":[0.4800361692905426,0.515535295009613,0.5212659239768982,0.515535295009613,0.5510344505310059,0.5166507959365845,0.4456525444984436,0.4800361692905426,0.5517990589141846,0.5510344505310059,0.5166507959365845,0.5517990589141846,0.4456525444984436,0.5517990589141846,0.471615731716156],\"z\":[-0.591623067855835,-0.5564270615577698,-0.5619256496429443,-0.5564270615577698,-0.5212310552597046,-0.48823949694633484,-0.5586315393447876,-0.591623067855835,-0.5956982374191284,-0.5212310552597046,-0.48823949694633484,-0.5956982374191284,-0.5586315393447876,-0.5956982374191284,-0.5120478272438049],\"type\":\"scatter3d\",\"scene\":\"scene\",\"line\":{\"dash\":\"dash\",\"color\":\"#ff5f00\",\"width\":4}},{\"marker\":{\"size\":1},\"name\":\"GT Camera 6\",\"x\":[-0.40191927552223206,-0.36324310302734375,-0.3569798469543457,-0.36324310302734375,-0.32456690073013306,-0.36214637756347656,-0.4394987225532532,-0.40191927552223206,-0.4208401143550873,-0.32456690073013306,-0.36214637756347656,-0.4208401143550873,-0.4394987225532532,-0.4208401143550873,-0.3626291751861572],\"y\":[0.2065240442752838,0.18269358575344086,0.19348743557929993,0.18269358575344086,0.1588631123304367,0.09410002827644348,0.1417609602212906,0.2065240442752838,0.16680382192134857,0.1588631123304367,0.09410002827644348,0.16680382192134857,0.1417609602212906,0.16680382192134857,0.14206615090370178],\"z\":[-0.8111398816108704,-0.8320267796516418,-0.8327441811561584,-0.8320267796516418,-0.8529136776924133,-0.8486093282699585,-0.8068355321884155,-0.8111398816108704,-0.9205499291419983,-0.8529136776924133,-0.8486093282699585,-0.9205499291419983,-0.8068355321884155,-0.9205499291419983,-0.7845369577407837],\"type\":\"scatter3d\",\"scene\":\"scene\",\"line\":{\"dash\":\"dash\",\"color\":\"#ff7000\",\"width\":4}},{\"marker\":{\"size\":1},\"name\":\"GT Camera 7\",\"x\":[-0.6342311501502991,-0.5993059277534485,-0.5931309461593628,-0.5993059277534485,-0.5643807053565979,-0.6014306545257568,-0.671281099319458,-0.6342311501502991,-0.669605016708374,-0.5643807053565979,-0.6014306545257568,-0.669605016708374,-0.671281099319458,-0.669605016708374,-0.5919438004493713],\"y\":[0.12367841601371765,0.09703023731708527,0.1075543612241745,0.09703023731708527,0.07038205862045288,0.00723729282617569,0.06053365021944046,0.12367841601371765,0.07388591766357422,0.07038205862045288,0.00723729282617569,0.07388591766357422,0.06053365021944046,0.07388591766357422,0.06124382093548775],\"z\":[-0.9226217269897461,-0.9464985728263855,-0.9492119550704956,-0.9464985728263855,-0.9703754186630249,-0.9540954232215881,-0.9063417315483093,-0.9226217269897461,-1.023496150970459,-0.9703754186630249,-0.9540954232215881,-1.023496150970459,-0.9063417315483093,-1.023496150970459,-0.8957898020744324],\"type\":\"scatter3d\",\"scene\":\"scene\",\"line\":{\"dash\":\"dash\",\"color\":\"#ff8200\",\"width\":4}},{\"marker\":{\"size\":1},\"name\":\"GT Camera 8\",\"x\":[-0.4486944377422333,-0.41440629959106445,-0.40731871128082275,-0.41440629959106445,-0.380118191242218,-0.4226438105106354,-0.49122005701065063,-0.4486944377422333,-0.481301486492157,-0.380118191242218,-0.4226438105106354,-0.481301486492157,-0.49122005701065063,-0.481301486492157,-0.412852942943573],\"y\":[0.23077240586280823,0.20322167873382568,0.21339763700962067,0.20322167873382568,0.17567096650600433,0.11461521685123444,0.16971664130687714,0.23077240586280823,0.19104117155075073,0.17567096650600433,0.11461521685123444,0.19104117155075073,0.16971664130687714,0.19104117155075073,0.16352012753486633],\"z\":[-0.8202149271965027,-0.8439906239509583,-0.8455609083175659,-0.8439906239509583,-0.867766261100769,-0.8583446741104126,-0.8107933402061462,-0.8202149271965027,-0.9263491034507751,-0.867766261100769,-0.8583446741104126,-0.9263491034507751,-0.8107933402061462,-0.9263491034507751,-0.7957451343536377],\"type\":\"scatter3d\",\"scene\":\"scene\",\"line\":{\"dash\":\"dash\",\"color\":\"#ff9400\",\"width\":4}},{\"marker\":{\"size\":1},\"name\":\"GT Camera 9\",\"x\":[-0.3535560965538025,-0.385145366191864,-0.3779013752937317,-0.385145366191864,-0.41673463582992554,-0.4601984918117523,-0.3970199525356293,-0.3535560965538025,-0.4583560526371002,-0.41673463582992554,-0.4601984918117523,-0.4583560526371002,-0.3970199525356293,-0.4583560526371002,-0.3811379075050354],\"y\":[0.7856009006500244,0.7564747929573059,0.757514476776123,0.7564747929573059,0.7273486852645874,0.7211105823516846,0.7793627977371216,0.7856009006500244,0.8342105150222778,0.7273486852645874,0.7211105823516846,0.8342105150222778,0.7793627977371216,0.8342105150222778,0.7129283547401428],\"z\":[-0.24159196019172668,-0.26716122031211853,-0.2772950232028961,-0.26716122031211853,-0.2927304804325104,-0.23192769289016724,-0.18078917264938354,-0.24159196019172668,-0.2652631998062134,-0.2927304804325104,-0.23192769289016724,-0.2652631998062134,-0.18078917264938354,-0.2652631998062134,-0.22250813245773315],\"type\":\"scatter3d\",\"scene\":\"scene\",\"line\":{\"dash\":\"dash\",\"color\":\"#ffa500\",\"width\":4}},{\"marker\":{\"size\":1},\"name\":\"GT Camera 10\",\"x\":[-0.3977435529232025,-0.426286518573761,-0.41874974966049194,-0.426286518573761,-0.45482945442199707,-0.5000500082969666,-0.4429640769958496,-0.3977435529232025,-0.5046267509460449,-0.45482945442199707,-0.5000500082969666,-0.5046267509460449,-0.4429640769958496,-0.5046267509460449,-0.42103177309036255],\"y\":[0.7697879076004028,0.7388277649879456,0.7404475808143616,0.7388277649879456,0.7078676223754883,0.6981488466262817,0.7600691318511963,0.7697879076004028,0.8114148378372192,0.7078676223754883,0.6981488466262817,0.8114148378372192,0.7600691318511963,0.8114148378372192,0.6952451467514038],\"z\":[-0.2664262652397156,-0.29338493943214417,-0.3032248318195343,-0.29338493943214417,-0.32034358382225037,-0.26130419969558716,-0.20738689601421356,-0.2664262652397156,-0.29380208253860474,-0.32034358382225037,-0.26130419969558716,-0.29380208253860474,-0.20738689601421356,-0.29380208253860474,-0.24889682233333588],\"type\":\"scatter3d\",\"scene\":\"scene\",\"line\":{\"dash\":\"dash\",\"color\":\"#ffbd00\",\"width\":4}},{\"marker\":{\"size\":1},\"name\":\"GT Camera 11\",\"x\":[0.6051325798034668,0.592923104763031,0.58299720287323,0.592923104763031,0.5807136297225952,0.6402690410614014,0.6646880507469177,0.6051325798034668,0.6783623099327087,0.5807136297225952,0.6402690410614014,0.6783623099327087,0.6646880507469177,0.6783623099327087,0.5948700904846191],\"y\":[0.6348031163215637,0.6680862307548523,0.6715879440307617,0.6680862307548523,0.7013693451881409,0.6803590059280396,0.6137927770614624,0.6348031163215637,0.7267487645149231,0.7013693451881409,0.6803590059280396,0.7267487645149231,0.6137927770614624,0.7267487645149231,0.6229972243309021],\"z\":[-0.5069221258163452,-0.47166359424591064,-0.47840631008148193,-0.47166359424591064,-0.4364050626754761,-0.39594870805740356,-0.4664657711982727,-0.5069221258163452,-0.49745312333106995,-0.4364050626754761,-0.39594870805740356,-0.49745312333106995,-0.4664657711982727,-0.49745312333106995,-0.4284265637397766],\"type\":\"scatter3d\",\"scene\":\"scene\",\"line\":{\"dash\":\"dash\",\"color\":\"#ffcf00\",\"width\":4}},{\"marker\":{\"size\":1},\"name\":\"GT Camera 12\",\"x\":[-0.6507650017738342,-0.6216412782669067,-0.614482045173645,-0.6216412782669067,-0.592517614364624,-0.6354731321334839,-0.6937205195426941,-0.6507650017738342,-0.7007985711097717,-0.592517614364624,-0.6354731321334839,-0.7007985711097717,-0.6937205195426941,-0.7007985711097717,-0.6142793297767639],\"y\":[0.17117983102798462,0.14058372378349304,0.1502843201160431,0.14058372378349304,0.10998761653900146,0.05178402364253998,0.11297624558210373,0.17117983102798462,0.1267465204000473,0.10998761653900146,0.05178402364253998,0.1267465204000473,0.11297624558210373,0.1267465204000473,0.1038496345281601],\"z\":[-0.8464966416358948,-0.8732489943504333,-0.8765495419502258,-0.8732489943504333,-0.9000013470649719,-0.8801982402801514,-0.8266935348510742,-0.8464966416358948,-0.9435974955558777,-0.9000013470649719,-0.8801982402801514,-0.9435974955558777,-0.8266935348510742,-0.9435974955558777,-0.8232224583625793],\"type\":\"scatter3d\",\"scene\":\"scene\",\"line\":{\"dash\":\"dash\",\"color\":\"#ffe000\",\"width\":4}},{\"marker\":{\"size\":1},\"name\":\"GT Camera 13\",\"x\":[0.46448272466659546,0.44197601079940796,0.4325169324874878,0.44197601079940796,0.41946932673454285,0.4762239158153534,0.521237313747406,0.46448272466659546,0.5177603363990784,0.41946932673454285,0.4762239158153534,0.5177603363990784,0.521237313747406,0.5177603363990784,0.44664981961250305],\"y\":[0.6459499597549438,0.6775369644165039,0.6788537502288818,0.6775369644165039,0.709123969078064,0.7012234926223755,0.6380494832992554,0.6459499597549438,0.7503857016563416,0.709123969078064,0.7012234926223755,0.7503857016563416,0.6380494832992554,0.7503857016563416,0.6351872086524963],\"z\":[-0.46857988834381104,-0.4370250105857849,-0.44508984684944153,-0.4370250105857849,-0.4054701328277588,-0.3570810854434967,-0.42019087076187134,-0.46857988834381104,-0.4558942914009094,-0.4054701328277588,-0.3570810854434967,-0.4558942914009094,-0.42019087076187134,-0.4558942914009094,-0.3912985920906067],\"type\":\"scatter3d\",\"scene\":\"scene\",\"line\":{\"dash\":\"dash\",\"color\":\"#fef100\",\"width\":4}},{\"marker\":{\"size\":1},\"name\":\"GT Camera 14\",\"x\":[-0.6366435289382935,-0.6024807095527649,-0.5961630344390869,-0.6024807095527649,-0.5683178901672363,-0.6062241792678833,-0.6745498180389404,-0.6366435289382935,-0.6741324663162231,-0.5683178901672363,-0.6062241792678833,-0.6741324663162231,-0.6745498180389404,-0.6741324663162231,-0.595084547996521],\"y\":[0.12783946096897125,0.10061784088611603,0.11103744804859161,0.10061784088611603,0.0733962208032608,0.010878555476665497,0.06532179564237595,0.12783946096897125,0.07871650159358978,0.0733962208032608,0.010878555476665497,0.07871650159358978,0.06532179564237595,0.07871650159358978,0.06468026340007782],\"z\":[-0.9143120050430298,-0.9386406540870667,-0.9414278268814087,-0.9386406540870667,-0.9629693627357483,-0.9462463855743408,-0.8975890874862671,-0.9143120050430298,-1.0147498846054077,-0.9629693627357483,-0.9462463855743408,-1.0147498846054077,-0.8975890874862671,-1.0147498846054077,-0.8880438804626465],\"type\":\"scatter3d\",\"scene\":\"scene\",\"line\":{\"dash\":\"dash\",\"color\":\"#f8fd00\",\"width\":4}},{\"marker\":{\"size\":1},\"name\":\"GT Camera 15\",\"x\":[-0.6575770974159241,-0.6604995131492615,-0.6514564156532288,-0.6604995131492615,-0.6634219288825989,-0.7176803946495056,-0.7118356227874756,-0.6575770974159241,-0.7564189434051514,-0.6634219288825989,-0.7176803946495056,-0.7564189434051514,-0.7118356227874756,-0.7564189434051514,-0.6532336473464966],\"y\":[0.5435600876808167,0.5052229166030884,0.5103322267532349,0.5052229166030884,0.4668857753276825,0.4362300932407379,0.5129044055938721,0.5435600876808167,0.5393960475921631,0.4668857753276825,0.4362300932407379,0.5393960475921631,0.5129044055938721,0.5393960475921631,0.46514463424682617],\"z\":[-0.48486584424972534,-0.5168302059173584,-0.5237849354743958,-0.5168302059173584,-0.5487945675849915,-0.5070663690567017,-0.44313761591911316,-0.48486584424972534,-0.5490468740463257,-0.5487945675849915,-0.5070663690567017,-0.5490468740463257,-0.44313761591911316,-0.5490468740463257,-0.4694257378578186],\"type\":\"scatter3d\",\"scene\":\"scene\",\"line\":{\"dash\":\"dash\",\"color\":\"#e2ff00\",\"width\":4}},{\"marker\":{\"size\":1},\"name\":\"GT Camera 16\",\"x\":[0.4244869351387024,0.45777690410614014,0.4508100748062134,0.45777690410614014,0.4910668730735779,0.532867968082428,0.4662880301475525,0.4244869351387024,0.5282833576202393,0.4910668730735779,0.532867968082428,0.5282833576202393,0.4662880301475525,0.5282833576202393,0.45387449860572815],\"y\":[0.18202558159828186,0.20894715189933777,0.21918654441833496,0.20894715189933777,0.23586872220039368,0.17443227767944336,0.12058914452791214,0.18202558159828186,0.19799786806106567,0.23586872220039368,0.17443227767944336,0.19799786806106567,0.12058914452791214,0.19799786806106567,0.16834445297718048],\"z\":[-0.8511145114898682,-0.8252880573272705,-0.8269814252853394,-0.8252880573272705,-0.7994616031646729,-0.7893011569976807,-0.8409541249275208,-0.8511145114898682,-0.9047563076019287,-0.7994616031646729,-0.7893011569976807,-0.9047563076019287,-0.8409541249275208,-0.9047563076019287,-0.7779335975646973],\"type\":\"scatter3d\",\"scene\":\"scene\",\"line\":{\"dash\":\"dash\",\"color\":\"#d1ff00\",\"width\":4}},{\"marker\":{\"size\":1},\"name\":\"GT Camera 17\",\"x\":[-0.6517045497894287,-0.6249948143959045,-0.6174819469451904,-0.6249948143959045,-0.5982850790023804,-0.6433624625205994,-0.6967818737030029,-0.6517045497894287,-0.7069807648658752,-0.5982850790023804,-0.6433624625205994,-0.7069807648658752,-0.6967818737030029,-0.7069807648658752,-0.6178098320960999],\"y\":[0.1917695552110672,0.1596793681383133,0.16900479793548584,0.1596793681383133,0.1275891661643982,0.07163657248020172,0.13581696152687073,0.1917695552110672,0.14945697784423828,0.1275891661643982,0.07163657248020172,0.14945697784423828,0.13581696152687073,0.14945697784423828,0.12282610684633255],\"z\":[-0.8227499127388,-0.8502600789070129,-0.8538437485694885,-0.8502600789070129,-0.8777703046798706,-0.8562681674957275,-0.8012478351593018,-0.8227499127388,-0.9179362058639526,-0.8777703046798706,-0.8562681674957275,-0.9179362058639526,-0.8012478351593018,-0.9179362058639526,-0.8002954721450806],\"type\":\"scatter3d\",\"scene\":\"scene\",\"line\":{\"dash\":\"dash\",\"color\":\"#bfff00\",\"width\":4}},{\"marker\":{\"size\":1},\"name\":\"GT Camera 18\",\"x\":[-0.6215774416923523,-0.6139547824859619,-0.6049297451972961,-0.6139547824859619,-0.6063321232795715,-0.6604825258255005,-0.6757278442382812,-0.6215774416923523,-0.7085182666778564,-0.6063321232795715,-0.6604825258255005,-0.7085182666778564,-0.6757278442382812,-0.7085182666778564,-0.6072858572006226],\"y\":[0.4273923337459564,0.3899025321006775,0.39651966094970703,0.3899025321006775,0.35241276025772095,0.3127100169658661,0.38768962025642395,0.4273923337459564,0.40974676609039307,0.35241276025772095,0.3127100169658661,0.40974676609039307,0.38768962025642395,0.40974676609039307,0.35020339488983154],\"z\":[-0.572991669178009,-0.6051849722862244,-0.6107538342475891,-0.6051849722862244,-0.6373783349990845,-0.6039652824401855,-0.5395786166191101,-0.572991669178009,-0.6506845355033875,-0.6373783349990845,-0.6039652824401855,-0.6506845355033875,-0.5395786166191101,-0.6506845355033875,-0.557375431060791],\"type\":\"scatter3d\",\"scene\":\"scene\",\"line\":{\"dash\":\"dash\",\"color\":\"#adff00\",\"width\":4}},{\"marker\":{\"size\":1},\"name\":\"GT Camera 19\",\"x\":[-0.6329055428504944,-0.5978305339813232,-0.5916825532913208,-0.5978305339813232,-0.5627554655075073,-0.599643349647522,-0.6697933673858643,-0.6329055428504944,-0.6678488850593567,-0.5627554655075073,-0.599643349647522,-0.6678488850593567,-0.6697933673858643,-0.6678488850593567,-0.5904872417449951],\"y\":[0.12317408621311188,0.09664010256528854,0.10718430578708649,0.09664010256528854,0.07010611891746521,0.006840914487838745,0.05990888178348541,0.12317408621311188,0.0732695609331131,0.07010611891746521,0.006840914487838745,0.0732695609331131,0.05990888178348541,0.0732695609331131,0.060876473784446716],\"z\":[-0.9240725040435791,-0.9478567838668823,-0.9505534768104553,-0.9478567838668823,-0.9716410040855408,-0.955460786819458,-0.9078922867774963,-0.9240725040435791,-1.0250415802001953,-0.9716410040855408,-0.955460786819458,-1.0250415802001953,-0.9078922867774963,-1.0250415802001953,-0.8971291780471802],\"type\":\"scatter3d\",\"scene\":\"scene\",\"line\":{\"dash\":\"dash\",\"color\":\"#9cff00\",\"width\":4}},{\"marker\":{\"size\":1},\"name\":\"GT Camera 20\",\"x\":[-0.3001774549484253,-0.2530097961425781,-0.24971595406532288,-0.2530097961425781,-0.20584212243556976,-0.2256050407886505,-0.31994035840034485,-0.3001774549484253,-0.2830530107021332,-0.20584212243556976,-0.2256050407886505,-0.2830530107021332,-0.31994035840034485,-0.2830530107021332,-0.25281035900115967],\"y\":[0.15784023702144623,0.14529187977313995,0.15734410285949707,0.14529187977313995,0.13274352252483368,0.06043015792965889,0.08552688360214233,0.15784023702144623,0.11772353947162628,0.13274352252483368,0.06043015792965889,0.11772353947162628,0.08552688360214233,0.11772353947162628,0.10484102368354797],\"z\":[-0.8313205242156982,-0.842171847820282,-0.8417916297912598,-0.842171847820282,-0.8530231714248657,-0.8553045988082886,-0.8336019515991211,-0.8313205242156982,-0.9408817291259766,-0.8530231714248657,-0.8553045988082886,-0.9408817291259766,-0.8336019515991211,-0.9408817291259766,-0.7945279479026794],\"type\":\"scatter3d\",\"scene\":\"scene\",\"line\":{\"dash\":\"dash\",\"color\":\"#84ff00\",\"width\":4}},{\"marker\":{\"size\":1},\"name\":\"GT Camera 21\",\"x\":[-0.24360300600528717,-0.19502513110637665,-0.19271191954612732,-0.19502513110637665,-0.14644727110862732,-0.16032657027244568,-0.2574823200702667,-0.24360300600528717,-0.2167396992444992,-0.14644727110862732,-0.16032657027244568,-0.2167396992444992,-0.2574823200702667,-0.2167396992444992,-0.19457733631134033],\"y\":[0.1422080099582672,0.13321049511432648,0.14549219608306885,0.13321049511432648,0.12421298027038574,0.05052276700735092,0.0685177892446518,0.1422080099582672,0.10109893232584,0.12421298027038574,0.05052276700735092,0.10109893232584,0.0685177892446518,0.10109893232584,0.09399861097335815],\"z\":[-0.8485092520713806,-0.8562057018280029,-0.8559631705284119,-0.8562057018280029,-0.8639020919799805,-0.8653572201728821,-0.8499643802642822,-0.8485092520713806,-0.9557223916053772,-0.8639020919799805,-0.8653572201728821,-0.9557223916053772,-0.8499643802642822,-0.9557223916053772,-0.8075386881828308],\"type\":\"scatter3d\",\"scene\":\"scene\",\"line\":{\"dash\":\"dash\",\"color\":\"#72ff00\",\"width\":4}},{\"marker\":{\"size\":1},\"name\":\"GT Camera 22\",\"x\":[-0.33543065190315247,-0.36824744939804077,-0.3611563742160797,-0.36824744939804077,-0.4010642468929291,-0.44361063838005066,-0.37797707319259644,-0.33543065190315247,-0.4392610192298889,-0.4010642468929291,-0.44361063838005066,-0.4392610192298889,-0.37797707319259644,-0.4392610192298889,-0.3646504580974579],\"y\":[0.7933411598205566,0.7649887800216675,0.7657884359359741,0.7649887800216675,0.7366363406181335,0.7318382263183594,0.7885431051254272,0.7933411598205566,0.8447093367576599,0.7366363406181335,0.7318382263183594,0.8447093367576599,0.7885431051254272,0.8447093367576599,0.7215299010276794],\"z\":[-0.2307950258255005,-0.2556787133216858,-0.2659416198730469,-0.2556787133216858,-0.2805624008178711,-0.2189849615097046,-0.16921758651733398,-0.2307950258255005,-0.252858966588974,-0.2805624008178711,-0.2189849615097046,-0.252858966588974,-0.16921758651733398,-0.252858966588974,-0.2109055072069168],\"type\":\"scatter3d\",\"scene\":\"scene\",\"line\":{\"dash\":\"dash\",\"color\":\"#61ff00\",\"width\":4}},{\"marker\":{\"size\":1},\"name\":\"GT Camera 23\",\"x\":[-0.6391687989234924,-0.6224091649055481,-0.61380934715271,-0.6224091649055481,-0.6056495904922485,-0.6572484374046326,-0.6907676458358765,-0.6391687989234924,-0.7125765681266785,-0.6056495904922485,-0.6572484374046326,-0.7125765681266785,-0.6907676458358765,-0.7125765681266785,-0.6160246133804321],\"y\":[0.30832892656326294,0.27207398414611816,0.2798815071582794,0.27207398414611816,0.235819011926651,0.1889737844467163,0.26148369908332825,0.30832892656326294,0.2776517868041992,0.235819011926651,0.1889737844467163,0.2776517868041992,0.26148369908332825,0.2776517868041992,0.23415113985538483],\"z\":[-0.6780567169189453,-0.7081348896026611,-0.7127538919448853,-0.7081348896026611,-0.7382130026817322,-0.7104986906051636,-0.6503424048423767,-0.6780567169189453,-0.7650995850563049,-0.7382130026817322,-0.7104986906051636,-0.7650995850563049,-0.6503424048423767,-0.7650995850563049,-0.6588667631149292],\"type\":\"scatter3d\",\"scene\":\"scene\",\"line\":{\"dash\":\"dash\",\"color\":\"#4fff00\",\"width\":4}},{\"marker\":{\"size\":1},\"name\":\"GT Camera 24\",\"x\":[0.34924668073654175,0.31021034717559814,0.3037080466747284,0.31021034717559814,0.27117404341697693,0.3101878762245178,0.38826048374176025,0.34924668073654175,0.3643401861190796,0.27117404341697693,0.3101878762245178,0.3643401861190796,0.38826048374176025,0.3643401861190796,0.3124057948589325],\"y\":[0.7171446681022644,0.7400187849998474,0.7387887835502625,0.7400187849998474,0.7628929615020752,0.7702730298042297,0.724524736404419,0.7171446681022644,0.8320845365524292,0.7628929615020752,0.7702730298042297,0.8320845365524292,0.724524736404419,0.8320845365524292,0.6995209455490112],\"z\":[-0.359924852848053,-0.33864250779151917,-0.3492470681667328,-0.33864250779151917,-0.31736013293266296,-0.2537326514720917,-0.2962973713874817,-0.359924852848053,-0.338308721780777,-0.31736013293266296,-0.2537326514720917,-0.338308721780777,-0.2962973713874817,-0.338308721780777,-0.2910887598991394],\"type\":\"scatter3d\",\"scene\":\"scene\",\"line\":{\"dash\":\"dash\",\"color\":\"#3dff00\",\"width\":4}},{\"marker\":{\"size\":1},\"name\":\"GT Camera 25\",\"x\":[0.4782950282096863,0.4573603570461273,0.4477449357509613,0.4573603570461273,0.43642571568489075,0.49411827325820923,0.5359876155853271,0.4782950282096863,0.5344741344451904,0.43642571568489075,0.49411827325820923,0.5344741344451904,0.5359876155853271,0.5344741344451904,0.4620729088783264],\"y\":[0.6477223038673401,0.6796533465385437,0.6812593340873718,0.6796533465385437,0.7115844488143921,0.7019486427307129,0.6380864977836609,0.6477223038673401,0.7507075071334839,0.7115844488143921,0.7019486427307129,0.7507075071334839,0.6380864977836609,0.7507075071334839,0.636899471282959],\"z\":[-0.474383145570755,-0.44210085272789,-0.4499248266220093,-0.44210085272789,-0.40981853008270264,-0.36287474632263184,-0.4274393618106842,-0.474383145570755,-0.46237462759017944,-0.40981853008270264,-0.36287474632263184,-0.46237462759017944,-0.4274393618106842,-0.46237462759017944,-0.396756112575531],\"type\":\"scatter3d\",\"scene\":\"scene\",\"line\":{\"dash\":\"dash\",\"color\":\"#25ff00\",\"width\":4}},{\"marker\":{\"size\":1},\"name\":\"GT Camera 26\",\"x\":[-0.6475751399993896,-0.617529571056366,-0.6105145812034607,-0.617529571056366,-0.5874840617179871,-0.6295742988586426,-0.6896653175354004,-0.6475751399993896,-0.6954920291900635,-0.5874840617179871,-0.6295742988586426,-0.6954920291900635,-0.6896653175354004,-0.6954920291900635,-0.6101160049438477],\"y\":[0.16265642642974854,0.13263612985610962,0.14247331023216248,0.13263612985610962,0.1026158481836319,0.04359274357557297,0.10363331437110901,0.16265642642974854,0.11733157187700272,0.1026158481836319,0.04359274357557297,0.11733157187700272,0.10363331437110901,0.11733157187700272,0.09602108597755432],\"z\":[-0.8595632314682007,-0.8859459757804871,-0.8891505599021912,-0.8859459757804871,-0.9123287200927734,-0.8931014537811279,-0.8403359651565552,-0.8595632314682007,-0.9573174118995667,-0.9123287200927734,-0.8931014537811279,-0.9573174118995667,-0.8403359651565552,-0.9573174118995667,-0.8358398079872131],\"type\":\"scatter3d\",\"scene\":\"scene\",\"line\":{\"dash\":\"dash\",\"color\":\"#14ff00\",\"width\":4}},{\"marker\":{\"size\":1},\"name\":\"GT Camera 27\",\"x\":[-0.372233122587204,-0.40258079767227173,-0.3952021598815918,-0.40258079767227173,-0.43292850255966187,-0.47720038890838623,-0.41650500893592834,-0.372233122587204,-0.4779298007488251,-0.43292850255966187,-0.47720038890838623,-0.4779298007488251,-0.41650500893592834,-0.4779298007488251,-0.3981102406978607],\"y\":[0.778207004070282,0.7483209371566772,0.7495986819267273,0.7483209371566772,0.7184348702430725,0.7107682824134827,0.7705404162406921,0.778207004070282,0.8240036964416504,0.7184348702430725,0.7107682824134827,0.8240036964416504,0.7705404162406921,0.8240036964416504,0.7047296166419983],\"z\":[-0.25367802381515503,-0.27986660599708557,-0.28987523913383484,-0.27986660599708557,-0.3060551881790161,-0.24600334465503693,-0.19362619519233704,-0.25367802381515503,-0.27891936898231506,-0.3060551881790161,-0.24600334465503693,-0.27891936898231506,-0.19362619519233704,-0.27891936898231506,-0.23530134558677673],\"type\":\"scatter3d\",\"scene\":\"scene\",\"line\":{\"dash\":\"dash\",\"color\":\"#06ff04\",\"width\":4}},{\"marker\":{\"size\":1},\"name\":\"GT Camera 28\",\"x\":[0.4922577440738678,0.5085422992706299,0.4994995594024658,0.5085422992706299,0.5248268842697144,0.579083263874054,0.5465141534805298,0.4922577440738678,0.5965466499328613,0.5248268842697144,0.579083263874054,0.5965466499328613,0.5465141534805298,0.5965466499328613,0.5052324533462524],\"y\":[0.3269707262516022,0.36048051714897156,0.3683655858039856,0.36048051714897156,0.39399030804634094,0.3466799855232239,0.2796604037284851,0.3269707262516022,0.3759307861328125,0.39399030804634094,0.3466799855232239,0.3759307861328125,0.2796604037284851,0.3759307861328125,0.3172726333141327],\"z\":[-0.7194907665252686,-0.686145544052124,-0.6896533370018005,-0.686145544052124,-0.6528002619743347,-0.6317532658576965,-0.6984438300132751,-0.7194907665252686,-0.7446500062942505,-0.6528002619743347,-0.6317532658576965,-0.7446500062942505,-0.6984438300132751,-0.7446500062942505,-0.6411080360412598],\"type\":\"scatter3d\",\"scene\":\"scene\",\"line\":{\"dash\":\"dash\",\"color\":\"#00ff10\",\"width\":4}},{\"marker\":{\"size\":1},\"name\":\"GT Camera 29\",\"x\":[0.6328627467155457,0.6232308149337769,0.613358199596405,0.6232308149337769,0.6135988831520081,0.6728346943855286,0.6920986175537109,0.6328627467155457,0.7110800743103027,0.6135988831520081,0.6728346943855286,0.7110800743103027,0.6920986175537109,0.7110800743103027,0.6237330436706543],\"y\":[0.6111129522323608,0.6450405120849609,0.6490587592124939,0.6450405120849609,0.6789681315422058,0.6548588275909424,0.5870036482810974,0.6111129522323608,0.699033796787262,0.6789681315422058,0.6548588275909424,0.699033796787262,0.5870036482810974,0.699033796787262,0.5999619364738464],\"z\":[-0.5073561072349548,-0.47191399335861206,-0.47844353318214417,-0.47191399335861206,-0.4364718794822693,-0.3972945809364319,-0.4681788384914398,-0.5073561072349548,-0.4997256100177765,-0.4364718794822693,-0.3972945809364319,-0.4997256100177765,-0.4681788384914398,-0.4997256100177765,-0.428625226020813],\"type\":\"scatter3d\",\"scene\":\"scene\",\"line\":{\"dash\":\"dash\",\"color\":\"#00ff21\",\"width\":4}},{\"marker\":{\"size\":1},\"name\":\"GT Camera 30\",\"x\":[-0.6221153736114502,-0.6130572557449341,-0.6040741205215454,-0.6130572557449341,-0.6039990782737732,-0.6578977704048157,-0.6760140657424927,-0.6221153736114502,-0.7071425318717957,-0.6039990782737732,-0.6578977704048157,-0.7071425318717957,-0.6760140657424927,-0.7071425318717957,-0.6064386367797852],\"y\":[0.4197951555252075,0.38246339559555054,0.38927361369132996,0.38246339559555054,0.34513163566589355,0.30427026748657227,0.37893378734588623,0.4197951555252075,0.40020453929901123,0.34513163566589355,0.30427026748657227,0.40020453929901123,0.37893378734588623,0.40020453929901123,0.3429467976093292],\"z\":[-0.5836018919944763,-0.615606427192688,-0.6210077404975891,-0.615606427192688,-0.6476109027862549,-0.6152028441429138,-0.5511938333511353,-0.5836018919944763,-0.662929356098175,-0.6476109027862549,-0.6152028441429138,-0.662929356098175,-0.5511938333511353,-0.662929356098175,-0.5676388740539551],\"type\":\"scatter3d\",\"scene\":\"scene\",\"line\":{\"dash\":\"dash\",\"color\":\"#00ff39\",\"width\":4}},{\"marker\":{\"size\":1},\"name\":\"GT Camera 31\",\"x\":[0.6348481178283691,0.626176655292511,0.6163238286972046,0.626176655292511,0.6175052523612976,0.6766222715377808,0.6939650774002075,0.6348481178283691,0.7147793173789978,0.6175052523612976,0.6766222715377808,0.7147793173789978,0.6939650774002075,0.7147793173789978,0.6262130737304688],\"y\":[0.6016650795936584,0.6358051896095276,0.6400027871131897,0.6358051896095276,0.669945240020752,0.6447595357894897,0.5764793753623962,0.6016650795936584,0.6880978941917419,0.669945240020752,0.6447595357894897,0.6880978941917419,0.5764793753623962,0.6880978941917419,0.5907695293426514],\"z\":[-0.5117547512054443,-0.4762686789035797,-0.4827147126197815,-0.4762686789035797,-0.4407826066017151,-0.40210625529289246,-0.4730783700942993,-0.5117547512054443,-0.504926860332489,-0.4407826066017151,-0.40210625529289246,-0.504926860332489,-0.4730783700942993,-0.504926860332489,-0.4329323172569275],\"type\":\"scatter3d\",\"scene\":\"scene\",\"line\":{\"dash\":\"dash\",\"color\":\"#00ff4b\",\"width\":4}},{\"marker\":{\"size\":1},\"name\":\"GT Camera 32\",\"x\":[0.4932176172733307,0.4736710786819458,0.4639418125152588,0.4736710786819458,0.4541245698928833,0.5125003457069397,0.5515933632850647,0.4932176172733307,0.5519868731498718,0.4541245698928833,0.5125003457069397,0.5519868731498718,0.5515933632850647,0.5519868731498718,0.4782950282096863],\"y\":[0.6516537666320801,0.6838127374649048,0.6856977343559265,0.6838127374649048,0.7159717082977295,0.7046616673469543,0.6403437852859497,0.6516537666320801,0.7532296776771545,0.7159717082977295,0.7046616673469543,0.7532296776771545,0.6403437852859497,0.7532296776771545,0.6406217813491821],\"z\":[-0.47953400015830994,-0.4466138780117035,-0.4542321264743805,-0.4466138780117035,-0.41369375586509705,-0.3679842948913574,-0.4338245391845703,-0.47953400015830994,-0.4679253399372101,-0.41369375586509705,-0.3679842948913574,-0.4679253399372101,-0.4338245391845703,-0.4679253399372101,-0.4016760289669037],\"type\":\"scatter3d\",\"scene\":\"scene\",\"line\":{\"dash\":\"dash\",\"color\":\"#00ff5c\",\"width\":4}},{\"marker\":{\"size\":1},\"name\":\"GT Camera 33\",\"x\":[-0.21426799893379211,-0.25614094734191895,-0.25086793303489685,-0.25614094734191895,-0.2980138957500458,-0.32965195178985596,-0.2459060698747635,-0.21426799893379211,-0.30670374631881714,-0.2980138957500458,-0.32965195178985596,-0.30670374631881714,-0.2459060698747635,-0.30670374631881714,-0.2545880973339081],\"y\":[0.8534329533576965,0.8327539563179016,0.83183354139328,0.8327539563179016,0.8120749592781067,0.8175974488258362,0.8589553833007812,0.8534329533576965,0.9262637495994568,0.8120749592781067,0.8175974488258362,0.9262637495994568,0.8589553833007812,0.9262637495994568,0.7901408672332764],\"z\":[-0.1985582709312439,-0.21641986072063446,-0.22771579027175903,-0.21641986072063446,-0.23428145051002502,-0.1665058135986328,-0.13078264892101288,-0.1985582709312439,-0.20614498853683472,-0.23428145051002502,-0.1665058135986328,-0.20614498853683472,-0.13078264892101288,-0.20614498853683472,-0.17072556912899017],\"type\":\"scatter3d\",\"scene\":\"scene\",\"line\":{\"dash\":\"dash\",\"color\":\"#00ff6e\",\"width\":4}},{\"marker\":{\"size\":1},\"name\":\"GT Camera 34\",\"x\":[0.3346470296382904,0.2942315638065338,0.28812047839164734,0.2942315638065338,0.25381606817245483,0.2904824912548065,0.3713134527206421,0.3346470296382904,0.345371276140213,0.25381606817245483,0.2904824912548065,0.345371276140213,0.3713134527206421,0.345371276140213,0.2961615025997162],\"y\":[0.7320108413696289,0.7536488771438599,0.7522045373916626,0.7536488771438599,0.7752869129180908,0.7839531302452087,0.740676999092102,0.7320108413696289,0.847389280796051,0.7752869129180908,0.7839531302452087,0.847389280796051,0.740676999092102,0.847389280796051,0.7132782936096191],\"z\":[-0.3493379056453705,-0.32937830686569214,-0.34018659591674805,-0.32937830686569214,-0.3094187378883362,-0.24456912279129028,-0.2844882905483246,-0.3493379056453705,-0.3274505138397217,-0.3094187378883362,-0.24456912279129028,-0.3274505138397217,-0.2844882905483246,-0.3274505138397217,-0.28170502185821533],\"type\":\"scatter3d\",\"scene\":\"scene\",\"line\":{\"dash\":\"dash\",\"color\":\"#00ff80\",\"width\":4}},{\"marker\":{\"size\":1},\"name\":\"GT Camera 35\",\"x\":[0.580328643321991,0.5803375840187073,0.5706647634506226,0.5803375840187073,0.5803464651107788,0.6383832693099976,0.6383653879165649,0.580328643321991,0.672696053981781,0.5803464651107788,0.6383832693099976,0.672696053981781,0.6383653879165649,0.672696053981781,0.5776858925819397],\"y\":[0.4910573363304138,0.5264685153961182,0.532059371471405,0.5264685153961182,0.5618796348571777,0.5283342003822327,0.4575119614601135,0.4910573363304138,0.5643188953399658,0.5618796348571777,0.5283342003822327,0.5643188953399658,0.4575119614601135,0.5643188953399658,0.48238423466682434],\"z\":[-0.5801114439964294,-0.5448119640350342,-0.5504181385040283,-0.5448119640350342,-0.5095125436782837,-0.4758756458759308,-0.5464745759963989,-0.5801114439964294,-0.5828054547309875,-0.5095125436782837,-0.4758756458759308,-0.5828054547309875,-0.5464745759963989,-0.5828054547309875,-0.5005875825881958],\"type\":\"scatter3d\",\"scene\":\"scene\",\"line\":{\"dash\":\"dash\",\"color\":\"#00ff97\",\"width\":4}},{\"marker\":{\"size\":1},\"name\":\"GT Camera 36\",\"x\":[-0.6679549813270569,-0.6767959594726562,-0.6680051684379578,-0.6767959594726562,-0.6856369972229004,-0.7383816838264465,-0.720699667930603,-0.6679549813270569,-0.772027313709259,-0.6856369972229004,-0.7383816838264465,-0.772027313709259,-0.720699667930603,-0.772027313709259,-0.668738842010498],\"y\":[0.6175365447998047,0.5797224044799805,0.5841056704521179,0.5797224044799805,0.5419082641601562,0.5156087875366211,0.5912370681762695,0.6175365447998047,0.6218061447143555,0.5419082641601562,0.5156087875366211,0.6218061447143555,0.5912370681762695,0.6218061447143555,0.5389559268951416],\"z\":[-0.41764241456985474,-0.44913727045059204,-0.45686769485473633,-0.44913727045059204,-0.48063215613365173,-0.4342496991157532,-0.3712599575519562,-0.41764241456985474,-0.47293224930763245,-0.48063215613365173,-0.4342496991157532,-0.47293224930763245,-0.3712599575519562,-0.47293224930763245,-0.4024529457092285],\"type\":\"scatter3d\",\"scene\":\"scene\",\"line\":{\"dash\":\"dash\",\"color\":\"#00ffa9\",\"width\":4}},{\"marker\":{\"size\":1},\"name\":\"GT Camera 37\",\"x\":[-0.6354784369468689,-0.6198720335960388,-0.611233651638031,-0.6198720335960388,-0.604265570640564,-0.6560956835746765,-0.6873085498809814,-0.6354784369468689,-0.710979163646698,-0.604265570640564,-0.6560956835746765,-0.710979163646698,-0.6873085498809814,-0.710979163646698,-0.6131910085678101],\"y\":[0.3207680284976959,0.28477543592453003,0.2925235331058502,0.28477543592453003,0.24878285825252533,0.20229434967041016,0.27427950501441956,0.3207680284976959,0.29277274012565613,0.24878285825252533,0.20229434967041016,0.29277274012565613,0.27427950501441956,0.29277274012565613,0.2459104061126709],\"z\":[-0.6639676094055176,-0.6949671506881714,-0.6996142864227295,-0.6949671506881714,-0.72596675157547,-0.698083758354187,-0.6360846161842346,-0.6639676094055176,-0.7501195073127747,-0.72596675157547,-0.698083758354187,-0.7501195073127747,-0.6360846161842346,-0.7501195073127747,-0.6464787721633911],\"type\":\"scatter3d\",\"scene\":\"scene\",\"line\":{\"dash\":\"dash\",\"color\":\"#00ffbb\",\"width\":4}},{\"marker\":{\"size\":1},\"name\":\"GT Camera 38\",\"x\":[0.5914093255996704,0.5903602838516235,0.5806605815887451,0.5903602838516235,0.5893112421035767,0.6475095748901367,0.6496076583862305,0.5914093255996704,0.6825006008148193,0.5893112421035767,0.6475095748901367,0.6825006008148193,0.6496076583862305,0.6825006008148193,0.5879389047622681],\"y\":[0.5032370686531067,0.5385320782661438,0.543969988822937,0.5385320782661438,0.5738270878791809,0.541199803352356,0.47060978412628174,0.5032370686531067,0.5781159400939941,0.5738270878791809,0.541199803352356,0.5781159400939941,0.47060978412628174,0.5781159400939941,0.4942696690559387],\"z\":[-0.5673718452453613,-0.53197181224823,-0.5376810431480408,-0.53197181224823,-0.496571809053421,-0.46231669187545776,-0.5331167578697205,-0.5673718452453613,-0.5687078237533569,-0.496571809053421,-0.46231669187545776,-0.5687078237533569,-0.5331167578697205,-0.5687078237533569,-0.48791250586509705],\"type\":\"scatter3d\",\"scene\":\"scene\",\"line\":{\"dash\":\"dash\",\"color\":\"#00ffcd\",\"width\":4}},{\"marker\":{\"size\":1},\"name\":\"GT Camera 39\",\"x\":[-0.4170818030834198,-0.37991803884506226,-0.3733329176902771,-0.37991803884506226,-0.3427542746067047,-0.38226500153541565,-0.45659253001213074,-0.4170818030834198,-0.4409061372280121,-0.3427542746067047,-0.38226500153541565,-0.4409061372280121,-0.45659253001213074,-0.4409061372280121,-0.37905701994895935],\"y\":[0.21373260021209717,0.1885194480419159,0.19909712672233582,0.1885194480419159,0.1633063107728958,0.09984023869037628,0.15026652812957764,0.21373260021209717,0.1740027815103531,0.1633063107728958,0.09984023869037628,0.1740027815103531,0.15026652812957764,0.1740027815103531,0.14817823469638824],\"z\":[-0.8140337467193604,-0.8360145092010498,-0.8370139598846436,-0.8360145092010498,-0.8579952716827393,-0.851998507976532,-0.8080370426177979,-0.8140337467193604,-0.922478199005127,-0.8579952716827393,-0.851998507976532,-0.922478199005127,-0.8080370426177979,-0.922478199005127,-0.7882851362228394],\"type\":\"scatter3d\",\"scene\":\"scene\",\"line\":{\"dash\":\"dash\",\"color\":\"#00ffde\",\"width\":4}},{\"marker\":{\"size\":1},\"name\":\"GT Camera 40\",\"x\":[0.2244417816400528,0.1759309321641922,0.17342835664749146,0.1759309321641922,0.1274200677871704,0.1424354910850525,0.23945719003677368,0.2244417816400528,0.1970755010843277,0.1274200677871704,0.1424354910850525,0.1970755010843277,0.23945719003677368,0.1970755010843277,0.17662020027637482],\"y\":[0.7830720543861389,0.7921028733253479,0.7893184423446655,0.7921028733253479,0.8011336922645569,0.8178402185440063,0.7997785806655884,0.7830720543861389,0.8962558507919312,0.8011336922645569,0.8178402185440063,0.8962558507919312,0.7997785806655884,0.8962558507919312,0.7525562644004822],\"z\":[-0.3017861545085907,-0.2937151789665222,-0.3056413531303406,-0.2937151789665222,-0.28564417362213135,-0.21408700942993164,-0.230228990316391,-0.3017861545085907,-0.2831645607948303,-0.28564417362213135,-0.21408700942993164,-0.2831645607948303,-0.230228990316391,-0.2831645607948303,-0.2453226000070572],\"type\":\"scatter3d\",\"scene\":\"scene\",\"line\":{\"dash\":\"dash\",\"color\":\"#00fff6\",\"width\":4}},{\"marker\":{\"size\":1},\"name\":\"GT Camera 41\",\"x\":[-0.6253620386123657,-0.6134680509567261,-0.6046047210693359,-0.6134680509567261,-0.6015740036964417,-0.6547538042068481,-0.6785418391227722,-0.6253620386123657,-0.7064387202262878,-0.6015740036964417,-0.6547538042068481,-0.7064387202262878,-0.6785418391227722,-0.7064387202262878,-0.6068675518035889],\"y\":[0.39729130268096924,0.36053499579429626,0.36776137351989746,0.36053499579429626,0.3237786889076233,0.28042036294937134,0.3539330065250397,0.39729130268096924,0.3742644786834717,0.3237786889076233,0.28042036294937134,0.3742644786834717,0.3539330065250397,0.3742644786834717,0.3211515247821808],\"z\":[-0.6053425669670105,-0.6370837688446045,-0.6421306729316711,-0.6370837688446045,-0.6688250303268433,-0.6385435461997986,-0.5750611424446106,-0.6053425669670105,-0.6878203749656677,-0.6688250303268433,-0.6385435461997986,-0.6878203749656677,-0.5750611424446106,-0.6878203749656677,-0.589004397392273],\"type\":\"scatter3d\",\"scene\":\"scene\",\"line\":{\"dash\":\"dash\",\"color\":\"#00f6ff\",\"width\":4}},{\"marker\":{\"size\":1},\"name\":\"GT Camera 42\",\"x\":[0.6172128319740295,0.6058403849601746,0.5959286689758301,0.6058403849601746,0.5944679975509644,0.6539382934570312,0.6766831874847412,0.6172128319740295,0.6921013593673706,0.5944679975509644,0.6539382934570312,0.6921013593673706,0.6766831874847412,0.6921013593673706,0.6073126792907715],\"y\":[0.6260464191436768,0.6595470905303955,0.6632195711135864,0.6595470905303955,0.6930477619171143,0.6710129976272583,0.604011595249176,0.6260464191436768,0.7167033553123474,0.6930477619171143,0.6710129976272583,0.7167033553123474,0.604011595249176,0.7167033553123474,0.6144428849220276],\"z\":[-0.5067542791366577,-0.4714219868183136,-0.4780943691730499,-0.4714219868183136,-0.4360896646976471,-0.3960554003715515,-0.46671998500823975,-0.5067542791366577,-0.4978503882884979,-0.4360896646976471,-0.3960554003715515,-0.4978503882884979,-0.46671998500823975,-0.4978503882884979,-0.42818206548690796],\"type\":\"scatter3d\",\"scene\":\"scene\",\"line\":{\"dash\":\"dash\",\"color\":\"#00e5ff\",\"width\":4}},{\"marker\":{\"size\":1},\"name\":\"GT Camera 43\",\"x\":[0.1849903166294098,0.13548532128334045,0.13400819897651672,0.13548532128334045,0.08598031848669052,0.09484303742647171,0.19385302066802979,0.1849903166294098,0.14749163389205933,0.08598031848669052,0.09484303742647171,0.14749163389205933,0.19385302066802979,0.14749163389205933,0.1361292004585266],\"y\":[0.7802889347076416,0.7853846549987793,0.7824580073356628,0.7853846549987793,0.790480375289917,0.80804044008255,0.7978489398956299,0.7802889347076416,0.8908494710922241,0.790480375289917,0.80804044008255,0.8908494710922241,0.7978489398956299,0.8908494710922241,0.7458222508430481],\"z\":[-0.29110485315322876,-0.28627902269363403,-0.2983414828777313,-0.28627902269363403,-0.2814532220363617,-0.20907850563526154,-0.2187301516532898,-0.29110485315322876,-0.2744775712490082,-0.2814532220363617,-0.20907850563526154,-0.2744775712490082,-0.2187301516532898,-0.2744775712490082,-0.23789873719215393],\"type\":\"scatter3d\",\"scene\":\"scene\",\"line\":{\"dash\":\"dash\",\"color\":\"#00d3ff\",\"width\":4}},{\"marker\":{\"size\":1},\"name\":\"GT Camera 44\",\"x\":[-0.28360500931739807,-0.23586364090442657,-0.23292052745819092,-0.23586364090442657,-0.18812227249145508,-0.20578089356422424,-0.30126363039016724,-0.28360500931739807,-0.2628226578235626,-0.18812227249145508,-0.20578089356422424,-0.2628226578235626,-0.30126363039016724,-0.2628226578235626,-0.23562809824943542],\"y\":[0.15280906856060028,0.14152756333351135,0.15367071330547333,0.14152756333351135,0.13024607300758362,0.057387206703424454,0.07995019853115082,0.15280906856060028,0.1124282032251358,0.13024607300758362,0.057387206703424454,0.1124282032251358,0.07995019853115082,0.1124282032251358,0.10143309831619263],\"z\":[-0.8377400636672974,-0.8474090695381165,-0.8470455408096313,-0.8474090695381165,-0.8570780754089355,-0.859259307384491,-0.8399213552474976,-0.8377400636672974,-0.9465689659118652,-0.8570780754089355,-0.859259307384491,-0.9465689659118652,-0.8399213552474976,-0.9465689659118652,-0.7994650602340698],\"type\":\"scatter3d\",\"scene\":\"scene\",\"line\":{\"dash\":\"dash\",\"color\":\"#00c1ff\",\"width\":4}},{\"marker\":{\"size\":1},\"name\":\"GT Camera 45\",\"x\":[-0.650951623916626,-0.6251782178878784,-0.6175308227539062,-0.6251782178878784,-0.5994048714637756,-0.6452891826629639,-0.696835994720459,-0.650951623916626,-0.7081207633018494,-0.5994048714637756,-0.6452891826629639,-0.7081207633018494,-0.696835994720459,-0.7081207633018494,-0.6181202530860901],\"y\":[0.19790296256542206,0.1652269810438156,0.1743965446949005,0.1652269810438156,0.13255099952220917,0.07753362506628036,0.14288558065891266,0.19790296256542206,0.15637162327766418,0.13255099952220917,0.07753362506628036,0.15637162327766418,0.14288558065891266,0.15637162327766418,0.12839162349700928],\"z\":[-0.8108924627304077,-0.838605523109436,-0.842305064201355,-0.838605523109436,-0.8663185834884644,-0.8441213965415955,-0.7886953353881836,-0.8108924627304077,-0.9053016304969788,-0.8663185834884644,-0.8441213965415955,-0.9053016304969788,-0.7886953353881836,-0.9053016304969788,-0.7886096239089966],\"type\":\"scatter3d\",\"scene\":\"scene\",\"line\":{\"dash\":\"dash\",\"color\":\"#00aaff\",\"width\":4}},{\"marker\":{\"size\":1},\"name\":\"GT Camera 46\",\"x\":[-0.6210616827011108,-0.6149778962135315,-0.6059165596961975,-0.6149778962135315,-0.6088941693305969,-0.6632623076438904,-0.6754298210144043,-0.6210616827011108,-0.7099633812904358,-0.6088941693305969,-0.6632623076438904,-0.7099633812904358,-0.6754298210144043,-0.7099633812904358,-0.6082612872123718],\"y\":[0.43653178215026855,0.3989037275314331,0.4053133428096771,0.3989037275314331,0.36127567291259766,0.32281795144081116,0.39807409048080444,0.43653178215026855,0.42099303007125854,0.36127567291259766,0.32281795144081116,0.42099303007125854,0.39807409048080444,0.42099303007125854,0.3590157926082611],\"z\":[-0.5612891316413879,-0.5936483144760132,-0.5993979573249817,-0.5936483144760132,-0.6260074973106384,-0.5915095210075378,-0.5267911553382874,-0.5612891316413879,-0.6371922492980957,-0.6260074973106384,-0.5915095210075378,-0.6371922492980957,-0.5267911553382874,-0.6371922492980957,-0.5460028648376465],\"type\":\"scatter3d\",\"scene\":\"scene\",\"line\":{\"dash\":\"dash\",\"color\":\"#0098ff\",\"width\":4}},{\"marker\":{\"size\":1},\"name\":\"GT Camera 47\",\"x\":[-0.517789363861084,-0.48935067653656006,-0.48162713646888733,-0.48935067653656006,-0.4609120488166809,-0.5072532892227173,-0.5641306042671204,-0.517789363861084,-0.5668091773986816,-0.4609120488166809,-0.5072532892227173,-0.5668091773986816,-0.5641306042671204,-0.5668091773986816,-0.48537740111351013],\"y\":[0.3147198557853699,0.2836460471153259,0.29308605194091797,0.2836460471153259,0.252572238445282,0.19593217968940735,0.25807979702949524,0.3147198557853699,0.2761681079864502,0.252572238445282,0.19593217968940735,0.2761681079864502,0.25807979702949524,0.2761681079864502,0.24490498006343842],\"z\":[-0.7585077285766602,-0.7854458689689636,-0.7881813645362854,-0.7854458689689636,-0.8123839497566223,-0.7959707975387573,-0.7420946359634399,-0.7585077285766602,-0.8585930466651917,-0.8123839497566223,-0.7959707975387573,-0.8585930466651917,-0.7420946359634399,-0.8585930466651917,-0.7365623712539673],\"type\":\"scatter3d\",\"scene\":\"scene\",\"line\":{\"dash\":\"dash\",\"color\":\"#0086ff\",\"width\":4}},{\"marker\":{\"size\":1},\"name\":\"GT Camera 48\",\"x\":[-0.5587239265441895,-0.5761744976043701,-0.5679735541343689,-0.5761744976043701,-0.5936250686645508,-0.6428306698799133,-0.6079294681549072,-0.5587239265441895,-0.6676919460296631,-0.5936250686645508,-0.6428306698799133,-0.6676919460296631,-0.6079294681549072,-0.6676919460296631,-0.567319929599762],\"y\":[0.6990414261817932,0.6630512475967407,0.6664205193519592,0.6630512475967407,0.6270610094070435,0.6068453192710876,0.6788257360458374,0.6990414261817932,0.7169144153594971,0.6270610094070435,0.6068453192710876,0.7169144153594971,0.6788257360458374,0.7169144153594971,0.6209578514099121],\"z\":[-0.3378511965274811,-0.3678542673587799,-0.37666577100753784,-0.3678542673587799,-0.39785730838775635,-0.34498825669288635,-0.2849821448326111,-0.3378511965274811,-0.3792368471622467,-0.39785730838775635,-0.34498825669288635,-0.3792368471622467,-0.2849821448326111,-0.3792368471622467,-0.3225111663341522],\"type\":\"scatter3d\",\"scene\":\"scene\",\"line\":{\"dash\":\"dash\",\"color\":\"#0074ff\",\"width\":4}},{\"marker\":{\"size\":1},\"name\":\"GT Camera 49\",\"x\":[-0.6513849496841431,-0.6232375502586365,-0.6159308552742004,-0.6232375502586365,-0.5950901508331299,-0.6389304399490356,-0.6952252984046936,-0.6513849496841431,-0.7035875916481018,-0.5950901508331299,-0.6389304399490356,-0.7035875916481018,-0.6952252984046936,-0.7035875916481018,-0.6159427762031555],\"y\":[0.1797090768814087,0.1485087275505066,0.15806084871292114,0.1485087275505066,0.1173083707690239,0.0599956139922142,0.1223963275551796,0.1797090768814087,0.13618004322052002,0.1173083707690239,0.0599956139922142,0.13618004322052002,0.1223963275551796,0.13618004322052002,0.11168849468231201],\"z\":[-0.8356490731239319,-0.8627463579177856,-0.8661549687385559,-0.8627463579177856,-0.8898435831069946,-0.8693917989730835,-0.8151972889900208,-0.8356490731239319,-0.9320148229598999,-0.8898435831069946,-0.8693917989730835,-0.9320148229598999,-0.8151972889900208,-0.9320148229598999,-0.8127732276916504],\"type\":\"scatter3d\",\"scene\":\"scene\",\"line\":{\"dash\":\"dash\",\"color\":\"#0063ff\",\"width\":4}},{\"marker\":{\"size\":1},\"name\":\"GT Camera 50\",\"x\":[-0.6716519594192505,-0.6778694987297058,-0.6689397692680359,-0.6778694987297058,-0.6840870380401611,-0.7376653552055359,-0.72523033618927,-0.6716519594192505,-0.7735209465026855,-0.6840870380401611,-0.7376653552055359,-0.7735209465026855,-0.72523033618927,-0.7735209465026855,-0.6702275276184082],\"y\":[0.5890200734138489,0.5508308410644531,0.5555070638656616,0.5508308410644531,0.5126416087150574,0.4845845103263855,0.560962975025177,0.5890200734138489,0.5894032120704651,0.5126416087150574,0.4845845103263855,0.5894032120704651,0.560962975025177,0.5894032120704651,0.5105018615722656],\"z\":[-0.4452492594718933,-0.47691822052001953,-0.4843103289604187,-0.47691822052001953,-0.5085871815681458,-0.46423450112342834,-0.4008965492248535,-0.4452492594718933,-0.5046530961990356,-0.5085871815681458,-0.46423450112342834,-0.5046530961990356,-0.4008965492248535,-0.5046530961990356,-0.4297862648963928],\"type\":\"scatter3d\",\"scene\":\"scene\",\"line\":{\"dash\":\"dash\",\"color\":\"#004bff\",\"width\":4}},{\"marker\":{\"size\":1},\"name\":\"GT Camera 51\",\"x\":[0.5037389993667603,0.5159245133399963,0.5066399574279785,0.5159245133399963,0.5281099677085876,0.5838172435760498,0.5594462752342224,0.5037389993667603,0.6061406135559082,0.5281099677085876,0.5838172435760498,0.6061406135559082,0.5594462752342224,0.6061406135559082,0.5125969052314758],\"y\":[0.3624628186225891,0.396973580121994,0.40428051352500916,0.396973580121994,0.43148431181907654,0.38764268159866333,0.3186212182044983,0.3624628186225891,0.41770240664482117,0.43148431181907654,0.38764268159866333,0.41770240664482117,0.3186212182044983,0.41770240664482117,0.35372793674468994],\"z\":[-0.6897445321083069,-0.6556780934333801,-0.6597592234611511,-0.6556780934333801,-0.6216116547584534,-0.5971245765686035,-0.6652575135231018,-0.6897445321083069,-0.7089473605155945,-0.6216116547584534,-0.5971245765686035,-0.7089473605155945,-0.6652575135231018,-0.7089473605155945,-0.6106781363487244],\"type\":\"scatter3d\",\"scene\":\"scene\",\"line\":{\"dash\":\"dash\",\"color\":\"#0039ff\",\"width\":4}},{\"marker\":{\"size\":1},\"name\":\"GT Camera 52\",\"x\":[-0.5262765288352966,-0.5454856157302856,-0.5373944044113159,-0.5454856157302856,-0.5646947622299194,-0.6132420897483826,-0.5748238563537598,-0.5262765288352966,-0.6355931758880615,-0.5646947622299194,-0.6132420897483826,-0.6355931758880615,-0.5748238563537598,-0.6355931758880615,-0.5368423461914062],\"y\":[0.7200505137443542,0.684600830078125,0.6877245306968689,0.684600830078125,0.649151086807251,0.6304085850715637,0.701308012008667,0.7200505137443542,0.7411747574806213,0.649151086807251,0.6304085850715637,0.7411747574806213,0.701308012008667,0.7411747574806213,0.6422569751739502],\"z\":[-0.3205610513687134,-0.3501300811767578,-0.35913142561912537,-0.3501300811767578,-0.37969908118247986,-0.32569095492362976,-0.2665529251098633,-0.3205610513687134,-0.3594183027744293,-0.37969908118247986,-0.32569095492362976,-0.3594183027744293,-0.2665529251098633,-0.3594183027744293,-0.3049798607826233],\"type\":\"scatter3d\",\"scene\":\"scene\",\"line\":{\"dash\":\"dash\",\"color\":\"#0028ff\",\"width\":4}},{\"marker\":{\"size\":1},\"name\":\"GT Camera 53\",\"x\":[0.5589529275894165,0.560925304889679,0.5512987375259399,0.560925304889679,0.5628976821899414,0.6206569671630859,0.6167122721672058,0.5589529275894165,0.6534723043441772,0.5628976821899414,0.6206569671630859,0.6534723043441772,0.6167122721672058,0.6534723043441772,0.5579712986946106],\"y\":[0.4717761278152466,0.5073482394218445,0.5132114291191101,0.5073482394218445,0.5429203510284424,0.5077410936355591,0.4365968704223633,0.4717761278152466,0.542087972164154,0.5429203510284424,0.5077410936355591,0.542087972164154,0.4365968704223633,0.542087972164154,0.4635939300060272],\"z\":[-0.6053310036659241,-0.5702491998672485,-0.575653076171875,-0.5702491998672485,-0.5351673364639282,-0.5027438402175903,-0.5729075074195862,-0.6053310036659241,-0.6106775999069214,-0.5351673364639282,-0.5027438402175903,-0.6106775999069214,-0.5729075074195862,-0.6106775999069214,-0.5257173180580139],\"type\":\"scatter3d\",\"scene\":\"scene\",\"line\":{\"dash\":\"dash\",\"color\":\"#0016ff\",\"width\":4}},{\"marker\":{\"size\":1},\"name\":\"GT Camera 54\",\"x\":[-0.6318371295928955,-0.5966269969940186,-0.5905032157897949,-0.5966269969940186,-0.5614169239997864,-0.5981597900390625,-0.6685799956321716,-0.6318371295928955,-0.6663883924484253,-0.5614169239997864,-0.5981597900390625,-0.6663883924484253,-0.6685799956321716,-0.6663883924484253,-0.5893034934997559],\"y\":[0.12264756858348846,0.09621868282556534,0.10678106546401978,0.09621868282556534,0.06978979706764221,0.006415516138076782,0.059273283928632736,0.12264756858348846,0.07265369594097137,0.06978979706764221,0.006415516138076782,0.07265369594097137,0.059273283928632736,0.07265369594097137,0.06047046184539795],\"z\":[-0.9257040619850159,-0.9494056105613708,-0.9520860910415649,-0.9494056105613708,-0.9731071591377258,-0.9570242166519165,-0.9096211194992065,-0.9257040619850159,-1.0267637968063354,-0.9731071591377258,-0.9570242166519165,-1.0267637968063354,-0.9096211194992065,-1.0267637968063354,-0.8986642956733704],\"type\":\"scatter3d\",\"scene\":\"scene\",\"line\":{\"dash\":\"dash\",\"color\":\"#0408ff\",\"width\":4}},{\"marker\":{\"size\":1},\"name\":\"GT Camera 55\",\"x\":[0.1689138114452362,0.21283388137817383,0.20842738449573517,0.21283388137817383,0.25675395131111145,0.28319284319877625,0.1953527182340622,0.1689138114452362,0.2583242952823639,0.25675395131111145,0.28319284319877625,0.2583242952823639,0.1953527182340622,0.2583242952823639,0.2099178433418274],\"y\":[0.1100388839840889,0.1273389458656311,0.1390247792005539,0.1273389458656311,0.1446390002965927,0.07452400773763657,0.03992389142513275,0.1100388839840889,0.1002235934138298,0.1446390002965927,0.07452400773763657,0.1002235934138298,0.03992389142513275,0.1002235934138298,0.0883103683590889],\"z\":[-0.8818989992141724,-0.8654146194458008,-0.8659382462501526,-0.8654146194458008,-0.8489301800727844,-0.8457881212234497,-0.8787569403648376,-0.8818989992141724,-0.9581595659255981,-0.8489301800727844,-0.8457881212234497,-0.9581595659255981,-0.8787569403648376,-0.9581595659255981,-0.8166855573654175],\"type\":\"scatter3d\",\"scene\":\"scene\",\"line\":{\"dash\":\"dash\",\"color\":\"#1300ff\",\"width\":4}},{\"marker\":{\"size\":1},\"name\":\"GT Camera 56\",\"x\":[-0.3864596486091614,-0.34629562497138977,-0.3403913378715515,-0.34629562497138977,-0.30613160133361816,-0.3415572941303253,-0.42188531160354614,-0.3864596486091614,-0.4002898037433624,-0.30613160133361816,-0.3415572941303253,-0.4002898037433624,-0.42188531160354614,-0.4002898037433624,-0.345867782831192],\"y\":[0.19987769424915314,0.17752449214458466,0.18853282928466797,0.17752449214458466,0.15517130494117737,0.08912128210067749,0.13382767140865326,0.19987769424915314,0.16017107665538788,0.15517130494117737,0.08912128210067749,0.16017107665538788,0.13382767140865326,0.16017107665538788,0.13666369020938873],\"z\":[-0.8100876212120056,-0.8297646641731262,-0.8302186131477356,-0.8297646641731262,-0.8494417667388916,-0.8467181921005249,-0.8073641061782837,-0.8100876212120056,-0.9202618598937988,-0.8494417667388916,-0.8467181921005249,-0.9202618598937988,-0.8073641061782837,-0.9202618598937988,-0.7824734449386597],\"type\":\"scatter3d\",\"scene\":\"scene\",\"line\":{\"dash\":\"dash\",\"color\":\"#2500ff\",\"width\":4}},{\"marker\":{\"size\":1},\"name\":\"GT Camera 57\",\"x\":[-0.02067451924085617,0.028399745002388954,0.02668003924190998,0.028399745002388954,0.07747400552034378,0.08779223263263702,-0.010356292128562927,-0.02067451924085617,0.04688527435064316,0.07747400552034378,0.08779223263263702,0.04688527435064316,-0.010356292128562927,0.04688527435064316,0.02689564973115921],\"y\":[0.11264769732952118,0.11947711557149887,0.131858229637146,0.11947711557149887,0.12630653381347656,0.05201983079314232,0.03836100175976753,0.11264769732952118,0.08399102091789246,0.12630653381347656,0.05201983079314232,0.08399102091789246,0.03836100175976753,0.08399102091789246,0.08150513470172882],\"z\":[-0.9064850807189941,-0.8997712731361389,-0.8997954726219177,-0.8997712731361389,-0.8930574059486389,-0.8929121494293213,-0.9063398241996765,-0.9064850807189941,-0.998792827129364,-0.8930574059486389,-0.8929121494293213,-0.998792827129364,-0.9063398241996765,-0.998792827129364,-0.850151538848877],\"type\":\"scatter3d\",\"scene\":\"scene\",\"line\":{\"dash\":\"dash\",\"color\":\"#3700ff\",\"width\":4}},{\"marker\":{\"size\":1},\"name\":\"GT Camera 58\",\"x\":[0.364690899848938,0.3272014856338501,0.3202977776527405,0.3272014856338501,0.2897120714187622,0.33113428950309753,0.4061131179332733,0.364690899848938,0.3843524754047394,0.2897120714187622,0.33113428950309753,0.3843524754047394,0.4061131179332733,0.3843524754047394,0.32969266176223755],\"y\":[0.6996073722839355,0.7237375378608704,0.7227412462234497,0.7237375378608704,0.7478677034378052,0.7538454532623291,0.7055851221084595,0.6996073722839355,0.8139469027519226,0.7478677034378052,0.7538454532623291,0.8139469027519226,0.7055851221084595,0.8139469027519226,0.6831161379814148],\"z\":[-0.3713604211807251,-0.3487268388271332,-0.35909968614578247,-0.3487268388271332,-0.32609325647354126,-0.26385605335235596,-0.3091232180595398,-0.3713604211807251,-0.35023829340934753,-0.32609325647354126,-0.26385605335235596,-0.35023829340934753,-0.3091232180595398,-0.35023829340934753,-0.3012932240962982],\"type\":\"scatter3d\",\"scene\":\"scene\",\"line\":{\"dash\":\"dash\",\"color\":\"#4900ff\",\"width\":4}},{\"marker\":{\"size\":1},\"name\":\"GT Camera 59\",\"x\":[-0.6236945986747742,-0.6127824783325195,-0.6038707494735718,-0.6127824783325195,-0.6018702983856201,-0.6553404927253723,-0.6771647930145264,-0.6236945986747742,-0.7061578035354614,-0.6018702983856201,-0.6553404927253723,-0.7061578035354614,-0.6771647930145264,-0.7061578035354614,-0.6061974167823792],\"y\":[0.40652328729629517,0.36949846148490906,0.3765704035758972,0.36949846148490906,0.33247366547584534,0.29004213213920593,0.36409175395965576,0.40652328729629517,0.3845577538013458,0.33247366547584534,0.29004213213920593,0.3845577538013458,0.36409175395965576,0.3845577538013458,0.3301451802253723],\"z\":[-0.5977743864059448,-0.6295562982559204,-0.6347350478172302,-0.6295562982559204,-0.6613381505012512,-0.6302655935287476,-0.5667018294334412,-0.5977743864059448,-0.6791598200798035,-0.6613381505012512,-0.6302655935287476,-0.6791598200798035,-0.5667018294334412,-0.6791598200798035,-0.5814501047134399],\"type\":\"scatter3d\",\"scene\":\"scene\",\"line\":{\"dash\":\"dash\",\"color\":\"#5a00ff\",\"width\":4}},{\"marker\":{\"size\":1},\"name\":\"GT Camera 60\",\"x\":[0.24126332998275757,0.28224658966064453,0.27701374888420105,0.28224658966064453,0.3232298195362091,0.3546268343925476,0.2726603150367737,0.24126332998275757,0.33704763650894165,0.3232298195362091,0.3546268343925476,0.33704763650894165,0.2726603150367737,0.33704763650894165,0.27839380502700806],\"y\":[0.12010081112384796,0.14054998755455017,0.15187016129493713,0.14054998755455017,0.16099917888641357,0.09307810664176941,0.05217974632978439,0.12010081112384796,0.1178123950958252,0.16099917888641357,0.09307810664176941,0.1178123950958252,0.05217974632978439,0.1178123950958252,0.10097799450159073],\"z\":[-0.8873910307884216,-0.8673359751701355,-0.8681851625442505,-0.8673359751701355,-0.8472809791564941,-0.8421860337257385,-0.882296085357666,-0.8873910307884216,-0.9561396837234497,-0.8472809791564941,-0.8421860337257385,-0.9561396837234497,-0.882296085357666,-0.9561396837234497,-0.8191129565238953],\"type\":\"scatter3d\",\"scene\":\"scene\",\"line\":{\"dash\":\"dash\",\"color\":\"#7200ff\",\"width\":4}},{\"marker\":{\"size\":1},\"name\":\"GT Camera 61\",\"x\":[0.2650570869445801,0.3050941228866577,0.29963237047195435,0.3050941228866577,0.34513115882873535,0.37790167331695557,0.2978276014328003,0.2650570869445801,0.36245471239089966,0.34513115882873535,0.37790167331695557,0.36245471239089966,0.2978276014328003,0.36245471239089966,0.3009917140007019],\"y\":[0.12793320417404175,0.14926579594612122,0.16046789288520813,0.14926579594612122,0.1705983728170395,0.10338576138019562,0.060720592737197876,0.12793320417404175,0.12784597277641296,0.1705983728170395,0.10338576138019562,0.12784597277641296,0.060720592737197876,0.12784597277641296,0.10956624150276184],\"z\":[-0.8870113492012024,-0.865988552570343,-0.8669540286064148,-0.865988552570343,-0.8449657559394836,-0.8391727805137634,-0.8812183737754822,-0.8870113492012024,-0.9534940123558044,-0.8449657559394836,-0.8391727805137634,-0.9534940123558044,-0.8812183737754822,-0.9534940123558044,-0.8178911209106445],\"type\":\"scatter3d\",\"scene\":\"scene\",\"line\":{\"dash\":\"dash\",\"color\":\"#8400ff\",\"width\":4}},{\"marker\":{\"size\":1},\"name\":\"GT Camera 62\",\"x\":[0.44980287551879883,0.48092761635780334,0.47356510162353516,0.48092761635780334,0.5120523571968079,0.5562276244163513,0.4939781129360199,0.44980287551879883,0.5545492768287659,0.5120523571968079,0.5562276244163513,0.5545492768287659,0.4939781129360199,0.5545492768287659,0.4772482216358185],\"y\":[0.20852093398571014,0.23669986426830292,0.2466280460357666,0.23669986426830292,0.2648788094520569,0.20530971884727478,0.14895184338092804,0.20852093398571014,0.22961747646331787,0.2648788094520569,0.20530971884727478,0.22961747646331787,0.14895184338092804,0.22961747646331787,0.19556425511837006],\"z\":[-0.8380753993988037,-0.8109239935874939,-0.8127879500389099,-0.8109239935874939,-0.7837725877761841,-0.7725889682769775,-0.8268917798995972,-0.8380753993988037,-0.8879690766334534,-0.7837725877761841,-0.7725889682769775,-0.8879690766334534,-0.8268917798995972,-0.8879690766334534,-0.7640137076377869],\"type\":\"scatter3d\",\"scene\":\"scene\",\"line\":{\"dash\":\"dash\",\"color\":\"#9500ff\",\"width\":4}},{\"marker\":{\"size\":1},\"name\":\"GT Camera 63\",\"x\":[0.5527791976928711,0.5556333065032959,0.5460313558578491,0.5556333065032959,0.5584872961044312,0.6160988211631775,0.6103907227516174,0.5527791976928711,0.6482107043266296,0.5584872961044312,0.6160988211631775,0.6482107043266296,0.6103907227516174,0.6482107043266296,0.5525531768798828],\"y\":[0.4645848870277405,0.500199019908905,0.5061854720115662,0.500199019908905,0.5358131527900696,0.49989432096481323,0.42866602540016174,0.4645848870277405,0.5335514545440674,0.5358131527900696,0.49989432096481323,0.5335514545440674,0.42866602540016174,0.5335514545440674,0.4565836787223816],\"z\":[-0.618391752243042,-0.5834133625030518,-0.588725209236145,-0.5834133625030518,-0.5484349727630615,-0.5165640711784363,-0.5865208506584167,-0.618391752243042,-0.6249258518218994,-0.5484349727630615,-0.5165640711784363,-0.6249258518218994,-0.5865208506584167,-0.6249258518218994,-0.5387539267539978],\"type\":\"scatter3d\",\"scene\":\"scene\",\"line\":{\"dash\":\"dash\",\"color\":\"#a700ff\",\"width\":4}},{\"marker\":{\"size\":1},\"name\":\"GT Camera 64\",\"x\":[-0.23214294016361237,-0.2727207541465759,-0.26710161566734314,-0.2727207541465759,-0.3132985830307007,-0.3470134437084198,-0.2658578157424927,-0.23214294016361237,-0.32690078020095825,-0.3132985830307007,-0.3470134437084198,-0.32690078020095825,-0.2658578157424927,-0.32690078020095825,-0.2709169089794159],\"y\":[0.850497841835022,0.8284096121788025,0.8277341723442078,0.8284096121788025,0.8063214421272278,0.8103743195533752,0.8545507192611694,0.850497841835022,0.9199863076210022,0.8063214421272278,0.8103743195533752,0.9199863076210022,0.8545507192611694,0.9199863076210022,0.785660982131958],\"z\":[-0.19830277562141418,-0.21742217242717743,-0.22856752574443817,-0.21742217242717743,-0.23654156923294067,-0.16966941952705383,-0.13143062591552734,-0.19830277562141418,-0.20823028683662415,-0.23654156923294067,-0.16966941952705383,-0.20823028683662415,-0.13143062591552734,-0.20823028683662415,-0.17186400294303894],\"type\":\"scatter3d\",\"scene\":\"scene\",\"line\":{\"dash\":\"dash\",\"color\":\"#b900ff\",\"width\":4}},{\"marker\":{\"size\":1},\"name\":\"GT Camera 65\",\"x\":[-0.671411395072937,-0.6789416074752808,-0.6700757145881653,-0.6789416074752808,-0.6864718198776245,-0.7396669983863831,-0.7246065735816956,-0.671411395072937,-0.7744054198265076,-0.6864718198776245,-0.7396669983863831,-0.7744054198265076,-0.7246065735816956,-0.7744054198265076,-0.6711060404777527],\"y\":[0.6040992736816406,0.5660816431045532,0.5706078410148621,0.5660816431045532,0.5280640125274658,0.5009068250656128,0.5769420266151428,0.6040992736816406,0.6064243316650391,0.5280640125274658,0.5009068250656128,0.6064243316650391,0.5769420266151428,0.6064243316650391,0.5255423784255981],\"z\":[-0.4300701320171356,-0.46166059374809265,-0.4692210257053375,-0.46166059374809265,-0.4932510554790497,-0.4478885233402252,-0.38470762968063354,-0.4300701320171356,-0.48745545744895935,-0.4932510554790497,-0.4478885233402252,-0.48745545744895935,-0.38470762968063354,-0.48745545744895935,-0.41474127769470215],\"type\":\"scatter3d\",\"scene\":\"scene\",\"line\":{\"dash\":\"dash\",\"color\":\"#d000ff\",\"width\":4}},{\"marker\":{\"size\":1},\"name\":\"GT Camera 66\",\"x\":[0.4971367120742798,0.5113025307655334,0.5021234750747681,0.5113025307655334,0.5254683494567871,0.5805424451828003,0.552210807800293,0.4971367120742798,0.6005245447158813,0.5254683494567871,0.5805424451828003,0.6005245447158813,0.552210807800293,0.6005245447158813,0.5079970955848694],\"y\":[0.3443883955478668,0.37844350934028625,0.38602951169013977,0.37844350934028625,0.4124986231327057,0.36698251962661743,0.29887229204177856,0.3443883955478668,0.39664822816848755,0.4124986231327057,0.36698251962661743,0.39664822816848755,0.29887229204177856,0.39664822816848755,0.3352040648460388],\"z\":[-0.704346776008606,-0.6705891489982605,-0.6743901968002319,-0.6705891489982605,-0.6368314623832703,-0.6140252351760864,-0.6815405488014221,-0.704346776008606,-0.726394772529602,-0.6368314623832703,-0.6140252351760864,-0.726394772529602,-0.6815405488014221,-0.726394772529602,-0.6255816221237183],\"type\":\"scatter3d\",\"scene\":\"scene\",\"line\":{\"dash\":\"dash\",\"color\":\"#e200ff\",\"width\":4}},{\"marker\":{\"size\":1},\"name\":\"GT Camera 67\",\"x\":[0.6264946460723877,0.6159743666648865,0.6060797572135925,0.6159743666648865,0.6054540872573853,0.6648217439651489,0.6858623027801514,0.6264946460723877,0.7030296325683594,0.6054540872573853,0.6648217439651489,0.7030296325683594,0.6858623027801514,0.7030296325683594,0.6169724464416504],\"y\":[0.6171499490737915,0.6508611440658569,0.6547044515609741,0.6508611440658569,0.6845723986625671,0.6615126729011536,0.5940902233123779,0.6171499490737915,0.7064794898033142,0.6845723986625671,0.6615126729011536,0.7064794898033142,0.5940902233123779,0.7064794898033142,0.6057572364807129],\"z\":[-0.5052586793899536,-0.469862699508667,-0.4764638841152191,-0.469862699508667,-0.43446671962738037,-0.3948594927787781,-0.4656514823436737,-0.5052586793899536,-0.4969594180583954,-0.43446671962738037,-0.3948594927787781,-0.4969594180583954,-0.4656514823436737,-0.4969594180583954,-0.4266089200973511],\"type\":\"scatter3d\",\"scene\":\"scene\",\"line\":{\"dash\":\"dash\",\"color\":\"#f400ff\",\"width\":4}},{\"marker\":{\"size\":1},\"name\":\"GT Camera 68\",\"x\":[-0.07361739873886108,-0.12045863270759583,-0.1172231137752533,-0.12045863270759583,-0.16729986667633057,-0.18671302497386932,-0.09303054958581924,-0.07361739873886108,-0.15369398891925812,-0.16729986667633057,-0.18671302497386932,-0.15369398891925812,-0.09303054958581924,-0.15369398891925812,-0.11840082705020905],\"y\":[0.8549408316612244,0.8408511877059937,0.8388521075248718,0.8408511877059937,0.8267615437507629,0.8387560844421387,0.8669353723526001,0.8549408316612244,0.941453754901886,0.8267615437507629,0.8387560844421387,0.941453754901886,0.8669353723526001,0.941453754901886,0.7995458245277405],\"z\":[-0.22679606080055237,-0.23715852200984955,-0.24906587600708008,-0.23715852200984955,-0.24752098321914673,-0.17607688903808594,-0.15535196661949158,-0.22679606080055237,-0.22371284663677216,-0.24752098321914673,-0.17607688903808594,-0.22371284663677216,-0.15535196661949158,-0.22371284663677216,-0.19029828906059265],\"type\":\"scatter3d\",\"scene\":\"scene\",\"line\":{\"dash\":\"dash\",\"color\":\"#fc00f5\",\"width\":4}},{\"marker\":{\"size\":1},\"name\":\"GT Camera 69\",\"x\":[-0.6458527445793152,-0.6272820234298706,-0.6187992095947266,-0.6272820234298706,-0.6087113618850708,-0.6596082448959351,-0.6967496275901794,-0.6458527445793152,-0.7160961031913757,-0.6087113618850708,-0.6596082448959351,-0.7160961031913757,-0.6967496275901794,-0.7160961031913757,-0.6210476756095886],\"y\":[0.2878062129020691,0.251569002866745,0.2595500946044922,0.251569002866745,0.2153317928314209,0.16744519770145416,0.23991961777210236,0.2878062129020691,0.2535252869129181,0.2153317928314209,0.16744519770145416,0.2535252869129181,0.23991961777210236,0.2535252869129181,0.2146759182214737],\"z\":[-0.7011652588844299,-0.730182409286499,-0.7347204685211182,-0.730182409286499,-0.7591995596885681,-0.731971263885498,-0.6739369630813599,-0.7011652588844299,-0.7894655466079712,-0.7591995596885681,-0.731971263885498,-0.7894655466079712,-0.6739369630813599,-0.7894655466079712,-0.6801196336746216],\"type\":\"scatter3d\",\"scene\":\"scene\",\"line\":{\"dash\":\"dash\",\"color\":\"#ff00e7\",\"width\":4}},{\"marker\":{\"size\":1},\"name\":\"GT Camera 70\",\"x\":[-0.48929524421691895,-0.5108295679092407,-0.502874493598938,-0.5108295679092407,-0.5323638916015625,-0.5800940990447998,-0.537025511264801,-0.48929524421691895,-0.5986868739128113,-0.5323638916015625,-0.5800940990447998,-0.5986868739128113,-0.537025511264801,-0.5986868739128113,-0.5026986002922058],\"y\":[0.7434979677200317,0.7089407444000244,0.7117331624031067,0.7089407444000244,0.6743835210800171,0.6576290726661682,0.7267434597015381,0.7434979677200317,0.7692959904670715,0.6743835210800171,0.6576290726661682,0.7692959904670715,0.7267434597015381,0.7692959904670715,0.6661972403526306],\"z\":[-0.30502307415008545,-0.3340415358543396,-0.34327030181884766,-0.3340415358543396,-0.36306002736091614,-0.30768755078315735,-0.24965059757232666,-0.30502307415008545,-0.34071874618530273,-0.36306002736091614,-0.30768755078315735,-0.34071874618530273,-0.24965059757232666,-0.34071874618530273,-0.28917360305786133],\"type\":\"scatter3d\",\"scene\":\"scene\",\"line\":{\"dash\":\"dash\",\"color\":\"#ff00cf\",\"width\":4}},{\"marker\":{\"size\":1},\"name\":\"GT Camera 71\",\"x\":[-0.43293899297714233,-0.39724698662757874,-0.3903902471065521,-0.39724698662757874,-0.36155498027801514,-0.4026953876018524,-0.4740794003009796,-0.43293899297714233,-0.4613530933856964,-0.36155498027801514,-0.4026953876018524,-0.4613530933856964,-0.4740794003009796,-0.4613530933856964,-0.39604923129081726],\"y\":[0.22186589241027832,0.195414736866951,0.2057863175868988,0.195414736866951,0.16896356642246246,0.10673407465219498,0.15963640809059143,0.22186589241027832,0.18210119009017944,0.16896356642246246,0.10673407465219498,0.18210119009017944,0.15963640809059143,0.18210119009017944,0.1553993821144104],\"z\":[-0.8177974224090576,-0.8407412171363831,-0.8420317769050598,-0.8407412171363831,-0.8636850118637085,-0.8559417724609375,-0.8100542426109314,-0.8177974224090576,-0.9251177906990051,-0.8636850118637085,-0.8559417724609375,-0.9251177906990051,-0.8100542426109314,-0.9251177906990051,-0.7927454710006714],\"type\":\"scatter3d\",\"scene\":\"scene\",\"line\":{\"dash\":\"dash\",\"color\":\"#ff00bd\",\"width\":4}},{\"marker\":{\"size\":1},\"name\":\"GT Camera 72\",\"x\":[0.4082799553871155,0.44253456592559814,0.4357610046863556,0.44253456592559814,0.4767891764640808,0.5174305438995361,0.4489213824272156,0.4082799553871155,0.5115388631820679,0.4767891764640808,0.5174305438995361,0.5115388631820679,0.4489213824272156,0.5115388631820679,0.43851345777511597],\"y\":[0.1701531857252121,0.1964266300201416,0.20680753886699677,0.1964266300201416,0.2227000594139099,0.16041454672813416,0.10786767303943634,0.1701531857252121,0.1837761402130127,0.2227000594139099,0.16041454672813416,0.1837761402130127,0.10786767303943634,0.1837761402130127,0.15603773295879364],\"z\":[-0.8572657704353333,-0.8320401906967163,-0.8336543440818787,-0.8320401906967163,-0.8068146705627441,-0.7971300482749939,-0.8475812077522278,-0.8572657704353333,-0.9125673770904541,-0.8068146705627441,-0.7971300482749939,-0.9125673770904541,-0.8475812077522278,-0.9125673770904541,-0.7845131754875183],\"type\":\"scatter3d\",\"scene\":\"scene\",\"line\":{\"dash\":\"dash\",\"color\":\"#ff00ac\",\"width\":4}},{\"marker\":{\"size\":1},\"name\":\"GT Camera 73\",\"x\":[-0.5107434988021851,-0.48198822140693665,-0.4742869436740875,-0.48198822140693665,-0.4532329738140106,-0.49944067001342773,-0.5569511651992798,-0.5107434988021851,-0.5589132308959961,-0.4532329738140106,-0.49944067001342773,-0.5589132308959961,-0.5569511651992798,-0.5589132308959961,-0.47818151116371155],\"y\":[0.29815101623535156,0.26720038056373596,0.2766736149787903,0.26720038056373596,0.23624977469444275,0.17941038310527802,0.24131160974502563,0.29815101623535156,0.2593899965286255,0.23624977469444275,0.17941038310527802,0.2593899965286255,0.24131160974502563,0.2593899965286255,0.22847604751586914],\"z\":[-0.7729004621505737,-0.7996435761451721,-0.802326500415802,-0.7996435761451721,-0.8263866901397705,-0.8102891445159912,-0.7568028569221497,-0.7729004621505737,-0.8733171224594116,-0.8263866901397705,-0.8102891445159912,-0.8733171224594116,-0.7568028569221497,-0.8733171224594116,-0.7507336139678955],\"type\":\"scatter3d\",\"scene\":\"scene\",\"line\":{\"dash\":\"dash\",\"color\":\"#ff009a\",\"width\":4}},{\"marker\":{\"size\":1},\"name\":\"GT Camera 74\",\"x\":[0.21809569001197815,0.2600528299808502,0.2550663948059082,0.2600528299808502,0.3020099699497223,0.3319285213947296,0.24801425635814667,0.21809569001197815,0.3119860291481018,0.3020099699497223,0.3319285213947296,0.3119860291481018,0.24801425635814667,0.3119860291481018,0.2565251588821411],\"y\":[0.11383672803640366,0.13334894180297852,0.14478753507137299,0.13334894180297852,0.15286116302013397,0.08422964811325073,0.045205213129520416,0.11383672803640366,0.10919452458620071,0.15286116302013397,0.08422964811325073,0.10919452458620071,0.045205213129520416,0.10919452458620071,0.09395252168178558],\"z\":[-0.8870311379432678,-0.8680872321128845,-0.8688249588012695,-0.8680872321128845,-0.8491432666778564,-0.8447167277336121,-0.8826045989990234,-0.8870311379432678,-0.958230197429657,-0.8491432666778564,-0.8447167277336121,-0.958230197429657,-0.8826045989990234,-0.958230197429657,-0.8196958303451538],\"type\":\"scatter3d\",\"scene\":\"scene\",\"line\":{\"dash\":\"dash\",\"color\":\"#ff0088\",\"width\":4}},{\"marker\":{\"size\":1},\"name\":\"GT Camera 75\",\"x\":[0.4873359203338623,0.5057836174964905,0.49689915776252747,0.5057836174964905,0.5242313742637634,0.577538251876831,0.5406427979469299,0.4873359203338623,0.5923282504081726,0.5242313742637634,0.577538251876831,0.5923282504081726,0.5406427979469299,0.5923282504081726,0.5024914741516113],\"y\":[0.31075939536094666,0.343671053647995,0.35185542702674866,0.343671053647995,0.37658268213272095,0.327476441860199,0.2616531550884247,0.31075939536094666,0.35627052187919617,0.37658268213272095,0.327476441860199,0.35627052187919617,0.2616531550884247,0.35627052187919617,0.30054160952568054],\"z\":[-0.7354894876480103,-0.7026793360710144,-0.7058936953544617,-0.7026793360710144,-0.6698691844940186,-0.6505831480026245,-0.7162034511566162,-0.7354894876480103,-0.7639780640602112,-0.6698691844940186,-0.6505831480026245,-0.7639780640602112,-0.7162034511566162,-0.7639780640602112,-0.6575654745101929],\"type\":\"scatter3d\",\"scene\":\"scene\",\"line\":{\"dash\":\"dash\",\"color\":\"#ff0071\",\"width\":4}},{\"marker\":{\"size\":1},\"name\":\"GT Camera 76\",\"x\":[-0.06717494130134583,-0.01722469925880432,-0.017618969082832336,-0.01722469925880432,0.03272554650902748,0.03509117290377617,-0.06480932235717773,-0.06717494130134583,-0.012888919562101364,0.03272554650902748,0.03509117290377617,-0.012888919562101364,-0.06480932235717773,-0.012888919562101364,-0.017618371173739433],\"y\":[0.11251410841941833,0.11408896744251251,0.12658274173736572,0.11408896744251251,0.11566381901502609,0.04070116579532623,0.037551455199718475,0.11251410841941833,0.07679855078458786,0.11566381901502609,0.04070116579532623,0.07679855078458786,0.037551455199718475,0.07679855078458786,0.0765121802687645],\"z\":[-0.8979091048240662,-0.8963303565979004,-0.8963189721107483,-0.8963303565979004,-0.8947516679763794,-0.8948202133178711,-0.8979776501655579,-0.8979091048240662,-0.9963147640228271,-0.8947516679763794,-0.8948202133178711,-0.9963147640228271,-0.8979776501655579,-0.9963147640228271,-0.8463895916938782],\"type\":\"scatter3d\",\"scene\":\"scene\",\"line\":{\"dash\":\"dash\",\"color\":\"#ff005f\",\"width\":4}},{\"marker\":{\"size\":1},\"name\":\"GT Camera 77\",\"x\":[-0.1919848918914795,-0.23531684279441833,-0.23048914968967438,-0.23531684279441833,-0.27864882349967957,-0.3076150417327881,-0.2209511250257492,-0.1919848918914795,-0.2813868224620819,-0.27864882349967957,-0.3076150417327881,-0.2813868224620819,-0.2209511250257492,-0.2813868224620819,-0.23400655388832092],\"y\":[0.8536891937255859,0.8347656726837158,0.8335612416267395,0.8347656726837158,0.8158421516418457,0.8230687975883484,0.8609158992767334,0.8536891937255859,0.930437445640564,0.8158421516418457,0.8230687975883484,0.930437445640564,0.8609158992767334,0.930437445640564,0.7923498153686523],\"z\":[-0.2052219808101654,-0.2214774489402771,-0.23294445872306824,-0.2214774489402771,-0.2377329021692276,-0.1689307689666748,-0.1364198625087738,-0.2052219808101654,-0.21004411578178406,-0.2377329021692276,-0.1689307689666748,-0.21004411578178406,-0.1364198625087738,-0.21004411578178406,-0.17559251189231873],\"type\":\"scatter3d\",\"scene\":\"scene\",\"line\":{\"dash\":\"dash\",\"color\":\"#ff004d\",\"width\":4}},{\"marker\":{\"size\":1},\"name\":\"GT Camera 78\",\"x\":[-0.21942459046840668,-0.170535609126091,-0.16851183772087097,-0.170535609126091,-0.12164664268493652,-0.1337892711162567,-0.23156721889972687,-0.21942459046840668,-0.18992431461811066,-0.12164664268493652,-0.1337892711162567,-0.18992431461811066,-0.23156721889972687,-0.18992431461811066,-0.16994823515415192],\"y\":[0.13948990404605865,0.13156093657016754,0.14389488101005554,0.13156093657016754,0.12363196164369583,0.049628227949142456,0.06548617035150528,0.13948990404605865,0.09808485209941864,0.12363196164369583,0.049628227949142456,0.09808485209941864,0.06548617035150528,0.09808485209941864,0.09279617667198181],\"z\":[-0.8584381937980652,-0.8652938604354858,-0.86512690782547,-0.8652938604354858,-0.8721495270729065,-0.8731511831283569,-0.8594399094581604,-0.8584381937980652,-0.9648412466049194,-0.8721495270729065,-0.8731511831283569,-0.9648412466049194,-0.8594399094581604,-0.9648412466049194,-0.8162714242935181],\"type\":\"scatter3d\",\"scene\":\"scene\",\"line\":{\"dash\":\"dash\",\"color\":\"#ff003b\",\"width\":4}},{\"marker\":{\"size\":1},\"name\":\"GT Camera 79\",\"x\":[-0.0376005694270134,-0.08525295555591583,-0.08248357474803925,-0.08525295555591583,-0.13290533423423767,-0.14952164888381958,-0.05421687662601471,-0.0376005694270134,-0.11420463025569916,-0.13290533423423767,-0.14952164888381958,-0.11420463025569916,-0.05421687662601471,-0.11420463025569916,-0.08323934674263],\"y\":[0.8445698618888855,0.832199215888977,0.8299915194511414,0.832199215888977,0.8198286294937134,0.8330751061439514,0.8578163981437683,0.8445698618888855,0.9340901374816895,0.8198286294937134,0.8330751061439514,0.9340901374816895,0.8578163981437683,0.9340901374816895,0.791188657283783],\"z\":[-0.23135213553905487,-0.24008241295814514,-0.25207018852233887,-0.24008241295814514,-0.2488126903772354,-0.17688614130020142,-0.15942557156085968,-0.23135213553905487,-0.22643330693244934,-0.2488126903772354,-0.17688614130020142,-0.22643330693244934,-0.15942557156085968,-0.22643330693244934,-0.19296205043792725],\"type\":\"scatter3d\",\"scene\":\"scene\",\"line\":{\"dash\":\"dash\",\"color\":\"#ff002a\",\"width\":4}}],                        {\"template\":{\"data\":{\"histogram2dcontour\":[{\"type\":\"histogram2dcontour\",\"colorbar\":{\"outlinewidth\":0,\"ticks\":\"\"},\"colorscale\":[[0.0,\"#0d0887\"],[0.1111111111111111,\"#46039f\"],[0.2222222222222222,\"#7201a8\"],[0.3333333333333333,\"#9c179e\"],[0.4444444444444444,\"#bd3786\"],[0.5555555555555556,\"#d8576b\"],[0.6666666666666666,\"#ed7953\"],[0.7777777777777778,\"#fb9f3a\"],[0.8888888888888888,\"#fdca26\"],[1.0,\"#f0f921\"]]}],\"choropleth\":[{\"type\":\"choropleth\",\"colorbar\":{\"outlinewidth\":0,\"ticks\":\"\"}}],\"histogram2d\":[{\"type\":\"histogram2d\",\"colorbar\":{\"outlinewidth\":0,\"ticks\":\"\"},\"colorscale\":[[0.0,\"#0d0887\"],[0.1111111111111111,\"#46039f\"],[0.2222222222222222,\"#7201a8\"],[0.3333333333333333,\"#9c179e\"],[0.4444444444444444,\"#bd3786\"],[0.5555555555555556,\"#d8576b\"],[0.6666666666666666,\"#ed7953\"],[0.7777777777777778,\"#fb9f3a\"],[0.8888888888888888,\"#fdca26\"],[1.0,\"#f0f921\"]]}],\"heatmap\":[{\"type\":\"heatmap\",\"colorbar\":{\"outlinewidth\":0,\"ticks\":\"\"},\"colorscale\":[[0.0,\"#0d0887\"],[0.1111111111111111,\"#46039f\"],[0.2222222222222222,\"#7201a8\"],[0.3333333333333333,\"#9c179e\"],[0.4444444444444444,\"#bd3786\"],[0.5555555555555556,\"#d8576b\"],[0.6666666666666666,\"#ed7953\"],[0.7777777777777778,\"#fb9f3a\"],[0.8888888888888888,\"#fdca26\"],[1.0,\"#f0f921\"]]}],\"heatmapgl\":[{\"type\":\"heatmapgl\",\"colorbar\":{\"outlinewidth\":0,\"ticks\":\"\"},\"colorscale\":[[0.0,\"#0d0887\"],[0.1111111111111111,\"#46039f\"],[0.2222222222222222,\"#7201a8\"],[0.3333333333333333,\"#9c179e\"],[0.4444444444444444,\"#bd3786\"],[0.5555555555555556,\"#d8576b\"],[0.6666666666666666,\"#ed7953\"],[0.7777777777777778,\"#fb9f3a\"],[0.8888888888888888,\"#fdca26\"],[1.0,\"#f0f921\"]]}],\"contourcarpet\":[{\"type\":\"contourcarpet\",\"colorbar\":{\"outlinewidth\":0,\"ticks\":\"\"}}],\"contour\":[{\"type\":\"contour\",\"colorbar\":{\"outlinewidth\":0,\"ticks\":\"\"},\"colorscale\":[[0.0,\"#0d0887\"],[0.1111111111111111,\"#46039f\"],[0.2222222222222222,\"#7201a8\"],[0.3333333333333333,\"#9c179e\"],[0.4444444444444444,\"#bd3786\"],[0.5555555555555556,\"#d8576b\"],[0.6666666666666666,\"#ed7953\"],[0.7777777777777778,\"#fb9f3a\"],[0.8888888888888888,\"#fdca26\"],[1.0,\"#f0f921\"]]}],\"surface\":[{\"type\":\"surface\",\"colorbar\":{\"outlinewidth\":0,\"ticks\":\"\"},\"colorscale\":[[0.0,\"#0d0887\"],[0.1111111111111111,\"#46039f\"],[0.2222222222222222,\"#7201a8\"],[0.3333333333333333,\"#9c179e\"],[0.4444444444444444,\"#bd3786\"],[0.5555555555555556,\"#d8576b\"],[0.6666666666666666,\"#ed7953\"],[0.7777777777777778,\"#fb9f3a\"],[0.8888888888888888,\"#fdca26\"],[1.0,\"#f0f921\"]]}],\"mesh3d\":[{\"type\":\"mesh3d\",\"colorbar\":{\"outlinewidth\":0,\"ticks\":\"\"}}],\"scatter\":[{\"fillpattern\":{\"fillmode\":\"overlay\",\"size\":10,\"solidity\":0.2},\"type\":\"scatter\"}],\"parcoords\":[{\"type\":\"parcoords\",\"line\":{\"colorbar\":{\"outlinewidth\":0,\"ticks\":\"\"}}}],\"scatterpolargl\":[{\"type\":\"scatterpolargl\",\"marker\":{\"colorbar\":{\"outlinewidth\":0,\"ticks\":\"\"}}}],\"bar\":[{\"error_x\":{\"color\":\"#2a3f5f\"},\"error_y\":{\"color\":\"#2a3f5f\"},\"marker\":{\"line\":{\"color\":\"#E5ECF6\",\"width\":0.5},\"pattern\":{\"fillmode\":\"overlay\",\"size\":10,\"solidity\":0.2}},\"type\":\"bar\"}],\"scattergeo\":[{\"type\":\"scattergeo\",\"marker\":{\"colorbar\":{\"outlinewidth\":0,\"ticks\":\"\"}}}],\"scatterpolar\":[{\"type\":\"scatterpolar\",\"marker\":{\"colorbar\":{\"outlinewidth\":0,\"ticks\":\"\"}}}],\"histogram\":[{\"marker\":{\"pattern\":{\"fillmode\":\"overlay\",\"size\":10,\"solidity\":0.2}},\"type\":\"histogram\"}],\"scattergl\":[{\"type\":\"scattergl\",\"marker\":{\"colorbar\":{\"outlinewidth\":0,\"ticks\":\"\"}}}],\"scatter3d\":[{\"type\":\"scatter3d\",\"line\":{\"colorbar\":{\"outlinewidth\":0,\"ticks\":\"\"}},\"marker\":{\"colorbar\":{\"outlinewidth\":0,\"ticks\":\"\"}}}],\"scattermapbox\":[{\"type\":\"scattermapbox\",\"marker\":{\"colorbar\":{\"outlinewidth\":0,\"ticks\":\"\"}}}],\"scatterternary\":[{\"type\":\"scatterternary\",\"marker\":{\"colorbar\":{\"outlinewidth\":0,\"ticks\":\"\"}}}],\"scattercarpet\":[{\"type\":\"scattercarpet\",\"marker\":{\"colorbar\":{\"outlinewidth\":0,\"ticks\":\"\"}}}],\"carpet\":[{\"aaxis\":{\"endlinecolor\":\"#2a3f5f\",\"gridcolor\":\"white\",\"linecolor\":\"white\",\"minorgridcolor\":\"white\",\"startlinecolor\":\"#2a3f5f\"},\"baxis\":{\"endlinecolor\":\"#2a3f5f\",\"gridcolor\":\"white\",\"linecolor\":\"white\",\"minorgridcolor\":\"white\",\"startlinecolor\":\"#2a3f5f\"},\"type\":\"carpet\"}],\"table\":[{\"cells\":{\"fill\":{\"color\":\"#EBF0F8\"},\"line\":{\"color\":\"white\"}},\"header\":{\"fill\":{\"color\":\"#C8D4E3\"},\"line\":{\"color\":\"white\"}},\"type\":\"table\"}],\"barpolar\":[{\"marker\":{\"line\":{\"color\":\"#E5ECF6\",\"width\":0.5},\"pattern\":{\"fillmode\":\"overlay\",\"size\":10,\"solidity\":0.2}},\"type\":\"barpolar\"}],\"pie\":[{\"automargin\":true,\"type\":\"pie\"}]},\"layout\":{\"autotypenumbers\":\"strict\",\"colorway\":[\"#636efa\",\"#EF553B\",\"#00cc96\",\"#ab63fa\",\"#FFA15A\",\"#19d3f3\",\"#FF6692\",\"#B6E880\",\"#FF97FF\",\"#FECB52\"],\"font\":{\"color\":\"#2a3f5f\"},\"hovermode\":\"closest\",\"hoverlabel\":{\"align\":\"left\"},\"paper_bgcolor\":\"white\",\"plot_bgcolor\":\"#E5ECF6\",\"polar\":{\"bgcolor\":\"#E5ECF6\",\"angularaxis\":{\"gridcolor\":\"white\",\"linecolor\":\"white\",\"ticks\":\"\"},\"radialaxis\":{\"gridcolor\":\"white\",\"linecolor\":\"white\",\"ticks\":\"\"}},\"ternary\":{\"bgcolor\":\"#E5ECF6\",\"aaxis\":{\"gridcolor\":\"white\",\"linecolor\":\"white\",\"ticks\":\"\"},\"baxis\":{\"gridcolor\":\"white\",\"linecolor\":\"white\",\"ticks\":\"\"},\"caxis\":{\"gridcolor\":\"white\",\"linecolor\":\"white\",\"ticks\":\"\"}},\"coloraxis\":{\"colorbar\":{\"outlinewidth\":0,\"ticks\":\"\"}},\"colorscale\":{\"sequential\":[[0.0,\"#0d0887\"],[0.1111111111111111,\"#46039f\"],[0.2222222222222222,\"#7201a8\"],[0.3333333333333333,\"#9c179e\"],[0.4444444444444444,\"#bd3786\"],[0.5555555555555556,\"#d8576b\"],[0.6666666666666666,\"#ed7953\"],[0.7777777777777778,\"#fb9f3a\"],[0.8888888888888888,\"#fdca26\"],[1.0,\"#f0f921\"]],\"sequentialminus\":[[0.0,\"#0d0887\"],[0.1111111111111111,\"#46039f\"],[0.2222222222222222,\"#7201a8\"],[0.3333333333333333,\"#9c179e\"],[0.4444444444444444,\"#bd3786\"],[0.5555555555555556,\"#d8576b\"],[0.6666666666666666,\"#ed7953\"],[0.7777777777777778,\"#fb9f3a\"],[0.8888888888888888,\"#fdca26\"],[1.0,\"#f0f921\"]],\"diverging\":[[0,\"#8e0152\"],[0.1,\"#c51b7d\"],[0.2,\"#de77ae\"],[0.3,\"#f1b6da\"],[0.4,\"#fde0ef\"],[0.5,\"#f7f7f7\"],[0.6,\"#e6f5d0\"],[0.7,\"#b8e186\"],[0.8,\"#7fbc41\"],[0.9,\"#4d9221\"],[1,\"#276419\"]]},\"xaxis\":{\"gridcolor\":\"white\",\"linecolor\":\"white\",\"ticks\":\"\",\"title\":{\"standoff\":15},\"zerolinecolor\":\"white\",\"automargin\":true,\"zerolinewidth\":2},\"yaxis\":{\"gridcolor\":\"white\",\"linecolor\":\"white\",\"ticks\":\"\",\"title\":{\"standoff\":15},\"zerolinecolor\":\"white\",\"automargin\":true,\"zerolinewidth\":2},\"scene\":{\"xaxis\":{\"backgroundcolor\":\"#E5ECF6\",\"gridcolor\":\"white\",\"linecolor\":\"white\",\"showbackground\":true,\"ticks\":\"\",\"zerolinecolor\":\"white\",\"gridwidth\":2},\"yaxis\":{\"backgroundcolor\":\"#E5ECF6\",\"gridcolor\":\"white\",\"linecolor\":\"white\",\"showbackground\":true,\"ticks\":\"\",\"zerolinecolor\":\"white\",\"gridwidth\":2},\"zaxis\":{\"backgroundcolor\":\"#E5ECF6\",\"gridcolor\":\"white\",\"linecolor\":\"white\",\"showbackground\":true,\"ticks\":\"\",\"zerolinecolor\":\"white\",\"gridwidth\":2}},\"shapedefaults\":{\"line\":{\"color\":\"#2a3f5f\"}},\"annotationdefaults\":{\"arrowcolor\":\"#2a3f5f\",\"arrowhead\":0,\"arrowwidth\":1},\"geo\":{\"bgcolor\":\"white\",\"landcolor\":\"#E5ECF6\",\"subunitcolor\":\"white\",\"showland\":true,\"showlakes\":true,\"lakecolor\":\"white\"},\"title\":{\"x\":0.05},\"mapbox\":{\"style\":\"light\"}}},\"scene\":{\"domain\":{\"x\":[0.0,1.0],\"y\":[0.0,1.0]},\"xaxis\":{\"range\":[-0.8196498155593872,0.7706258296966553],\"showgrid\":false,\"zeroline\":false,\"showline\":false,\"ticks\":\"\",\"showticklabels\":false,\"backgroundcolor\":\"#fff\",\"showaxeslabels\":false},\"yaxis\":{\"range\":[-0.22816072404384613,1.0031912326812744],\"showgrid\":false,\"zeroline\":false,\"showline\":false,\"ticks\":\"\",\"showticklabels\":false,\"backgroundcolor\":\"#fff\",\"showaxeslabels\":false},\"zaxis\":{\"range\":[-1.0854839086532593,0.2747582793235779],\"showgrid\":false,\"zeroline\":false,\"showline\":false,\"ticks\":\"\",\"showticklabels\":false,\"backgroundcolor\":\"#fff\",\"showaxeslabels\":false},\"camera\":{\"up\":{\"x\":9.521663324526168e-8,\"y\":0.8121154918692625,\"z\":1.273340079436216},\"eye\":{\"x\":0.030827241279473724,\"y\":2.183836447457483,\"z\":-0.8743107522927162},\"center\":{\"x\":0.030827296252821795,\"y\":0.7772110823608567,\"z\":-0.13914755206338425}},\"aspectmode\":\"data\"},\"annotations\":[{\"font\":{\"size\":16},\"showarrow\":false,\"text\":\"Vis 20 GT vs Pred Cameras\",\"x\":0.5,\"xanchor\":\"center\",\"xref\":\"paper\",\"y\":1.0,\"yanchor\":\"bottom\",\"yref\":\"paper\"}],\"height\":800,\"width\":800},                        {\"responsive\": true}                    ).then(function(){\n",
       "                            \n",
       "var gd = document.getElementById('0c5cf55b-e1c9-4f6f-9db7-e8feb2099219');\n",
       "var x = new MutationObserver(function (mutations, observer) {{\n",
       "        var display = window.getComputedStyle(gd).display;\n",
       "        if (!display || display === 'none') {{\n",
       "            console.log([gd, 'removed!']);\n",
       "            Plotly.purge(gd);\n",
       "            observer.disconnect();\n",
       "        }}\n",
       "}});\n",
       "\n",
       "// Listen for the removal of the full notebook cells\n",
       "var notebookContainer = gd.closest('#notebook-container');\n",
       "if (notebookContainer) {{\n",
       "    x.observe(notebookContainer, {childList: true});\n",
       "}}\n",
       "\n",
       "// Listen for the clearing of the current output cell\n",
       "var outputEl = gd.closest('.output');\n",
       "if (outputEl) {{\n",
       "    x.observe(outputEl, {childList: true});\n",
       "}}\n",
       "\n",
       "                        })                };                });            </script>        </div>"
      ]
     },
     "metadata": {},
     "output_type": "display_data"
    }
   ],
   "source": [
    "fig_seen_l[0].show()\n",
    "fig_seen_l[0].write_image(\"image_name.png\")\n"
   ]
  },
  {
   "cell_type": "code",
   "execution_count": 43,
   "metadata": {},
   "outputs": [
    {
     "data": {
      "application/vnd.plotly.v1+json": {
       "config": {
        "plotlyServerURL": "https://plot.ly"
       },
       "data": [
        {
         "line": {
          "color": "#ff0000",
          "width": 4
         },
         "marker": {
          "size": 1
         },
         "name": "Pred Camera 0",
         "scene": "scene",
         "type": "scatter3d",
         "x": [
          -0.033322036266326904,
          -0.03749430179595947,
          -0.04992256686091423,
          -0.03749430179595947,
          -0.04166656732559204,
          0.0329030379652977,
          0.041247569024562836,
          -0.033322036266326904,
          0.006484540645033121,
          -0.04166656732559204,
          0.0329030379652977,
          0.006484540645033121,
          0.041247569024562836,
          0.006484540645033121,
          -0.0035565230064094067
         ],
         "y": [
          0.04868965223431587,
          -0.0011299382895231247,
          -0.00010241800919175148,
          -0.0011299382895231247,
          -0.05094952508807182,
          -0.057114649564027786,
          0.04252452775835991,
          0.04868965223431587,
          -0.006324962247163057,
          -0.05094952508807182,
          -0.057114649564027786,
          -0.006324962247163057,
          0.04252452775835991,
          -0.006324962247163057,
          -0.0031562692020088434
         ],
         "z": [
          -0.0967584177851677,
          -0.0975334644317627,
          -0.09667769074440002,
          -0.0975334644317627,
          -0.0983085036277771,
          -0.10344313830137253,
          -0.10189305245876312,
          -0.0967584177851677,
          -0.0003474546247161925,
          -0.0983085036277771,
          -0.10344313830137253,
          -0.0003474546247161925,
          -0.10189305245876312,
          -0.0003474546247161925,
          -0.1499774307012558
         ]
        },
        {
         "line": {
          "color": "#ff4700",
          "width": 4
         },
         "marker": {
          "size": 1
         },
         "name": "Pred Camera 1",
         "scene": "scene",
         "type": "scatter3d",
         "x": [
          0.10890555381774902,
          0.10726170986890793,
          0.11520812660455704,
          0.10726170986890793,
          0.10561787337064743,
          0.057939350605010986,
          0.06122703105211258,
          0.10890555381774902,
          0.006299981847405434,
          0.10561787337064743,
          0.057939350605010986,
          0.006299981847405434,
          0.06122703105211258,
          0.006299981847405434,
          0.12198368459939957
         ],
         "y": [
          0.03437281399965286,
          -0.015592241659760475,
          -0.015681909397244453,
          -0.015592241659760475,
          -0.06555730104446411,
          -0.06501929461956024,
          0.03491082042455673,
          0.03437281399965286,
          -0.011654573492705822,
          -0.06555730104446411,
          -0.06501929461956024,
          -0.011654573492705822,
          0.03491082042455673,
          -0.011654573492705822,
          -0.017157573252916336
         ],
         "z": [
          0.03683247044682503,
          0.03594297543168068,
          0.02629433013498783,
          0.03594297543168068,
          0.035053472965955734,
          0.09294535964727402,
          0.09472435712814331,
          0.03683247044682503,
          0.0013383976183831692,
          0.035053472965955734,
          0.09294535964727402,
          0.0013383976183831692,
          0.09472435712814331,
          0.0013383976183831692,
          0.0966641753911972
         ]
        },
        {
         "line": {
          "color": "#ff9400",
          "width": 4
         },
         "marker": {
          "size": 1
         },
         "name": "Pred Camera 2",
         "scene": "scene",
         "type": "scatter3d",
         "x": [
          0.014825903810560703,
          0.019671615213155746,
          0.031923286616802216,
          0.019671615213155746,
          0.024517327547073364,
          -0.048992693424224854,
          -0.05868411809206009,
          0.014825903810560703,
          0.00022132402227725834,
          0.024517327547073364,
          -0.048992693424224854,
          0.00022132402227725834,
          -0.05868411809206009,
          0.00022132402227725834,
          -0.025735756382346153
         ],
         "y": [
          -0.06290413439273834,
          -0.013155260123312473,
          -0.014402555301785469,
          -0.013155260123312473,
          0.036593616008758545,
          0.04407738894224167,
          -0.05542036145925522,
          -0.06290413439273834,
          -0.008619474247097969,
          0.036593616008758545,
          0.04407738894224167,
          -0.008619474247097969,
          -0.05542036145925522,
          -0.008619474247097969,
          -0.00981032196432352
         ],
         "z": [
          -0.1022312268614769,
          -0.1034836545586586,
          -0.10562626272439957,
          -0.1034836545586586,
          -0.1047360822558403,
          -0.09188040345907211,
          -0.08937554806470871,
          -0.1022312268614769,
          0.0014323298819363117,
          -0.1047360822558403,
          -0.09188040345907211,
          0.0014323298819363117,
          -0.08937554806470871,
          0.0014323298819363117,
          -0.14629988372325897
         ]
        },
        {
         "line": {
          "color": "#ffe000",
          "width": 4
         },
         "marker": {
          "size": 1
         },
         "name": "Pred Camera 3",
         "scene": "scene",
         "type": "scatter3d",
         "x": [
          -0.02605520375072956,
          0.01825658418238163,
          0.024023041129112244,
          0.01825658418238163,
          0.06256836652755737,
          0.02796962298452854,
          -0.06065395474433899,
          -0.02605520375072956,
          0.005168184172362089,
          0.06256836652755737,
          0.02796962298452854,
          0.005168184172362089,
          -0.06065395474433899,
          0.005168184172362089,
          -0.0011482788249850273
         ],
         "y": [
          0.04928087070584297,
          0.026152784004807472,
          0.03723005950450897,
          0.026152784004807472,
          0.003024694975465536,
          -0.06343896687030792,
          -0.017182791605591774,
          0.04928087070584297,
          -0.0043997690081596375,
          0.003024694975465536,
          -0.06343896687030792,
          -0.0043997690081596375,
          -0.017182791605591774,
          -0.0043997690081596375,
          -0.008418688550591469
         ],
         "z": [
          0.10220515727996826,
          0.10345299541950226,
          0.10399328917264938,
          0.10345299541950226,
          0.10470084100961685,
          0.10145911574363708,
          0.0989634320139885,
          0.10220515727996826,
          0.0019567529670894146,
          0.10470084100961685,
          0.10145911574363708,
          0.0019567529670894146,
          0.0989634320139885,
          0.0019567529670894146,
          0.15176981687545776
         ]
        },
        {
         "line": {
          "color": "#d1ff00",
          "width": 4
         },
         "marker": {
          "size": 1
         },
         "name": "Pred Camera 4",
         "scene": "scene",
         "type": "scatter3d",
         "x": [
          -0.005242395214736462,
          -0.026263318955898285,
          -0.037602923810482025,
          -0.026263318955898285,
          -0.04728424549102783,
          0.020753387361764908,
          0.0627952441573143,
          -0.005242395214736462,
          0.006042978726327419,
          -0.04728424549102783,
          0.020753387361764908,
          0.006042978726327419,
          0.0627952441573143,
          0.006042978726327419,
          0.00861175637692213
         ],
         "y": [
          -0.07181866466999054,
          -0.02645745500922203,
          -0.0317075252532959,
          -0.02645745500922203,
          0.01890375092625618,
          0.05040418356657028,
          -0.04031823202967644,
          -0.07181866466999054,
          -0.013030409812927246,
          0.01890375092625618,
          0.05040418356657028,
          -0.013030409812927246,
          -0.04031823202967644,
          -0.013030409812927246,
          -0.009545654989778996
         ],
         "z": [
          0.10412988811731339,
          0.10343576967716217,
          0.10375206917524338,
          0.10343576967716217,
          0.10274165123701096,
          0.1008438691496849,
          0.10223210602998734,
          0.10412988811731339,
          0.002528558252379298,
          0.10274165123701096,
          0.1008438691496849,
          0.002528558252379298,
          0.10223210602998734,
          0.002528558252379298,
          0.1524660438299179
         ]
        },
        {
         "line": {
          "color": "#84ff00",
          "width": 4
         },
         "marker": {
          "size": 1
         },
         "name": "Pred Camera 5",
         "scene": "scene",
         "type": "scatter3d",
         "x": [
          -0.05060248076915741,
          -0.03689819574356079,
          -0.04885990917682648,
          -0.03689819574356079,
          -0.02319391258060932,
          0.04857634752988815,
          0.021167777478694916,
          -0.05060248076915741,
          0.008552109822630882,
          -0.02319391258060932,
          0.04857634752988815,
          0.008552109822630882,
          0.021167777478694916,
          0.008552109822630882,
          -0.005795655772089958
         ],
         "y": [
          0.027345072478055954,
          -0.02072826772928238,
          -0.02416418492794037,
          -0.02072826772928238,
          -0.06880161166191101,
          -0.04818608984351158,
          0.047960590571165085,
          0.027345072478055954,
          -0.009910833090543747,
          -0.06880161166191101,
          -0.04818608984351158,
          -0.009910833090543747,
          0.047960590571165085,
          -0.009910833090543747,
          -0.010675344616174698
         ],
         "z": [
          -0.09477666765451431,
          -0.09584740549325943,
          -0.09468036890029907,
          -0.09584740549325943,
          -0.09691814333200455,
          -0.1039203479886055,
          -0.10177887231111526,
          -0.09477666765451431,
          0.00019168987637385726,
          -0.09691814333200455,
          -0.1039203479886055,
          0.00019168987637385726,
          -0.10177887231111526,
          0.00019168987637385726,
          -0.14911861717700958
         ]
        },
        {
         "line": {
          "color": "#3dff00",
          "width": 4
         },
         "marker": {
          "size": 1
         },
         "name": "Pred Camera 6",
         "scene": "scene",
         "type": "scatter3d",
         "x": [
          0.07338983565568924,
          0.02540675550699234,
          0.028876543045043945,
          0.02540675550699234,
          -0.02257632091641426,
          -0.043395038694143295,
          0.05257111415266991,
          0.07338983565568924,
          0.01052770670503378,
          -0.02257632091641426,
          -0.043395038694143295,
          0.01052770670503378,
          0.05257111415266991,
          0.01052770670503378,
          0.017232241109013557
         ],
         "y": [
          0.005644851829856634,
          0.01923806592822075,
          0.03119649365544319,
          0.01923806592822075,
          0.032831281423568726,
          -0.03891928121447563,
          -0.06610570847988129,
          0.005644851829856634,
          -0.006214019376784563,
          0.032831281423568726,
          -0.03891928121447563,
          -0.006214019376784563,
          -0.06610570847988129,
          -0.006214019376784563,
          -0.021848810836672783
         ],
         "z": [
          -0.09860079735517502,
          -0.10218545794487,
          -0.10328390449285507,
          -0.10218545794487,
          -0.10577011853456497,
          -0.09917942434549332,
          -0.09201010316610336,
          -0.09860079735517502,
          0.00046471384121105075,
          -0.10577011853456497,
          -0.09917942434549332,
          0.00046471384121105075,
          -0.09201010316610336,
          0.00046471384121105075,
          -0.14856752753257751
         ]
        },
        {
         "line": {
          "color": "#00ff10",
          "width": 4
         },
         "marker": {
          "size": 1
         },
         "name": "Pred Camera 7",
         "scene": "scene",
         "type": "scatter3d",
         "x": [
          -0.01278871763497591,
          -0.012686301954090595,
          -0.024907829239964485,
          -0.012686301954090595,
          -0.01258388627320528,
          0.060745272785425186,
          0.060540441423654556,
          -0.01278871763497591,
          0.002988925902172923,
          -0.01258388627320528,
          0.060745272785425186,
          0.002988925902172923,
          0.060540441423654556,
          0.002988925902172923,
          0.03447295352816582
         ],
         "y": [
          -0.05919041112065315,
          -0.009190565906465054,
          -0.009161770343780518,
          -0.009190565906465054,
          0.040809277445077896,
          0.04063650593161583,
          -0.05936318263411522,
          -0.05919041112065315,
          -0.009374089539051056,
          0.040809277445077896,
          0.04063650593161583,
          -0.009374089539051056,
          -0.05936318263411522,
          -0.009374089539051056,
          -0.00922838319092989
         ],
         "z": [
          0.10642655193805695,
          0.10635489225387573,
          0.1089785248041153,
          0.10635489225387573,
          0.10628323256969452,
          0.09054140746593475,
          0.09068472683429718,
          0.10642655193805695,
          0.0007115968037396669,
          0.10628323256969452,
          0.09054140746593475,
          0.0007115968037396669,
          0.09068472683429718,
          0.0007115968037396669,
          0.14737015962600708
         ]
        },
        {
         "line": {
          "color": "#00ff5c",
          "width": 4
         },
         "marker": {
          "size": 1
         },
         "name": "Pred Camera 8",
         "scene": "scene",
         "type": "scatter3d",
         "x": [
          -0.04489847272634506,
          -0.022617623209953308,
          -0.033797793090343475,
          -0.022617623209953308,
          -0.0003367755562067032,
          0.06674423068761826,
          0.022182540968060493,
          -0.04489847272634506,
          0.007114829495549202,
          -0.0003367755562067032,
          0.06674423068761826,
          0.007114829495549202,
          0.022182540968060493,
          0.007114829495549202,
          0.012826909311115742
         ],
         "y": [
          0.01854739710688591,
          -0.026212438941001892,
          -0.03178156912326813,
          -0.026212438941001892,
          -0.07097227871417999,
          -0.03755747526884079,
          0.05196220055222511,
          0.01854739710688591,
          -0.01062444131821394,
          -0.07097227871417999,
          -0.03755747526884079,
          -0.01062444131821394,
          0.05196220055222511,
          -0.01062444131821394,
          -0.008945336565375328
         ],
         "z": [
          -0.09843556582927704,
          -0.0980878621339798,
          -0.09857633709907532,
          -0.0980878621339798,
          -0.09774016588926315,
          -0.09480932354927063,
          -0.09550472348928452,
          -0.09843556582927704,
          0.003298745723441243,
          -0.09774016588926315,
          -0.09480932354927063,
          0.003298745723441243,
          -0.09550472348928452,
          0.003298745723441243,
          -0.14658305048942566
         ]
        },
        {
         "line": {
          "color": "#00ffa9",
          "width": 4
         },
         "marker": {
          "size": 1
         },
         "name": "Pred Camera 9",
         "scene": "scene",
         "type": "scatter3d",
         "x": [
          -0.027892258018255234,
          -0.021657604724168777,
          -0.03397520259022713,
          -0.021657604724168777,
          -0.015422951430082321,
          0.05848264321684837,
          0.04601333662867546,
          -0.027892258018255234,
          0.0037094508297741413,
          -0.015422951430082321,
          0.05848264321684837,
          0.0037094508297741413,
          0.04601333662867546,
          0.0037094508297741413,
          0.021088065579533577
         ],
         "y": [
          -0.05615055188536644,
          -0.006557537708431482,
          -0.004972131922841072,
          -0.006557537708431482,
          0.04303548112511635,
          0.033523041754961014,
          -0.06566298753023148,
          -0.05615055188536644,
          -0.012438966892659664,
          0.04303548112511635,
          0.033523041754961014,
          -0.012438966892659664,
          -0.06566298753023148,
          -0.012438966892659664,
          -0.010751149617135525
         ],
         "z": [
          0.10643065720796585,
          0.1051415354013443,
          0.10656042397022247,
          0.1051415354013443,
          0.10385241359472275,
          0.09533906728029251,
          0.09791731089353561,
          0.10643065720796585,
          0.001564644742757082,
          0.10385241359472275,
          0.09533906728029251,
          0.001564644742757082,
          0.09791731089353561,
          0.001564644742757082,
          0.15054498612880707
         ]
        },
        {
         "line": {
          "color": "#00fff6",
          "width": 4
         },
         "marker": {
          "size": 1
         },
         "name": "Pred Camera 10",
         "scene": "scene",
         "type": "scatter3d",
         "x": [
          0.044219136238098145,
          0.04237872362136841,
          0.05487004667520523,
          0.04237872362136841,
          0.04053831100463867,
          -0.03440964221954346,
          -0.030728816986083984,
          0.044219136238098145,
          0.004333611112087965,
          0.04053831100463867,
          -0.03440964221954346,
          0.004333611112087965,
          -0.030728816986083984,
          0.004333611112087965,
          0.0051903147250413895
         ],
         "y": [
          -0.06172533705830574,
          -0.01175942737609148,
          -0.011299540288746357,
          -0.01175942737609148,
          0.03820648416876793,
          0.03544716164469719,
          -0.06448466330766678,
          -0.06172533705830574,
          -0.013449949212372303,
          0.03820648416876793,
          0.03544716164469719,
          -0.013449949212372303,
          -0.06448466330766678,
          -0.013449949212372303,
          -0.012983660213649273
         ],
         "z": [
          -0.09836991876363754,
          -0.09822510182857513,
          -0.09815232455730438,
          -0.09822510182857513,
          -0.09808028489351273,
          -0.09851693361997604,
          -0.09880656749010086,
          -0.09836991876363754,
          0.0015544499037787318,
          -0.09808028489351273,
          -0.09851693361997604,
          0.0015544499037787318,
          -0.09880656749010086,
          0.0015544499037787318,
          -0.1484423726797104
         ]
        },
        {
         "line": {
          "color": "#00c1ff",
          "width": 4
         },
         "marker": {
          "size": 1
         },
         "name": "Pred Camera 11",
         "scene": "scene",
         "type": "scatter3d",
         "x": [
          -0.040323078632354736,
          -0.025938156992197037,
          -0.0378829687833786,
          -0.025938156992197037,
          -0.011553235352039337,
          0.060115642845630646,
          0.03134579956531525,
          -0.040323078632354736,
          0.0035032983869314194,
          -0.011553235352039337,
          0.060115642845630646,
          0.0035032983869314194,
          0.03134579956531525,
          0.0035032983869314194,
          0.013092773966491222
         ],
         "y": [
          0.023621518164873123,
          -0.024208035320043564,
          -0.027832530438899994,
          -0.024208035320043564,
          -0.07203758507966995,
          -0.050290610641241074,
          0.0453684963285923,
          0.023621518164873123,
          -0.010407301597297192,
          -0.07203758507966995,
          -0.050290610641241074,
          -0.010407301597297192,
          0.0453684963285923,
          -0.010407301597297192,
          -0.014798169955611229
         ],
         "z": [
          -0.0998794361948967,
          -0.09755396842956543,
          -0.09821312874555588,
          -0.09755396842956543,
          -0.09522850066423416,
          -0.09127352386713028,
          -0.09592445939779282,
          -0.0998794361948967,
          0.004176025278866291,
          -0.09522850066423416,
          -0.09127352386713028,
          0.004176025278866291,
          -0.09592445939779282,
          0.004176025278866291,
          -0.14545273780822754
         ]
        },
        {
         "line": {
          "color": "#0074ff",
          "width": 4
         },
         "marker": {
          "size": 1
         },
         "name": "Pred Camera 12",
         "scene": "scene",
         "type": "scatter3d",
         "x": [
          0.055965568870306015,
          0.053646769374608994,
          0.0660053938627243,
          0.053646769374608994,
          0.05132797732949257,
          -0.022823764011263847,
          -0.0181861724704504,
          0.055965568870306015,
          0.0023084923159331083,
          0.05132797732949257,
          -0.022823764011263847,
          0.0023084923159331083,
          -0.0181861724704504,
          0.0023084923159331083,
          0.02370210736989975
         ],
         "y": [
          0.038641612976789474,
          -0.011303065344691277,
          -0.011890741996467113,
          -0.011303065344691277,
          -0.06124773994088173,
          -0.05772167816758156,
          0.042167674750089645,
          0.038641612976789474,
          -0.009650719352066517,
          -0.06124773994088173,
          -0.05772167816758156,
          -0.009650719352066517,
          0.042167674750089645,
          -0.009650719352066517,
          -0.009484691545367241
         ],
         "z": [
          0.09468844532966614,
          0.09507843106985092,
          0.09329824149608612,
          0.09507843106985092,
          0.0954684168100357,
          0.10614955425262451,
          0.10536958277225494,
          0.09468844532966614,
          0.0014413720928132534,
          0.0954684168100357,
          0.10614955425262451,
          0.0014413720928132534,
          0.10536958277225494,
          0.0014413720928132534,
          0.14990781247615814
         ]
        },
        {
         "line": {
          "color": "#0028ff",
          "width": 4
         },
         "marker": {
          "size": 1
         },
         "name": "Pred Camera 13",
         "scene": "scene",
         "type": "scatter3d",
         "x": [
          -0.010733288712799549,
          -0.01583324372768402,
          -0.028075244277715683,
          -0.01583324372768402,
          -0.020933199673891068,
          0.05251877382397652,
          0.06271868944168091,
          -0.010733288712799549,
          0.0034425975754857063,
          -0.020933199673891068,
          0.05251877382397652,
          0.0034425975754857063,
          0.06271868944168091,
          0.0034425975754857063,
          0.029617812484502792
         ],
         "y": [
          -0.05898986756801605,
          -0.009255881421267986,
          -0.010479145683348179,
          -0.009255881421267986,
          0.04047810286283493,
          0.047817692160606384,
          -0.0516502782702446,
          -0.05898986756801605,
          -0.008803940378129482,
          0.04047810286283493,
          0.047817692160606384,
          -0.008803940378129482,
          -0.0516502782702446,
          -0.008803940378129482,
          -0.0039771609008312225
         ],
         "z": [
          0.10530686378479004,
          0.10458498448133469,
          0.10679567605257034,
          0.10458498448133469,
          0.10386311262845993,
          0.09059897065162659,
          0.0920427218079567,
          0.10530686378479004,
          -0.00046018167631700635,
          0.10386311262845993,
          0.09059897065162659,
          -0.00046018167631700635,
          0.0920427218079567,
          -0.00046018167631700635,
          0.14715948700904846
         ]
        },
        {
         "line": {
          "color": "#2500ff",
          "width": 4
         },
         "marker": {
          "size": 1
         },
         "name": "Pred Camera 14",
         "scene": "scene",
         "type": "scatter3d",
         "x": [
          0.016920005902647972,
          0.02312374860048294,
          0.03532269224524498,
          0.02312374860048294,
          0.02932749316096306,
          -0.04386617988348007,
          -0.05627366155385971,
          0.016920005902647972,
          0.004469601437449455,
          0.02932749316096306,
          -0.04386617988348007,
          0.004469601437449455,
          -0.05627366155385971,
          0.004469601437449455,
          -0.022444430738687515
         ],
         "y": [
          -0.060201238840818405,
          -0.010587925091385841,
          -0.012121541425585747,
          -0.010587925091385841,
          0.039025384932756424,
          0.04822709038853645,
          -0.050999533385038376,
          -0.060201238840818405,
          -0.007871255278587341,
          0.039025384932756424,
          0.04822709038853645,
          -0.007871255278587341,
          -0.050999533385038376,
          -0.007871255278587341,
          -0.005044983699917793
         ],
         "z": [
          -0.10505829751491547,
          -0.10523958504199982,
          -0.1074942946434021,
          -0.10523958504199982,
          -0.10542087256908417,
          -0.09189258515834808,
          -0.09153001010417938,
          -0.10505829751491547,
          -0.00011636322597041726,
          -0.10542087256908417,
          -0.09189258515834808,
          -0.00011636322597041726,
          -0.09153001010417938,
          -0.00011636322597041726,
          -0.14765498042106628
         ]
        },
        {
         "line": {
          "color": "#7200ff",
          "width": 4
         },
         "marker": {
          "size": 1
         },
         "name": "Pred Camera 15",
         "scene": "scene",
         "type": "scatter3d",
         "x": [
          -0.0288960263133049,
          -0.01850356161594391,
          -0.03056889958679676,
          -0.01850356161594391,
          -0.008111097849905491,
          0.0642809197306633,
          0.04349599406123161,
          -0.0288960263133049,
          0.0018382134148851037,
          -0.008111097849905491,
          0.0642809197306633,
          0.0018382134148851037,
          0.04349599406123161,
          0.0018382134148851037,
          0.025619564577937126
         ],
         "y": [
          -0.05297507345676422,
          -0.004081057384610176,
          -0.001469518058001995,
          -0.004081057384610176,
          0.04481296241283417,
          0.029143719002604485,
          -0.06864431500434875,
          -0.05297507345676422,
          -0.010910654440522194,
          0.04481296241283417,
          0.029143719002604485,
          -0.010910654440522194,
          -0.06864431500434875,
          -0.010910654440522194,
          -0.012418190017342567
         ],
         "z": [
          0.10690972208976746,
          0.10573861002922058,
          0.10770266503095627,
          0.10573861002922058,
          0.10456749051809311,
          0.09278315305709839,
          0.09512538462877274,
          0.10690972208976746,
          0.001116333995014429,
          0.10456749051809311,
          0.09278315305709839,
          0.001116333995014429,
          0.09512538462877274,
          0.001116333995014429,
          0.14921149611473083
         ]
        },
        {
         "line": {
          "color": "#b900ff",
          "width": 4
         },
         "marker": {
          "size": 1
         },
         "name": "Pred Camera 16",
         "scene": "scene",
         "type": "scatter3d",
         "x": [
          -0.023490801453590393,
          0.021325696259737015,
          0.026865370571613312,
          0.021325696259737015,
          0.06614219397306442,
          0.03290414810180664,
          -0.056728847324848175,
          -0.023490801453590393,
          0.006082585081458092,
          0.06614219397306442,
          0.03290414810180664,
          0.006082585081458092,
          -0.056728847324848175,
          0.006082585081458092,
          0.00401871744543314
         ],
         "y": [
          -0.06356900930404663,
          -0.041423946619033813,
          -0.05259223282337189,
          -0.041423946619033813,
          -0.019278883934020996,
          0.04773082584142685,
          0.003440704196691513,
          -0.06356900930404663,
          -0.015377245843410492,
          -0.019278883934020996,
          0.04773082584142685,
          -0.015377245843410492,
          0.003440704196691513,
          -0.015377245843410492,
          -0.004190012812614441
         ],
         "z": [
          -0.1015016958117485,
          -0.10046373307704926,
          -0.1013755276799202,
          -0.10046373307704926,
          -0.0994257777929306,
          -0.09395500272512436,
          -0.09603092074394226,
          -0.1015016958117485,
          0.001983657479286194,
          -0.0994257777929306,
          -0.09395500272512436,
          0.001983657479286194,
          -0.09603092074394226,
          0.001983657479286194,
          -0.14758434891700745
         ]
        },
        {
         "line": {
          "color": "#fc00f5",
          "width": 4
         },
         "marker": {
          "size": 1
         },
         "name": "Pred Camera 17",
         "scene": "scene",
         "type": "scatter3d",
         "x": [
          0.00007717451080679893,
          -0.015006544068455696,
          -0.026722373440861702,
          -0.015006544068455696,
          -0.03009026311337948,
          0.04020471125841141,
          0.07037214934825897,
          0.00007717451080679893,
          0.002669775392860174,
          -0.03009026311337948,
          0.04020471125841141,
          0.002669775392860174,
          0.07037214934825897,
          0.002669775392860174,
          0.02887652814388275
         ],
         "y": [
          -0.06282967329025269,
          -0.015165065415203571,
          -0.018907848745584488,
          -0.015165065415203571,
          0.03249954432249069,
          0.05495624244213104,
          -0.040372975170612335,
          -0.06282967329025269,
          -0.00791181717067957,
          0.03249954432249069,
          0.05495624244213104,
          -0.00791181717067957,
          -0.040372975170612335,
          -0.00791181717067957,
          -0.0019491682760417461
         ],
         "z": [
          0.10593581199645996,
          0.10668858140707016,
          0.1089203730225563,
          0.10668858140707016,
          0.10744135081768036,
          0.09405061602592468,
          0.09254507720470428,
          0.10593581199645996,
          0.001611525658518076,
          0.10744135081768036,
          0.09405061602592468,
          0.001611525658518076,
          0.09254507720470428,
          0.001611525658518076,
          0.14918406307697296
         ]
        },
        {
         "line": {
          "color": "#ff00ac",
          "width": 4
         },
         "marker": {
          "size": 1
         },
         "name": "Pred Camera 18",
         "scene": "scene",
         "type": "scatter3d",
         "x": [
          -0.09277892857789993,
          -0.08943876624107361,
          -0.09864695370197296,
          -0.08943876624107361,
          -0.08609860390424728,
          -0.030849449336528778,
          -0.03752977401018143,
          -0.09277892857789993,
          0.005481898318976164,
          -0.08609860390424728,
          -0.030849449336528778,
          0.005481898318976164,
          -0.03752977401018143,
          0.005481898318976164,
          -0.09546224027872086
         ],
         "y": [
          0.03329610824584961,
          -0.01658669300377369,
          -0.01732836291193962,
          -0.01658669300377369,
          -0.06646949052810669,
          -0.062019482254981995,
          0.037746116518974304,
          0.03329610824584961,
          -0.010953140445053577,
          -0.06646949052810669,
          -0.062019482254981995,
          -0.010953140445053577,
          0.037746116518974304,
          -0.010953140445053577,
          -0.016065962612628937
         ],
         "z": [
          -0.046635642647743225,
          -0.04737664386630058,
          -0.03895588591694832,
          -0.04737664386630058,
          -0.04811764135956764,
          -0.09864217787981033,
          -0.09716017544269562,
          -0.046635642647743225,
          0.0012503305915743113,
          -0.04811764135956764,
          -0.09864217787981033,
          0.0012503305915743113,
          -0.09716017544269562,
          0.0012503305915743113,
          -0.1095835268497467
         ]
        },
        {
         "line": {
          "color": "#ff005f",
          "width": 4
         },
         "marker": {
          "size": 1
         },
         "name": "Pred Camera 19",
         "scene": "scene",
         "type": "scatter3d",
         "x": [
          0.006062211934477091,
          -0.008397435769438744,
          -0.020102256909012794,
          -0.008397435769438744,
          -0.02285708300769329,
          0.047371864318847656,
          0.07629115879535675,
          0.006062211934477091,
          0.006830171216279268,
          -0.02285708300769329,
          0.047371864318847656,
          0.006830171216279268,
          0.07629115879535675,
          0.006830171216279268,
          0.03666047379374504
         ],
         "y": [
          -0.05975224822759628,
          -0.011895213276147842,
          -0.015387961640954018,
          -0.011895213276147842,
          0.0359618216753006,
          0.05691830813884735,
          -0.03879576176404953,
          -0.05975224822759628,
          -0.009036853909492493,
          0.0359618216753006,
          0.05691830813884735,
          -0.009036853909492493,
          -0.03879576176404953,
          -0.009036853909492493,
          0.002392970956861973
         ],
         "z": [
          0.10896977037191391,
          0.10818058997392654,
          0.11083535850048065,
          0.10818058997392654,
          0.10739140957593918,
          0.09146278351545334,
          0.09304114431142807,
          0.10896977037191391,
          0.0025103436782956123,
          0.10739140957593918,
          0.09146278351545334,
          0.0025103436782956123,
          0.09304114431142807,
          0.0025103436782956123,
          0.14906923472881317
         ]
        },
        {
         "line": {
          "color": "#ff0000",
          "dash": "dash",
          "width": 4
         },
         "marker": {
          "size": 1
         },
         "name": "GT Camera 0",
         "scene": "scene",
         "type": "scatter3d",
         "x": [
          -0.11619812250137329,
          -0.06619812548160553,
          -0.06619812548160553,
          -0.06619812548160553,
          -0.01619812473654747,
          -0.01619812473654747,
          -0.11619812250137329,
          -0.11619812250137329,
          -0.06619812548160553,
          -0.01619812473654747,
          -0.01619812473654747,
          -0.06619812548160553,
          -0.11619812250137329,
          -0.06619812548160553,
          -0.06619812548160553
         ],
         "y": [
          0.05467446148395538,
          0.05467446148395538,
          0.06717446446418762,
          0.05467446148395538,
          0.05467446148395538,
          -0.020325541496276855,
          -0.020325541496276855,
          0.05467446148395538,
          0.017174459993839264,
          0.05467446148395538,
          -0.020325541496276855,
          0.017174459993839264,
          -0.020325541496276855,
          0.017174459993839264,
          0.017174459993839264
         ],
         "z": [
          -0.89765864610672,
          -0.89765864610672,
          -0.89765864610672,
          -0.89765864610672,
          -0.89765864610672,
          -0.89765864610672,
          -0.89765864610672,
          -0.89765864610672,
          -0.9976586699485779,
          -0.89765864610672,
          -0.89765864610672,
          -0.9976586699485779,
          -0.89765864610672,
          -0.9976586699485779,
          -0.847658634185791
         ]
        },
        {
         "line": {
          "color": "#ff4700",
          "dash": "dash",
          "width": 4
         },
         "marker": {
          "size": 1
         },
         "name": "GT Camera 1",
         "scene": "scene",
         "type": "scatter3d",
         "x": [
          0.08089639991521835,
          0.1286298632621765,
          0.12553898990154266,
          0.1286298632621765,
          0.17636331915855408,
          0.19490858912467957,
          0.09944166988134384,
          0.08089639991521835,
          0.15447482466697693,
          0.17636331915855408,
          0.19490858912467957,
          0.15447482466697693,
          0.09944166988134384,
          0.15447482466697693,
          0.12961633503437042
         ],
         "y": [
          -0.02142389491200447,
          -0.008791454136371613,
          0.003302115947008133,
          -0.008791454136371613,
          0.0038409866392612457,
          -0.06872043013572693,
          -0.09398530423641205,
          -0.02142389491200447,
          -0.04625825583934784,
          0.0038409866392612457,
          -0.06872043013572693,
          -0.04625825583934784,
          -0.09398530423641205,
          -0.04625825583934784,
          -0.044479113072156906
         ],
         "z": [
          -0.9432740211486816,
          -0.9354038834571838,
          -0.9360688328742981,
          -0.9354038834571838,
          -0.9275338053703308,
          -0.9235442876815796,
          -0.9392845034599304,
          -0.9432740211486816,
          -1.0320192575454712,
          -0.9275338053703308,
          -0.9235442876815796,
          -1.0320192575454712,
          -0.9392845034599304,
          -1.0320192575454712,
          -0.8841041326522827
         ]
        },
        {
         "line": {
          "color": "#ff9400",
          "dash": "dash",
          "width": 4
         },
         "marker": {
          "size": 1
         },
         "name": "GT Camera 2",
         "scene": "scene",
         "type": "scatter3d",
         "x": [
          0.43374836444854736,
          0.4647314250469208,
          0.45761701464653015,
          0.4647314250469208,
          0.4957145154476166,
          0.5384010076522827,
          0.4764348268508911,
          0.43374836444854736,
          0.5401195287704468,
          0.4957145154476166,
          0.5384010076522827,
          0.5401195287704468,
          0.4764348268508911,
          0.5401195287704468,
          0.4590522348880768
         ],
         "y": [
          0.06002683937549591,
          0.09141657501459122,
          0.10107521712779999,
          0.09141657501459122,
          0.12280631065368652,
          0.06485442817211151,
          0.0020749568939208984,
          0.06002683937549591,
          0.07183274626731873,
          0.12280631065368652,
          0.06485442817211151,
          0.07183274626731873,
          0.0020749568939208984,
          0.07183274626731873,
          0.057744577527046204
         ],
         "z": [
          -0.9000003337860107,
          -0.8764475584030151,
          -0.8799612522125244,
          -0.8764475584030151,
          -0.8528947830200195,
          -0.8318129181861877,
          -0.8789185285568237,
          -0.9000003337860107,
          -0.9495185017585754,
          -0.8528947830200195,
          -0.8318129181861877,
          -0.9495185017585754,
          -0.8789185285568237,
          -0.9495185017585754,
          -0.8241007328033447
         ]
        },
        {
         "line": {
          "color": "#ffe000",
          "dash": "dash",
          "width": 4
         },
         "marker": {
          "size": 1
         },
         "name": "GT Camera 3",
         "scene": "scene",
         "type": "scatter3d",
         "x": [
          -0.5649577975273132,
          -0.5584935545921326,
          -0.548392653465271,
          -0.5584935545921326,
          -0.5520292520523071,
          -0.6126347184181213,
          -0.6255632042884827,
          -0.5649577975273132,
          -0.646268367767334,
          -0.5520292520523071,
          -0.6126347184181213,
          -0.646268367767334,
          -0.6255632042884827,
          -0.646268367767334,
          -0.5600602030754089
         ],
         "y": [
          0.4377339780330658,
          0.395911306142807,
          0.4009132385253906,
          0.395911306142807,
          0.3540886640548706,
          0.32407712936401367,
          0.40772244334220886,
          0.4377339780330658,
          0.4183519184589386,
          0.3540886640548706,
          0.32407712936401367,
          0.4183519184589386,
          0.40772244334220886,
          0.4183519184589386,
          0.3621823489665985
         ],
         "z": [
          -0.6793219447135925,
          -0.7059504389762878,
          -0.7113543748855591,
          -0.7059504389762878,
          -0.7325789928436279,
          -0.7001553773880005,
          -0.6468983292579651,
          -0.6793219447135925,
          -0.7625035047531128,
          -0.7325789928436279,
          -0.7001553773880005,
          -0.7625035047531128,
          -0.6468983292579651,
          -0.7625035047531128,
          -0.6533561944961548
         ]
        },
        {
         "line": {
          "color": "#d1ff00",
          "dash": "dash",
          "width": 4
         },
         "marker": {
          "size": 1
         },
         "name": "GT Camera 4",
         "scene": "scene",
         "type": "scatter3d",
         "x": [
          -0.345133900642395,
          -0.385699987411499,
          -0.3805798292160034,
          -0.385699987411499,
          -0.426266074180603,
          -0.45698705315589905,
          -0.37585487961769104,
          -0.345133900642395,
          -0.44277071952819824,
          -0.426266074180603,
          -0.45698705315589905,
          -0.44277071952819824,
          -0.37585487961769104,
          -0.44277071952819824,
          -0.380205363035202
         ],
         "y": [
          0.8899920582771301,
          0.8649030923843384,
          0.8633800148963928,
          0.8649030923843384,
          0.8398141264915466,
          0.8489526510238647,
          0.8991305232048035,
          0.8899920582771301,
          0.9551094174385071,
          0.8398141264915466,
          0.8489526510238647,
          0.9551094174385071,
          0.8991305232048035,
          0.9551094174385071,
          0.826653778553009
         ],
         "z": [
          -0.31221795082092285,
          -0.32721585035324097,
          -0.3385169208049774,
          -0.32721585035324097,
          -0.3422137498855591,
          -0.27440735697746277,
          -0.24441155791282654,
          -0.31221795082092285,
          -0.32375186681747437,
          -0.3422137498855591,
          -0.27440735697746277,
          -0.32375186681747437,
          -0.24441155791282654,
          -0.32375186681747437,
          -0.27809303998947144
         ]
        },
        {
         "line": {
          "color": "#84ff00",
          "dash": "dash",
          "width": 4
         },
         "marker": {
          "size": 1
         },
         "name": "GT Camera 5",
         "scene": "scene",
         "type": "scatter3d",
         "x": [
          0.7808879613876343,
          0.7562408447265625,
          0.7484273910522461,
          0.7562408447265625,
          0.7315937280654907,
          0.7784744501113892,
          0.8277686834335327,
          0.7808879613876343,
          0.8402028679847717,
          0.7315937280654907,
          0.7784744501113892,
          0.8402028679847717,
          0.8277686834335327,
          0.8402028679847717,
          0.7494204044342041
         ],
         "y": [
          0.7781097888946533,
          0.8127385377883911,
          0.814477801322937,
          0.8127385377883911,
          0.8473672866821289,
          0.8369318246841431,
          0.7676743268966675,
          0.7781097888946533,
          0.8783007860183716,
          0.8473672866821289,
          0.8369318246841431,
          0.8783007860183716,
          0.7676743268966675,
          0.8783007860183716,
          0.7721308469772339
         ],
         "z": [
          -0.4500572681427002,
          -0.4237253665924072,
          -0.4333261251449585,
          -0.4237253665924072,
          -0.39739343523979187,
          -0.3397887647151947,
          -0.3924526274204254,
          -0.4500572681427002,
          -0.4313555061817169,
          -0.39739343523979187,
          -0.3397887647151947,
          -0.4313555061817169,
          -0.3924526274204254,
          -0.4313555061817169,
          -0.3767067790031433
         ]
        },
        {
         "line": {
          "color": "#3dff00",
          "dash": "dash",
          "width": 4
         },
         "marker": {
          "size": 1
         },
         "name": "GT Camera 6",
         "scene": "scene",
         "type": "scatter3d",
         "x": [
          -0.09923652559518814,
          -0.04926001653075218,
          -0.04955797269940376,
          -0.04926001653075218,
          0.0007164999842643738,
          0.0025042518973350525,
          -0.09744877368211746,
          -0.09923652559518814,
          -0.04644026607275009,
          0.0007164999842643738,
          0.0025042518973350525,
          -0.04644026607275009,
          -0.09744877368211746,
          -0.04644026607275009,
          -0.04932907223701477
         ],
         "y": [
          0.047832343727350235,
          0.049027733504772186,
          0.061524081975221634,
          0.049027733504772186,
          0.05022312328219414,
          -0.02475498989224434,
          -0.02714576944708824,
          0.047832343727350235,
          0.011191987432539463,
          0.05022312328219414,
          -0.02475498989224434,
          0.011191987432539463,
          -0.02714576944708824,
          0.011191987432539463,
          0.011712023057043552
         ],
         "z": [
          -0.9053335785865784,
          -0.9043750166893005,
          -0.9044241309165955,
          -0.9043750166893005,
          -0.9034165143966675,
          -0.903122067451477,
          -0.9050391316413879,
          -0.9053335785865784,
          -1.0042086839675903,
          -0.9034165143966675,
          -0.903122067451477,
          -1.0042086839675903,
          -0.9050391316413879,
          -1.0042086839675903,
          -0.8542373776435852
         ]
        },
        {
         "line": {
          "color": "#00ff10",
          "dash": "dash",
          "width": 4
         },
         "marker": {
          "size": 1
         },
         "name": "GT Camera 7",
         "scene": "scene",
         "type": "scatter3d",
         "x": [
          0.6536844372749329,
          0.6700794100761414,
          0.6613345742225647,
          0.6700794100761414,
          0.6864743828773499,
          0.7389432191848755,
          0.7061532735824585,
          0.6536844372749329,
          0.7598010897636414,
          0.6864743828773499,
          0.7389432191848755,
          0.7598010897636414,
          0.7061532735824585,
          0.7598010897636414,
          0.6645702123641968
         ],
         "y": [
          0.225409597158432,
          0.26276421546936035,
          0.2703059911727905,
          0.26276421546936035,
          0.3001188039779663,
          0.25486811995506287,
          0.18015889823436737,
          0.225409597158432,
          0.2680370807647705,
          0.3001188039779663,
          0.25486811995506287,
          0.2680370807647705,
          0.18015889823436737,
          0.2680370807647705,
          0.2261897474527359
         ],
         "z": [
          -0.7928271293640137,
          -0.7639163136482239,
          -0.7687016725540161,
          -0.7639163136482239,
          -0.7350054383277893,
          -0.7062931656837463,
          -0.7641148567199707,
          -0.7928271293640137,
          -0.8216091394424438,
          -0.7350054383277893,
          -0.7062931656837463,
          -0.8216091394424438,
          -0.7641148567199707,
          -0.8216091394424438,
          -0.7135356664657593
         ]
        },
        {
         "line": {
          "color": "#00ff5c",
          "dash": "dash",
          "width": 4
         },
         "marker": {
          "size": 1
         },
         "name": "GT Camera 8",
         "scene": "scene",
         "type": "scatter3d",
         "x": [
          -0.26572924852371216,
          -0.21854059398174286,
          -0.21533364057540894,
          -0.21854059398174286,
          -0.17135193943977356,
          -0.1905936896800995,
          -0.2849709987640381,
          -0.26572924852371216,
          -0.2490111142396927,
          -0.17135193943977356,
          -0.1905936896800995,
          -0.2490111142396927,
          -0.2849709987640381,
          -0.2490111142396927,
          -0.2177366465330124
         ],
         "y": [
          0.14361853897571564,
          0.13104966282844543,
          0.14313118159770966,
          0.13104966282844543,
          0.11848080158233643,
          0.0459916852414608,
          0.07112942636013031,
          0.14361853897571564,
          0.09994872659444809,
          0.11848080158233643,
          0.0459916852414608,
          0.09994872659444809,
          0.07112942636013031,
          0.09994872659444809,
          0.09223330020904541
         ],
         "z": [
          -0.8256247043609619,
          -0.8363603353500366,
          -0.8364086747169495,
          -0.8363603353500366,
          -0.8470959663391113,
          -0.8468059301376343,
          -0.8253346681594849,
          -0.8256247043609619,
          -0.9338822960853577,
          -0.8470959663391113,
          -0.8468059301376343,
          -0.9338822960853577,
          -0.8253346681594849,
          -0.9338822960853577,
          -0.7873818874359131
         ]
        },
        {
         "line": {
          "color": "#00ffa9",
          "dash": "dash",
          "width": 4
         },
         "marker": {
          "size": 1
         },
         "name": "GT Camera 9",
         "scene": "scene",
         "type": "scatter3d",
         "x": [
          -0.3101775646209717,
          -0.26498353481292725,
          -0.2607983946800232,
          -0.26498353481292725,
          -0.219789519906044,
          -0.24490034580230713,
          -0.335288405418396,
          -0.3101775646209717,
          -0.30416634678840637,
          -0.219789519906044,
          -0.24490034580230713,
          -0.30416634678840637,
          -0.335288405418396,
          -0.30416634678840637,
          -0.2642252743244171
         ],
         "y": [
          0.16714850068092346,
          0.15075980126857758,
          0.16253505647182465,
          0.15075980126857758,
          0.13437111675739288,
          0.06371956318616867,
          0.09649694710969925,
          0.16714850068092346,
          0.12261854857206345,
          0.13437111675739288,
          0.06371956318616867,
          0.12261854857206345,
          0.09649694710969925,
          0.12261854857206345,
          0.11184176802635193
         ],
         "z": [
          -0.8212960958480835,
          -0.8350405693054199,
          -0.8353198170661926,
          -0.8350405693054199,
          -0.8487850427627563,
          -0.8471096754074097,
          -0.8196207284927368,
          -0.8212960958480835,
          -0.9303244948387146,
          -0.8487850427627563,
          -0.8471096754074097,
          -0.9303244948387146,
          -0.8196207284927368,
          -0.9303244948387146,
          -0.786142110824585
         ]
        },
        {
         "line": {
          "color": "#00fff6",
          "dash": "dash",
          "width": 4
         },
         "marker": {
          "size": 1
         },
         "name": "GT Camera 10",
         "scene": "scene",
         "type": "scatter3d",
         "x": [
          0.5238732099533081,
          0.5512974262237549,
          0.5437563061714172,
          0.5512974262237549,
          0.5787216424942017,
          0.6239687204360962,
          0.5691202878952026,
          0.5238732099533081,
          0.6318175792694092,
          0.5787216424942017,
          0.6239687204360962,
          0.6318175792694092,
          0.5691202878952026,
          0.6318175792694092,
          0.5449726581573486
         ],
         "y": [
          0.09477005153894424,
          0.12809300422668457,
          0.1372627168893814,
          0.12809300422668457,
          0.1614159643650055,
          0.10639768838882446,
          0.03975178301334381,
          0.09477005153894424,
          0.11388690769672394,
          0.1614159643650055,
          0.10639768838882446,
          0.11388690769672394,
          0.03975178301334381,
          0.11388690769672394,
          0.09393235296010971
         ],
         "z": [
          -0.8731662631034851,
          -0.8479176759719849,
          -0.8518288135528564,
          -0.8479176759719849,
          -0.8226690292358398,
          -0.7992020845413208,
          -0.8496993780136108,
          -0.8731662631034851,
          -0.9166268110275269,
          -0.8226690292358398,
          -0.7992020845413208,
          -0.9166268110275269,
          -0.8496993780136108,
          -0.9166268110275269,
          -0.7959628701210022
         ]
        },
        {
         "line": {
          "color": "#00c1ff",
          "dash": "dash",
          "width": 4
         },
         "marker": {
          "size": 1
         },
         "name": "GT Camera 11",
         "scene": "scene",
         "type": "scatter3d",
         "x": [
          0.0580589696764946,
          0.10651618242263794,
          0.1039324551820755,
          0.10651618242263794,
          0.15497340261936188,
          0.1704758107662201,
          0.07356138527393341,
          0.0580589696764946,
          0.12769678235054016,
          0.15497340261936188,
          0.1704758107662201,
          0.12769678235054016,
          0.07356138527393341,
          0.12769678235054016,
          0.10755269229412079
         ],
         "y": [
          -0.009630614891648293,
          0.0008912980556488037,
          0.013110112398862839,
          0.0008912980556488037,
          0.01141320914030075,
          -0.06189969182014465,
          -0.08294351398944855,
          -0.009630614891648293,
          -0.03717687353491783,
          0.01141320914030075,
          -0.06189969182014465,
          -0.03717687353491783,
          -0.08294351398944855,
          -0.03717687353491783,
          -0.03505929559469223
         ],
         "z": [
          -0.9424420595169067,
          -0.9360243082046509,
          -0.9365485906600952,
          -0.9360243082046509,
          -0.929606556892395,
          -0.9264609217643738,
          -0.9392964243888855,
          -0.9424420595169067,
          -1.0335355997085571,
          -0.929606556892395,
          -0.9264609217643738,
          -1.0335355997085571,
          -0.9392964243888855,
          -1.0335355997085571,
          -0.884909451007843
         ]
        },
        {
         "line": {
          "color": "#0074ff",
          "dash": "dash",
          "width": 4
         },
         "marker": {
          "size": 1
         },
         "name": "GT Camera 12",
         "scene": "scene",
         "type": "scatter3d",
         "x": [
          0.17044958472251892,
          0.12077125906944275,
          0.11944688856601715,
          0.12077125906944275,
          0.07109294086694717,
          0.07903920859098434,
          0.1783958524465561,
          0.17044958472251892,
          0.12874475121498108,
          0.07109294086694717,
          0.07903920859098434,
          0.12874475121498108,
          0.1783958524465561,
          0.12874475121498108,
          0.12274421751499176
         ],
         "y": [
          0.8806734085083008,
          0.883762001991272,
          0.881125271320343,
          0.883762001991272,
          0.8868505358695984,
          0.9026707410812378,
          0.8964936137199402,
          0.8806734085083008,
          0.9892266988754272,
          0.8868505358695984,
          0.9026707410812378,
          0.9892266988754272,
          0.8964936137199402,
          0.9892266988754272,
          0.8428947925567627
         ],
         "z": [
          -0.32753825187683105,
          -0.3227922022342682,
          -0.3349389433860779,
          -0.3227922022342682,
          -0.31804612278938293,
          -0.24516555666923523,
          -0.25465768575668335,
          -0.32753825187683105,
          -0.3079642951488495,
          -0.31804612278938293,
          -0.24516555666923523,
          -0.3079642951488495,
          -0.25465768575668335,
          -0.3079642951488495,
          -0.27554571628570557
         ]
        },
        {
         "line": {
          "color": "#0028ff",
          "dash": "dash",
          "width": 4
         },
         "marker": {
          "size": 1
         },
         "name": "GT Camera 13",
         "scene": "scene",
         "type": "scatter3d",
         "x": [
          -0.5075792670249939,
          -0.4947303235530853,
          -0.48480862379074097,
          -0.4947303235530853,
          -0.48188138008117676,
          -0.5414115786552429,
          -0.5671094655990601,
          -0.5075792670249939,
          -0.5796266794204712,
          -0.48188138008117676,
          -0.5414115786552429,
          -0.5796266794204712,
          -0.5671094655990601,
          -0.5796266794204712,
          -0.49692976474761963
         ],
         "y": [
          0.40598681569099426,
          0.36598533391952515,
          0.3721696436405182,
          0.36598533391952515,
          0.32598385214805603,
          0.2888779938220978,
          0.368880957365036,
          0.40598681569099426,
          0.3813706338405609,
          0.32598385214805603,
          0.2888779938220978,
          0.3813706338405609,
          0.368880957365036,
          0.3813706338405609,
          0.3304632902145386
         ],
         "z": [
          -0.6749801635742188,
          -0.7020871639251709,
          -0.7065103054046631,
          -0.7020871639251709,
          -0.7291941046714783,
          -0.7026551365852356,
          -0.6484412550926208,
          -0.6749801635742188,
          -0.7650327682495117,
          -0.7291941046714783,
          -0.7026551365852356,
          -0.7650327682495117,
          -0.6484412550926208,
          -0.7650327682495117,
          -0.6507101058959961
         ]
        },
        {
         "line": {
          "color": "#2500ff",
          "dash": "dash",
          "width": 4
         },
         "marker": {
          "size": 1
         },
         "name": "GT Camera 14",
         "scene": "scene",
         "type": "scatter3d",
         "x": [
          0.21247410774230957,
          0.25444692373275757,
          0.2490670382976532,
          0.25444692373275757,
          0.29641973972320557,
          0.3286989629268646,
          0.24475334584712982,
          0.21247410774230957,
          0.3037645220756531,
          0.29641973972320557,
          0.3286989629268646,
          0.3037645220756531,
          0.24475334584712982,
          0.3037645220756531,
          0.2539975345134735
         ],
         "y": [
          -0.009929798543453217,
          0.012610603123903275,
          0.02376631647348404,
          0.012610603123903275,
          0.03515100106596947,
          -0.03178330138325691,
          -0.076864093542099,
          -0.009929798543453217,
          -0.019147280603647232,
          0.03515100106596947,
          -0.03178330138325691,
          -0.019147280603647232,
          -0.076864093542099,
          -0.019147280603647232,
          -0.021711183711886406
         ],
         "z": [
          -0.9157357811927795,
          -0.9005630016326904,
          -0.902253270149231,
          -0.9005630016326904,
          -0.8853902220726013,
          -0.8752486705780029,
          -0.9055942296981812,
          -0.9157357811927795,
          -0.989812433719635,
          -0.8853902220726013,
          -0.8752486705780029,
          -0.989812433719635,
          -0.9055942296981812,
          -0.989812433719635,
          -0.8483321666717529
         ]
        },
        {
         "line": {
          "color": "#7200ff",
          "dash": "dash",
          "width": 4
         },
         "marker": {
          "size": 1
         },
         "name": "GT Camera 15",
         "scene": "scene",
         "type": "scatter3d",
         "x": [
          0.7347750067710876,
          0.7272142767906189,
          0.7180285453796387,
          0.7272142767906189,
          0.7196536064147949,
          0.774768054485321,
          0.7898895144462585,
          0.7347750067710876,
          0.8208862543106079,
          0.7196536064147949,
          0.774768054485321,
          0.8208862543106079,
          0.7898895144462585,
          0.8208862543106079,
          0.721714198589325
         ],
         "y": [
          0.5415266752243042,
          0.5796796083450317,
          0.5839096903800964,
          0.5796796083450317,
          0.6178325414657593,
          0.5924521684646606,
          0.5161463022232056,
          0.5415266752243042,
          0.622055172920227,
          0.6178325414657593,
          0.5924521684646606,
          0.622055172920227,
          0.5161463022232056,
          0.622055172920227,
          0.5394565463066101
         ],
         "z": [
          -0.5548261404037476,
          -0.5234065651893616,
          -0.5307536125183105,
          -0.5234065651893616,
          -0.4919869899749756,
          -0.44790488481521606,
          -0.5107440948486328,
          -0.5548261404037476,
          -0.5523224472999573,
          -0.4919869899749756,
          -0.44790488481521606,
          -0.5523224472999573,
          -0.5107440948486328,
          -0.5523224472999573,
          -0.4758870601654053
         ]
        },
        {
         "line": {
          "color": "#b900ff",
          "dash": "dash",
          "width": 4
         },
         "marker": {
          "size": 1
         },
         "name": "GT Camera 16",
         "scene": "scene",
         "type": "scatter3d",
         "x": [
          -0.07269302755594254,
          -0.1205439642071724,
          -0.1182592362165451,
          -0.1205439642071724,
          -0.16839489340782166,
          -0.18210327625274658,
          -0.08640141040086746,
          -0.07269302755594254,
          -0.149916410446167,
          -0.16839489340782166,
          -0.18210327625274658,
          -0.149916410446167,
          -0.08640141040086746,
          -0.149916410446167,
          -0.11613902449607849
         ],
         "y": [
          0.9019541144371033,
          0.8889456987380981,
          0.8864718079566956,
          0.8889456987380981,
          0.875937283039093,
          0.8907808065414429,
          0.9167976379394531,
          0.9019541144371033,
          0.9908736944198608,
          0.875937283039093,
          0.8907808065414429,
          0.9908736944198608,
          0.9167976379394531,
          0.9908736944198608,
          0.8491142988204956
         ],
         "z": [
          -0.2789369821548462,
          -0.28534552454948425,
          -0.2973833680152893,
          -0.28534552454948425,
          -0.2917540371417999,
          -0.21952694654464722,
          -0.20670990645885468,
          -0.2789369821548462,
          -0.2729279398918152,
          -0.2917540371417999,
          -0.21952694654464722,
          -0.2729279398918152,
          -0.20670990645885468,
          -0.2729279398918152,
          -0.23738397657871246
         ]
        },
        {
         "line": {
          "color": "#fc00f5",
          "dash": "dash",
          "width": 4
         },
         "marker": {
          "size": 1
         },
         "name": "GT Camera 17",
         "scene": "scene",
         "type": "scatter3d",
         "x": [
          -0.3739580810070038,
          -0.41268810629844666,
          -0.4070872366428375,
          -0.41268810629844666,
          -0.4514181315898895,
          -0.4850233495235443,
          -0.40756329894065857,
          -0.3739580810070038,
          -0.4741256535053253,
          -0.4514181315898895,
          -0.4850233495235443,
          -0.4741256535053253,
          -0.40756329894065857,
          -0.4741256535053253,
          -0.4071732461452484
         ],
         "y": [
          0.8728281259536743,
          0.845706045627594,
          0.8443585634231567,
          0.845706045627594,
          0.8185839653015137,
          0.8266686201095581,
          0.8809127807617188,
          0.8728281259536743,
          0.933063268661499,
          0.8185839653015137,
          0.8266686201095581,
          0.933063268661499,
          0.8809127807617188,
          0.933063268661499,
          0.8080909252166748
         ],
         "z": [
          -0.33142849802970886,
          -0.3476881980895996,
          -0.3587816655635834,
          -0.3476881980895996,
          -0.36394792795181274,
          -0.29738718271255493,
          -0.26486778259277344,
          -0.33142849802970886,
          -0.347062885761261,
          -0.36394792795181274,
          -0.29738718271255493,
          -0.347062885761261,
          -0.26486778259277344,
          -0.347062885761261,
          -0.29808032512664795
         ]
        },
        {
         "line": {
          "color": "#ff00ac",
          "dash": "dash",
          "width": 4
         },
         "marker": {
          "size": 1
         },
         "name": "GT Camera 18",
         "scene": "scene",
         "type": "scatter3d",
         "x": [
          -0.4817850887775421,
          -0.503767728805542,
          -0.4955346882343292,
          -0.503767728805542,
          -0.5257503390312195,
          -0.5751485824584961,
          -0.5311833024024963,
          -0.4817850887775421,
          -0.5895319581031799,
          -0.5257503390312195,
          -0.5751485824584961,
          -0.5895319581031799,
          -0.5311833024024963,
          -0.5895319581031799,
          -0.4979342818260193
         ],
         "y": [
          0.6917624473571777,
          0.653793454170227,
          0.6549245119094849,
          0.653793454170227,
          0.6158245205879211,
          0.6090383529663086,
          0.6849762201309204,
          0.6917624473571777,
          0.7148330211639404,
          0.6158245205879211,
          0.6090383529663086,
          0.7148330211639404,
          0.6849762201309204,
          0.7148330211639404,
          0.6181840896606445
         ],
         "z": [
          -0.44704750180244446,
          -0.47102922201156616,
          -0.48036667704582214,
          -0.47102922201156616,
          -0.49501094222068787,
          -0.43898624181747437,
          -0.39102283120155334,
          -0.44704750180244446,
          -0.48905473947525024,
          -0.49501094222068787,
          -0.43898624181747437,
          -0.48905473947525024,
          -0.39102283120155334,
          -0.48905473947525024,
          -0.4199979305267334
         ]
        },
        {
         "line": {
          "color": "#ff005f",
          "dash": "dash",
          "width": 4
         },
         "marker": {
          "size": 1
         },
         "name": "GT Camera 19",
         "scene": "scene",
         "type": "scatter3d",
         "x": [
          -0.40294405817985535,
          -0.3676958680152893,
          -0.3606199026107788,
          -0.3676958680152893,
          -0.33244770765304565,
          -0.3749035894870758,
          -0.4453999400138855,
          -0.40294405817985535,
          -0.4316534101963043,
          -0.33244770765304565,
          -0.3749035894870758,
          -0.4316534101963043,
          -0.4453999400138855,
          -0.4316534101963043,
          -0.367559015750885
         ],
         "y": [
          0.22497829794883728,
          0.19694162905216217,
          0.20711350440979004,
          0.19694162905216217,
          0.16890494525432587,
          0.10787373036146164,
          0.16394709050655365,
          0.22497829794883728,
          0.18171970546245575,
          0.16890494525432587,
          0.10787373036146164,
          0.18171970546245575,
          0.16394709050655365,
          0.18171970546245575,
          0.15877917408943176
         ],
         "z": [
          -0.7813915014266968,
          -0.8031058311462402,
          -0.8047531247138977,
          -0.8031058311462402,
          -0.8248201012611389,
          -0.8149362802505493,
          -0.7715076804161072,
          -0.7813915014266968,
          -0.8872721791267395,
          -0.8248201012611389,
          -0.8149362802505493,
          -0.8872721791267395,
          -0.7715076804161072,
          -0.8872721791267395,
          -0.7536097764968872
         ]
        }
       ],
       "layout": {
        "annotations": [
         {
          "font": {
           "size": 16
          },
          "showarrow": false,
          "text": "Vis 20 GT vs Pred Cameras",
          "x": 0.5,
          "xanchor": "center",
          "xref": "paper",
          "y": 1,
          "yanchor": "bottom",
          "yref": "paper"
         }
        ],
        "height": 800,
        "scene": {
         "aspectmode": "data",
         "camera": {
          "center": {
           "x": -0.11728396085940736,
           "y": 0.6986494634866409,
           "z": -0.10182838824887241
          },
          "eye": {
           "x": -0.1172840154157228,
           "y": 2.0981418313110844,
           "z": -0.8503780222910277
          },
          "up": {
           "x": 9.449431151116433e-8,
           "y": 0.8079972541835636,
           "z": 1.296526064111824
          }
         },
         "domain": {
          "x": [
           0,
           1
          ],
          "y": [
           0,
           1
          ]
         },
         "xaxis": {
          "backgroundcolor": "#fff",
          "range": [
           -0.7072461843490601,
           0.895185649394989
          ],
          "showaxeslabels": false,
          "showgrid": false,
          "showline": false,
          "showticklabels": false,
          "ticks": "",
          "zeroline": false
         },
         "yaxis": {
          "backgroundcolor": "#fff",
          "range": [
           -0.18512259423732758,
           1.052505373954773
          ],
          "showaxeslabels": false,
          "showgrid": false,
          "showline": false,
          "showticklabels": false,
          "ticks": "",
          "zeroline": false
         },
         "zaxis": {
          "backgroundcolor": "#fff",
          "range": [
           -1.0999412536621094,
           0.2359755039215088
          ],
          "showaxeslabels": false,
          "showgrid": false,
          "showline": false,
          "showticklabels": false,
          "ticks": "",
          "zeroline": false
         }
        },
        "template": {
         "data": {
          "bar": [
           {
            "error_x": {
             "color": "#2a3f5f"
            },
            "error_y": {
             "color": "#2a3f5f"
            },
            "marker": {
             "line": {
              "color": "#E5ECF6",
              "width": 0.5
             },
             "pattern": {
              "fillmode": "overlay",
              "size": 10,
              "solidity": 0.2
             }
            },
            "type": "bar"
           }
          ],
          "barpolar": [
           {
            "marker": {
             "line": {
              "color": "#E5ECF6",
              "width": 0.5
             },
             "pattern": {
              "fillmode": "overlay",
              "size": 10,
              "solidity": 0.2
             }
            },
            "type": "barpolar"
           }
          ],
          "carpet": [
           {
            "aaxis": {
             "endlinecolor": "#2a3f5f",
             "gridcolor": "white",
             "linecolor": "white",
             "minorgridcolor": "white",
             "startlinecolor": "#2a3f5f"
            },
            "baxis": {
             "endlinecolor": "#2a3f5f",
             "gridcolor": "white",
             "linecolor": "white",
             "minorgridcolor": "white",
             "startlinecolor": "#2a3f5f"
            },
            "type": "carpet"
           }
          ],
          "choropleth": [
           {
            "colorbar": {
             "outlinewidth": 0,
             "ticks": ""
            },
            "type": "choropleth"
           }
          ],
          "contour": [
           {
            "colorbar": {
             "outlinewidth": 0,
             "ticks": ""
            },
            "colorscale": [
             [
              0,
              "#0d0887"
             ],
             [
              0.1111111111111111,
              "#46039f"
             ],
             [
              0.2222222222222222,
              "#7201a8"
             ],
             [
              0.3333333333333333,
              "#9c179e"
             ],
             [
              0.4444444444444444,
              "#bd3786"
             ],
             [
              0.5555555555555556,
              "#d8576b"
             ],
             [
              0.6666666666666666,
              "#ed7953"
             ],
             [
              0.7777777777777778,
              "#fb9f3a"
             ],
             [
              0.8888888888888888,
              "#fdca26"
             ],
             [
              1,
              "#f0f921"
             ]
            ],
            "type": "contour"
           }
          ],
          "contourcarpet": [
           {
            "colorbar": {
             "outlinewidth": 0,
             "ticks": ""
            },
            "type": "contourcarpet"
           }
          ],
          "heatmap": [
           {
            "colorbar": {
             "outlinewidth": 0,
             "ticks": ""
            },
            "colorscale": [
             [
              0,
              "#0d0887"
             ],
             [
              0.1111111111111111,
              "#46039f"
             ],
             [
              0.2222222222222222,
              "#7201a8"
             ],
             [
              0.3333333333333333,
              "#9c179e"
             ],
             [
              0.4444444444444444,
              "#bd3786"
             ],
             [
              0.5555555555555556,
              "#d8576b"
             ],
             [
              0.6666666666666666,
              "#ed7953"
             ],
             [
              0.7777777777777778,
              "#fb9f3a"
             ],
             [
              0.8888888888888888,
              "#fdca26"
             ],
             [
              1,
              "#f0f921"
             ]
            ],
            "type": "heatmap"
           }
          ],
          "heatmapgl": [
           {
            "colorbar": {
             "outlinewidth": 0,
             "ticks": ""
            },
            "colorscale": [
             [
              0,
              "#0d0887"
             ],
             [
              0.1111111111111111,
              "#46039f"
             ],
             [
              0.2222222222222222,
              "#7201a8"
             ],
             [
              0.3333333333333333,
              "#9c179e"
             ],
             [
              0.4444444444444444,
              "#bd3786"
             ],
             [
              0.5555555555555556,
              "#d8576b"
             ],
             [
              0.6666666666666666,
              "#ed7953"
             ],
             [
              0.7777777777777778,
              "#fb9f3a"
             ],
             [
              0.8888888888888888,
              "#fdca26"
             ],
             [
              1,
              "#f0f921"
             ]
            ],
            "type": "heatmapgl"
           }
          ],
          "histogram": [
           {
            "marker": {
             "pattern": {
              "fillmode": "overlay",
              "size": 10,
              "solidity": 0.2
             }
            },
            "type": "histogram"
           }
          ],
          "histogram2d": [
           {
            "colorbar": {
             "outlinewidth": 0,
             "ticks": ""
            },
            "colorscale": [
             [
              0,
              "#0d0887"
             ],
             [
              0.1111111111111111,
              "#46039f"
             ],
             [
              0.2222222222222222,
              "#7201a8"
             ],
             [
              0.3333333333333333,
              "#9c179e"
             ],
             [
              0.4444444444444444,
              "#bd3786"
             ],
             [
              0.5555555555555556,
              "#d8576b"
             ],
             [
              0.6666666666666666,
              "#ed7953"
             ],
             [
              0.7777777777777778,
              "#fb9f3a"
             ],
             [
              0.8888888888888888,
              "#fdca26"
             ],
             [
              1,
              "#f0f921"
             ]
            ],
            "type": "histogram2d"
           }
          ],
          "histogram2dcontour": [
           {
            "colorbar": {
             "outlinewidth": 0,
             "ticks": ""
            },
            "colorscale": [
             [
              0,
              "#0d0887"
             ],
             [
              0.1111111111111111,
              "#46039f"
             ],
             [
              0.2222222222222222,
              "#7201a8"
             ],
             [
              0.3333333333333333,
              "#9c179e"
             ],
             [
              0.4444444444444444,
              "#bd3786"
             ],
             [
              0.5555555555555556,
              "#d8576b"
             ],
             [
              0.6666666666666666,
              "#ed7953"
             ],
             [
              0.7777777777777778,
              "#fb9f3a"
             ],
             [
              0.8888888888888888,
              "#fdca26"
             ],
             [
              1,
              "#f0f921"
             ]
            ],
            "type": "histogram2dcontour"
           }
          ],
          "mesh3d": [
           {
            "colorbar": {
             "outlinewidth": 0,
             "ticks": ""
            },
            "type": "mesh3d"
           }
          ],
          "parcoords": [
           {
            "line": {
             "colorbar": {
              "outlinewidth": 0,
              "ticks": ""
             }
            },
            "type": "parcoords"
           }
          ],
          "pie": [
           {
            "automargin": true,
            "type": "pie"
           }
          ],
          "scatter": [
           {
            "fillpattern": {
             "fillmode": "overlay",
             "size": 10,
             "solidity": 0.2
            },
            "type": "scatter"
           }
          ],
          "scatter3d": [
           {
            "line": {
             "colorbar": {
              "outlinewidth": 0,
              "ticks": ""
             }
            },
            "marker": {
             "colorbar": {
              "outlinewidth": 0,
              "ticks": ""
             }
            },
            "type": "scatter3d"
           }
          ],
          "scattercarpet": [
           {
            "marker": {
             "colorbar": {
              "outlinewidth": 0,
              "ticks": ""
             }
            },
            "type": "scattercarpet"
           }
          ],
          "scattergeo": [
           {
            "marker": {
             "colorbar": {
              "outlinewidth": 0,
              "ticks": ""
             }
            },
            "type": "scattergeo"
           }
          ],
          "scattergl": [
           {
            "marker": {
             "colorbar": {
              "outlinewidth": 0,
              "ticks": ""
             }
            },
            "type": "scattergl"
           }
          ],
          "scattermapbox": [
           {
            "marker": {
             "colorbar": {
              "outlinewidth": 0,
              "ticks": ""
             }
            },
            "type": "scattermapbox"
           }
          ],
          "scatterpolar": [
           {
            "marker": {
             "colorbar": {
              "outlinewidth": 0,
              "ticks": ""
             }
            },
            "type": "scatterpolar"
           }
          ],
          "scatterpolargl": [
           {
            "marker": {
             "colorbar": {
              "outlinewidth": 0,
              "ticks": ""
             }
            },
            "type": "scatterpolargl"
           }
          ],
          "scatterternary": [
           {
            "marker": {
             "colorbar": {
              "outlinewidth": 0,
              "ticks": ""
             }
            },
            "type": "scatterternary"
           }
          ],
          "surface": [
           {
            "colorbar": {
             "outlinewidth": 0,
             "ticks": ""
            },
            "colorscale": [
             [
              0,
              "#0d0887"
             ],
             [
              0.1111111111111111,
              "#46039f"
             ],
             [
              0.2222222222222222,
              "#7201a8"
             ],
             [
              0.3333333333333333,
              "#9c179e"
             ],
             [
              0.4444444444444444,
              "#bd3786"
             ],
             [
              0.5555555555555556,
              "#d8576b"
             ],
             [
              0.6666666666666666,
              "#ed7953"
             ],
             [
              0.7777777777777778,
              "#fb9f3a"
             ],
             [
              0.8888888888888888,
              "#fdca26"
             ],
             [
              1,
              "#f0f921"
             ]
            ],
            "type": "surface"
           }
          ],
          "table": [
           {
            "cells": {
             "fill": {
              "color": "#EBF0F8"
             },
             "line": {
              "color": "white"
             }
            },
            "header": {
             "fill": {
              "color": "#C8D4E3"
             },
             "line": {
              "color": "white"
             }
            },
            "type": "table"
           }
          ]
         },
         "layout": {
          "annotationdefaults": {
           "arrowcolor": "#2a3f5f",
           "arrowhead": 0,
           "arrowwidth": 1
          },
          "autotypenumbers": "strict",
          "coloraxis": {
           "colorbar": {
            "outlinewidth": 0,
            "ticks": ""
           }
          },
          "colorscale": {
           "diverging": [
            [
             0,
             "#8e0152"
            ],
            [
             0.1,
             "#c51b7d"
            ],
            [
             0.2,
             "#de77ae"
            ],
            [
             0.3,
             "#f1b6da"
            ],
            [
             0.4,
             "#fde0ef"
            ],
            [
             0.5,
             "#f7f7f7"
            ],
            [
             0.6,
             "#e6f5d0"
            ],
            [
             0.7,
             "#b8e186"
            ],
            [
             0.8,
             "#7fbc41"
            ],
            [
             0.9,
             "#4d9221"
            ],
            [
             1,
             "#276419"
            ]
           ],
           "sequential": [
            [
             0,
             "#0d0887"
            ],
            [
             0.1111111111111111,
             "#46039f"
            ],
            [
             0.2222222222222222,
             "#7201a8"
            ],
            [
             0.3333333333333333,
             "#9c179e"
            ],
            [
             0.4444444444444444,
             "#bd3786"
            ],
            [
             0.5555555555555556,
             "#d8576b"
            ],
            [
             0.6666666666666666,
             "#ed7953"
            ],
            [
             0.7777777777777778,
             "#fb9f3a"
            ],
            [
             0.8888888888888888,
             "#fdca26"
            ],
            [
             1,
             "#f0f921"
            ]
           ],
           "sequentialminus": [
            [
             0,
             "#0d0887"
            ],
            [
             0.1111111111111111,
             "#46039f"
            ],
            [
             0.2222222222222222,
             "#7201a8"
            ],
            [
             0.3333333333333333,
             "#9c179e"
            ],
            [
             0.4444444444444444,
             "#bd3786"
            ],
            [
             0.5555555555555556,
             "#d8576b"
            ],
            [
             0.6666666666666666,
             "#ed7953"
            ],
            [
             0.7777777777777778,
             "#fb9f3a"
            ],
            [
             0.8888888888888888,
             "#fdca26"
            ],
            [
             1,
             "#f0f921"
            ]
           ]
          },
          "colorway": [
           "#636efa",
           "#EF553B",
           "#00cc96",
           "#ab63fa",
           "#FFA15A",
           "#19d3f3",
           "#FF6692",
           "#B6E880",
           "#FF97FF",
           "#FECB52"
          ],
          "font": {
           "color": "#2a3f5f"
          },
          "geo": {
           "bgcolor": "white",
           "lakecolor": "white",
           "landcolor": "#E5ECF6",
           "showlakes": true,
           "showland": true,
           "subunitcolor": "white"
          },
          "hoverlabel": {
           "align": "left"
          },
          "hovermode": "closest",
          "mapbox": {
           "style": "light"
          },
          "paper_bgcolor": "white",
          "plot_bgcolor": "#E5ECF6",
          "polar": {
           "angularaxis": {
            "gridcolor": "white",
            "linecolor": "white",
            "ticks": ""
           },
           "bgcolor": "#E5ECF6",
           "radialaxis": {
            "gridcolor": "white",
            "linecolor": "white",
            "ticks": ""
           }
          },
          "scene": {
           "xaxis": {
            "backgroundcolor": "#E5ECF6",
            "gridcolor": "white",
            "gridwidth": 2,
            "linecolor": "white",
            "showbackground": true,
            "ticks": "",
            "zerolinecolor": "white"
           },
           "yaxis": {
            "backgroundcolor": "#E5ECF6",
            "gridcolor": "white",
            "gridwidth": 2,
            "linecolor": "white",
            "showbackground": true,
            "ticks": "",
            "zerolinecolor": "white"
           },
           "zaxis": {
            "backgroundcolor": "#E5ECF6",
            "gridcolor": "white",
            "gridwidth": 2,
            "linecolor": "white",
            "showbackground": true,
            "ticks": "",
            "zerolinecolor": "white"
           }
          },
          "shapedefaults": {
           "line": {
            "color": "#2a3f5f"
           }
          },
          "ternary": {
           "aaxis": {
            "gridcolor": "white",
            "linecolor": "white",
            "ticks": ""
           },
           "baxis": {
            "gridcolor": "white",
            "linecolor": "white",
            "ticks": ""
           },
           "bgcolor": "#E5ECF6",
           "caxis": {
            "gridcolor": "white",
            "linecolor": "white",
            "ticks": ""
           }
          },
          "title": {
           "x": 0.05
          },
          "xaxis": {
           "automargin": true,
           "gridcolor": "white",
           "linecolor": "white",
           "ticks": "",
           "title": {
            "standoff": 15
           },
           "zerolinecolor": "white",
           "zerolinewidth": 2
          },
          "yaxis": {
           "automargin": true,
           "gridcolor": "white",
           "linecolor": "white",
           "ticks": "",
           "title": {
            "standoff": 15
           },
           "zerolinecolor": "white",
           "zerolinewidth": 2
          }
         }
        },
        "width": 800
       }
      },
      "text/html": [
       "<div>                            <div id=\"3a6f31fd-cd16-454e-a06e-da022c403129\" class=\"plotly-graph-div\" style=\"height:800px; width:800px;\"></div>            <script type=\"text/javascript\">                require([\"plotly\"], function(Plotly) {                    window.PLOTLYENV=window.PLOTLYENV || {};                                    if (document.getElementById(\"3a6f31fd-cd16-454e-a06e-da022c403129\")) {                    Plotly.newPlot(                        \"3a6f31fd-cd16-454e-a06e-da022c403129\",                        [{\"marker\":{\"size\":1},\"name\":\"Pred Camera 0\",\"x\":[-0.033322036266326904,-0.03749430179595947,-0.04992256686091423,-0.03749430179595947,-0.04166656732559204,0.0329030379652977,0.041247569024562836,-0.033322036266326904,0.006484540645033121,-0.04166656732559204,0.0329030379652977,0.006484540645033121,0.041247569024562836,0.006484540645033121,-0.0035565230064094067],\"y\":[0.04868965223431587,-0.0011299382895231247,-0.00010241800919175148,-0.0011299382895231247,-0.05094952508807182,-0.057114649564027786,0.04252452775835991,0.04868965223431587,-0.006324962247163057,-0.05094952508807182,-0.057114649564027786,-0.006324962247163057,0.04252452775835991,-0.006324962247163057,-0.0031562692020088434],\"z\":[-0.0967584177851677,-0.0975334644317627,-0.09667769074440002,-0.0975334644317627,-0.0983085036277771,-0.10344313830137253,-0.10189305245876312,-0.0967584177851677,-0.0003474546247161925,-0.0983085036277771,-0.10344313830137253,-0.0003474546247161925,-0.10189305245876312,-0.0003474546247161925,-0.1499774307012558],\"type\":\"scatter3d\",\"scene\":\"scene\",\"line\":{\"color\":\"#ff0000\",\"width\":4}},{\"marker\":{\"size\":1},\"name\":\"Pred Camera 1\",\"x\":[0.10890555381774902,0.10726170986890793,0.11520812660455704,0.10726170986890793,0.10561787337064743,0.057939350605010986,0.06122703105211258,0.10890555381774902,0.006299981847405434,0.10561787337064743,0.057939350605010986,0.006299981847405434,0.06122703105211258,0.006299981847405434,0.12198368459939957],\"y\":[0.03437281399965286,-0.015592241659760475,-0.015681909397244453,-0.015592241659760475,-0.06555730104446411,-0.06501929461956024,0.03491082042455673,0.03437281399965286,-0.011654573492705822,-0.06555730104446411,-0.06501929461956024,-0.011654573492705822,0.03491082042455673,-0.011654573492705822,-0.017157573252916336],\"z\":[0.03683247044682503,0.03594297543168068,0.02629433013498783,0.03594297543168068,0.035053472965955734,0.09294535964727402,0.09472435712814331,0.03683247044682503,0.0013383976183831692,0.035053472965955734,0.09294535964727402,0.0013383976183831692,0.09472435712814331,0.0013383976183831692,0.0966641753911972],\"type\":\"scatter3d\",\"scene\":\"scene\",\"line\":{\"color\":\"#ff4700\",\"width\":4}},{\"marker\":{\"size\":1},\"name\":\"Pred Camera 2\",\"x\":[0.014825903810560703,0.019671615213155746,0.031923286616802216,0.019671615213155746,0.024517327547073364,-0.048992693424224854,-0.05868411809206009,0.014825903810560703,0.00022132402227725834,0.024517327547073364,-0.048992693424224854,0.00022132402227725834,-0.05868411809206009,0.00022132402227725834,-0.025735756382346153],\"y\":[-0.06290413439273834,-0.013155260123312473,-0.014402555301785469,-0.013155260123312473,0.036593616008758545,0.04407738894224167,-0.05542036145925522,-0.06290413439273834,-0.008619474247097969,0.036593616008758545,0.04407738894224167,-0.008619474247097969,-0.05542036145925522,-0.008619474247097969,-0.00981032196432352],\"z\":[-0.1022312268614769,-0.1034836545586586,-0.10562626272439957,-0.1034836545586586,-0.1047360822558403,-0.09188040345907211,-0.08937554806470871,-0.1022312268614769,0.0014323298819363117,-0.1047360822558403,-0.09188040345907211,0.0014323298819363117,-0.08937554806470871,0.0014323298819363117,-0.14629988372325897],\"type\":\"scatter3d\",\"scene\":\"scene\",\"line\":{\"color\":\"#ff9400\",\"width\":4}},{\"marker\":{\"size\":1},\"name\":\"Pred Camera 3\",\"x\":[-0.02605520375072956,0.01825658418238163,0.024023041129112244,0.01825658418238163,0.06256836652755737,0.02796962298452854,-0.06065395474433899,-0.02605520375072956,0.005168184172362089,0.06256836652755737,0.02796962298452854,0.005168184172362089,-0.06065395474433899,0.005168184172362089,-0.0011482788249850273],\"y\":[0.04928087070584297,0.026152784004807472,0.03723005950450897,0.026152784004807472,0.003024694975465536,-0.06343896687030792,-0.017182791605591774,0.04928087070584297,-0.0043997690081596375,0.003024694975465536,-0.06343896687030792,-0.0043997690081596375,-0.017182791605591774,-0.0043997690081596375,-0.008418688550591469],\"z\":[0.10220515727996826,0.10345299541950226,0.10399328917264938,0.10345299541950226,0.10470084100961685,0.10145911574363708,0.0989634320139885,0.10220515727996826,0.0019567529670894146,0.10470084100961685,0.10145911574363708,0.0019567529670894146,0.0989634320139885,0.0019567529670894146,0.15176981687545776],\"type\":\"scatter3d\",\"scene\":\"scene\",\"line\":{\"color\":\"#ffe000\",\"width\":4}},{\"marker\":{\"size\":1},\"name\":\"Pred Camera 4\",\"x\":[-0.005242395214736462,-0.026263318955898285,-0.037602923810482025,-0.026263318955898285,-0.04728424549102783,0.020753387361764908,0.0627952441573143,-0.005242395214736462,0.006042978726327419,-0.04728424549102783,0.020753387361764908,0.006042978726327419,0.0627952441573143,0.006042978726327419,0.00861175637692213],\"y\":[-0.07181866466999054,-0.02645745500922203,-0.0317075252532959,-0.02645745500922203,0.01890375092625618,0.05040418356657028,-0.04031823202967644,-0.07181866466999054,-0.013030409812927246,0.01890375092625618,0.05040418356657028,-0.013030409812927246,-0.04031823202967644,-0.013030409812927246,-0.009545654989778996],\"z\":[0.10412988811731339,0.10343576967716217,0.10375206917524338,0.10343576967716217,0.10274165123701096,0.1008438691496849,0.10223210602998734,0.10412988811731339,0.002528558252379298,0.10274165123701096,0.1008438691496849,0.002528558252379298,0.10223210602998734,0.002528558252379298,0.1524660438299179],\"type\":\"scatter3d\",\"scene\":\"scene\",\"line\":{\"color\":\"#d1ff00\",\"width\":4}},{\"marker\":{\"size\":1},\"name\":\"Pred Camera 5\",\"x\":[-0.05060248076915741,-0.03689819574356079,-0.04885990917682648,-0.03689819574356079,-0.02319391258060932,0.04857634752988815,0.021167777478694916,-0.05060248076915741,0.008552109822630882,-0.02319391258060932,0.04857634752988815,0.008552109822630882,0.021167777478694916,0.008552109822630882,-0.005795655772089958],\"y\":[0.027345072478055954,-0.02072826772928238,-0.02416418492794037,-0.02072826772928238,-0.06880161166191101,-0.04818608984351158,0.047960590571165085,0.027345072478055954,-0.009910833090543747,-0.06880161166191101,-0.04818608984351158,-0.009910833090543747,0.047960590571165085,-0.009910833090543747,-0.010675344616174698],\"z\":[-0.09477666765451431,-0.09584740549325943,-0.09468036890029907,-0.09584740549325943,-0.09691814333200455,-0.1039203479886055,-0.10177887231111526,-0.09477666765451431,0.00019168987637385726,-0.09691814333200455,-0.1039203479886055,0.00019168987637385726,-0.10177887231111526,0.00019168987637385726,-0.14911861717700958],\"type\":\"scatter3d\",\"scene\":\"scene\",\"line\":{\"color\":\"#84ff00\",\"width\":4}},{\"marker\":{\"size\":1},\"name\":\"Pred Camera 6\",\"x\":[0.07338983565568924,0.02540675550699234,0.028876543045043945,0.02540675550699234,-0.02257632091641426,-0.043395038694143295,0.05257111415266991,0.07338983565568924,0.01052770670503378,-0.02257632091641426,-0.043395038694143295,0.01052770670503378,0.05257111415266991,0.01052770670503378,0.017232241109013557],\"y\":[0.005644851829856634,0.01923806592822075,0.03119649365544319,0.01923806592822075,0.032831281423568726,-0.03891928121447563,-0.06610570847988129,0.005644851829856634,-0.006214019376784563,0.032831281423568726,-0.03891928121447563,-0.006214019376784563,-0.06610570847988129,-0.006214019376784563,-0.021848810836672783],\"z\":[-0.09860079735517502,-0.10218545794487,-0.10328390449285507,-0.10218545794487,-0.10577011853456497,-0.09917942434549332,-0.09201010316610336,-0.09860079735517502,0.00046471384121105075,-0.10577011853456497,-0.09917942434549332,0.00046471384121105075,-0.09201010316610336,0.00046471384121105075,-0.14856752753257751],\"type\":\"scatter3d\",\"scene\":\"scene\",\"line\":{\"color\":\"#3dff00\",\"width\":4}},{\"marker\":{\"size\":1},\"name\":\"Pred Camera 7\",\"x\":[-0.01278871763497591,-0.012686301954090595,-0.024907829239964485,-0.012686301954090595,-0.01258388627320528,0.060745272785425186,0.060540441423654556,-0.01278871763497591,0.002988925902172923,-0.01258388627320528,0.060745272785425186,0.002988925902172923,0.060540441423654556,0.002988925902172923,0.03447295352816582],\"y\":[-0.05919041112065315,-0.009190565906465054,-0.009161770343780518,-0.009190565906465054,0.040809277445077896,0.04063650593161583,-0.05936318263411522,-0.05919041112065315,-0.009374089539051056,0.040809277445077896,0.04063650593161583,-0.009374089539051056,-0.05936318263411522,-0.009374089539051056,-0.00922838319092989],\"z\":[0.10642655193805695,0.10635489225387573,0.1089785248041153,0.10635489225387573,0.10628323256969452,0.09054140746593475,0.09068472683429718,0.10642655193805695,0.0007115968037396669,0.10628323256969452,0.09054140746593475,0.0007115968037396669,0.09068472683429718,0.0007115968037396669,0.14737015962600708],\"type\":\"scatter3d\",\"scene\":\"scene\",\"line\":{\"color\":\"#00ff10\",\"width\":4}},{\"marker\":{\"size\":1},\"name\":\"Pred Camera 8\",\"x\":[-0.04489847272634506,-0.022617623209953308,-0.033797793090343475,-0.022617623209953308,-0.0003367755562067032,0.06674423068761826,0.022182540968060493,-0.04489847272634506,0.007114829495549202,-0.0003367755562067032,0.06674423068761826,0.007114829495549202,0.022182540968060493,0.007114829495549202,0.012826909311115742],\"y\":[0.01854739710688591,-0.026212438941001892,-0.03178156912326813,-0.026212438941001892,-0.07097227871417999,-0.03755747526884079,0.05196220055222511,0.01854739710688591,-0.01062444131821394,-0.07097227871417999,-0.03755747526884079,-0.01062444131821394,0.05196220055222511,-0.01062444131821394,-0.008945336565375328],\"z\":[-0.09843556582927704,-0.0980878621339798,-0.09857633709907532,-0.0980878621339798,-0.09774016588926315,-0.09480932354927063,-0.09550472348928452,-0.09843556582927704,0.003298745723441243,-0.09774016588926315,-0.09480932354927063,0.003298745723441243,-0.09550472348928452,0.003298745723441243,-0.14658305048942566],\"type\":\"scatter3d\",\"scene\":\"scene\",\"line\":{\"color\":\"#00ff5c\",\"width\":4}},{\"marker\":{\"size\":1},\"name\":\"Pred Camera 9\",\"x\":[-0.027892258018255234,-0.021657604724168777,-0.03397520259022713,-0.021657604724168777,-0.015422951430082321,0.05848264321684837,0.04601333662867546,-0.027892258018255234,0.0037094508297741413,-0.015422951430082321,0.05848264321684837,0.0037094508297741413,0.04601333662867546,0.0037094508297741413,0.021088065579533577],\"y\":[-0.05615055188536644,-0.006557537708431482,-0.004972131922841072,-0.006557537708431482,0.04303548112511635,0.033523041754961014,-0.06566298753023148,-0.05615055188536644,-0.012438966892659664,0.04303548112511635,0.033523041754961014,-0.012438966892659664,-0.06566298753023148,-0.012438966892659664,-0.010751149617135525],\"z\":[0.10643065720796585,0.1051415354013443,0.10656042397022247,0.1051415354013443,0.10385241359472275,0.09533906728029251,0.09791731089353561,0.10643065720796585,0.001564644742757082,0.10385241359472275,0.09533906728029251,0.001564644742757082,0.09791731089353561,0.001564644742757082,0.15054498612880707],\"type\":\"scatter3d\",\"scene\":\"scene\",\"line\":{\"color\":\"#00ffa9\",\"width\":4}},{\"marker\":{\"size\":1},\"name\":\"Pred Camera 10\",\"x\":[0.044219136238098145,0.04237872362136841,0.05487004667520523,0.04237872362136841,0.04053831100463867,-0.03440964221954346,-0.030728816986083984,0.044219136238098145,0.004333611112087965,0.04053831100463867,-0.03440964221954346,0.004333611112087965,-0.030728816986083984,0.004333611112087965,0.0051903147250413895],\"y\":[-0.06172533705830574,-0.01175942737609148,-0.011299540288746357,-0.01175942737609148,0.03820648416876793,0.03544716164469719,-0.06448466330766678,-0.06172533705830574,-0.013449949212372303,0.03820648416876793,0.03544716164469719,-0.013449949212372303,-0.06448466330766678,-0.013449949212372303,-0.012983660213649273],\"z\":[-0.09836991876363754,-0.09822510182857513,-0.09815232455730438,-0.09822510182857513,-0.09808028489351273,-0.09851693361997604,-0.09880656749010086,-0.09836991876363754,0.0015544499037787318,-0.09808028489351273,-0.09851693361997604,0.0015544499037787318,-0.09880656749010086,0.0015544499037787318,-0.1484423726797104],\"type\":\"scatter3d\",\"scene\":\"scene\",\"line\":{\"color\":\"#00fff6\",\"width\":4}},{\"marker\":{\"size\":1},\"name\":\"Pred Camera 11\",\"x\":[-0.040323078632354736,-0.025938156992197037,-0.0378829687833786,-0.025938156992197037,-0.011553235352039337,0.060115642845630646,0.03134579956531525,-0.040323078632354736,0.0035032983869314194,-0.011553235352039337,0.060115642845630646,0.0035032983869314194,0.03134579956531525,0.0035032983869314194,0.013092773966491222],\"y\":[0.023621518164873123,-0.024208035320043564,-0.027832530438899994,-0.024208035320043564,-0.07203758507966995,-0.050290610641241074,0.0453684963285923,0.023621518164873123,-0.010407301597297192,-0.07203758507966995,-0.050290610641241074,-0.010407301597297192,0.0453684963285923,-0.010407301597297192,-0.014798169955611229],\"z\":[-0.0998794361948967,-0.09755396842956543,-0.09821312874555588,-0.09755396842956543,-0.09522850066423416,-0.09127352386713028,-0.09592445939779282,-0.0998794361948967,0.004176025278866291,-0.09522850066423416,-0.09127352386713028,0.004176025278866291,-0.09592445939779282,0.004176025278866291,-0.14545273780822754],\"type\":\"scatter3d\",\"scene\":\"scene\",\"line\":{\"color\":\"#00c1ff\",\"width\":4}},{\"marker\":{\"size\":1},\"name\":\"Pred Camera 12\",\"x\":[0.055965568870306015,0.053646769374608994,0.0660053938627243,0.053646769374608994,0.05132797732949257,-0.022823764011263847,-0.0181861724704504,0.055965568870306015,0.0023084923159331083,0.05132797732949257,-0.022823764011263847,0.0023084923159331083,-0.0181861724704504,0.0023084923159331083,0.02370210736989975],\"y\":[0.038641612976789474,-0.011303065344691277,-0.011890741996467113,-0.011303065344691277,-0.06124773994088173,-0.05772167816758156,0.042167674750089645,0.038641612976789474,-0.009650719352066517,-0.06124773994088173,-0.05772167816758156,-0.009650719352066517,0.042167674750089645,-0.009650719352066517,-0.009484691545367241],\"z\":[0.09468844532966614,0.09507843106985092,0.09329824149608612,0.09507843106985092,0.0954684168100357,0.10614955425262451,0.10536958277225494,0.09468844532966614,0.0014413720928132534,0.0954684168100357,0.10614955425262451,0.0014413720928132534,0.10536958277225494,0.0014413720928132534,0.14990781247615814],\"type\":\"scatter3d\",\"scene\":\"scene\",\"line\":{\"color\":\"#0074ff\",\"width\":4}},{\"marker\":{\"size\":1},\"name\":\"Pred Camera 13\",\"x\":[-0.010733288712799549,-0.01583324372768402,-0.028075244277715683,-0.01583324372768402,-0.020933199673891068,0.05251877382397652,0.06271868944168091,-0.010733288712799549,0.0034425975754857063,-0.020933199673891068,0.05251877382397652,0.0034425975754857063,0.06271868944168091,0.0034425975754857063,0.029617812484502792],\"y\":[-0.05898986756801605,-0.009255881421267986,-0.010479145683348179,-0.009255881421267986,0.04047810286283493,0.047817692160606384,-0.0516502782702446,-0.05898986756801605,-0.008803940378129482,0.04047810286283493,0.047817692160606384,-0.008803940378129482,-0.0516502782702446,-0.008803940378129482,-0.0039771609008312225],\"z\":[0.10530686378479004,0.10458498448133469,0.10679567605257034,0.10458498448133469,0.10386311262845993,0.09059897065162659,0.0920427218079567,0.10530686378479004,-0.00046018167631700635,0.10386311262845993,0.09059897065162659,-0.00046018167631700635,0.0920427218079567,-0.00046018167631700635,0.14715948700904846],\"type\":\"scatter3d\",\"scene\":\"scene\",\"line\":{\"color\":\"#0028ff\",\"width\":4}},{\"marker\":{\"size\":1},\"name\":\"Pred Camera 14\",\"x\":[0.016920005902647972,0.02312374860048294,0.03532269224524498,0.02312374860048294,0.02932749316096306,-0.04386617988348007,-0.05627366155385971,0.016920005902647972,0.004469601437449455,0.02932749316096306,-0.04386617988348007,0.004469601437449455,-0.05627366155385971,0.004469601437449455,-0.022444430738687515],\"y\":[-0.060201238840818405,-0.010587925091385841,-0.012121541425585747,-0.010587925091385841,0.039025384932756424,0.04822709038853645,-0.050999533385038376,-0.060201238840818405,-0.007871255278587341,0.039025384932756424,0.04822709038853645,-0.007871255278587341,-0.050999533385038376,-0.007871255278587341,-0.005044983699917793],\"z\":[-0.10505829751491547,-0.10523958504199982,-0.1074942946434021,-0.10523958504199982,-0.10542087256908417,-0.09189258515834808,-0.09153001010417938,-0.10505829751491547,-0.00011636322597041726,-0.10542087256908417,-0.09189258515834808,-0.00011636322597041726,-0.09153001010417938,-0.00011636322597041726,-0.14765498042106628],\"type\":\"scatter3d\",\"scene\":\"scene\",\"line\":{\"color\":\"#2500ff\",\"width\":4}},{\"marker\":{\"size\":1},\"name\":\"Pred Camera 15\",\"x\":[-0.0288960263133049,-0.01850356161594391,-0.03056889958679676,-0.01850356161594391,-0.008111097849905491,0.0642809197306633,0.04349599406123161,-0.0288960263133049,0.0018382134148851037,-0.008111097849905491,0.0642809197306633,0.0018382134148851037,0.04349599406123161,0.0018382134148851037,0.025619564577937126],\"y\":[-0.05297507345676422,-0.004081057384610176,-0.001469518058001995,-0.004081057384610176,0.04481296241283417,0.029143719002604485,-0.06864431500434875,-0.05297507345676422,-0.010910654440522194,0.04481296241283417,0.029143719002604485,-0.010910654440522194,-0.06864431500434875,-0.010910654440522194,-0.012418190017342567],\"z\":[0.10690972208976746,0.10573861002922058,0.10770266503095627,0.10573861002922058,0.10456749051809311,0.09278315305709839,0.09512538462877274,0.10690972208976746,0.001116333995014429,0.10456749051809311,0.09278315305709839,0.001116333995014429,0.09512538462877274,0.001116333995014429,0.14921149611473083],\"type\":\"scatter3d\",\"scene\":\"scene\",\"line\":{\"color\":\"#7200ff\",\"width\":4}},{\"marker\":{\"size\":1},\"name\":\"Pred Camera 16\",\"x\":[-0.023490801453590393,0.021325696259737015,0.026865370571613312,0.021325696259737015,0.06614219397306442,0.03290414810180664,-0.056728847324848175,-0.023490801453590393,0.006082585081458092,0.06614219397306442,0.03290414810180664,0.006082585081458092,-0.056728847324848175,0.006082585081458092,0.00401871744543314],\"y\":[-0.06356900930404663,-0.041423946619033813,-0.05259223282337189,-0.041423946619033813,-0.019278883934020996,0.04773082584142685,0.003440704196691513,-0.06356900930404663,-0.015377245843410492,-0.019278883934020996,0.04773082584142685,-0.015377245843410492,0.003440704196691513,-0.015377245843410492,-0.004190012812614441],\"z\":[-0.1015016958117485,-0.10046373307704926,-0.1013755276799202,-0.10046373307704926,-0.0994257777929306,-0.09395500272512436,-0.09603092074394226,-0.1015016958117485,0.001983657479286194,-0.0994257777929306,-0.09395500272512436,0.001983657479286194,-0.09603092074394226,0.001983657479286194,-0.14758434891700745],\"type\":\"scatter3d\",\"scene\":\"scene\",\"line\":{\"color\":\"#b900ff\",\"width\":4}},{\"marker\":{\"size\":1},\"name\":\"Pred Camera 17\",\"x\":[0.00007717451080679893,-0.015006544068455696,-0.026722373440861702,-0.015006544068455696,-0.03009026311337948,0.04020471125841141,0.07037214934825897,0.00007717451080679893,0.002669775392860174,-0.03009026311337948,0.04020471125841141,0.002669775392860174,0.07037214934825897,0.002669775392860174,0.02887652814388275],\"y\":[-0.06282967329025269,-0.015165065415203571,-0.018907848745584488,-0.015165065415203571,0.03249954432249069,0.05495624244213104,-0.040372975170612335,-0.06282967329025269,-0.00791181717067957,0.03249954432249069,0.05495624244213104,-0.00791181717067957,-0.040372975170612335,-0.00791181717067957,-0.0019491682760417461],\"z\":[0.10593581199645996,0.10668858140707016,0.1089203730225563,0.10668858140707016,0.10744135081768036,0.09405061602592468,0.09254507720470428,0.10593581199645996,0.001611525658518076,0.10744135081768036,0.09405061602592468,0.001611525658518076,0.09254507720470428,0.001611525658518076,0.14918406307697296],\"type\":\"scatter3d\",\"scene\":\"scene\",\"line\":{\"color\":\"#fc00f5\",\"width\":4}},{\"marker\":{\"size\":1},\"name\":\"Pred Camera 18\",\"x\":[-0.09277892857789993,-0.08943876624107361,-0.09864695370197296,-0.08943876624107361,-0.08609860390424728,-0.030849449336528778,-0.03752977401018143,-0.09277892857789993,0.005481898318976164,-0.08609860390424728,-0.030849449336528778,0.005481898318976164,-0.03752977401018143,0.005481898318976164,-0.09546224027872086],\"y\":[0.03329610824584961,-0.01658669300377369,-0.01732836291193962,-0.01658669300377369,-0.06646949052810669,-0.062019482254981995,0.037746116518974304,0.03329610824584961,-0.010953140445053577,-0.06646949052810669,-0.062019482254981995,-0.010953140445053577,0.037746116518974304,-0.010953140445053577,-0.016065962612628937],\"z\":[-0.046635642647743225,-0.04737664386630058,-0.03895588591694832,-0.04737664386630058,-0.04811764135956764,-0.09864217787981033,-0.09716017544269562,-0.046635642647743225,0.0012503305915743113,-0.04811764135956764,-0.09864217787981033,0.0012503305915743113,-0.09716017544269562,0.0012503305915743113,-0.1095835268497467],\"type\":\"scatter3d\",\"scene\":\"scene\",\"line\":{\"color\":\"#ff00ac\",\"width\":4}},{\"marker\":{\"size\":1},\"name\":\"Pred Camera 19\",\"x\":[0.006062211934477091,-0.008397435769438744,-0.020102256909012794,-0.008397435769438744,-0.02285708300769329,0.047371864318847656,0.07629115879535675,0.006062211934477091,0.006830171216279268,-0.02285708300769329,0.047371864318847656,0.006830171216279268,0.07629115879535675,0.006830171216279268,0.03666047379374504],\"y\":[-0.05975224822759628,-0.011895213276147842,-0.015387961640954018,-0.011895213276147842,0.0359618216753006,0.05691830813884735,-0.03879576176404953,-0.05975224822759628,-0.009036853909492493,0.0359618216753006,0.05691830813884735,-0.009036853909492493,-0.03879576176404953,-0.009036853909492493,0.002392970956861973],\"z\":[0.10896977037191391,0.10818058997392654,0.11083535850048065,0.10818058997392654,0.10739140957593918,0.09146278351545334,0.09304114431142807,0.10896977037191391,0.0025103436782956123,0.10739140957593918,0.09146278351545334,0.0025103436782956123,0.09304114431142807,0.0025103436782956123,0.14906923472881317],\"type\":\"scatter3d\",\"scene\":\"scene\",\"line\":{\"color\":\"#ff005f\",\"width\":4}},{\"marker\":{\"size\":1},\"name\":\"GT Camera 0\",\"x\":[-0.11619812250137329,-0.06619812548160553,-0.06619812548160553,-0.06619812548160553,-0.01619812473654747,-0.01619812473654747,-0.11619812250137329,-0.11619812250137329,-0.06619812548160553,-0.01619812473654747,-0.01619812473654747,-0.06619812548160553,-0.11619812250137329,-0.06619812548160553,-0.06619812548160553],\"y\":[0.05467446148395538,0.05467446148395538,0.06717446446418762,0.05467446148395538,0.05467446148395538,-0.020325541496276855,-0.020325541496276855,0.05467446148395538,0.017174459993839264,0.05467446148395538,-0.020325541496276855,0.017174459993839264,-0.020325541496276855,0.017174459993839264,0.017174459993839264],\"z\":[-0.89765864610672,-0.89765864610672,-0.89765864610672,-0.89765864610672,-0.89765864610672,-0.89765864610672,-0.89765864610672,-0.89765864610672,-0.9976586699485779,-0.89765864610672,-0.89765864610672,-0.9976586699485779,-0.89765864610672,-0.9976586699485779,-0.847658634185791],\"type\":\"scatter3d\",\"scene\":\"scene\",\"line\":{\"dash\":\"dash\",\"color\":\"#ff0000\",\"width\":4}},{\"marker\":{\"size\":1},\"name\":\"GT Camera 1\",\"x\":[0.08089639991521835,0.1286298632621765,0.12553898990154266,0.1286298632621765,0.17636331915855408,0.19490858912467957,0.09944166988134384,0.08089639991521835,0.15447482466697693,0.17636331915855408,0.19490858912467957,0.15447482466697693,0.09944166988134384,0.15447482466697693,0.12961633503437042],\"y\":[-0.02142389491200447,-0.008791454136371613,0.003302115947008133,-0.008791454136371613,0.0038409866392612457,-0.06872043013572693,-0.09398530423641205,-0.02142389491200447,-0.04625825583934784,0.0038409866392612457,-0.06872043013572693,-0.04625825583934784,-0.09398530423641205,-0.04625825583934784,-0.044479113072156906],\"z\":[-0.9432740211486816,-0.9354038834571838,-0.9360688328742981,-0.9354038834571838,-0.9275338053703308,-0.9235442876815796,-0.9392845034599304,-0.9432740211486816,-1.0320192575454712,-0.9275338053703308,-0.9235442876815796,-1.0320192575454712,-0.9392845034599304,-1.0320192575454712,-0.8841041326522827],\"type\":\"scatter3d\",\"scene\":\"scene\",\"line\":{\"dash\":\"dash\",\"color\":\"#ff4700\",\"width\":4}},{\"marker\":{\"size\":1},\"name\":\"GT Camera 2\",\"x\":[0.43374836444854736,0.4647314250469208,0.45761701464653015,0.4647314250469208,0.4957145154476166,0.5384010076522827,0.4764348268508911,0.43374836444854736,0.5401195287704468,0.4957145154476166,0.5384010076522827,0.5401195287704468,0.4764348268508911,0.5401195287704468,0.4590522348880768],\"y\":[0.06002683937549591,0.09141657501459122,0.10107521712779999,0.09141657501459122,0.12280631065368652,0.06485442817211151,0.0020749568939208984,0.06002683937549591,0.07183274626731873,0.12280631065368652,0.06485442817211151,0.07183274626731873,0.0020749568939208984,0.07183274626731873,0.057744577527046204],\"z\":[-0.9000003337860107,-0.8764475584030151,-0.8799612522125244,-0.8764475584030151,-0.8528947830200195,-0.8318129181861877,-0.8789185285568237,-0.9000003337860107,-0.9495185017585754,-0.8528947830200195,-0.8318129181861877,-0.9495185017585754,-0.8789185285568237,-0.9495185017585754,-0.8241007328033447],\"type\":\"scatter3d\",\"scene\":\"scene\",\"line\":{\"dash\":\"dash\",\"color\":\"#ff9400\",\"width\":4}},{\"marker\":{\"size\":1},\"name\":\"GT Camera 3\",\"x\":[-0.5649577975273132,-0.5584935545921326,-0.548392653465271,-0.5584935545921326,-0.5520292520523071,-0.6126347184181213,-0.6255632042884827,-0.5649577975273132,-0.646268367767334,-0.5520292520523071,-0.6126347184181213,-0.646268367767334,-0.6255632042884827,-0.646268367767334,-0.5600602030754089],\"y\":[0.4377339780330658,0.395911306142807,0.4009132385253906,0.395911306142807,0.3540886640548706,0.32407712936401367,0.40772244334220886,0.4377339780330658,0.4183519184589386,0.3540886640548706,0.32407712936401367,0.4183519184589386,0.40772244334220886,0.4183519184589386,0.3621823489665985],\"z\":[-0.6793219447135925,-0.7059504389762878,-0.7113543748855591,-0.7059504389762878,-0.7325789928436279,-0.7001553773880005,-0.6468983292579651,-0.6793219447135925,-0.7625035047531128,-0.7325789928436279,-0.7001553773880005,-0.7625035047531128,-0.6468983292579651,-0.7625035047531128,-0.6533561944961548],\"type\":\"scatter3d\",\"scene\":\"scene\",\"line\":{\"dash\":\"dash\",\"color\":\"#ffe000\",\"width\":4}},{\"marker\":{\"size\":1},\"name\":\"GT Camera 4\",\"x\":[-0.345133900642395,-0.385699987411499,-0.3805798292160034,-0.385699987411499,-0.426266074180603,-0.45698705315589905,-0.37585487961769104,-0.345133900642395,-0.44277071952819824,-0.426266074180603,-0.45698705315589905,-0.44277071952819824,-0.37585487961769104,-0.44277071952819824,-0.380205363035202],\"y\":[0.8899920582771301,0.8649030923843384,0.8633800148963928,0.8649030923843384,0.8398141264915466,0.8489526510238647,0.8991305232048035,0.8899920582771301,0.9551094174385071,0.8398141264915466,0.8489526510238647,0.9551094174385071,0.8991305232048035,0.9551094174385071,0.826653778553009],\"z\":[-0.31221795082092285,-0.32721585035324097,-0.3385169208049774,-0.32721585035324097,-0.3422137498855591,-0.27440735697746277,-0.24441155791282654,-0.31221795082092285,-0.32375186681747437,-0.3422137498855591,-0.27440735697746277,-0.32375186681747437,-0.24441155791282654,-0.32375186681747437,-0.27809303998947144],\"type\":\"scatter3d\",\"scene\":\"scene\",\"line\":{\"dash\":\"dash\",\"color\":\"#d1ff00\",\"width\":4}},{\"marker\":{\"size\":1},\"name\":\"GT Camera 5\",\"x\":[0.7808879613876343,0.7562408447265625,0.7484273910522461,0.7562408447265625,0.7315937280654907,0.7784744501113892,0.8277686834335327,0.7808879613876343,0.8402028679847717,0.7315937280654907,0.7784744501113892,0.8402028679847717,0.8277686834335327,0.8402028679847717,0.7494204044342041],\"y\":[0.7781097888946533,0.8127385377883911,0.814477801322937,0.8127385377883911,0.8473672866821289,0.8369318246841431,0.7676743268966675,0.7781097888946533,0.8783007860183716,0.8473672866821289,0.8369318246841431,0.8783007860183716,0.7676743268966675,0.8783007860183716,0.7721308469772339],\"z\":[-0.4500572681427002,-0.4237253665924072,-0.4333261251449585,-0.4237253665924072,-0.39739343523979187,-0.3397887647151947,-0.3924526274204254,-0.4500572681427002,-0.4313555061817169,-0.39739343523979187,-0.3397887647151947,-0.4313555061817169,-0.3924526274204254,-0.4313555061817169,-0.3767067790031433],\"type\":\"scatter3d\",\"scene\":\"scene\",\"line\":{\"dash\":\"dash\",\"color\":\"#84ff00\",\"width\":4}},{\"marker\":{\"size\":1},\"name\":\"GT Camera 6\",\"x\":[-0.09923652559518814,-0.04926001653075218,-0.04955797269940376,-0.04926001653075218,0.0007164999842643738,0.0025042518973350525,-0.09744877368211746,-0.09923652559518814,-0.04644026607275009,0.0007164999842643738,0.0025042518973350525,-0.04644026607275009,-0.09744877368211746,-0.04644026607275009,-0.04932907223701477],\"y\":[0.047832343727350235,0.049027733504772186,0.061524081975221634,0.049027733504772186,0.05022312328219414,-0.02475498989224434,-0.02714576944708824,0.047832343727350235,0.011191987432539463,0.05022312328219414,-0.02475498989224434,0.011191987432539463,-0.02714576944708824,0.011191987432539463,0.011712023057043552],\"z\":[-0.9053335785865784,-0.9043750166893005,-0.9044241309165955,-0.9043750166893005,-0.9034165143966675,-0.903122067451477,-0.9050391316413879,-0.9053335785865784,-1.0042086839675903,-0.9034165143966675,-0.903122067451477,-1.0042086839675903,-0.9050391316413879,-1.0042086839675903,-0.8542373776435852],\"type\":\"scatter3d\",\"scene\":\"scene\",\"line\":{\"dash\":\"dash\",\"color\":\"#3dff00\",\"width\":4}},{\"marker\":{\"size\":1},\"name\":\"GT Camera 7\",\"x\":[0.6536844372749329,0.6700794100761414,0.6613345742225647,0.6700794100761414,0.6864743828773499,0.7389432191848755,0.7061532735824585,0.6536844372749329,0.7598010897636414,0.6864743828773499,0.7389432191848755,0.7598010897636414,0.7061532735824585,0.7598010897636414,0.6645702123641968],\"y\":[0.225409597158432,0.26276421546936035,0.2703059911727905,0.26276421546936035,0.3001188039779663,0.25486811995506287,0.18015889823436737,0.225409597158432,0.2680370807647705,0.3001188039779663,0.25486811995506287,0.2680370807647705,0.18015889823436737,0.2680370807647705,0.2261897474527359],\"z\":[-0.7928271293640137,-0.7639163136482239,-0.7687016725540161,-0.7639163136482239,-0.7350054383277893,-0.7062931656837463,-0.7641148567199707,-0.7928271293640137,-0.8216091394424438,-0.7350054383277893,-0.7062931656837463,-0.8216091394424438,-0.7641148567199707,-0.8216091394424438,-0.7135356664657593],\"type\":\"scatter3d\",\"scene\":\"scene\",\"line\":{\"dash\":\"dash\",\"color\":\"#00ff10\",\"width\":4}},{\"marker\":{\"size\":1},\"name\":\"GT Camera 8\",\"x\":[-0.26572924852371216,-0.21854059398174286,-0.21533364057540894,-0.21854059398174286,-0.17135193943977356,-0.1905936896800995,-0.2849709987640381,-0.26572924852371216,-0.2490111142396927,-0.17135193943977356,-0.1905936896800995,-0.2490111142396927,-0.2849709987640381,-0.2490111142396927,-0.2177366465330124],\"y\":[0.14361853897571564,0.13104966282844543,0.14313118159770966,0.13104966282844543,0.11848080158233643,0.0459916852414608,0.07112942636013031,0.14361853897571564,0.09994872659444809,0.11848080158233643,0.0459916852414608,0.09994872659444809,0.07112942636013031,0.09994872659444809,0.09223330020904541],\"z\":[-0.8256247043609619,-0.8363603353500366,-0.8364086747169495,-0.8363603353500366,-0.8470959663391113,-0.8468059301376343,-0.8253346681594849,-0.8256247043609619,-0.9338822960853577,-0.8470959663391113,-0.8468059301376343,-0.9338822960853577,-0.8253346681594849,-0.9338822960853577,-0.7873818874359131],\"type\":\"scatter3d\",\"scene\":\"scene\",\"line\":{\"dash\":\"dash\",\"color\":\"#00ff5c\",\"width\":4}},{\"marker\":{\"size\":1},\"name\":\"GT Camera 9\",\"x\":[-0.3101775646209717,-0.26498353481292725,-0.2607983946800232,-0.26498353481292725,-0.219789519906044,-0.24490034580230713,-0.335288405418396,-0.3101775646209717,-0.30416634678840637,-0.219789519906044,-0.24490034580230713,-0.30416634678840637,-0.335288405418396,-0.30416634678840637,-0.2642252743244171],\"y\":[0.16714850068092346,0.15075980126857758,0.16253505647182465,0.15075980126857758,0.13437111675739288,0.06371956318616867,0.09649694710969925,0.16714850068092346,0.12261854857206345,0.13437111675739288,0.06371956318616867,0.12261854857206345,0.09649694710969925,0.12261854857206345,0.11184176802635193],\"z\":[-0.8212960958480835,-0.8350405693054199,-0.8353198170661926,-0.8350405693054199,-0.8487850427627563,-0.8471096754074097,-0.8196207284927368,-0.8212960958480835,-0.9303244948387146,-0.8487850427627563,-0.8471096754074097,-0.9303244948387146,-0.8196207284927368,-0.9303244948387146,-0.786142110824585],\"type\":\"scatter3d\",\"scene\":\"scene\",\"line\":{\"dash\":\"dash\",\"color\":\"#00ffa9\",\"width\":4}},{\"marker\":{\"size\":1},\"name\":\"GT Camera 10\",\"x\":[0.5238732099533081,0.5512974262237549,0.5437563061714172,0.5512974262237549,0.5787216424942017,0.6239687204360962,0.5691202878952026,0.5238732099533081,0.6318175792694092,0.5787216424942017,0.6239687204360962,0.6318175792694092,0.5691202878952026,0.6318175792694092,0.5449726581573486],\"y\":[0.09477005153894424,0.12809300422668457,0.1372627168893814,0.12809300422668457,0.1614159643650055,0.10639768838882446,0.03975178301334381,0.09477005153894424,0.11388690769672394,0.1614159643650055,0.10639768838882446,0.11388690769672394,0.03975178301334381,0.11388690769672394,0.09393235296010971],\"z\":[-0.8731662631034851,-0.8479176759719849,-0.8518288135528564,-0.8479176759719849,-0.8226690292358398,-0.7992020845413208,-0.8496993780136108,-0.8731662631034851,-0.9166268110275269,-0.8226690292358398,-0.7992020845413208,-0.9166268110275269,-0.8496993780136108,-0.9166268110275269,-0.7959628701210022],\"type\":\"scatter3d\",\"scene\":\"scene\",\"line\":{\"dash\":\"dash\",\"color\":\"#00fff6\",\"width\":4}},{\"marker\":{\"size\":1},\"name\":\"GT Camera 11\",\"x\":[0.0580589696764946,0.10651618242263794,0.1039324551820755,0.10651618242263794,0.15497340261936188,0.1704758107662201,0.07356138527393341,0.0580589696764946,0.12769678235054016,0.15497340261936188,0.1704758107662201,0.12769678235054016,0.07356138527393341,0.12769678235054016,0.10755269229412079],\"y\":[-0.009630614891648293,0.0008912980556488037,0.013110112398862839,0.0008912980556488037,0.01141320914030075,-0.06189969182014465,-0.08294351398944855,-0.009630614891648293,-0.03717687353491783,0.01141320914030075,-0.06189969182014465,-0.03717687353491783,-0.08294351398944855,-0.03717687353491783,-0.03505929559469223],\"z\":[-0.9424420595169067,-0.9360243082046509,-0.9365485906600952,-0.9360243082046509,-0.929606556892395,-0.9264609217643738,-0.9392964243888855,-0.9424420595169067,-1.0335355997085571,-0.929606556892395,-0.9264609217643738,-1.0335355997085571,-0.9392964243888855,-1.0335355997085571,-0.884909451007843],\"type\":\"scatter3d\",\"scene\":\"scene\",\"line\":{\"dash\":\"dash\",\"color\":\"#00c1ff\",\"width\":4}},{\"marker\":{\"size\":1},\"name\":\"GT Camera 12\",\"x\":[0.17044958472251892,0.12077125906944275,0.11944688856601715,0.12077125906944275,0.07109294086694717,0.07903920859098434,0.1783958524465561,0.17044958472251892,0.12874475121498108,0.07109294086694717,0.07903920859098434,0.12874475121498108,0.1783958524465561,0.12874475121498108,0.12274421751499176],\"y\":[0.8806734085083008,0.883762001991272,0.881125271320343,0.883762001991272,0.8868505358695984,0.9026707410812378,0.8964936137199402,0.8806734085083008,0.9892266988754272,0.8868505358695984,0.9026707410812378,0.9892266988754272,0.8964936137199402,0.9892266988754272,0.8428947925567627],\"z\":[-0.32753825187683105,-0.3227922022342682,-0.3349389433860779,-0.3227922022342682,-0.31804612278938293,-0.24516555666923523,-0.25465768575668335,-0.32753825187683105,-0.3079642951488495,-0.31804612278938293,-0.24516555666923523,-0.3079642951488495,-0.25465768575668335,-0.3079642951488495,-0.27554571628570557],\"type\":\"scatter3d\",\"scene\":\"scene\",\"line\":{\"dash\":\"dash\",\"color\":\"#0074ff\",\"width\":4}},{\"marker\":{\"size\":1},\"name\":\"GT Camera 13\",\"x\":[-0.5075792670249939,-0.4947303235530853,-0.48480862379074097,-0.4947303235530853,-0.48188138008117676,-0.5414115786552429,-0.5671094655990601,-0.5075792670249939,-0.5796266794204712,-0.48188138008117676,-0.5414115786552429,-0.5796266794204712,-0.5671094655990601,-0.5796266794204712,-0.49692976474761963],\"y\":[0.40598681569099426,0.36598533391952515,0.3721696436405182,0.36598533391952515,0.32598385214805603,0.2888779938220978,0.368880957365036,0.40598681569099426,0.3813706338405609,0.32598385214805603,0.2888779938220978,0.3813706338405609,0.368880957365036,0.3813706338405609,0.3304632902145386],\"z\":[-0.6749801635742188,-0.7020871639251709,-0.7065103054046631,-0.7020871639251709,-0.7291941046714783,-0.7026551365852356,-0.6484412550926208,-0.6749801635742188,-0.7650327682495117,-0.7291941046714783,-0.7026551365852356,-0.7650327682495117,-0.6484412550926208,-0.7650327682495117,-0.6507101058959961],\"type\":\"scatter3d\",\"scene\":\"scene\",\"line\":{\"dash\":\"dash\",\"color\":\"#0028ff\",\"width\":4}},{\"marker\":{\"size\":1},\"name\":\"GT Camera 14\",\"x\":[0.21247410774230957,0.25444692373275757,0.2490670382976532,0.25444692373275757,0.29641973972320557,0.3286989629268646,0.24475334584712982,0.21247410774230957,0.3037645220756531,0.29641973972320557,0.3286989629268646,0.3037645220756531,0.24475334584712982,0.3037645220756531,0.2539975345134735],\"y\":[-0.009929798543453217,0.012610603123903275,0.02376631647348404,0.012610603123903275,0.03515100106596947,-0.03178330138325691,-0.076864093542099,-0.009929798543453217,-0.019147280603647232,0.03515100106596947,-0.03178330138325691,-0.019147280603647232,-0.076864093542099,-0.019147280603647232,-0.021711183711886406],\"z\":[-0.9157357811927795,-0.9005630016326904,-0.902253270149231,-0.9005630016326904,-0.8853902220726013,-0.8752486705780029,-0.9055942296981812,-0.9157357811927795,-0.989812433719635,-0.8853902220726013,-0.8752486705780029,-0.989812433719635,-0.9055942296981812,-0.989812433719635,-0.8483321666717529],\"type\":\"scatter3d\",\"scene\":\"scene\",\"line\":{\"dash\":\"dash\",\"color\":\"#2500ff\",\"width\":4}},{\"marker\":{\"size\":1},\"name\":\"GT Camera 15\",\"x\":[0.7347750067710876,0.7272142767906189,0.7180285453796387,0.7272142767906189,0.7196536064147949,0.774768054485321,0.7898895144462585,0.7347750067710876,0.8208862543106079,0.7196536064147949,0.774768054485321,0.8208862543106079,0.7898895144462585,0.8208862543106079,0.721714198589325],\"y\":[0.5415266752243042,0.5796796083450317,0.5839096903800964,0.5796796083450317,0.6178325414657593,0.5924521684646606,0.5161463022232056,0.5415266752243042,0.622055172920227,0.6178325414657593,0.5924521684646606,0.622055172920227,0.5161463022232056,0.622055172920227,0.5394565463066101],\"z\":[-0.5548261404037476,-0.5234065651893616,-0.5307536125183105,-0.5234065651893616,-0.4919869899749756,-0.44790488481521606,-0.5107440948486328,-0.5548261404037476,-0.5523224472999573,-0.4919869899749756,-0.44790488481521606,-0.5523224472999573,-0.5107440948486328,-0.5523224472999573,-0.4758870601654053],\"type\":\"scatter3d\",\"scene\":\"scene\",\"line\":{\"dash\":\"dash\",\"color\":\"#7200ff\",\"width\":4}},{\"marker\":{\"size\":1},\"name\":\"GT Camera 16\",\"x\":[-0.07269302755594254,-0.1205439642071724,-0.1182592362165451,-0.1205439642071724,-0.16839489340782166,-0.18210327625274658,-0.08640141040086746,-0.07269302755594254,-0.149916410446167,-0.16839489340782166,-0.18210327625274658,-0.149916410446167,-0.08640141040086746,-0.149916410446167,-0.11613902449607849],\"y\":[0.9019541144371033,0.8889456987380981,0.8864718079566956,0.8889456987380981,0.875937283039093,0.8907808065414429,0.9167976379394531,0.9019541144371033,0.9908736944198608,0.875937283039093,0.8907808065414429,0.9908736944198608,0.9167976379394531,0.9908736944198608,0.8491142988204956],\"z\":[-0.2789369821548462,-0.28534552454948425,-0.2973833680152893,-0.28534552454948425,-0.2917540371417999,-0.21952694654464722,-0.20670990645885468,-0.2789369821548462,-0.2729279398918152,-0.2917540371417999,-0.21952694654464722,-0.2729279398918152,-0.20670990645885468,-0.2729279398918152,-0.23738397657871246],\"type\":\"scatter3d\",\"scene\":\"scene\",\"line\":{\"dash\":\"dash\",\"color\":\"#b900ff\",\"width\":4}},{\"marker\":{\"size\":1},\"name\":\"GT Camera 17\",\"x\":[-0.3739580810070038,-0.41268810629844666,-0.4070872366428375,-0.41268810629844666,-0.4514181315898895,-0.4850233495235443,-0.40756329894065857,-0.3739580810070038,-0.4741256535053253,-0.4514181315898895,-0.4850233495235443,-0.4741256535053253,-0.40756329894065857,-0.4741256535053253,-0.4071732461452484],\"y\":[0.8728281259536743,0.845706045627594,0.8443585634231567,0.845706045627594,0.8185839653015137,0.8266686201095581,0.8809127807617188,0.8728281259536743,0.933063268661499,0.8185839653015137,0.8266686201095581,0.933063268661499,0.8809127807617188,0.933063268661499,0.8080909252166748],\"z\":[-0.33142849802970886,-0.3476881980895996,-0.3587816655635834,-0.3476881980895996,-0.36394792795181274,-0.29738718271255493,-0.26486778259277344,-0.33142849802970886,-0.347062885761261,-0.36394792795181274,-0.29738718271255493,-0.347062885761261,-0.26486778259277344,-0.347062885761261,-0.29808032512664795],\"type\":\"scatter3d\",\"scene\":\"scene\",\"line\":{\"dash\":\"dash\",\"color\":\"#fc00f5\",\"width\":4}},{\"marker\":{\"size\":1},\"name\":\"GT Camera 18\",\"x\":[-0.4817850887775421,-0.503767728805542,-0.4955346882343292,-0.503767728805542,-0.5257503390312195,-0.5751485824584961,-0.5311833024024963,-0.4817850887775421,-0.5895319581031799,-0.5257503390312195,-0.5751485824584961,-0.5895319581031799,-0.5311833024024963,-0.5895319581031799,-0.4979342818260193],\"y\":[0.6917624473571777,0.653793454170227,0.6549245119094849,0.653793454170227,0.6158245205879211,0.6090383529663086,0.6849762201309204,0.6917624473571777,0.7148330211639404,0.6158245205879211,0.6090383529663086,0.7148330211639404,0.6849762201309204,0.7148330211639404,0.6181840896606445],\"z\":[-0.44704750180244446,-0.47102922201156616,-0.48036667704582214,-0.47102922201156616,-0.49501094222068787,-0.43898624181747437,-0.39102283120155334,-0.44704750180244446,-0.48905473947525024,-0.49501094222068787,-0.43898624181747437,-0.48905473947525024,-0.39102283120155334,-0.48905473947525024,-0.4199979305267334],\"type\":\"scatter3d\",\"scene\":\"scene\",\"line\":{\"dash\":\"dash\",\"color\":\"#ff00ac\",\"width\":4}},{\"marker\":{\"size\":1},\"name\":\"GT Camera 19\",\"x\":[-0.40294405817985535,-0.3676958680152893,-0.3606199026107788,-0.3676958680152893,-0.33244770765304565,-0.3749035894870758,-0.4453999400138855,-0.40294405817985535,-0.4316534101963043,-0.33244770765304565,-0.3749035894870758,-0.4316534101963043,-0.4453999400138855,-0.4316534101963043,-0.367559015750885],\"y\":[0.22497829794883728,0.19694162905216217,0.20711350440979004,0.19694162905216217,0.16890494525432587,0.10787373036146164,0.16394709050655365,0.22497829794883728,0.18171970546245575,0.16890494525432587,0.10787373036146164,0.18171970546245575,0.16394709050655365,0.18171970546245575,0.15877917408943176],\"z\":[-0.7813915014266968,-0.8031058311462402,-0.8047531247138977,-0.8031058311462402,-0.8248201012611389,-0.8149362802505493,-0.7715076804161072,-0.7813915014266968,-0.8872721791267395,-0.8248201012611389,-0.8149362802505493,-0.8872721791267395,-0.7715076804161072,-0.8872721791267395,-0.7536097764968872],\"type\":\"scatter3d\",\"scene\":\"scene\",\"line\":{\"dash\":\"dash\",\"color\":\"#ff005f\",\"width\":4}}],                        {\"template\":{\"data\":{\"histogram2dcontour\":[{\"type\":\"histogram2dcontour\",\"colorbar\":{\"outlinewidth\":0,\"ticks\":\"\"},\"colorscale\":[[0.0,\"#0d0887\"],[0.1111111111111111,\"#46039f\"],[0.2222222222222222,\"#7201a8\"],[0.3333333333333333,\"#9c179e\"],[0.4444444444444444,\"#bd3786\"],[0.5555555555555556,\"#d8576b\"],[0.6666666666666666,\"#ed7953\"],[0.7777777777777778,\"#fb9f3a\"],[0.8888888888888888,\"#fdca26\"],[1.0,\"#f0f921\"]]}],\"choropleth\":[{\"type\":\"choropleth\",\"colorbar\":{\"outlinewidth\":0,\"ticks\":\"\"}}],\"histogram2d\":[{\"type\":\"histogram2d\",\"colorbar\":{\"outlinewidth\":0,\"ticks\":\"\"},\"colorscale\":[[0.0,\"#0d0887\"],[0.1111111111111111,\"#46039f\"],[0.2222222222222222,\"#7201a8\"],[0.3333333333333333,\"#9c179e\"],[0.4444444444444444,\"#bd3786\"],[0.5555555555555556,\"#d8576b\"],[0.6666666666666666,\"#ed7953\"],[0.7777777777777778,\"#fb9f3a\"],[0.8888888888888888,\"#fdca26\"],[1.0,\"#f0f921\"]]}],\"heatmap\":[{\"type\":\"heatmap\",\"colorbar\":{\"outlinewidth\":0,\"ticks\":\"\"},\"colorscale\":[[0.0,\"#0d0887\"],[0.1111111111111111,\"#46039f\"],[0.2222222222222222,\"#7201a8\"],[0.3333333333333333,\"#9c179e\"],[0.4444444444444444,\"#bd3786\"],[0.5555555555555556,\"#d8576b\"],[0.6666666666666666,\"#ed7953\"],[0.7777777777777778,\"#fb9f3a\"],[0.8888888888888888,\"#fdca26\"],[1.0,\"#f0f921\"]]}],\"heatmapgl\":[{\"type\":\"heatmapgl\",\"colorbar\":{\"outlinewidth\":0,\"ticks\":\"\"},\"colorscale\":[[0.0,\"#0d0887\"],[0.1111111111111111,\"#46039f\"],[0.2222222222222222,\"#7201a8\"],[0.3333333333333333,\"#9c179e\"],[0.4444444444444444,\"#bd3786\"],[0.5555555555555556,\"#d8576b\"],[0.6666666666666666,\"#ed7953\"],[0.7777777777777778,\"#fb9f3a\"],[0.8888888888888888,\"#fdca26\"],[1.0,\"#f0f921\"]]}],\"contourcarpet\":[{\"type\":\"contourcarpet\",\"colorbar\":{\"outlinewidth\":0,\"ticks\":\"\"}}],\"contour\":[{\"type\":\"contour\",\"colorbar\":{\"outlinewidth\":0,\"ticks\":\"\"},\"colorscale\":[[0.0,\"#0d0887\"],[0.1111111111111111,\"#46039f\"],[0.2222222222222222,\"#7201a8\"],[0.3333333333333333,\"#9c179e\"],[0.4444444444444444,\"#bd3786\"],[0.5555555555555556,\"#d8576b\"],[0.6666666666666666,\"#ed7953\"],[0.7777777777777778,\"#fb9f3a\"],[0.8888888888888888,\"#fdca26\"],[1.0,\"#f0f921\"]]}],\"surface\":[{\"type\":\"surface\",\"colorbar\":{\"outlinewidth\":0,\"ticks\":\"\"},\"colorscale\":[[0.0,\"#0d0887\"],[0.1111111111111111,\"#46039f\"],[0.2222222222222222,\"#7201a8\"],[0.3333333333333333,\"#9c179e\"],[0.4444444444444444,\"#bd3786\"],[0.5555555555555556,\"#d8576b\"],[0.6666666666666666,\"#ed7953\"],[0.7777777777777778,\"#fb9f3a\"],[0.8888888888888888,\"#fdca26\"],[1.0,\"#f0f921\"]]}],\"mesh3d\":[{\"type\":\"mesh3d\",\"colorbar\":{\"outlinewidth\":0,\"ticks\":\"\"}}],\"scatter\":[{\"fillpattern\":{\"fillmode\":\"overlay\",\"size\":10,\"solidity\":0.2},\"type\":\"scatter\"}],\"parcoords\":[{\"type\":\"parcoords\",\"line\":{\"colorbar\":{\"outlinewidth\":0,\"ticks\":\"\"}}}],\"scatterpolargl\":[{\"type\":\"scatterpolargl\",\"marker\":{\"colorbar\":{\"outlinewidth\":0,\"ticks\":\"\"}}}],\"bar\":[{\"error_x\":{\"color\":\"#2a3f5f\"},\"error_y\":{\"color\":\"#2a3f5f\"},\"marker\":{\"line\":{\"color\":\"#E5ECF6\",\"width\":0.5},\"pattern\":{\"fillmode\":\"overlay\",\"size\":10,\"solidity\":0.2}},\"type\":\"bar\"}],\"scattergeo\":[{\"type\":\"scattergeo\",\"marker\":{\"colorbar\":{\"outlinewidth\":0,\"ticks\":\"\"}}}],\"scatterpolar\":[{\"type\":\"scatterpolar\",\"marker\":{\"colorbar\":{\"outlinewidth\":0,\"ticks\":\"\"}}}],\"histogram\":[{\"marker\":{\"pattern\":{\"fillmode\":\"overlay\",\"size\":10,\"solidity\":0.2}},\"type\":\"histogram\"}],\"scattergl\":[{\"type\":\"scattergl\",\"marker\":{\"colorbar\":{\"outlinewidth\":0,\"ticks\":\"\"}}}],\"scatter3d\":[{\"type\":\"scatter3d\",\"line\":{\"colorbar\":{\"outlinewidth\":0,\"ticks\":\"\"}},\"marker\":{\"colorbar\":{\"outlinewidth\":0,\"ticks\":\"\"}}}],\"scattermapbox\":[{\"type\":\"scattermapbox\",\"marker\":{\"colorbar\":{\"outlinewidth\":0,\"ticks\":\"\"}}}],\"scatterternary\":[{\"type\":\"scatterternary\",\"marker\":{\"colorbar\":{\"outlinewidth\":0,\"ticks\":\"\"}}}],\"scattercarpet\":[{\"type\":\"scattercarpet\",\"marker\":{\"colorbar\":{\"outlinewidth\":0,\"ticks\":\"\"}}}],\"carpet\":[{\"aaxis\":{\"endlinecolor\":\"#2a3f5f\",\"gridcolor\":\"white\",\"linecolor\":\"white\",\"minorgridcolor\":\"white\",\"startlinecolor\":\"#2a3f5f\"},\"baxis\":{\"endlinecolor\":\"#2a3f5f\",\"gridcolor\":\"white\",\"linecolor\":\"white\",\"minorgridcolor\":\"white\",\"startlinecolor\":\"#2a3f5f\"},\"type\":\"carpet\"}],\"table\":[{\"cells\":{\"fill\":{\"color\":\"#EBF0F8\"},\"line\":{\"color\":\"white\"}},\"header\":{\"fill\":{\"color\":\"#C8D4E3\"},\"line\":{\"color\":\"white\"}},\"type\":\"table\"}],\"barpolar\":[{\"marker\":{\"line\":{\"color\":\"#E5ECF6\",\"width\":0.5},\"pattern\":{\"fillmode\":\"overlay\",\"size\":10,\"solidity\":0.2}},\"type\":\"barpolar\"}],\"pie\":[{\"automargin\":true,\"type\":\"pie\"}]},\"layout\":{\"autotypenumbers\":\"strict\",\"colorway\":[\"#636efa\",\"#EF553B\",\"#00cc96\",\"#ab63fa\",\"#FFA15A\",\"#19d3f3\",\"#FF6692\",\"#B6E880\",\"#FF97FF\",\"#FECB52\"],\"font\":{\"color\":\"#2a3f5f\"},\"hovermode\":\"closest\",\"hoverlabel\":{\"align\":\"left\"},\"paper_bgcolor\":\"white\",\"plot_bgcolor\":\"#E5ECF6\",\"polar\":{\"bgcolor\":\"#E5ECF6\",\"angularaxis\":{\"gridcolor\":\"white\",\"linecolor\":\"white\",\"ticks\":\"\"},\"radialaxis\":{\"gridcolor\":\"white\",\"linecolor\":\"white\",\"ticks\":\"\"}},\"ternary\":{\"bgcolor\":\"#E5ECF6\",\"aaxis\":{\"gridcolor\":\"white\",\"linecolor\":\"white\",\"ticks\":\"\"},\"baxis\":{\"gridcolor\":\"white\",\"linecolor\":\"white\",\"ticks\":\"\"},\"caxis\":{\"gridcolor\":\"white\",\"linecolor\":\"white\",\"ticks\":\"\"}},\"coloraxis\":{\"colorbar\":{\"outlinewidth\":0,\"ticks\":\"\"}},\"colorscale\":{\"sequential\":[[0.0,\"#0d0887\"],[0.1111111111111111,\"#46039f\"],[0.2222222222222222,\"#7201a8\"],[0.3333333333333333,\"#9c179e\"],[0.4444444444444444,\"#bd3786\"],[0.5555555555555556,\"#d8576b\"],[0.6666666666666666,\"#ed7953\"],[0.7777777777777778,\"#fb9f3a\"],[0.8888888888888888,\"#fdca26\"],[1.0,\"#f0f921\"]],\"sequentialminus\":[[0.0,\"#0d0887\"],[0.1111111111111111,\"#46039f\"],[0.2222222222222222,\"#7201a8\"],[0.3333333333333333,\"#9c179e\"],[0.4444444444444444,\"#bd3786\"],[0.5555555555555556,\"#d8576b\"],[0.6666666666666666,\"#ed7953\"],[0.7777777777777778,\"#fb9f3a\"],[0.8888888888888888,\"#fdca26\"],[1.0,\"#f0f921\"]],\"diverging\":[[0,\"#8e0152\"],[0.1,\"#c51b7d\"],[0.2,\"#de77ae\"],[0.3,\"#f1b6da\"],[0.4,\"#fde0ef\"],[0.5,\"#f7f7f7\"],[0.6,\"#e6f5d0\"],[0.7,\"#b8e186\"],[0.8,\"#7fbc41\"],[0.9,\"#4d9221\"],[1,\"#276419\"]]},\"xaxis\":{\"gridcolor\":\"white\",\"linecolor\":\"white\",\"ticks\":\"\",\"title\":{\"standoff\":15},\"zerolinecolor\":\"white\",\"automargin\":true,\"zerolinewidth\":2},\"yaxis\":{\"gridcolor\":\"white\",\"linecolor\":\"white\",\"ticks\":\"\",\"title\":{\"standoff\":15},\"zerolinecolor\":\"white\",\"automargin\":true,\"zerolinewidth\":2},\"scene\":{\"xaxis\":{\"backgroundcolor\":\"#E5ECF6\",\"gridcolor\":\"white\",\"linecolor\":\"white\",\"showbackground\":true,\"ticks\":\"\",\"zerolinecolor\":\"white\",\"gridwidth\":2},\"yaxis\":{\"backgroundcolor\":\"#E5ECF6\",\"gridcolor\":\"white\",\"linecolor\":\"white\",\"showbackground\":true,\"ticks\":\"\",\"zerolinecolor\":\"white\",\"gridwidth\":2},\"zaxis\":{\"backgroundcolor\":\"#E5ECF6\",\"gridcolor\":\"white\",\"linecolor\":\"white\",\"showbackground\":true,\"ticks\":\"\",\"zerolinecolor\":\"white\",\"gridwidth\":2}},\"shapedefaults\":{\"line\":{\"color\":\"#2a3f5f\"}},\"annotationdefaults\":{\"arrowcolor\":\"#2a3f5f\",\"arrowhead\":0,\"arrowwidth\":1},\"geo\":{\"bgcolor\":\"white\",\"landcolor\":\"#E5ECF6\",\"subunitcolor\":\"white\",\"showland\":true,\"showlakes\":true,\"lakecolor\":\"white\"},\"title\":{\"x\":0.05},\"mapbox\":{\"style\":\"light\"}}},\"scene\":{\"domain\":{\"x\":[0.0,1.0],\"y\":[0.0,1.0]},\"xaxis\":{\"range\":[-0.7072461843490601,0.895185649394989],\"showgrid\":false,\"zeroline\":false,\"showline\":false,\"ticks\":\"\",\"showticklabels\":false,\"backgroundcolor\":\"#fff\",\"showaxeslabels\":false},\"yaxis\":{\"range\":[-0.18512259423732758,1.052505373954773],\"showgrid\":false,\"zeroline\":false,\"showline\":false,\"ticks\":\"\",\"showticklabels\":false,\"backgroundcolor\":\"#fff\",\"showaxeslabels\":false},\"zaxis\":{\"range\":[-1.0999412536621094,0.2359755039215088],\"showgrid\":false,\"zeroline\":false,\"showline\":false,\"ticks\":\"\",\"showticklabels\":false,\"backgroundcolor\":\"#fff\",\"showaxeslabels\":false},\"camera\":{\"up\":{\"x\":9.449431151116433e-8,\"y\":0.8079972541835636,\"z\":1.296526064111824},\"eye\":{\"x\":-0.1172840154157228,\"y\":2.0981418313110844,\"z\":-0.8503780222910277},\"center\":{\"x\":-0.11728396085940736,\"y\":0.6986494634866409,\"z\":-0.10182838824887241}},\"aspectmode\":\"data\"},\"annotations\":[{\"font\":{\"size\":16},\"showarrow\":false,\"text\":\"Vis 20 GT vs Pred Cameras\",\"x\":0.5,\"xanchor\":\"center\",\"xref\":\"paper\",\"y\":1.0,\"yanchor\":\"bottom\",\"yref\":\"paper\"}],\"height\":800,\"width\":800},                        {\"responsive\": true}                    ).then(function(){\n",
       "                            \n",
       "var gd = document.getElementById('3a6f31fd-cd16-454e-a06e-da022c403129');\n",
       "var x = new MutationObserver(function (mutations, observer) {{\n",
       "        var display = window.getComputedStyle(gd).display;\n",
       "        if (!display || display === 'none') {{\n",
       "            console.log([gd, 'removed!']);\n",
       "            Plotly.purge(gd);\n",
       "            observer.disconnect();\n",
       "        }}\n",
       "}});\n",
       "\n",
       "// Listen for the removal of the full notebook cells\n",
       "var notebookContainer = gd.closest('#notebook-container');\n",
       "if (notebookContainer) {{\n",
       "    x.observe(notebookContainer, {childList: true});\n",
       "}}\n",
       "\n",
       "// Listen for the clearing of the current output cell\n",
       "var outputEl = gd.closest('.output');\n",
       "if (outputEl) {{\n",
       "    x.observe(outputEl, {childList: true});\n",
       "}}\n",
       "\n",
       "                        })                };                });            </script>        </div>"
      ]
     },
     "metadata": {},
     "output_type": "display_data"
    }
   ],
   "source": [
    "fig_unseen_l[0].show()"
   ]
  },
  {
   "cell_type": "code",
   "execution_count": 20,
   "metadata": {},
   "outputs": [],
   "source": [
    "cams_gt, undos = convert_RT_to_camera(test_R, test_T, test_focal_lengths, test_principal_points)\n",
    "outputs_list = []\n",
    "with torch.no_grad():\n",
    "    for i in range(num_images-num_train):\n",
    "        inputs = test_images[i].unsqueeze(0)\n",
    "        outputs = net(inputs)\n",
    "        outputs = outputs.view(1, 6, 4, 4)\n",
    "        print(outputs.shape)\n",
    "        outputs_list.append(outputs)\n",
    "outputs_torch = torch.cat(outputs_list, dim=0)\n",
    "\n",
    "pred_rays = Rays.from_spatial(outputs_torch)\n",
    "pred_cam = convert_Plucker_to_RT(pred_rays, test_crop_params[i].unsqueeze(0))\n",
    "\n"
   ]
  },
  {
   "cell_type": "code",
   "execution_count": 25,
   "metadata": {},
   "outputs": [],
   "source": [
    "def create_plotly_cameras_visualization(cameras_gt, cameras_pred, num):\n",
    "    num_frames = cameras_gt.R.shape[0]\n",
    "    name = f\"Vis {num} GT vs Pred Cameras\"\n",
    "    camera_scale = 0.05\n",
    "\n",
    "    # Cameras_pred is already a 2D list of unbatched cameras\n",
    "    # But cameras_gt is a 1D list of batched cameras\n",
    "    scenes = {f\"Vis {num} GT vs Pred Cameras\": {}}\n",
    "    for i in range(num_frames):\n",
    "        scenes[name][f\"Pred Camera {i}\"] = PerspectiveCameras(\n",
    "            R=cameras_pred[i].R, T=cameras_pred[i].T\n",
    "        )\n",
    "    for i in range(num_frames):\n",
    "        scenes[name][f\"GT Camera {i}\"] = PerspectiveCameras(\n",
    "            R=cameras_gt.R[i].unsqueeze(0), T=cameras_gt.T[i].unsqueeze(0)\n",
    "        )\n",
    "\n",
    "    fig = plot_scene(\n",
    "        scenes,\n",
    "        camera_scale=camera_scale,\n",
    "    )\n",
    "    fig.update_scenes(aspectmode=\"data\")\n",
    "    fig.update_layout(height=800, width=800)\n",
    "\n",
    "    for i in range(num_frames):\n",
    "        fig.data[i].line.color = matplotlib.colors.to_hex(cmap(i / (num_frames)))\n",
    "        fig.data[i].line.width = 4\n",
    "        fig.data[i + num_frames].line.dash = \"dash\"\n",
    "        fig.data[i + num_frames].line.color = matplotlib.colors.to_hex(\n",
    "            cmap(i / (num_frames))\n",
    "        )\n",
    "        fig.data[i + num_frames].line.width = 4\n",
    "\n",
    "    return fig"
   ]
  },
  {
   "cell_type": "code",
   "execution_count": 26,
   "metadata": {},
   "outputs": [],
   "source": [
    "fig = create_plotly_cameras_visualization(cams_gt, pred_cam, 10)"
   ]
  },
  {
   "cell_type": "code",
   "execution_count": 44,
   "metadata": {},
   "outputs": [
    {
     "data": {
      "text/plain": [
       "(PluRay([[[ 0.3714,  0.3923,  0.8415,  0.7173, -0.1662, -0.2391],\n",
       "          [ 0.3275,  0.3992,  0.8564,  0.7299, -0.1250, -0.2209],\n",
       "          [ 0.2815,  0.4054,  0.8697,  0.7413, -0.0821, -0.2016],\n",
       "          ...,\n",
       "          [-0.2862, -0.3684,  0.8845,  0.0701,  0.4179,  0.1967],\n",
       "          [-0.3329, -0.3625,  0.8705,  0.0690,  0.4561,  0.2164],\n",
       "          [-0.3773, -0.3560,  0.8549,  0.0678,  0.4920,  0.2348]]],\n",
       "        device='cuda:0'),\n",
       " <function __main__.normalize_cameras.<locals>.undo_transform(cameras)>)"
      ]
     },
     "execution_count": 44,
     "metadata": {},
     "output_type": "execute_result"
    }
   ],
   "source": [
    "labels = convert_RT_to_Plucker(train_R[i].unsqueeze(0), train_T[i].unsqueeze(0), train_focal_lengths[i].unsqueeze(0), train_principal_points[i].unsqueeze(0), train_crop_params[i].unsqueeze(0))\n"
   ]
  },
  {
   "cell_type": "code",
   "execution_count": 52,
   "metadata": {},
   "outputs": [
    {
     "data": {
      "text/plain": [
       "torch.Size([20, 256, 6])"
      ]
     },
     "execution_count": 52,
     "metadata": {},
     "output_type": "execute_result"
    }
   ],
   "source": [
    "pred_rays.shape"
   ]
  },
  {
   "cell_type": "code",
   "execution_count": 58,
   "metadata": {},
   "outputs": [
    {
     "data": {
      "text/plain": [
       "torch.Size([256, 3])"
      ]
     },
     "execution_count": 58,
     "metadata": {},
     "output_type": "execute_result"
    }
   ],
   "source": [
    "pred_rays[0].get_moments().shape"
   ]
  },
  {
   "cell_type": "code",
   "execution_count": 64,
   "metadata": {},
   "outputs": [],
   "source": []
  },
  {
   "cell_type": "code",
   "execution_count": 65,
   "metadata": {},
   "outputs": [
    {
     "data": {
      "image/png": "[encoded data removed]",
      "text/plain": [
       "<Figure size 900x450 with 2 Axes>"
      ]
     },
     "metadata": {},
     "output_type": "display_data"
    }
   ],
   "source": [
    "fig = create_fig_moments(pred_rays[0].get_moments(), pred_rays[0].get_directions())\n",
    "\n",
    "# save subplot\n",
    "# remove margins\n",
    "fig.tight_layout()\n",
    "fig.savefig(\"moments_directions.png\")\n"
   ]
  },
  {
   "cell_type": "code",
   "execution_count": 27,
   "metadata": {},
   "outputs": [],
   "source": [
    "import torchvision"
   ]
  },
  {
   "cell_type": "code",
   "execution_count": 30,
   "metadata": {},
   "outputs": [],
   "source": [
    "torchvision.utils.save_image(test_images[:16], \"test_images.png\")"
   ]
  },
  {
   "cell_type": "code",
   "execution_count": null,
   "metadata": {},
   "outputs": [],
   "source": []
  }
 ],
 "metadata": {
  "kernelspec": {
   "display_name": "Python 3 (ipykernel)",
   "language": "python",
   "name": "python3"
  },
  "language_info": {
   "codemirror_mode": {
    "name": "ipython",
    "version": 3
   },
   "file_extension": ".py",
   "mimetype": "text/x-python",
   "name": "python",
   "nbconvert_exporter": "python",
   "pygments_lexer": "ipython3",
   "version": "3.10.14"
  }
 },
 "nbformat": 4,
 "nbformat_minor": 2
}
